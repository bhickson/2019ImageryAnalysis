{
 "cells": [
  {
   "cell_type": "code",
   "execution_count": 24,
   "metadata": {},
   "outputs": [],
   "source": [
    "import os, shutil\n",
    "import rasterio as rio\n",
    "import numpy\n",
    "from matplotlib import pyplot\n",
    "from rasterio.plot import show\n",
    "import numpy as np"
   ]
  },
  {
   "cell_type": "code",
   "execution_count": 8,
   "metadata": {},
   "outputs": [],
   "source": [
    "loc_orthos = \"../EPCExtent_30cm/Orthos/\"\n",
    "loc_ndvi = \"../EPCExtent_30cm/Orthos/NDVI\"\n",
    "os.makedirs(loc_ndvi, exist_ok=True)\n",
    "orthos_files = [os.path.join(loc_orthos,f) for f in os.listdir(loc_orthos) if f.endswith(\".tif\")]"
   ]
  },
  {
   "cell_type": "code",
   "execution_count": 71,
   "metadata": {},
   "outputs": [
    {
     "name": "stdout",
     "output_type": "stream",
     "text": [
      "Finished writing all NDVI files to ../EPCExtent_30cm/Orthos/NDVI\n"
     ]
    }
   ],
   "source": [
    "count = 0\n",
    "for file in orthos_files:\n",
    "    count+=1\n",
    "    ofile = os.path.join(loc_ndvi, os.path.basename(file).replace(\".tif\",\"_NDVI.tif\"))\n",
    "    if os.path.exists(ofile):\n",
    "        continue\n",
    "    with rio.open(file) as ras:\n",
    "        print(f\"{count} - Starting file {ofile}\")\n",
    "        red = ras.read(1).astype(rio.float32)\n",
    "        green = ras.read(2).astype(rio.float32)\n",
    "        blue =  ras.read(3).astype(rio.float32)\n",
    "        nir = ras.read(4).astype(rio.float32)\n",
    "        sumzero = red+green+blue+nir\n",
    "        \n",
    "        # Potential for valid areas to have 0 values in Red and NIR bands. In these cases we'd get a division by zero error. Mitigate against this.\n",
    "        ndvi = np.divide(nir-red,nir+red, out=np.zeros_like(nir), where=nir+red!=0)\n",
    "        \n",
    "        kwargs = ras.profile\n",
    "        kwargs.update(\n",
    "            count=1,\n",
    "            dtype=rio.float32,\n",
    "            nodata=-9999\n",
    "        )\n",
    "        \n",
    "        ndvi = np.where(sumzero == 0, -9999, ndvi)\n",
    "        with rio.open(ofile, 'w', **kwargs) as oras:\n",
    "            oras.write(ndvi,1)\n",
    "    \n",
    "print(f\"Finished writing all NDVI files to {loc_ndvi}\")"
   ]
  },
  {
   "cell_type": "code",
   "execution_count": null,
   "metadata": {},
   "outputs": [],
   "source": []
  }
 ],
 "metadata": {
  "kernelspec": {
   "display_name": "Python 3",
   "language": "python",
   "name": "python3"
  },
  "language_info": {
   "codemirror_mode": {
    "name": "ipython",
    "version": 3
   },
   "file_extension": ".py",
   "mimetype": "text/x-python",
   "name": "python",
   "nbconvert_exporter": "python",
   "pygments_lexer": "ipython3",
   "version": "3.8.2"
  }
 },
 "nbformat": 4,
 "nbformat_minor": 4
}
