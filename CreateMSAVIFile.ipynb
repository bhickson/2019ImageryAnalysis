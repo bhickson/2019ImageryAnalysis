{
 "cells": [
  {
   "cell_type": "code",
   "execution_count": 1,
   "metadata": {},
   "outputs": [],
   "source": [
    "import os, shutil\n",
    "import rasterio as rio\n",
    "import numpy\n",
    "from matplotlib import pyplot\n",
    "from rasterio.plot import show\n",
    "import numpy as np"
   ]
  },
  {
   "cell_type": "code",
   "execution_count": 2,
   "metadata": {},
   "outputs": [],
   "source": [
    "loc_orthos = \"../EPCExtent_30cm/Orthos/\"\n",
    "loc_msavi = \"../EPCExtent_30cm/Orthos/MSAVI\"\n",
    "os.makedirs(loc_msavi, exist_ok=True)\n",
    "orthos_files = [os.path.join(loc_orthos,f) for f in os.listdir(loc_orthos) if f.endswith(\".tif\")]"
   ]
  },
  {
   "cell_type": "code",
   "execution_count": 8,
   "metadata": {},
   "outputs": [
    {
     "name": "stdout",
     "output_type": "stream",
     "text": [
      "Finished writing all NDVI files to ../EPCExtent_30cm/Orthos/MSAVI\n"
     ]
    }
   ],
   "source": [
    "count=0\n",
    "for file in orthos_files:\n",
    "    count+=1\n",
    "    ofile = os.path.join(loc_msavi, os.path.basename(file).replace(\".tif\",\"_MSAVI.tif\"))\n",
    "    if os.path.exists(ofile):\n",
    "        continue\n",
    "    with rio.open(file) as ras:\n",
    "        print(f\"{count} - Starting file {ofile}\")\n",
    "        red = ras.read(1).astype(rio.float32)\n",
    "        green = ras.read(2).astype(rio.float32)\n",
    "        blue =  ras.read(3).astype(rio.float32)\n",
    "        nir = ras.read(4).astype(rio.float32)\n",
    "        sumzero = red+green+blue+nir\n",
    "    \n",
    "        msavi = ((2 * nir + 1) - np.sqrt(np.square(2 * nir + 1) - (8 * (nir - red)))) / 2\n",
    "        kwargs = ras.profile\n",
    "        kwargs.update(\n",
    "            count=1,\n",
    "            dtype=rio.float32,\n",
    "            nodata=-9999\n",
    "        )\n",
    "        \n",
    "        msavi = np.where(sumzero == 0, -9999, msavi)\n",
    "        with rio.open(ofile, 'w', **kwargs) as oras:\n",
    "            oras.write(msavi,1)\n",
    "    \n",
    "print(f\"Finished writing all NDVI files to {loc_msavi}\")"
   ]
  },
  {
   "cell_type": "code",
   "execution_count": null,
   "metadata": {},
   "outputs": [],
   "source": []
  }
 ],
 "metadata": {
  "kernelspec": {
   "display_name": "Python 3",
   "language": "python",
   "name": "python3"
  },
  "language_info": {
   "codemirror_mode": {
    "name": "ipython",
    "version": 3
   },
   "file_extension": ".py",
   "mimetype": "text/x-python",
   "name": "python",
   "nbconvert_exporter": "python",
   "pygments_lexer": "ipython3",
   "version": "3.8.2"
  }
 },
 "nbformat": 4,
 "nbformat_minor": 4
}
