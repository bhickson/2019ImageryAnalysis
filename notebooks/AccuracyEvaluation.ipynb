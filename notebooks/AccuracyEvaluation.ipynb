{
 "cells": [
  {
   "cell_type": "markdown",
   "metadata": {},
   "source": [
    "### Evaluate accuracy of 2019 Photogrammetric Cloud against the 2015 survey checkpoints"
   ]
  },
  {
   "cell_type": "code",
   "execution_count": 2,
   "metadata": {},
   "outputs": [],
   "source": [
    "import os\n",
    "import pandas as pd\n",
    "import geopandas as gpd\n",
    "import pdal\n",
    "import json\n",
    "from numpy import mean, abs\n",
    "import rasterio as rio\n",
    "from datetime import datetime\n",
    "import numpy as np"
   ]
  },
  {
   "cell_type": "code",
   "execution_count": 3,
   "metadata": {},
   "outputs": [],
   "source": [
    "filterTindex = \"\"\"\n",
    "    {\n",
    "        \"filename\":\"%s\",\n",
    "        \"type\":\"readers.tindex\",\n",
    "        \"lyr_name\":\"EPCtindex_2019\"\n",
    "    }\"\"\"\n",
    "\n",
    "filterInfo = \"\"\"\n",
    "    {\n",
    "        \"type\":\"filters.info\",\n",
    "        \"query\":\"%s, %s/1\" \n",
    "    }\"\"\"\n",
    "\n",
    "def getDSMVal(row):\n",
    "    x = row.geometry.x\n",
    "    y = row.geometry.y\n",
    "    with rio.open(row.DSM) as src:\n",
    "        vals = [val for val in src.sample([(x,y)])]\n",
    "        \n",
    "        return vals[0][0]\n",
    "    \n",
    "def getPCValues(row):\n",
    "    geom = row.geometry\n",
    "    x = geom.x\n",
    "    y = geom.y\n",
    "    file = row.location\n",
    "    json_pipe_base = \"\"\" { \"pipeline\": [ %s ] } \"\"\"\n",
    "    \n",
    "    infoPipe = f'\"{file}\"' + \", \" + filterInfo % (x, y)\n",
    "       \n",
    "    pipeline_json = json_pipe_base % infoPipe.replace(\"\\\\\",\"/\")\n",
    "    #print(pipeline_json)\n",
    "    pipeline = pdal.Pipeline(pipeline_json)\n",
    "    pipeline.loglevel = 8\n",
    "    \n",
    "    pipeline.execute()\n",
    "    \n",
    "    respl = json.loads(pipeline.metadata)\n",
    "    \n",
    "    return respl['metadata']['filters.info']['points']['point']['Z']"
   ]
  },
  {
   "cell_type": "code",
   "execution_count": 35,
   "metadata": {},
   "outputs": [
    {
     "name": "stdout",
     "output_type": "stream",
     "text": [
      "Reading in...\n",
      "169\n",
      "168\n",
      "\n",
      "Error rates for 2019 DSM as comparted to 2015 survey points: \n",
      "RMSE is 22.49cm (0.738ft) \n",
      "MeaAE is 18.507cm (0.607ft) \n",
      "MedAE is 17.0cm (0.56ft)\n"
     ]
    }
   ],
   "source": [
    "evalFile = \"./2015SurveyPointEval.gpkg\"\n",
    "if not os.path.exists(evalFile):\n",
    "    start = datetime.now()\n",
    "    ql2_checkpoints = gpd.read_file(\"../OtherData/Checkpoint_Shapefile_2015/QL2_Check_Points_IFT.shp\").to_crs(2868)\n",
    "    calibration_pnts = gpd.read_file(\"../OtherData/Calibration_Point_Shapefile_2015/PAG_Calibration_Points_QL2.shp\").to_crs(2868)\n",
    "    \n",
    "    ql2_checkpoints = ql2_checkpoints[[\"POINT_NO\", \"ELEVATION\", \"geometry\"]].copy()\n",
    "    calibration_pnts = calibration_pnts[[\"ID\",\"Z\",\"geometry\"]].copy()\n",
    "    calibration_pnts.rename(columns={\"Z\":\"ELEVATION\"}, inplace=True)\n",
    "\n",
    "    all_pnts = pd.concat([ql2_checkpoints,calibration_pnts])\n",
    "\n",
    "    tindex = gpd.read_file(\"../EPCExtent_30cm/Index/EPCtindex_2019.gpkg\")\n",
    "    tindex['location'] = tindex['location'].apply(lambda l: os.path.abspath(\"../EPCExtent_30cm\" + l.split(\"..\")[1]))\n",
    "\n",
    "    joined = gpd.sjoin(all_pnts, tindex, how=\"left\", rsuffix=\"Tile\" )\n",
    "    \n",
    "    joined[\"DSM\"] = joined.location.apply(lambda l: os.path.join(\"../EPCExtent_30cm/Elevation_80cmNPS/DSM80cm\", os.path.basename(l).replace(\".laz\",\"_DSM80cm.tif\")))\n",
    "    \n",
    "    # Using pdal to pull elevation values is real slow (1-2 minutes per point). Read tif DSM instead\n",
    "    #joined[\"SurveyValues\"] = joined.apply(lambda r: getPCValues(r), axis=1)\n",
    "    joined[\"DSMElevation\"] = joined.apply(lambda r: getDSMVal(r), axis=1)\n",
    "    \n",
    "    joined[\"ErrorFt\"] = abs(joined[\"DSMElevation\"] - joined[\"ELEVATION\"])\n",
    "    joined[\"ErrorCM\"] = joined.ErrorFt * 12 * 2.54\n",
    "\n",
    "    joined.sort_values(\"ErrorFt\", inplace=True)\n",
    "    \n",
    "    \n",
    "    print(f\"Finished pulling elevation values. {datetime.now()-start} Elapsed.\")\n",
    "    joined.to_file(\"2015SurveyPointEval.gpkg\", driver=\"GPKG\")\n",
    "else:\n",
    "    print(\"Reading in...\")\n",
    "    joined = gpd.read_file(evalFile)\n",
    "    \n",
    "#joined.tail(5)\n",
    "print(len(joined))\n",
    "#joined.tail(5)\n",
    "### Upon inspection the point with the largest error (12.9 ft) is a parking lot which has had a solar panel built over it. Remove from consideration\n",
    "joined = joined[joined.ErrorFt != joined.ErrorFt.max()].copy()\n",
    "print(len(joined))\n",
    "\n",
    "rmse = np.sqrt(np.mean(joined.ErrorCM.apply(lambda e: e**2)))\n",
    "mae = np.mean(joined.ErrorCM)\n",
    "median = joined.ErrorCM.median()\n",
    "print(f\"\\nError rates for 2019 DSM as comparted to 2015 survey points: \\nRMSE is {round(rmse,3)}cm ({round(rmse/2.54/12, 3)}ft) \\n\\\n",
    "MeaAE is {round(mae,3)}cm ({round(mae/2.54/12, 3)}ft) \\n\\\n",
    "MedAE is {round(median)}cm ({round(median/2.54/12, 3)}ft)\")"
   ]
  },
  {
   "cell_type": "code",
   "execution_count": 43,
   "metadata": {},
   "outputs": [
    {
     "data": {
      "text/plain": [
       "Text(0, 0.5, 'Frequency')"
      ]
     },
     "execution_count": 43,
     "metadata": {},
     "output_type": "execute_result"
    },
    {
     "data": {
      "image/png": "[encoded data removed]",
      "text/plain": [
       "<Figure size 432x288 with 1 Axes>"
      ]
     },
     "metadata": {
      "needs_background": "light"
     },
     "output_type": "display_data"
    }
   ],
   "source": [
    "import matplotlib.pyplot as plt\n",
    "jhist = joined.ErrorFt.hist()\n",
    "plt.xlabel(\"Absolute Error (ft)\", fontsize=12)\n",
    "plt.ylabel(\"Frequency\",fontsize=12)"
   ]
  },
  {
   "cell_type": "code",
   "execution_count": 44,
   "metadata": {},
   "outputs": [
    {
     "data": {
      "text/plain": [
       "Text(0, 0.5, 'Frequency')"
      ]
     },
     "execution_count": 44,
     "metadata": {},
     "output_type": "execute_result"
    },
    {
     "data": {
      "image/png": "[encoded data removed]",
      "text/plain": [
       "<Figure size 432x288 with 1 Axes>"
      ]
     },
     "metadata": {
      "needs_background": "light"
     },
     "output_type": "display_data"
    }
   ],
   "source": [
    "(joined[\"DSMElevation\"] - joined[\"ELEVATION\"]).hist()\n",
    "plt.xlabel(\"Error (ft)\", fontsize=12)\n",
    "plt.ylabel(\"Frequency\",fontsize=12)"
   ]
  },
  {
   "cell_type": "code",
   "execution_count": null,
   "metadata": {},
   "outputs": [],
   "source": []
  }
 ],
 "metadata": {
  "kernelspec": {
   "display_name": "Python 3",
   "language": "python",
   "name": "python3"
  },
  "language_info": {
   "codemirror_mode": {
    "name": "ipython",
    "version": 3
   },
   "file_extension": ".py",
   "mimetype": "text/x-python",
   "name": "python",
   "nbconvert_exporter": "python",
   "pygments_lexer": "ipython3",
   "version": "3.8.2"
  }
 },
 "nbformat": 4,
 "nbformat_minor": 4
}
