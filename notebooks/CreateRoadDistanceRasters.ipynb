{
 "cells": [
  {
   "cell_type": "code",
   "execution_count": 1,
   "metadata": {},
   "outputs": [],
   "source": [
    "# create Road distance rasters"
   ]
  },
  {
   "cell_type": "code",
   "execution_count": 10,
   "metadata": {},
   "outputs": [],
   "source": [
    "from shapely.geometry import box\n",
    "hagfiles = glob(\"R:/ProjectData/PAG2019/EPCExtent_30cm/Elevation_80cmNPS/HAG_2015/*.tif\")\n",
    "boxes = []\n",
    "for file in hagfiles:\n",
    "    with rio.open(file) as src:\n",
    "        boxes.append(box(*src.bounds))\n",
    "\n",
    "hagdf = gpd.GeoDataFrame({\"File\":hagfiles, \"geometry\":boxes}, geometry=boxes, crs=\"epsg:2868\")\n",
    "hagdf.to_file(hag_tindex_loc, driver=\"GPKG\")"
   ]
  },
  {
   "cell_type": "code",
   "execution_count": 24,
   "metadata": {},
   "outputs": [
    {
     "name": "stdout",
     "output_type": "stream",
     "text": [
      "The chime extension is already loaded. To reload it, use:\n",
      "  %reload_ext chime\n",
      "Reading in ../vectors/asphaultPoly.gpkg...\n"
     ]
    },
    {
     "name": "stderr",
     "output_type": "stream",
     "text": [
      "C:\\Users\\BenJames\\anaconda3\\envs\\geospatial\\lib\\site-packages\\geopandas\\geodataframe.py:294: RuntimeWarning: Sequential read of iterator was interrupted. Resetting iterator. This can negatively impact the performance.\n",
      "  for f in features_lst:\n",
      "C:\\Users\\BenJames\\anaconda3\\envs\\geospatial\\lib\\site-packages\\geopandas\\geodataframe.py:294: RuntimeWarning: Sequential read of iterator was interrupted. Resetting iterator. This can negatively impact the performance.\n",
      "  for f in features_lst:\n"
     ]
    }
   ],
   "source": [
    "%load_ext chime\n",
    "import rasterio as rio\n",
    "from rasterio.mask import mask\n",
    "import geopandas as gpd\n",
    "from shapely.ops import substring\n",
    "from time import sleep\n",
    "import numpy as np\n",
    "from scipy.ndimage import distance_transform_edt\n",
    "import os\n",
    "from glob import glob\n",
    "from datetime import datetime\n",
    "from shapely.geometry import box\n",
    "import chime\n",
    "from joblib import Parallel, delayed\n",
    "from rasterio.mask import raster_geometry_mask\n",
    "from math import ceil, floor\n",
    "import nbimporter\n",
    "#from KeyFunctions import *\n",
    "import gdal\n",
    "from utils import finished\n",
    "\n",
    "roadDistance_dir = \"R:/ProjectData/PAG2019/EPCExtent_30cm/RoadDistances\"\n",
    "os.makedirs(roadDistance_dir, exist_ok=True)\n",
    "#ortho30cmvrt_loc = os.path.abspath(\"../EPCExtent_30cm/Orthos/EPC_30cmOrtho_2019.vrt\")\n",
    "\n",
    "#tileindex = gpd.read_file(\"../EPCExtent_30cm/Orthos/2019_LULC_EPCExtent_30cm_index.shp\")\n",
    "#tifsfootprint = tileindex.geometry.unary_union\n",
    "\n",
    "asphaultPoly_loc = \"../vectors/asphaultPoly.gpkg\"\n",
    "osm_paved = \"../vectors/OSMRoadsPimaPaved_20201124.gpkg\"\n",
    "print(f\"Reading in {asphaultPoly_loc}...\")\n",
    "road_targets = gpd.read_file(osm_paved)\n",
    "bad_roads = [\"path\", \"residential\", \"cycleway\", \"service\",\"footway\",\"pedestrian\",\"living_street\",\"steps\",\"unknown\",\"bridleway\", \"unclassified\"]\n",
    "\n",
    "\n",
    "tileIndex_loc = \"../vectors/Ortho_5kSubIndex.gpkg\"\n",
    "ruralRegions_loc = r\"../vectors/DesertBarrenVegetation_2015.gpkg\"\n",
    "hag_tindex_loc = \"R:/ProjectData/PAG2019/EPCExtent_30cm/Elevation_80cmNPS/HAG_2015/HAG_tindex.gpkg\"\n",
    "\n",
    "tileIndex = gpd.read_file(tileIndex_loc)\n",
    "#tileIndex.filepath = tileIndex.filepath.apply(lambda fp: fp.replace(\"/mnt/Bertha/PAG2019/EPCExtent_30cm/Orthos_Segmented\", \"../EPCExtent_30cm/Orthos_Segmentedv2\"))\n",
    "tileIndex[\"geometry\"] = tileIndex[\"geometry\"].apply(lambda g: box(*g.buffer(-50).bounds))\n",
    "\n",
    "hag_tindex = gpd.read_file(hag_tindex_loc)\n",
    "rural_regions = gpd.read_file(ruralRegions_loc)"
   ]
  },
  {
   "cell_type": "code",
   "execution_count": 115,
   "metadata": {},
   "outputs": [],
   "source": [
    "def done():\n",
    "    chime.theme(\"zelda\")\n",
    "    %chime\n",
    "    chime.theme(\"material\")\n",
    "\n",
    "\n",
    "def getCommonLandcover(street, writeRasters=False):\n",
    "    index = street.name\n",
    "    \n",
    "    if index % 5000 == 0:\n",
    "        print(f\"On {index} @ {datetime.now()}\")\n",
    "    \n",
    "    length = street.geometry.length\n",
    "    substrings = []\n",
    "    if length > splitlength:\n",
    "        for i in range(0, ceil(length), splitlength):\n",
    "            start = i\n",
    "            end = i + splitlength if i+splitlength < length else length\n",
    "            substrings.append(substring(street.geometry, start, end))\n",
    "    else:\n",
    "        substrings.append(street.geometry)\n",
    "        \n",
    "    try:\n",
    "        commonCovers = []\n",
    "\n",
    "        for i, string in enumerate(substrings):\n",
    "            stringPoly = string.buffer(5)\n",
    "\n",
    "            with rio.open(landcover) as src:\n",
    "                kwargs = src.profile\n",
    "                segMask, segTransform, segWindow = raster_geometry_mask(src, [stringPoly], all_touched=True, crop=True, pad=True)\n",
    "                landcoverData = src.read(1, window=segWindow)\n",
    "                landcoverData[segMask] = src.nodata\n",
    "                maskedData = landcoverData[~segMask]\n",
    "                validValues = maskedData[maskedData!=src.nodata] # for segments that run outside of extent of landcover there may be nodata value on the segement\n",
    "                unique, frequency = np.unique(validValues, return_counts = True)\n",
    "                mostCommon = unique[np.argwhere(frequency.max() == frequency)][0][0]\n",
    "                \n",
    "                commonCovers.append(coverLookup[mostCommon])\n",
    "            if writeRasters:\n",
    "                os.makedirs(\"./temp\", exist_ok=True)\n",
    "                oras = os.path.join(\"./temp\", str(street.PC_UID) + f\"_{i}.tif\")\n",
    "                kwargs.update(transform=segTransform, driver=\"GTIFF\", width=landcoverData.shape[1], height=landcoverData.shape[0])\n",
    "                with rio.open(oras, 'w', **kwargs) as dst:\n",
    "                    dst.write(landcoverData, 1)\n",
    "\n",
    "        return \",\".join(set(commonCovers))\n",
    "    except ValueError:\n",
    "        #print(f\"Index {index} out of coverage\")\n",
    "        return None     \n",
    "\n",
    "\n",
    "def createDistanceRaster(row, odir, overwrite=False, buffer_size=10):\n",
    "        #try:\n",
    "        ofile = os.path.join(odir, f\"{row.path}_{row.row}_RoadDist.tif\")\n",
    "        if os.path.exists(ofile) and not overwrite:\n",
    "            return ofile\n",
    "        \n",
    "        geom = row.geometry.buffer(buffer_size)\n",
    "        \n",
    "        if \"Multi\" not in geom.type:\n",
    "            geom = [geom]\n",
    "            \n",
    "        bnds = tileIndex[(tileIndex.path == row.path) & (tileIndex.row == row.row)].geometry.values[0].bounds\n",
    "        with rio.open(r\"R:/ProjectData/PAG2019/EPCExtent_30cm/Orthos/EPC_30cmOrtho_2019.vrt\") as src:\n",
    "            win = rio.windows.from_bounds(*bnds, src.transform).round_offsets().round_lengths().round_shape()\n",
    "            win_transform = rio.windows.transform(win, src.transform)\n",
    "            kwargs = src.profile\n",
    "            kwargs.update(driver=\"GTIFF\", transform=win_transform, width=win.width, height=win.height)\n",
    "            reso = src.res[0]\n",
    "            \n",
    "            roads_burn = rio.features.rasterize(geom, default_value=1, transform=win_transform, out_shape=(win.height, win.width), all_touched=True)\n",
    "        #with rio.open(rasterpath) as src:\n",
    "        #    kwargs = src.profile\n",
    "        #    reso = src.res[0]\n",
    "        #    ds, ds_trans = mask(src, geom, all_touched=False, crop=False, filled=False)\n",
    "        \n",
    "        #distance = distance_transform_edt(ds.mask[0]) * reso\n",
    "        distance = distance_transform_edt(roads_burn!=1) * reso\n",
    "\n",
    "        kwargs.update(count=1,dtype=np.uint16, compress=\"LZW\")\n",
    "\n",
    "\n",
    "        with rio.open(ofile, \"w\", **kwargs) as dst:\n",
    "            dst.write(distance.astype(np.uint16), 1)\n",
    "\n",
    "        print(f\"Finished {ofile} - {datetime.now()}\")\n",
    "        return ofile\n",
    "        #except:\n",
    "        #print(f\"FAILED FOR {os.path.basename(ofile)}\")\n",
    "        #return None"
   ]
  },
  {
   "cell_type": "code",
   "execution_count": 123,
   "metadata": {},
   "outputs": [
    {
     "data": {
      "text/plain": [
       "((77173, 38), (4846, 38))"
      ]
     },
     "execution_count": 123,
     "metadata": {},
     "output_type": "execute_result"
    }
   ],
   "source": [
    "road_targets_over.shape,road_targets_diss.shape"
   ]
  },
  {
   "cell_type": "code",
   "execution_count": 124,
   "metadata": {},
   "outputs": [],
   "source": [
    "road_targets_over = gpd.overlay(road_targets, tileIndex, how=\"union\")\n",
    "\n",
    "road_targets_diss = road_targets_over.dissolve(by=[\"path\", \"row\"], as_index=False)"
   ]
  },
  {
   "cell_type": "code",
   "execution_count": 125,
   "metadata": {},
   "outputs": [
    {
     "data": {
      "text/plain": [
       "((72327, 38), (3238, 38))"
      ]
     },
     "execution_count": 125,
     "metadata": {},
     "output_type": "execute_result"
    }
   ],
   "source": [
    "road_targets_over.shape, road_targets_diss.shape"
   ]
  },
  {
   "cell_type": "code",
   "execution_count": 128,
   "metadata": {},
   "outputs": [
    {
     "name": "stderr",
     "output_type": "stream",
     "text": [
      "[Parallel(n_jobs=6)]: Using backend LokyBackend with 6 concurrent workers.\n",
      "[Parallel(n_jobs=6)]: Done   6 tasks      | elapsed:    3.7s\n",
      "[Parallel(n_jobs=6)]: Done  60 tasks      | elapsed:   31.7s\n",
      "[Parallel(n_jobs=6)]: Done 150 tasks      | elapsed:  1.3min\n",
      "[Parallel(n_jobs=6)]: Done 276 tasks      | elapsed:  2.3min\n",
      "[Parallel(n_jobs=6)]: Done 438 tasks      | elapsed:  3.6min\n",
      "[Parallel(n_jobs=6)]: Done 636 tasks      | elapsed:  5.2min\n",
      "[Parallel(n_jobs=6)]: Done 870 tasks      | elapsed:  7.0min\n",
      "[Parallel(n_jobs=6)]: Done 1140 tasks      | elapsed:  9.1min\n",
      "[Parallel(n_jobs=6)]: Done 1446 tasks      | elapsed: 11.5min\n",
      "[Parallel(n_jobs=6)]: Done 1788 tasks      | elapsed: 14.2min\n",
      "[Parallel(n_jobs=6)]: Done 2166 tasks      | elapsed: 17.1min\n",
      "[Parallel(n_jobs=6)]: Done 2580 tasks      | elapsed: 20.3min\n",
      "[Parallel(n_jobs=6)]: Done 3030 tasks      | elapsed: 24.0min\n",
      "[Parallel(n_jobs=6)]: Done 3238 out of 3238 | elapsed: 25.8min finished\n"
     ]
    },
    {
     "name": "stdout",
     "output_type": "stream",
     "text": [
      "Wall time: 26min 25s\n"
     ]
    }
   ],
   "source": [
    "%%time\n",
    "road_targets_over = gpd.overlay(road_targets, tileIndex, how=\"union\")\n",
    "\n",
    "road_targets_diss = road_targets_over.dissolve(by=[\"path\", \"row\"], as_index=False)\n",
    "\n",
    "#buffer by 10 so that anything 10 and under is 0 distance\n",
    "roadFiles = Parallel(n_jobs=6, verbose=5)(delayed(createDistanceRaster)(row, roadDistance_dir, overwrite=True, buffer_size=10) for i, row in road_targets_diss.iterrows())\n",
    "roadFiles = [f for f in roadFiles if f is not None]\n",
    "finished()"
   ]
  },
  {
   "cell_type": "code",
   "execution_count": null,
   "metadata": {},
   "outputs": [],
   "source": []
  }
 ],
 "metadata": {
  "kernelspec": {
   "display_name": "Python 3 (ipykernel)",
   "language": "python",
   "name": "python3"
  },
  "language_info": {
   "codemirror_mode": {
    "name": "ipython",
    "version": 3
   },
   "file_extension": ".py",
   "mimetype": "text/x-python",
   "name": "python",
   "nbconvert_exporter": "python",
   "pygments_lexer": "ipython3",
   "version": "3.8.12"
  }
 },
 "nbformat": 4,
 "nbformat_minor": 4
}
