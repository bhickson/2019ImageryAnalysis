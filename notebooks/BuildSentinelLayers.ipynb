{
 "cells": [
  {
   "cell_type": "code",
   "execution_count": 1,
   "id": "eb4793a3",
   "metadata": {},
   "outputs": [],
   "source": [
    "%load_ext chime\n",
    "import os\n",
    "import geopandas as gpd\n",
    "import rasterio as rio\n",
    "import gdal\n",
    "from glob import glob\n",
    "import numpy as np\n",
    "from skimage.morphology import remove_small_holes\n",
    "from utils import finished, getSentinelBandFile\n",
    "from shapely.geometry import box"
   ]
  },
  {
   "cell_type": "code",
   "execution_count": 2,
   "id": "e954328c",
   "metadata": {},
   "outputs": [
    {
     "data": {
      "text/plain": [
       "{2: 'R:\\\\ProjectData\\\\PAG2019\\\\Sentinel2Data\\\\B02Mean_20190601to20190901_2868.tif',\n",
       " 3: 'R:\\\\ProjectData\\\\PAG2019\\\\Sentinel2Data\\\\B03Mean_20190601to20190901_2868.tif',\n",
       " 4: 'R:\\\\ProjectData\\\\PAG2019\\\\Sentinel2Data\\\\B04Mean_20190601to20190901_2868.tif',\n",
       " 5: 'R:\\\\ProjectData\\\\PAG2019\\\\Sentinel2Data\\\\B05Mean_20190601to20190901_2868.tif',\n",
       " 6: 'R:\\\\ProjectData\\\\PAG2019\\\\Sentinel2Data\\\\B06Mean_20190601to20190901_2868.tif',\n",
       " 7: 'R:\\\\ProjectData\\\\PAG2019\\\\Sentinel2Data\\\\B07Mean_20190601to20190901_2868.tif',\n",
       " 8: 'R:\\\\ProjectData\\\\PAG2019\\\\Sentinel2Data\\\\B08Mean_20190601to20190901_2868.tif',\n",
       " '8A': 'R:\\\\ProjectData\\\\PAG2019\\\\Sentinel2Data\\\\B8AMean_20190601to20190901_2868.tif',\n",
       " 11: 'R:\\\\ProjectData\\\\PAG2019\\\\Sentinel2Data\\\\B11Mean_20190601to20190901_2868.tif',\n",
       " 12: 'R:\\\\ProjectData\\\\PAG2019\\\\Sentinel2Data\\\\B12Mean_20190601to20190901_2868.tif'}"
      ]
     },
     "execution_count": 2,
     "metadata": {},
     "output_type": "execute_result"
    }
   ],
   "source": [
    "sentinel_dir = r\"R:\\ProjectData\\PAG2019\\Sentinel2Data\"\n",
    "\n",
    "sindicies = [\"NDWI\", \"BSI\", \"NDVI\", \"NDVIa\", \"DBSI\", \"NDMI\"]\n",
    "sbands = [2, 3, 4, 5, 6, 7, 8, \"8A\", 11, 12]\n",
    "\n",
    "sentinel_bands = {}\n",
    "bd = {}\n",
    "\n",
    "for b in sbands:\n",
    "    band = f\"B0{b}\" if len(str(b)) == 1 else f\"B{b}\"\n",
    "    sentinel_bands[b] = getSentinelBandFile(band, sentinel_dir, suffix=\"20190901\")\n",
    "\n",
    "warpOpts = gdal.WarpOptions(dstSRS=\"EPSG:2868\")\n",
    "\n",
    "for band, band_loc in sentinel_bands.copy().items():\n",
    "    bandRepro_loc = band_loc.replace(\".tif\",\"_2868.tif\")\n",
    "    tif = gdal.Warp(bandRepro_loc, band_loc, options=warpOpts)\n",
    "    del tif\n",
    "    sentinel_bands[band] = bandRepro_loc\n",
    "sentinel_bands"
   ]
  },
  {
   "cell_type": "code",
   "execution_count": 3,
   "id": "a0f0be35",
   "metadata": {},
   "outputs": [
    {
     "name": "stdout",
     "output_type": "stream",
     "text": [
      "Filled holes in R:\\ProjectData\\PAG2019\\Sentinel2Data\\B02Mean_20190601to20190901_2868.tif\n",
      "Filled holes in R:\\ProjectData\\PAG2019\\Sentinel2Data\\B03Mean_20190601to20190901_2868.tif\n",
      "Filled holes in R:\\ProjectData\\PAG2019\\Sentinel2Data\\B04Mean_20190601to20190901_2868.tif\n",
      "Filled holes in R:\\ProjectData\\PAG2019\\Sentinel2Data\\B05Mean_20190601to20190901_2868.tif\n",
      "Filled holes in R:\\ProjectData\\PAG2019\\Sentinel2Data\\B06Mean_20190601to20190901_2868.tif\n",
      "Filled holes in R:\\ProjectData\\PAG2019\\Sentinel2Data\\B07Mean_20190601to20190901_2868.tif\n",
      "Filled holes in R:\\ProjectData\\PAG2019\\Sentinel2Data\\B08Mean_20190601to20190901_2868.tif\n",
      "Filled holes in R:\\ProjectData\\PAG2019\\Sentinel2Data\\B8AMean_20190601to20190901_2868.tif\n",
      "Filled holes in R:\\ProjectData\\PAG2019\\Sentinel2Data\\B11Mean_20190601to20190901_2868.tif\n",
      "Filled holes in R:\\ProjectData\\PAG2019\\Sentinel2Data\\B12Mean_20190601to20190901_2868.tif\n"
     ]
    }
   ],
   "source": [
    "## There still exist some zero (no data values scattered around ponds that didn't get filled/filterd in the intial process. Had to go back and fix (one-time))\n",
    "#bandMeanFiles = [r\"G:\\OrthophotosAndElevation\\2019\\Sentinel2Data\\B8AMean_20190601to20190901.tif\"]\n",
    "#with rio.open(bandMeanFiles[0]) as src:\n",
    "#    data, mask = src.read(1, masked=True)\n",
    "#    print(len(data[np.isnan(data)]))\n",
    "for band, band_loc in sentinel_bands.items():\n",
    "    with rio.open(band_loc) as src:\n",
    "        data = src.read(1)\n",
    "        kwargs = src.profile\n",
    "\n",
    "    filled = remove_small_holes(data!=0, area_threshold=100, connectivity=3)\n",
    "    data[data==0 & filled ] = 1\n",
    "    data[~filled] = 0\n",
    "\n",
    "    with rio.open(band_loc, \"w\", **kwargs) as dst:\n",
    "        dst.write(data, 1)\n",
    "    print(f\"Filled holes in {band_loc}\")"
   ]
  },
  {
   "cell_type": "code",
   "execution_count": 4,
   "id": "bb9a5601",
   "metadata": {},
   "outputs": [],
   "source": [
    "bd = {}\n",
    "for band, band_loc in sentinel_bands.items():\n",
    "    with rio.open(band_loc) as src:\n",
    "        data = src.read(1).astype(np.float32)\n",
    "        data[data==src.nodata] = np.nan\n",
    "        bd[band] = data/10000.0\n",
    "\n",
    "with rio.open(sentinel_bands[2]) as src:\n",
    "    kwargs = src.profile\n",
    "kwargs.update(dtype=np.float32, nodata=-9999)\n",
    "\n",
    "# Normalized Difference Vegetation Index\n",
    "with rio.open(sentinel_bands[2].replace(\"B02Mean\", \"NDVI\"), \"w\", **kwargs) as dst:\n",
    "    ndvi = (bd[8]-bd[4])/(bd[8]+bd[4])\n",
    "    dst.write(ndvi, 1)\n",
    "\n",
    "# Normalized Difference Vegetation Index (Band 8A)\n",
    "with rio.open(sentinel_bands[2].replace(\"B02Mean\", \"NDVIa\"), \"w\", **kwargs) as dst:\n",
    "    ndvia =(bd[\"8A\"]-bd[4])/(bd[\"8A\"]+bd[4])\n",
    "    dst.write(ndvia, 1)\n",
    "\n",
    "# Normalized Difference Water Index\n",
    "with rio.open(sentinel_bands[2].replace(\"B02Mean\", \"NDWI\"), \"w\", **kwargs) as dst:\n",
    "    ndwi = (bd[3]-bd[8])/(bd[3]+bd[8])\n",
    "    dst.write(ndwi, 1)\n",
    "    \n",
    "# Bare Soil Index\n",
    "with rio.open(sentinel_bands[2].replace(\"B02Mean\", \"BSI\"), \"w\", **kwargs) as dst:\n",
    "    bsi  = ((bd[11]+bd[4])-(bd[8]+bd[2]))/((bd[11]+bd[4])+(bd[8]+bd[2]))\n",
    "    dst.write(bsi, 1)\n",
    "\n",
    "# Dry Bare Soil Index\n",
    "with rio.open(sentinel_bands[2].replace(\"B02Mean\", \"DBSI\"), \"w\", **kwargs) as dst:\n",
    "    dbsi = (bd[11]-bd[3])/(bd[11]+bd[3])\n",
    "    dst.write(dbsi, 1)\n",
    "\n",
    "# Normalized Difference Moisture Index\n",
    "with rio.open(sentinel_bands[2].replace(\"B02Mean\", \"NDMI\"), \"w\", **kwargs) as dst:\n",
    "    ndmi = (bd[8]-bd[11])/(bd[8]+bd[11])\n",
    "    dst.write(ndmi, 1)\n",
    "\n",
    "\n",
    "finished()"
   ]
  },
  {
   "cell_type": "code",
   "execution_count": 5,
   "id": "0d965de6",
   "metadata": {},
   "outputs": [],
   "source": [
    "%chime"
   ]
  },
  {
   "cell_type": "code",
   "execution_count": 15,
   "id": "7106e0bb",
   "metadata": {},
   "outputs": [],
   "source": [
    "#ndvi = (b08-b04)/(b08+b04)\n",
    "#ndvia =(b8a-b04)/(b8a+b04)\n",
    "#bsi  = ((b11-b04)-(b08+b02))/((b11+b04)+(b08+b02))\n",
    "#ndwi = (b03-b08)/(b03+b08)\n",
    "#dbsi = (b11-b03)/(b11+b03)\n",
    "#ndmi = (b08-b11)/(b08+b11)"
   ]
  }
 ],
 "metadata": {
  "kernelspec": {
   "display_name": "Python 3 (ipykernel)",
   "language": "python",
   "name": "python3"
  },
  "language_info": {
   "codemirror_mode": {
    "name": "ipython",
    "version": 3
   },
   "file_extension": ".py",
   "mimetype": "text/x-python",
   "name": "python",
   "nbconvert_exporter": "python",
   "pygments_lexer": "ipython3",
   "version": "3.8.12"
  }
 },
 "nbformat": 4,
 "nbformat_minor": 5
}
