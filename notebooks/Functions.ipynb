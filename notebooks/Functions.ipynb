{
 "cells": [
  {
   "cell_type": "markdown",
   "metadata": {},
   "source": [
    "# Functions"
   ]
  },
  {
   "cell_type": "code",
   "execution_count": null,
   "metadata": {},
   "outputs": [],
   "source": [
    "def createDTM(row, laz_folder, dtm_folder, params, overwrite=False):\n",
    "    infile = row.originFile\n",
    "    fname = os.path.basename(infile)\n",
    "    #suffix = f\"Sc{params['scalar']}Sl{params['slope']}Th{params['threshold']}WS{params['win_size']}\"\n",
    "    suffix = os.path.basename(dtm_folder)\n",
    "    \n",
    "    #outlaz = os.path.join(laz_folder, fname.replace(\".laz\", f\"_{row.subIndex}_{suffix}.laz\"))\n",
    "    outtiff = os.path.join(dtm_folder, fname.replace(\".laz\", f\"_{row.subIndex}_{suffix}.tif\"))\n",
    "    \n",
    "    if os.path.exists(outtiff) and overwrite == False:\n",
    "        return\n",
    "    \n",
    "    filterSMRF = \"\"\"\n",
    "    {\n",
    "        \"type\": \"filters.smrf\",\n",
    "        \"returns\":\"first,last,intermediate,only\",\n",
    "        \"cell\":%s,\n",
    "        \"scalar\": %s,\n",
    "        \"slope\": %s,\n",
    "        \"threshold\": %s,\n",
    "        \"window\": %s     \n",
    "    }\"\"\"\n",
    "    \n",
    "    geom = row.geometry.buffer(params['win_size'])\n",
    "    xmin,ymin,xmax,ymax = geom.bounds\n",
    "    \n",
    "    #if os.path.exists(outlaz) and not overwrite:\n",
    "    #    return\n",
    "        #pipeline_json = \"\"\" \"%s\" \"\"\" % outlaz\n",
    "    if not os.path.exists(outtiff):\n",
    "        pipeline_json = \"\"\" \"%s\" \"\"\" % infile\n",
    "        pipeline_json += ',' + filterCrop % (xmin,xmax,ymin,ymax)\n",
    "        pipeline_json += ',' + filterSMRF % (params['resolution'],params['scalar'], params['slope'], params['threshold'], params['win_size'])\n",
    "        #pipeline_json += ',' + filterPMF % (8, 0.15, 40, 50, 1.5)\n",
    "        pipeline_json += ',' + filterGround\n",
    "        #pipeline_json += ',' + writeLAZ % (outlaz)\n",
    "        pipeline_json += ',' + writeTIFF % (outtiff, params['resolution'], 0)\n",
    "    else:\n",
    "        return outtiff\n",
    "        \n",
    "        \n",
    "    pipeline_json = json_pipe_base % pipeline_json.replace(\"\\\\\",\"/\")\n",
    "    \n",
    "    pipeline = pdal.Pipeline(pipeline_json)\n",
    "    pipeline.loglevel = 8\n",
    "\n",
    "    start = datetime.now()\n",
    "    try:\n",
    "        pipeline.execute()\n",
    "    except:\n",
    "        print(f\"Failed for {outtiff}\")\n",
    "    end = datetime.now()\n",
    "\n",
    "    print(f\"{datetime.now()}\\t-\\tFinished with {os.path.basename(outtiff)} - {end-start} elapsed\")\n",
    "    \n",
    "    return outtiff"
   ]
  }
 ],
 "metadata": {
  "kernelspec": {
   "display_name": "Python 3",
   "language": "python",
   "name": "python3"
  },
  "language_info": {
   "codemirror_mode": {
    "name": "ipython",
    "version": 3
   },
   "file_extension": ".py",
   "mimetype": "text/x-python",
   "name": "python",
   "nbconvert_exporter": "python",
   "pygments_lexer": "ipython3",
   "version": "3.8.2"
  }
 },
 "nbformat": 4,
 "nbformat_minor": 4
}
