{
 "cells": [
  {
   "cell_type": "markdown",
   "metadata": {},
   "source": [
    "# LIGHTGBM BINARY\n",
    "https://lightgbm.readthedocs.io/en/latest/Python-Intro.html\n",
    "\n",
    "Control Params | Core Params | Metric Params | IO Params\n",
    "-------------- | ----------- | ------------- | ---------\n",
    "max_depth | task | metric (mae, mse, binary_logloss, multi_logloss) | max_bin\n",
    "min_data_in_leaf | application (regression, binary, multiclass)| categorical_feature\n",
    "feature_fraction | boosting (gbdt, rf, dark, goss) | ignore_column\n",
    "bagging_fraction | num_boost_round | save_binary\n",
    "early_stopping_round | learning_rate\n",
    "lambda | num_leaves\n",
    "min_gain_to_split | device (GPU or CPU)\n",
    "max_cat_group | "
   ]
  },
  {
   "cell_type": "code",
   "execution_count": 1,
   "metadata": {},
   "outputs": [],
   "source": [
    "%load_ext chime\n",
    "%matplotlib inline\n",
    "\n",
    "import os\n",
    "import sys\n",
    "import logging\n",
    "from glob import glob\n",
    "import pickle\n",
    "import chime\n",
    "import sqlite3\n",
    "\n",
    "from pprint import pprint\n",
    "from sklearn.ensemble import RandomForestClassifier\n",
    "from sklearn.model_selection import RandomizedSearchCV, GridSearchCV\n",
    "from sklearn.metrics import confusion_matrix, accuracy_score, f1_score, cohen_kappa_score, classification_report\n",
    "from skimage.exposure import adjust_sigmoid\n",
    "from sklearn.model_selection import train_test_split\n",
    "from sklearn.preprocessing import StandardScaler\n",
    "\n",
    "import rasterio as rio\n",
    "from rasterio.windows import from_bounds\n",
    "\n",
    "import pandas as pd\n",
    "import geopandas as gpd\n",
    "import numpy as np\n",
    "\n",
    "from datetime import datetime\n",
    "import json\n",
    "\n",
    "import matplotlib.pyplot as plt\n",
    "import lightgbm as lgb\n",
    "\n",
    "import optuna \n",
    "from optuna import Trial, visualization\n",
    "from optuna.samplers import TPESampler\n",
    "\n",
    "from utils import *\n",
    "\n",
    "import optuna.integration.lightgbm as olgb\n",
    "\n",
    "import swifter\n",
    "from shapely.geometry import Point\n",
    "from Functions import getSentinelBandFile\n"
   ]
  },
  {
   "cell_type": "code",
   "execution_count": 2,
   "metadata": {},
   "outputs": [],
   "source": [
    "\"\"\"\n",
    "def calcMeanDiffs(df, headers):\n",
    "    #\n",
    "    #Given a dataframe containing columns of RED, GREEN, BLUE, and NIR, calculate their difference from the mean of the others. Add these new columns to the headers to be used\n",
    "    #\n",
    "    df[\"REDness\"] = df.apply(lambda r: calcMeanDiff(r, \"RED\"), axis=1)\n",
    "    df[\"GREENness\"] = df.apply(lambda r: calcMeanDiff(r, \"GREEN\"), axis=1)\n",
    "    df[\"BLUEness\"] = df.apply(lambda r: calcMeanDiff(r, \"BLUE\"), axis=1)\n",
    "    df[\"NIRness\"] = df.apply(lambda r: calcMeanDiff(r, \"NIR\"), axis=1)\n",
    "    df[\"RGBNmean\"] = np.nanmean([df[\"RED\"], df[\"GREEN\"], df[\"BLUE\"], df[\"NIR\"]], axis=0)\n",
    "\n",
    "    if \"REDness\" not in headers:\n",
    "        headers += [\"REDness\", \"GREENness\", \"BLUEness\", \"NIRness\", \"BaseMean\"]\n",
    "    return df, headers\n",
    "\"\"\"\n",
    "\n",
    "def evaluate(model, test_features, test_labels):\n",
    "    predictions = model.predict(test_features)\n",
    "    errors = abs(predictions - test_labels)\n",
    "    mape = 100 * np.mean(errors / test_labels)\n",
    "    accuracy = 100 - mape\n",
    "    print('Model Performance')\n",
    "    print('Average Error: {:0.4f} degrees.'.format(np.mean(errors)))\n",
    "    print('Accuracy = {:0.2f}%.'.format(accuracy))\n",
    "    \n",
    "    return np.mean(errors), accuracy\n",
    "\n",
    "\n",
    "def buildModel(params, dataset, features, classCol, fullReport=False, writeOut=False):\n",
    "    \"\"\" Given parameters, a pandas dataframe, a list of feature column names, and the name of the class column\"\"\"\n",
    "    X = dataset[features]\n",
    "    y = dataset[classCol]\n",
    "    X_train, X_valid, Y_train, Y_valid = train_test_split(X, y, test_size=0.25, random_state=7)\n",
    "    train_data = lgb.Dataset(X_train, label=Y_train)\n",
    "    valid_data = lgb.Dataset(X_valid, label=Y_valid, reference=train_data)\n",
    "    gbmModel = lgb.LGBMClassifier(**params, metric=\"custom\")\n",
    "    \n",
    "    gbmModel.fit(X_train, Y_train, eval_set=(X_valid, Y_valid), eval_metric=evalF1, early_stopping_rounds=50)#, verbose_eval=False)\n",
    "    \n",
    "    preds = gbmModel.predict(X_valid)\n",
    "\n",
    "    scores = {}\n",
    "    f1 = f1_score(Y_valid, preds, average='weighted')\n",
    "\n",
    "    scores[\"F1\"] = f1\n",
    "    \n",
    "    if fullReport:\n",
    "        accuracy = accuracy_score(Y_valid, preds)\n",
    "        kappa = cohen_kappa_score(Y_valid, preds)\n",
    "        print(f\"Model:\\n\\tAccuracy: {accuracy}\\n\\tF1: {f1}\\n\\tCohensKappa: {kappa}\")\n",
    "        print(classification_report(Y_valid, preds, target_names=[k for k,v in values_2019_lookup.items()][:-2]))#\n",
    "        plotConfusionMatrix(gbmModel, X_valid, Y_valid)\n",
    "    if writeOut:\n",
    "        day = datetime.strftime(datetime.now(), \"%Y%m%d\")\n",
    "        model_name = f\"lightGBM_{day}.sav\"\n",
    "        model_path = os.path.join(os.path.abspath(\"./Models\"), model_name)\n",
    "        pickle.dump(gbmModel, open(model_path, \"wb\"))\n",
    "        params_path = f\"./Models/LGBMClassifierParams_{day}.txt\"\n",
    "        with open(params_path, \"w+\") as txt:\n",
    "            txt.write(json.dumps(params))\n",
    "        print(f\"Wrote out trained model to \\n\\t{model_path} and paramameters to \\n\\t{params_path}\")\n",
    "    \n",
    "    return gbmModel, scores\n",
    "\n",
    "\n",
    "def optunaObjective(trial):\n",
    "    # Add a callback for pruning.\n",
    "    pruning_callback = optuna.integration.LightGBMPruningCallback(trial, \"multi_logloss\")\n",
    "    \n",
    "    search_params = {\n",
    "        \"feature_fraction\": trial.suggest_float(\"feature_fraction\", 0.1, 0.5),\n",
    "        \"bagging_fraction\": trial.suggest_float(\"bagging_fraction\", 0.1, 0.5),\n",
    "        \"num_leaves\": trial.suggest_int(\"num_leaves\", 50, 500),\n",
    "        \"max_depth\": trial.suggest_int(\"max_depth\", 10, 100),\n",
    "        \"learning_rate\": trial.suggest_loguniform(\"learning_rate\", 0.005, 0.5),\n",
    "        \"num_boost_round\": trial.suggest_int(\"num_boost_round\", 25, 400), # change min limit to 25 because best fits were hitting limit of 50 \n",
    "        \"boosting_type\": trial.suggest_categorical('boosting_type', [\"rf\", \"gbdt\"]), # used dart on previous searches. not best for this\n",
    "        \"n_estimators\": trial.suggest_int(\"n_estimators\", 100, 500)\n",
    "    }\n",
    "    \n",
    "    params = {**fixed_params, **search_params}\n",
    "    scores = []\n",
    "    for data in subGroups:\n",
    "        #data = subGroups[i]\n",
    "        gbm, modelScores = buildModel(params, data, featureHeaders, class_col)\n",
    "                \n",
    "        #preds = gbm.predict(X_valid)\n",
    "        #accuracy = accuracy_score(y_valid, preds)\n",
    "        #f1 = f1_score(y_valid, preds, average='weighted')\n",
    "        scores.append(modelScores[\"F1\"])\n",
    "        \n",
    "    meanScore = np.mean(scores)\n",
    "    \n",
    "    return meanScore\n",
    "\n",
    "\n",
    "def evaluate_macroF1_lgb(truth, predictions):  \n",
    "    #pred_labels = predictions.reshape(len(np.unique(truth)),-1).argmax(axis=0)\n",
    "    f1 = f1_score(truth, pred_labels, average='weighted')\n",
    "    return ('macroF1', f1, True) \n",
    "\n",
    "\n",
    "def plotConfusionMatrix(model, xValid, yValid):\n",
    "    labels, counts = np.unique(yValid, return_counts=True)\n",
    "    pred_lgb = model.predict(xValid)\n",
    "    cm = confusion_matrix(yValid, pred_lgb, labels=labels)\n",
    "    cm = cm.astype('float') / cm.sum(axis=1)[:, np.newaxis]\n",
    "    fig, ax = plt.subplots(figsize=(10, 10))\n",
    "    im = ax.imshow(cm, interpolation='nearest', cmap=plt.cm.Blues)\n",
    "    ax.figure.colorbar(im, ax=ax)\n",
    "\n",
    "\n",
    "    # We want to show all ticks...\n",
    "    ax.set(xticks=np.arange(cm.shape[1]),\n",
    "           yticks=np.arange(cm.shape[0]),\n",
    "           # ... and label them with the respective list entries\n",
    "           xticklabels=[k for i in labels for k,v in values_2019_lookup.items() if i == v],\n",
    "           yticklabels=[k for i in labels for k,v in values_2019_lookup.items() if i == v],\n",
    "           title='Normalized Confusion Matrix',\n",
    "           ylabel='True label',\n",
    "           xlabel='Predicted label')\n",
    "\n",
    "\n",
    "    # Rotate the tick labels and set their alignment.\n",
    "    plt.setp(ax.get_xticklabels(), rotation=45, ha=\"right\",\n",
    "             rotation_mode=\"anchor\")\n",
    "    # Loop over data dimensions and create text annotations.\n",
    "    fmt = '.4f'\n",
    "    thresh = cm.max() / 2.\n",
    "    for i in range(cm.shape[0]):\n",
    "        for j in range(cm.shape[1]):\n",
    "            ax.text(j, i, format(cm[i, j], fmt),\n",
    "                    ha=\"center\", va=\"center\",\n",
    "                    color=\"white\" if cm[i, j] > thresh else \"black\")\n",
    "    fig.tight_layout()\n",
    "\n",
    "\n",
    "def evalF1(y_true, y_pred):\n",
    "    #https://stackoverflow.com/questions/57222667/light-gbm-early-stopping-does-not-work-for-custom-metric\n",
    "    # returns (eval_name, eval_result, is_higher_better\n",
    "    y_pred = y_pred.reshape(len(np.unique(y_true)),-1).argmax(axis=0)\n",
    "    return 'F1', f1_score(y_true, y_pred, average='weighted'), True\n",
    "\n",
    "\n",
    "def getCorrelation(df, cortype, threshold=0.1):\n",
    "    \"\"\" Identifies absolute (negative or positive) correlation (cortype) of columns in DF\n",
    "    and returns all over threshold (threshold) except \"LCClassInt \"\"\"\n",
    "    cor = df.corr(method=cortype)\n",
    "    #display(cor[cor.index == \"LCClassInt\"])\n",
    "    cor_target = abs(cor[\"LCClassInt\"])\n",
    "    relevant_features = cor_target[cor_target>threshold]\n",
    "    #print(f\"{len(relevant_features)} features identified over threshold {threshold} using {cortype}\")\n",
    "    relevant_features.sort_values(ascending=False, inplace=True)\n",
    "    relevant_features.drop(index=\"LCClassInt\", inplace=True)\n",
    "    \n",
    "    return relevant_features\n",
    "\n",
    "\n",
    "def getRelevantFeatures(df, threshold):\n",
    "    corFeatures = {}\n",
    "    for cor_type in ('pearson', 'spearman'):\n",
    "        goodFeatures = getCorrelation(df, cor_type, threshold)\n",
    "        corFeatures[cor_type] = goodFeatures\n",
    "\n",
    "    coeff_df = pd.DataFrame.from_dict(corFeatures)\n",
    "    #coeff_df[\"PearsonAndSpearman\"] = coeff_df.apply(lambda r: pd.notnull(r.pearson) and pd.notnull(r.spearman),axis=1)\n",
    "    #coeff_df[\"PearsonOrSpearman\"] = coeff_df.apply(lambda r: pd.notnull(r.pearson) or pd.notnull(r.spearman),axis=1)\n",
    "\n",
    "    spearAndPear = coeff_df[(coeff_df.pearson>threshold) | (coeff_df.spearman>threshold)]\n",
    "    strongFeatures = spearAndPear.index.tolist()\n",
    "    print(f\"Identified {len(strongFeatures)} features (using Pearson and Spearman) to use in model\")\n",
    "    \n",
    "    return spearAndPear.index.tolist()\n",
    "\n",
    "\n",
    "def getOptimumParam(lgbm_study, minimize=True):\n",
    "    history = lgbm_study.trials_dataframe()\n",
    "    history[\"DurationSeconds\"] = history.duration.apply(lambda d: d/np.timedelta64(1, 's'))\n",
    "    # limit trials to those within 1.2x of the best score (assuming lower scores are better)\n",
    "    best_score = lgbm_study.best_trial.value\n",
    "    if minimize:\n",
    "        best_performers = history[(history.value<(best_score*1.2))]# & (history.DurationSeconds < seconds_limit)]\n",
    "    else:\n",
    "        best_performers = history[(history.value>(best_score*0.95))]# & (history.DurationSeconds < seconds_limit)]\n",
    "        \n",
    "    optimum_trial = best_performers[best_performers.DurationSeconds == best_performers.DurationSeconds.min()] \n",
    "    optimum_trial_number = optimum_trial.number.values[0]\n",
    "    optimum_params = lgbm_study.get_trials()[optimum_trial_number].params\n",
    "    print(f\"optimum_params: {optimum_params}\")\n",
    "    \n",
    "    return optimum_params\n",
    "\n",
    "\n",
    "def setOptimumParams(lgbmTuner, minimize):\n",
    "    for k,v in getOptimumParam(lgbmTuner.study, minimize).items():\n",
    "        lgbmTuner.lgbm_params[k] = v\n",
    "    return lgbmTuner\n",
    "\n",
    "\n",
    "def useOptunaLGBMTuner(trainDataset, validDataset, params, lc_class, suffix, resume=False):\n",
    "    \"\"\" Uses optunas build in tuner for Light GBM.  A bit faster\"\"\"\n",
    "    # Add stream handler of stdout to show the messages\n",
    "    optuna.logging.get_logger(\"optuna\").addHandler(logging.StreamHandler(sys.stdout))\n",
    "    storage_name = f\"OptunaTuner_Binary_{suffix}\"\n",
    "    \n",
    "    study_loc = f\"Models/{storage_name}.db\"\n",
    "    storage_loc = f\"sqlite:///{study_loc}\"\n",
    "    studyName = f\"lightgbm_tuner_{lc_class}_{tday}\"\n",
    "    \n",
    "    if not resume and os.path.exists(study_loc):\n",
    "        os.remove(study_loc)\n",
    "    \n",
    "    tunerStudy = optuna.create_study(study_name=studyName, direction=\"minimize\", storage=storage_loc, load_if_exists=resume)\n",
    "    \n",
    "    tuner = olgb.LightGBMTuner(\n",
    "            params, train_set=trainDataset, valid_sets=[trainDataset, validDataset], verbose_eval=100,\n",
    "            optuna_callbacks=[mlflow_callback], study=tunerStudy\n",
    "        )\n",
    "    \n",
    "    print(\"\\nTuning Number of Leaves\")\n",
    "    tuner.tune_num_leaves(n_trials=20)\n",
    "    #tuner = setOptimumParams(tuner, minimize=True)\n",
    "    print(\"\\nTuning feature fraction (1)\")\n",
    "    tuner.tune_feature_fraction(n_trials=20)\n",
    "    #tuner = setOptimumParams(tuner, minimize=True)\n",
    "    print(\"\\nTuning Bagging\")\n",
    "    tuner.tune_bagging(n_trials=10)\n",
    "    #tuner = setOptimumParams(tuner, minimize=True)\n",
    "    print(\"\\nTuning feature fraction (2)\")\n",
    "    tuner.tune_feature_fraction_stage2(n_trials=6)\n",
    "    #tuner = setOptimumParams(tuner, minimize=True)\n",
    "    print(\"\\nTuning Lambdal1 and l2\")\n",
    "    tuner.tune_regularization_factors(n_trials=20)\n",
    "    #tuner = setOptimumParams(tuner, minimize=True)\n",
    "    #print(\"\\nTuning Min Data in Leaf\")\n",
    "    #tuner.tune_min_data_in_leaf()\n",
    "    #tuner = setOptimumParams(tuner, minimize=True)\n",
    "    \n",
    "    return tuner\n",
    "\n",
    "    newModel = lgb.train(tuner.best_params, train_set=trainDataset, valid_sets=[trainDataset, validDataset], verbose_eval=1)\n",
    "    model_name = f\"lightGBMBinary{lc_class}_LGBMTuner_{suffix}.sav\"\n",
    "    model_path = os.path.join(os.path.abspath(\"../notebooks/Models\"), model_name)\n",
    "    pickle.dump(newModel, open(model_path, \"wb\"))\n",
    "    print(f\"Wrote out model to {model_path}\")\n",
    "    \n",
    "    tunerPrediction = np.rint(newModel.predict(X_valid, num_iteration=newModel.best_iteration))\n",
    "    tunerPrediction = [np.argmax(x) for x in tunerPrediction]\n",
    "    \n",
    "    accuracy = accuracy_score(Y_valid, tunerPrediction)\n",
    "    print(f\"Accuracy: {accuracy}\")\n",
    "    print(tuner.best_params)\n",
    "    \n",
    "    \n",
    "    return tunerStudy"
   ]
  },
  {
   "cell_type": "code",
   "execution_count": 3,
   "metadata": {},
   "outputs": [
    {
     "data": {
      "text/plain": [
       "{'PondLake': '../OtherData/TrainingData/PondLake_20210825.pickle',\n",
       " 'Pool': '../OtherData/TrainingData/Pool_20210825.pickle',\n",
       " 'DenseVeg': '../OtherData/TrainingData/DenseVeg_20210825.pickle',\n",
       " 'IrrigatedLand': '../OtherData/TrainingData/IrrigatedLand_20210825.pickle',\n",
       " 'Asphault': '../OtherData/TrainingData/Asphault_20210825.pickle',\n",
       " 'Impervious': '../OtherData/TrainingData/Impervious_20210825.pickle',\n",
       " 'Structure': '../OtherData/TrainingData/Structure_20210825.pickle',\n",
       " 'Barren': '../OtherData/TrainingData/Barren_20210825.pickle',\n",
       " 'SparseVeg': '../OtherData/TrainingData/SparseVeg_20210825.pickle',\n",
       " 'ParkingLot': '../OtherData/TrainingData/ParkingLot_20210825.pickle',\n",
       " 'Sidewalk': '../OtherData/TrainingData/Sidewalk_20210825.pickle',\n",
       " 'BarrenUrban': '../OtherData/TrainingData/BarrenUrban_20210825.pickle'}"
      ]
     },
     "execution_count": 3,
     "metadata": {},
     "output_type": "execute_result"
    }
   ],
   "source": [
    "trainingSamples_locs = {'PondLake': '../OtherData/TrainingData/PondLake_20210519.pickle',\n",
    "                        'Pool': '../OtherData/TrainingData/Pool_20210519.pickle',\n",
    "                        'DenseVeg': '../OtherData/TrainingData/DenseVeg_20210519.pickle',\n",
    "                        'IrrigatedLand': '../OtherData/TrainingData/IrrigatedLand_20210519.pickle',\n",
    "                        'Asphault': '../OtherData/TrainingData/Asphault_20210519.pickle',\n",
    "                        'Impervious': '../OtherData/TrainingData/Impervious_20210519.pickle',\n",
    "                        'Structure': '../OtherData/TrainingData/Structure_20210519.pickle',\n",
    "                        'Barren': '../OtherData/TrainingData/Barren_20210519.pickle',\n",
    "                        'SparseVeg': '../OtherData/TrainingData/SparseVeg_20210519.pickle',\n",
    "                        'ParkingLot': '../OtherData/TrainingData/ParkingLot_20210519.pickle',\n",
    "                        'Sidewalk': '../OtherData/TrainingData/Sidewalk_20210519.pickle',\n",
    "                        'BarrenUrban': '../OtherData/TrainingData/BarrenUrban_20210825.pickle'\n",
    "                       }\n",
    "\n",
    "values_2019_lookup = {'PondLake': 1, 'Pool': 2, 'Barren': 3, 'SparseVeg': 4, 'DenseVeg': 5,\n",
    "                      'IrrigatedLand': 6, 'Asphault': 7, 'Impervious': 8, 'Structure': 9,\n",
    "                      \"ParkingLot\": 7, \"Sidewalk\": 8, \"BarrenUrban\": 3}\n",
    "\n",
    "for lcclass, fileloc in trainingSamples_locs.items():\n",
    "    trainingSamples_locs[lcclass] = fileloc.replace(\"20210519\", \"20210825\")\n",
    "trainingSamples_locs\n",
    "\n",
    "trainingSamples_locs"
   ]
  },
  {
   "cell_type": "code",
   "execution_count": 4,
   "metadata": {},
   "outputs": [
    {
     "name": "stdout",
     "output_type": "stream",
     "text": [
      "PondLake 3454380\n",
      "Pool 4437801\n",
      "DenseVeg 4141512\n",
      "IrrigatedLand 4649042\n",
      "Asphault 4805230\n",
      "Impervious 4972560\n",
      "Structure 4751827\n",
      "Barren 4704748\n",
      "SparseVeg 5159379\n",
      "ParkingLot 2527684\n",
      "Sidewalk 1053586\n",
      "BarrenUrban 3987757\n",
      "48645006 total samples\n"
     ]
    }
   ],
   "source": [
    "class_col = \"LCClassInt\"\n",
    "\n",
    "trainingSamples = []\n",
    "for lcClass, file in trainingSamples_locs.items():\n",
    "    df = pd.read_pickle(file)\n",
    "    if lcClass == \"Structure\":\n",
    "        df = df[df.HAG >= 6]\n",
    "        \n",
    "    if lcClass == \"PondLake\" or lcClass == \"Pool\" or lcClass == \"IrrigatedLand\" or lcClass == \"Impervious\" or \"Barren\" in lcClass or lcClass == \"Asphault\":\n",
    "        df = df[df.HAG == 0] \n",
    "        \n",
    "    if lcClass == \"PondLake\":\n",
    "        #df = df[df.MSAVI < (120/255)*np.iinfo(np.uint16).max]\n",
    "        #df = df[df.NDVI < (15/255)*np.iinfo(np.uint16).max]\n",
    "        df = df[df.MSAVI < (128/255)*np.iinfo(np.uint16).max]\n",
    "        df = df[df.NDVI < (132/255)*np.iinfo(np.uint16).max]\n",
    "        \n",
    "    if lcClass == \"Pool\":\n",
    "        #df = df[df.MSAVI < (100/255)*np.iinfo(np.uint16).max]\n",
    "        #df = df[df.NDVI < (65/255)*np.iinfo(np.uint16).max]\n",
    "        df = df[df.MSAVI < (128/255)*np.iinfo(np.uint16).max]\n",
    "        df = df[df.NDVI < (132/255)*np.iinfo(np.uint16).max]\n",
    "            \n",
    "    if lcClass == \"Asphault\" or lcClass == \"ParkingLot\":\n",
    "        df.loc[df.NIR >= (100/255)*np.iinfo(np.uint16).max, \"LCClass\"] = \"Impervious\"\n",
    "    \n",
    "    print(lcClass, len(df))\n",
    "        \n",
    "    trainingSamples.append(df)\n",
    "    \n",
    "trainingSamples = pd.concat(trainingSamples).reset_index(drop=True)\n",
    "trainingSamples = trainingSamples[~(trainingSamples.RED == 0) & ~(trainingSamples.GREEN == 0) & ~(trainingSamples.BLUE == 0) & ~(trainingSamples.NIR == 0)]\n",
    "\n",
    "print(f\"{len(trainingSamples)} total samples\")\n",
    "\n",
    "trainingSamples[class_col] = trainingSamples['LCClass'].apply(lambda lcc: values_2019_lookup[lcc])"
   ]
  },
  {
   "cell_type": "code",
   "execution_count": 5,
   "metadata": {},
   "outputs": [
    {
     "data": {
      "text/plain": [
       "({'B02': '../Sentinel2Data\\\\B02Mean_20190601to20190901_2868.tif',\n",
       "  'B03': '../Sentinel2Data\\\\B03Mean_20190601to20190901_2868.tif',\n",
       "  'B04': '../Sentinel2Data\\\\B04Mean_20190601to20190901_2868.tif',\n",
       "  'B05': '../Sentinel2Data\\\\B05Mean_20190601to20190901_2868.tif',\n",
       "  'B06': '../Sentinel2Data\\\\B06Mean_20190601to20190901_2868.tif',\n",
       "  'B07': '../Sentinel2Data\\\\B07Mean_20190601to20190901_2868.tif',\n",
       "  'B08': '../Sentinel2Data\\\\B08Mean_20190601to20190901_2868.tif',\n",
       "  'B8A': '../Sentinel2Data\\\\B8AMean_20190601to20190901_2868.tif',\n",
       "  'B11': '../Sentinel2Data\\\\B11Mean_20190601to20190901_2868.tif',\n",
       "  'B12': '../Sentinel2Data\\\\B12Mean_20190601to20190901_2868.tif'},\n",
       " {'NDWI': '../Sentinel2Data\\\\NDWI_Sentinel2_20190601to20190901.tif',\n",
       "  'BSI': '../Sentinel2Data\\\\BSI_Sentinel2_20190601to20190901.tif',\n",
       "  'NDVI': '../Sentinel2Data\\\\NDVIa_Sentinel2_20190601to20190901.tif',\n",
       "  'NDVIa': '../Sentinel2Data\\\\NDVIa_Sentinel2_20190601to20190901.tif',\n",
       "  'DBSI': '../Sentinel2Data\\\\DBSI_Sentinel2_20190601to20190901.tif',\n",
       "  'NDMI': '../Sentinel2Data\\\\NDMI_Sentinel2_20190601to20190901.tif'})"
      ]
     },
     "execution_count": 5,
     "metadata": {},
     "output_type": "execute_result"
    }
   ],
   "source": [
    "sindicies = [\"NDWI\", \"BSI\", \"NDVI\", \"NDVIa\", \"DBSI\", \"NDMI\"]\n",
    "sbands = [2, 3, 4, 5, 6, 7, 8, \"8A\", 11, 12]\n",
    "\n",
    "sentinel_bands, sentinel_indicies = {}, {}\n",
    "for b in sbands:\n",
    "    band = f\"B0{b}\" if len(str(b)) == 1 else f\"B{b}\"\n",
    "    sentinel_bands[band] = getSentinelBandFile(band, \"../Sentinel2Data\")\n",
    "for index in sindicies:\n",
    "    sentinel_indicies[index] = getSentinelBandFile(index, \"../Sentinel2Data\")\n",
    "sentinel_bands, sentinel_indicies"
   ]
  },
  {
   "cell_type": "code",
   "execution_count": 6,
   "metadata": {
    "scrolled": true
   },
   "outputs": [
    {
     "name": "stdout",
     "output_type": "stream",
     "text": [
      "Done 0 - 0:00:00.198782\n",
      "Done 1 - 0:00:00.173529\n",
      "Done 2 - 0:00:00.211272\n",
      "Done 3 - 0:00:00.211606\n",
      "Done 4 - 0:00:00.175812\n",
      "Wall time: 974 ms\n"
     ]
    },
    {
     "data": {
      "text/plain": [
       "['RED',\n",
       " 'GREEN',\n",
       " 'BLUE',\n",
       " 'NIR',\n",
       " 'MSAVI',\n",
       " 'NDVI',\n",
       " 'NDPI',\n",
       " 'REDness',\n",
       " 'GREENness',\n",
       " 'BLUEness',\n",
       " 'NIRness',\n",
       " 'HAG',\n",
       " 'DPR',\n",
       " 'GaussianSigma2_RED',\n",
       " 'GaussianSigma2_GREEN',\n",
       " 'GaussianSigma2_BLUE',\n",
       " 'GaussianSigma2_NIR',\n",
       " 'GaussianSigma5_RED',\n",
       " 'GaussianSigma5_GREEN',\n",
       " 'GaussianSigma5_BLUE',\n",
       " 'GaussianSigma5_NIR',\n",
       " 'Segment_area',\n",
       " 'Segment_extent',\n",
       " 'Segment_eccentricity',\n",
       " 'Segment_perimeter',\n",
       " 'RED_LHE',\n",
       " 'GREEN_LHE',\n",
       " 'BLUE_LHE',\n",
       " 'NIR_LHE',\n",
       " 'RGBNmean',\n",
       " 'Sentinel2_B02',\n",
       " 'Sentinel2_B03',\n",
       " 'Sentinel2_B04',\n",
       " 'Sentinel2_B05',\n",
       " 'Sentinel2_B06',\n",
       " 'Sentinel2_B07',\n",
       " 'Sentinel2_B08',\n",
       " 'Sentinel2_B8A',\n",
       " 'Sentinel2_B11',\n",
       " 'Sentinel2_B12',\n",
       " 'Sentinel2_NDWI',\n",
       " 'Sentinel2_BSI',\n",
       " 'Sentinel2_NDVI',\n",
       " 'Sentinel2_NDVIa',\n",
       " 'Sentinel2_DBSI',\n",
       " 'Sentinel2_NDMI']"
      ]
     },
     "execution_count": 6,
     "metadata": {},
     "output_type": "execute_result"
    }
   ],
   "source": [
    "%%time\n",
    "\n",
    "trainingFeaturesToUse = trainingSamples.columns.tolist()\n",
    "trainingFeaturesToUse.remove(\"LCClass\")\n",
    "trainingFeaturesToUse.remove(\"LCClassInt\")\n",
    "\n",
    "subGroups = []\n",
    "sampleSize = 20000\n",
    "overwrite = False\n",
    "#sampleSize = min(10**6, trainingSamples.LCClassInt.value_counts().min()) # large sample size did not improve classification\n",
    "subSampleFile_template = f\"../OtherData/TrainingData/SubSampleGroup%s_{sampleSize}.pickle\"\n",
    "sentinel_prefix = \"Sentinel2_\"\n",
    "\n",
    "for i in range(5):\n",
    "    start = datetime.now()\n",
    "    subSampleFile = subSampleFile_template % i\n",
    "    if not os.path.exists(subSampleFile) or overwrite:\n",
    "        trainingSamples_sub = getSubSample(data=trainingSamples, maxSampSize=sampleSize, features_cols=trainingFeaturesToUse[:], class_column=class_col)\n",
    "        trainingSamples_sub[\"RGBNmean\"] = trainingSamples_sub.swifter.apply(lambda r: np.nanmean([r.RED, r.GREEN, r.BLUE, r.NIR]), axis=1)\n",
    "        trainingSamples_sub[\"geometry\"] = trainingSamples_sub.swifter.apply(lambda r: Point(r.X, r.Y), axis=1)\n",
    "        for files_dict in [sentinel_bands, sentinel_indicies]:\n",
    "            for name, file in files_dict.items():\n",
    "                column_name = f\"{sentinel_prefix}{name}\"\n",
    "                print(f\"Working {column_name}\")\n",
    "                with rio.open(file) as src:\n",
    "                    trainingSamples_sub[column_name] = trainingSamples_sub[\"geometry\"].swifter.apply(lambda g: [g[0] for g in src.sample([(g.x, g.y)], 1)][0])\n",
    "                    \n",
    "        del trainingSamples_sub[\"X\"], trainingSamples_sub[\"Y\"], trainingSamples_sub[\"geometry\"]\n",
    "        trainingSamples_sub.to_pickle(subSampleFile)\n",
    "    else:\n",
    "        trainingSamples_sub = pd.read_pickle(subSampleFile)\n",
    "\n",
    "    subGroups.append(trainingSamples_sub)\n",
    "    print(f\"Done {i} - {datetime.now()-start}\")\n",
    "\n",
    "\n",
    "%chime\n",
    "trainingFeaturesToUse = subGroups[0].columns.tolist()\n",
    "trainingFeaturesToUse.remove(\"LCClassInt\")\n",
    "featureHeaders = trainingFeaturesToUse[:]\n",
    "featureHeaders"
   ]
  },
  {
   "cell_type": "code",
   "execution_count": 7,
   "metadata": {},
   "outputs": [
    {
     "name": "stdout",
     "output_type": "stream",
     "text": [
      "Sum of weights: 100.015\n"
     ]
    }
   ],
   "source": [
    "local_class_weight_dict = {'PondLake': 0.02, # dropped to 0.01 from 0.02 on 2021-10-28\n",
    "                           'Pool': 0.025, # dropped to 0.025 from 0.1 on 2021-10-28\n",
    "                           'Barren': 42, # raising to  40 from 24 on 2021-06-14, and again to 35 from 29 on 2021-08-28\n",
    "                           'SparseVeg': 25, # rasing to 20 from 18 on 2021-08-28\n",
    "                           'DenseVeg': 10.47, # dropping to 10 from 15 on 2021-08-28\n",
    "                           'IrrigatedLand': 0.5, # dropping to 0.5 from 3 on 2021-08-28\n",
    "                           'Asphault': 11, \n",
    "                           'Impervious': 3, # dropping to 3 from 14 on 2021-06-14, and again to 5 from 9 on 2021-08-28\n",
    "                           'Structure': 8} # dropping to 8 from 14.88 on 2021-08-28\n",
    "\n",
    "# replace human readable names with numerical associations\n",
    "#local_class_weight_dict = { values_2019_lookup[k]: v/100 for k, v in local_class_weight_dict.items() }\n",
    "\n",
    "print(f\"Sum of weights: {np.sum([v for v in local_class_weight_dict.values()])}\")"
   ]
  },
  {
   "cell_type": "code",
   "execution_count": 8,
   "metadata": {},
   "outputs": [
    {
     "name": "stdout",
     "output_type": "stream",
     "text": [
      "Sum of weights: 100.0\n"
     ]
    }
   ],
   "source": [
    "local_class_weight_dict = {'PondLake': 0.02, # dropped to 0.01 from 0.02 on 2021-10-28\n",
    "                           'Pool': 0.01, # dropped to 0.025 from 0.1 on 2021-10-28\n",
    "                           'Barren': 26, # raising to  40 from 24 on 2021-06-14, and again to 35 from 29 on 2021-08-28\n",
    "                           'SparseVeg': 24.47, # rasing to 20 from 18 on 2021-08-28\n",
    "                           'DenseVeg': 15, # dropping to 10 from 15 on 2021-08-28\n",
    "                           'IrrigatedLand': 2.5, # dropping to 0.5 from 3 on 2021-08-28\n",
    "                           'Asphault': 15, \n",
    "                           'Impervious': 7, # dropping to 3 from 14 on 2021-06-14, and again to 5 from 9 on 2021-08-28\n",
    "                           'Structure': 10} # dropping to 8 from 14.88 on 2021-08-28\n",
    "print(f\"Sum of weights: {np.sum([v for v in local_class_weight_dict.values()])}\")"
   ]
  },
  {
   "cell_type": "code",
   "execution_count": 10,
   "metadata": {},
   "outputs": [],
   "source": [
    "#trainingSamples_sub[(trainingSamples_sub.LCClassInt == 8)]"
   ]
  },
  {
   "cell_type": "code",
   "execution_count": 8,
   "metadata": {},
   "outputs": [],
   "source": [
    "def normalizeNess(df):\n",
    "    #for b in [\"RED\", \"GREEN\", \"BLUE\", \"NIR\"]:\n",
    "    df.reset_index(drop=True, inplace=True)\n",
    "    df[\"REDnessNorm\"]   = df.swifter.apply(lambda r: ( (r.RED - np.nanmean([r.GREEN, r.BLUE, r.NIR])) / (r.RED + np.nanmean([r.GREEN, r.BLUE, r.NIR])) ), axis=1)\n",
    "    df[\"GREENnessNorm\"] = df.swifter.apply(lambda r: ( (r.GREEN - np.nanmean([r.RED, r.BLUE, r.NIR])) / (r.GREEN + np.nanmean([r.RED, r.BLUE, r.NIR])) ), axis=1)\n",
    "    df[\"BLUEnessNorm\"]  = df.swifter.apply(lambda r: ( (r.BLUE - np.nanmean([r.GREEN, r.RED, r.NIR])) / (r.BLUE + np.nanmean([r.GREEN, r.RED, r.NIR])) ), axis=1)\n",
    "    df[\"NIRnessNorm\"]   = df.swifter.apply(lambda r: ( (r.NIR - np.nanmean([r.GREEN, r.BLUE, r.RED])) / (r.NIR + np.nanmean([r.GREEN, r.BLUE, r.RED])) ), axis=1)\n",
    "    \n",
    "    return df"
   ]
  },
  {
   "cell_type": "code",
   "execution_count": 9,
   "metadata": {
    "scrolled": true
   },
   "outputs": [
    {
     "name": "stdout",
     "output_type": "stream",
     "text": [
      "Creating Normalized Ness Data Column\n"
     ]
    },
    {
     "data": {
      "application/vnd.jupyter.widget-view+json": {
       "model_id": "8bc5107c29c1461c9ce9796918ef04ef",
       "version_major": 2,
       "version_minor": 0
      },
      "text/plain": [
       "HBox(children=(FloatProgress(value=0.0, description='Dask Apply', max=32.0, style=ProgressStyle(description_wi…"
      ]
     },
     "metadata": {},
     "output_type": "display_data"
    },
    {
     "name": "stdout",
     "output_type": "stream",
     "text": [
      "\n"
     ]
    },
    {
     "data": {
      "application/vnd.jupyter.widget-view+json": {
       "model_id": "5f8e89e96b2f41b28f2c246c9348ce67",
       "version_major": 2,
       "version_minor": 0
      },
      "text/plain": [
       "HBox(children=(FloatProgress(value=0.0, description='Dask Apply', max=32.0, style=ProgressStyle(description_wi…"
      ]
     },
     "metadata": {},
     "output_type": "display_data"
    },
    {
     "name": "stdout",
     "output_type": "stream",
     "text": [
      "\n"
     ]
    },
    {
     "data": {
      "application/vnd.jupyter.widget-view+json": {
       "model_id": "e2d4764b1a2544d8b754c3db8145aa75",
       "version_major": 2,
       "version_minor": 0
      },
      "text/plain": [
       "HBox(children=(FloatProgress(value=0.0, description='Dask Apply', max=32.0, style=ProgressStyle(description_wi…"
      ]
     },
     "metadata": {},
     "output_type": "display_data"
    },
    {
     "name": "stdout",
     "output_type": "stream",
     "text": [
      "\n"
     ]
    },
    {
     "data": {
      "application/vnd.jupyter.widget-view+json": {
       "model_id": "31b0a82dea84422ab0c87edad7b96abd",
       "version_major": 2,
       "version_minor": 0
      },
      "text/plain": [
       "HBox(children=(FloatProgress(value=0.0, description='Dask Apply', max=32.0, style=ProgressStyle(description_wi…"
      ]
     },
     "metadata": {},
     "output_type": "display_data"
    },
    {
     "name": "stdout",
     "output_type": "stream",
     "text": [
      "\n",
      "\n",
      "\n",
      "Starting Barren\n",
      "Starting training of binary model for Barren\n",
      "Identified 50 features (using Pearson and Spearman) to use in model\n",
      "Using features\n",
      "\tBLUE, BLUE_LHE, BLUEness, BLUEnessNorm, DPR, GREEN, GREEN_LHE, GREENness, GREENnessNorm, GaussianSigma2_BLUE, GaussianSigma2_GREEN, GaussianSigma2_NIR, GaussianSigma2_RED, GaussianSigma5_BLUE, GaussianSigma5_GREEN, GaussianSigma5_NIR, GaussianSigma5_RED, HAG, MSAVI, NDPI, NDVI, NIR, NIR_LHE, NIRness, NIRnessNorm, RED, RED_LHE, REDness, REDnessNorm, RGBNmean, Segment_area, Segment_eccentricity, Segment_extent, Segment_perimeter, Sentinel2_B02, Sentinel2_B03, Sentinel2_B04, Sentinel2_B05, Sentinel2_B06, Sentinel2_B07, Sentinel2_B08, Sentinel2_B11, Sentinel2_B12, Sentinel2_B8A, Sentinel2_BSI, Sentinel2_DBSI, Sentinel2_NDMI, Sentinel2_NDVI, Sentinel2_NDVIa, Sentinel2_NDWI\n"
     ]
    }
   ],
   "source": [
    "import mlflow\n",
    "import optuna\n",
    "import optuna.integration.lightgbm as olgb\n",
    "\n",
    "\n",
    "def mlflow_callback(study, trial):\n",
    "    trial_value = trial.value if trial.value is not None else float(\"nan\")\n",
    "\n",
    "    trial_runtime = float(\"nan\")\n",
    "    if trial.datetime_start and trial.datetime_complete:\n",
    "        trial_runtime = (trial.datetime_complete - trial.datetime_start).total_seconds()\n",
    "    \n",
    "    with mlflow.start_run(run_name=study.study_name):\n",
    "        mlflow.log_params(trial.params)\n",
    "        #mlflow.log_params({\"step_name\": trial.user_attrs[\"lightgbm_tuner:step_number\"]})\n",
    "        \n",
    "        mlflow.log_metrics({\n",
    "            \"trial_number\": trial.number,\n",
    "            \"elapsed_time\": trial_runtime,\n",
    "            \"mean_squared_error\": trial_value,\n",
    "        })\n",
    "                          \n",
    "#sampleSize = 500000\n",
    "#trainingFeaturesToUse = trainingSamples.columns.tolist()\n",
    "#trainingFeaturesToUse.remove(\"LCClass\")\n",
    "#trainingFeaturesToUse.remove(\"LCClassInt\")\n",
    "#trainingFeaturesToUse.remove(\"X\")\n",
    "#trainingFeaturesToUse.remove(\"Y\")\n",
    "#trainingSamples_sub = getSubSample(data=trainingSamples, maxSampSize=sampleSize, features_cols=trainingFeaturesToUse[:], class_column=class_col)\n",
    "#trainingSamples_sub[\"RGBNmean\"] = np.nanmean([trainingSamples_sub[\"RED\"], trainingSamples_sub[\"GREEN\"], trainingSamples_sub[\"BLUE\"], trainingSamples_sub[\"NIR\"]], axis=0)\n",
    "#trainingFeaturesToUse.append(\"RGBNmean\")\n",
    "\n",
    "# Segment area was shown to be high-leverage and inaccurate for binary classification of asphault (2021-06-16)\n",
    "\n",
    "trainingSamples_sub = pd.concat(subGroups)\n",
    "print(\"Creating Normalized Ness Data Column\")\n",
    "trainingSamples_sub = normalizeNess(trainingSamples_sub)\n",
    "trainingFeaturesToUse = trainingSamples_sub.columns.tolist()\n",
    "trainingFeaturesToUse.remove(\"LCClassInt\")\n",
    "\n",
    "sampleSize = len(trainingSamples_sub)/9\n",
    "\n",
    "values_2019_lookup = {\"PondLake\": 1,\n",
    "                      \"Pool\": 2,\n",
    "                      \"Barren\": 3,\n",
    "                      \"SparseVeg\": 4,\n",
    "                      \"DenseVeg\": 5,\n",
    "                      \"IrrigatedLand\": 6,\n",
    "                      \"Asphault\": 7,\n",
    "                      \"Impervious\": 8,\n",
    "                      \"Structure\": 9}\n",
    "\n",
    "\n",
    "#print(\"Training Features:\\n\", trainingFeaturesToUse)\n",
    "allGoodFeatures = {}\n",
    "studies = {}\n",
    "tday = datetime.now().strftime(\"%Y%m%d\")\n",
    "\n",
    "for k,v in values_2019_lookup.items():\n",
    "    start = datetime.now()\n",
    "    if k != \"Barren\":\n",
    "        continue\n",
    "    print(f\"\\n\\nStarting {k}\")\n",
    "    \n",
    "    classTrainingFeaturesToUse = trainingFeaturesToUse[:]\n",
    "    if k == \"Asphault\":\n",
    "        classTrainingFeaturesToUse.remove(\"Segment_area\") \n",
    "        #classTrainingFeaturesToUse.remove(\"HAG\")  ## testing this\n",
    "    elif k == \"Structure\":\n",
    "        classTrainingFeaturesToUse = [feat for feat in classTrainingFeaturesToUse if \"GaussianSigma5_\" not in feat]\n",
    "    elif k == \"PondLake\":\n",
    "        #classTrainingFeaturesToUse = [feat for feat in classTrainingFeaturesToUse if \"Segment_\" not in feat]\n",
    "        classTrainingFeaturesToUse = [feat for feat in classTrainingFeaturesToUse if \"Sentinel2_\" not in feat]\n",
    "    elif k == \"Pool\":\n",
    "        classTrainingFeaturesToUse = [feat for feat in classTrainingFeaturesToUse if \"GaussianSigma\" not in feat and \"Sentinel2_\" not in feat]\n",
    "    elif k == \"DenseVeg\" or k == \"SparseVeg\" or k==\"Impervious\":\n",
    "        classTrainingFeaturesToUse = [feat for feat in classTrainingFeaturesToUse if \"GaussianSigma_5\" not in feat and \"Sentinel2_\" not in feat]\n",
    "    \n",
    "    start = datetime.now()\n",
    "\n",
    "    print(f\"Starting training of binary model for {k}\")\n",
    "    dataset = trainingSamples_sub.copy()\n",
    "    dataset.dropna(inplace=True)\n",
    "    # separate all training into binary structure and not\n",
    "    dataset[class_col] = dataset[class_col].apply(lambda cc: 1 if cc == v else 0)\n",
    "    \n",
    "    strongFeatures = getRelevantFeatures(dataset[classTrainingFeaturesToUse + [class_col]], threshold=0.01)\n",
    "    print(f\"Using features\\n\\t{', '.join(strongFeatures)}\")\n",
    "    allGoodFeatures[k] = strongFeatures\n",
    "    \n",
    "    scale_pos_weight = local_class_weight_dict[k] / (100-local_class_weight_dict[k])\n",
    "    \n",
    "    X = dataset[strongFeatures]\n",
    "    y = dataset[class_col]\n",
    "    \n",
    "    X_train, X_valid, Y_train, Y_valid = train_test_split(X, y, test_size=0.25, random_state=7)\n",
    "\n",
    "    dtrain = lgb.Dataset(X_train, label=Y_train)\n",
    "    dval = lgb.Dataset(X_valid, label=Y_valid)\n",
    "    break\n",
    "    params = {\n",
    "        \"objective\": \"binary\",\n",
    "        \"metric\": \"binary_logloss\",\n",
    "        \"verbosity\": -1,\n",
    "        \"boosting_type\": \"gbdt\",\n",
    "        #\"bagging_fraction\": 0.7, # tune_bagging tunes bagging_fraction and frequency (2021-11-29)\n",
    "        \"min_child_samples\": 20,  #int(0.005*sampleSize),\n",
    "        \"early_stopping_round\": 200,\n",
    "        \"n_jobs\": 8,\n",
    "        \"scale_pos_weight\": scale_pos_weight,\n",
    "        \"num_iterations\": 100,  # added on 2021-11-29\n",
    "        \n",
    "    }\n",
    "    \n",
    "    #study = useOptunaOptunaObjective(dtrain, dval, k)\n",
    "    study = useOptunaLGBMTuner(dtrain, dval, params=params, lc_class=k, suffix=tday, resume=False)\n",
    "    \n",
    "    studies[k]=study\n",
    "    print(f\"CREATED BINARY MODEL FOR LC Class {k}\\nTook: {datetime.now()-start}\\n\\n\\n\")\n",
    "\n",
    "    \n",
    "chime.theme(\"zelda\")\n",
    "chime.success()"
   ]
  },
  {
   "cell_type": "code",
   "execution_count": 10,
   "metadata": {
    "scrolled": true
   },
   "outputs": [],
   "source": [
    "params = {\n",
    "        \"objective\": \"binary\",\n",
    "        \"metric\": \"binary_logloss\",\n",
    "        \"verbosity\": -1,\n",
    "        \"boosting_type\": \"gbdt\",\n",
    "        \"max_depth\": 12,\n",
    "        \"min_child_samples\": 20,  #int(0.005*sampleSize),\n",
    "        \"early_stopping_round\": 200,\n",
    "        \"n_jobs\": 8,\n",
    "        \"scale_pos_weight\": scale_pos_weight,\n",
    "        \"num_iterations\": 100  # added on 2021-11-29   \n",
    "    }\n",
    "#study = useOptunaOptunaObjective(dtrain, dval, k)"
   ]
  },
  {
   "cell_type": "code",
   "execution_count": 11,
   "metadata": {
    "scrolled": true
   },
   "outputs": [
    {
     "name": "stderr",
     "output_type": "stream",
     "text": [
      "\u001b[32m[I 2021-11-30 15:36:17,629]\u001b[0m A new study created in RDB with name: lightgbm_tuner_Barren_20211130\u001b[0m\n"
     ]
    },
    {
     "name": "stdout",
     "output_type": "stream",
     "text": [
      "A new study created in RDB with name: lightgbm_tuner_Barren_20211130\n"
     ]
    },
    {
     "name": "stderr",
     "output_type": "stream",
     "text": [
      "num_leaves, val_score: inf:   0%|                                                               | 0/20 [00:00<?, ?it/s]C:\\Users\\BenJames\\anaconda3\\envs\\geospatial\\lib\\site-packages\\lightgbm\\engine.py:151: UserWarning: Found `num_iterations` in params. Will use it instead of argument\n",
      "  warnings.warn(\"Found `{}` in params. Will use it instead of argument\".format(alias))\n",
      "C:\\Users\\BenJames\\anaconda3\\envs\\geospatial\\lib\\site-packages\\lightgbm\\engine.py:156: UserWarning: Found `early_stopping_round` in params. Will use it instead of argument\n",
      "  warnings.warn(\"Found `{}` in params. Will use it instead of argument\".format(alias))\n"
     ]
    },
    {
     "name": "stdout",
     "output_type": "stream",
     "text": [
      "\n",
      "Tuning Number of Leaves\n",
      "Training until validation scores don't improve for 200 rounds\n"
     ]
    },
    {
     "name": "stderr",
     "output_type": "stream",
     "text": [
      "num_leaves, val_score: 0.034437:   5%|##5                                               | 1/20 [00:06<01:57,  6.19s/it]\u001b[32m[I 2021-11-30 15:36:23,950]\u001b[0m Trial 0 finished with value: 0.03443678958021202 and parameters: {'num_leaves': 266}. Best is trial 0 with value: 0.03443678958021202.\u001b[0m\n"
     ]
    },
    {
     "name": "stdout",
     "output_type": "stream",
     "text": [
      "[100]\tvalid_0's binary_logloss: 0.0222349\tvalid_1's binary_logloss: 0.0344368\n",
      "Did not meet early stopping. Best iteration is:\n",
      "[100]\tvalid_0's binary_logloss: 0.0222349\tvalid_1's binary_logloss: 0.0344368\n",
      "Trial 0 finished with value: 0.03443678958021202 and parameters: {'num_leaves': 266}. Best is trial 0 with value: 0.03443678958021202.\n"
     ]
    },
    {
     "name": "stderr",
     "output_type": "stream",
     "text": [
      "num_leaves, val_score: 0.034437:   5%|##5                                               | 1/20 [00:06<01:57,  6.19s/it]C:\\Users\\BenJames\\anaconda3\\envs\\geospatial\\lib\\site-packages\\lightgbm\\engine.py:151: UserWarning: Found `num_iterations` in params. Will use it instead of argument\n",
      "  warnings.warn(\"Found `{}` in params. Will use it instead of argument\".format(alias))\n",
      "C:\\Users\\BenJames\\anaconda3\\envs\\geospatial\\lib\\site-packages\\lightgbm\\engine.py:156: UserWarning: Found `early_stopping_round` in params. Will use it instead of argument\n",
      "  warnings.warn(\"Found `{}` in params. Will use it instead of argument\".format(alias))\n"
     ]
    },
    {
     "name": "stdout",
     "output_type": "stream",
     "text": [
      "Training until validation scores don't improve for 200 rounds\n",
      "[100]\tvalid_0's binary_logloss: 0.0180005\tvalid_1's binary_logloss: 0.0334342\n",
      "Did not meet early stopping. Best iteration is:\n",
      "[100]\tvalid_0's binary_logloss: 0.0180005\tvalid_1's binary_logloss: 0.0334342\n"
     ]
    },
    {
     "name": "stderr",
     "output_type": "stream",
     "text": [
      "num_leaves, val_score: 0.033434:  10%|#####                                             | 2/20 [00:18<02:24,  8.05s/it]\u001b[32m[I 2021-11-30 15:36:36,322]\u001b[0m Trial 1 finished with value: 0.03343418227499406 and parameters: {'num_leaves': 2052}. Best is trial 1 with value: 0.03343418227499406.\u001b[0m\n"
     ]
    },
    {
     "name": "stdout",
     "output_type": "stream",
     "text": [
      "Trial 1 finished with value: 0.03343418227499406 and parameters: {'num_leaves': 2052}. Best is trial 1 with value: 0.03343418227499406.\n"
     ]
    },
    {
     "name": "stderr",
     "output_type": "stream",
     "text": [
      "num_leaves, val_score: 0.033434:  10%|#####                                             | 2/20 [00:18<02:24,  8.05s/it]C:\\Users\\BenJames\\anaconda3\\envs\\geospatial\\lib\\site-packages\\lightgbm\\engine.py:151: UserWarning: Found `num_iterations` in params. Will use it instead of argument\n",
      "  warnings.warn(\"Found `{}` in params. Will use it instead of argument\".format(alias))\n",
      "C:\\Users\\BenJames\\anaconda3\\envs\\geospatial\\lib\\site-packages\\lightgbm\\engine.py:156: UserWarning: Found `early_stopping_round` in params. Will use it instead of argument\n",
      "  warnings.warn(\"Found `{}` in params. Will use it instead of argument\".format(alias))\n"
     ]
    },
    {
     "name": "stdout",
     "output_type": "stream",
     "text": [
      "Training until validation scores don't improve for 200 rounds\n"
     ]
    },
    {
     "name": "stderr",
     "output_type": "stream",
     "text": [
      "num_leaves, val_score: 0.033434:  15%|#######5                                          | 3/20 [00:25<02:12,  7.82s/it]\u001b[32m[I 2021-11-30 15:36:43,590]\u001b[0m Trial 2 finished with value: 0.03365026091081919 and parameters: {'num_leaves': 420}. Best is trial 1 with value: 0.03343418227499406.\u001b[0m\n"
     ]
    },
    {
     "name": "stdout",
     "output_type": "stream",
     "text": [
      "[100]\tvalid_0's binary_logloss: 0.0195385\tvalid_1's binary_logloss: 0.0336503\n",
      "Did not meet early stopping. Best iteration is:\n",
      "[100]\tvalid_0's binary_logloss: 0.0195385\tvalid_1's binary_logloss: 0.0336503\n",
      "Trial 2 finished with value: 0.03365026091081919 and parameters: {'num_leaves': 420}. Best is trial 1 with value: 0.03343418227499406.\n"
     ]
    },
    {
     "name": "stderr",
     "output_type": "stream",
     "text": [
      "num_leaves, val_score: 0.033434:  15%|#######5                                          | 3/20 [00:26<02:12,  7.82s/it]C:\\Users\\BenJames\\anaconda3\\envs\\geospatial\\lib\\site-packages\\lightgbm\\engine.py:151: UserWarning: Found `num_iterations` in params. Will use it instead of argument\n",
      "  warnings.warn(\"Found `{}` in params. Will use it instead of argument\".format(alias))\n",
      "C:\\Users\\BenJames\\anaconda3\\envs\\geospatial\\lib\\site-packages\\lightgbm\\engine.py:156: UserWarning: Found `early_stopping_round` in params. Will use it instead of argument\n",
      "  warnings.warn(\"Found `{}` in params. Will use it instead of argument\".format(alias))\n"
     ]
    },
    {
     "name": "stdout",
     "output_type": "stream",
     "text": [
      "Training until validation scores don't improve for 200 rounds\n"
     ]
    },
    {
     "name": "stderr",
     "output_type": "stream",
     "text": [
      "num_leaves, val_score: 0.033434:  20%|##########                                        | 4/20 [00:33<02:05,  7.86s/it]\u001b[32m[I 2021-11-30 15:36:51,563]\u001b[0m Trial 3 finished with value: 0.03360899987608968 and parameters: {'num_leaves': 591}. Best is trial 1 with value: 0.03343418227499406.\u001b[0m\n"
     ]
    },
    {
     "name": "stdout",
     "output_type": "stream",
     "text": [
      "[100]\tvalid_0's binary_logloss: 0.0184758\tvalid_1's binary_logloss: 0.033609\n",
      "Did not meet early stopping. Best iteration is:\n",
      "[100]\tvalid_0's binary_logloss: 0.0184758\tvalid_1's binary_logloss: 0.033609\n",
      "Trial 3 finished with value: 0.03360899987608968 and parameters: {'num_leaves': 591}. Best is trial 1 with value: 0.03343418227499406.\n"
     ]
    },
    {
     "name": "stderr",
     "output_type": "stream",
     "text": [
      "num_leaves, val_score: 0.033434:  20%|##########                                        | 4/20 [00:34<02:05,  7.86s/it]C:\\Users\\BenJames\\anaconda3\\envs\\geospatial\\lib\\site-packages\\lightgbm\\engine.py:151: UserWarning: Found `num_iterations` in params. Will use it instead of argument\n",
      "  warnings.warn(\"Found `{}` in params. Will use it instead of argument\".format(alias))\n",
      "C:\\Users\\BenJames\\anaconda3\\envs\\geospatial\\lib\\site-packages\\lightgbm\\engine.py:156: UserWarning: Found `early_stopping_round` in params. Will use it instead of argument\n",
      "  warnings.warn(\"Found `{}` in params. Will use it instead of argument\".format(alias))\n"
     ]
    },
    {
     "name": "stdout",
     "output_type": "stream",
     "text": [
      "Training until validation scores don't improve for 200 rounds\n"
     ]
    },
    {
     "name": "stderr",
     "output_type": "stream",
     "text": [
      "num_leaves, val_score: 0.033434:  25%|############5                                     | 5/20 [00:38<01:45,  7.02s/it]\u001b[32m[I 2021-11-30 15:36:56,614]\u001b[0m Trial 4 finished with value: 0.04537557391969832 and parameters: {'num_leaves': 44}. Best is trial 1 with value: 0.03343418227499406.\u001b[0m\n"
     ]
    },
    {
     "name": "stdout",
     "output_type": "stream",
     "text": [
      "[100]\tvalid_0's binary_logloss: 0.0417\tvalid_1's binary_logloss: 0.0453756\n",
      "Did not meet early stopping. Best iteration is:\n",
      "[100]\tvalid_0's binary_logloss: 0.0417\tvalid_1's binary_logloss: 0.0453756\n",
      "Trial 4 finished with value: 0.04537557391969832 and parameters: {'num_leaves': 44}. Best is trial 1 with value: 0.03343418227499406.\n"
     ]
    },
    {
     "name": "stderr",
     "output_type": "stream",
     "text": [
      "num_leaves, val_score: 0.033434:  25%|############5                                     | 5/20 [00:39<01:45,  7.02s/it]C:\\Users\\BenJames\\anaconda3\\envs\\geospatial\\lib\\site-packages\\lightgbm\\engine.py:151: UserWarning: Found `num_iterations` in params. Will use it instead of argument\n",
      "  warnings.warn(\"Found `{}` in params. Will use it instead of argument\".format(alias))\n",
      "C:\\Users\\BenJames\\anaconda3\\envs\\geospatial\\lib\\site-packages\\lightgbm\\engine.py:156: UserWarning: Found `early_stopping_round` in params. Will use it instead of argument\n",
      "  warnings.warn(\"Found `{}` in params. Will use it instead of argument\".format(alias))\n"
     ]
    },
    {
     "name": "stdout",
     "output_type": "stream",
     "text": [
      "Training until validation scores don't improve for 200 rounds\n",
      "[100]\tvalid_0's binary_logloss: 0.0180005\tvalid_1's binary_logloss: 0.0334342\n",
      "Did not meet early stopping. Best iteration is:\n",
      "[100]\tvalid_0's binary_logloss: 0.0180005\tvalid_1's binary_logloss: 0.0334342\n"
     ]
    },
    {
     "name": "stderr",
     "output_type": "stream",
     "text": [
      "num_leaves, val_score: 0.033434:  30%|###############                                   | 6/20 [00:51<02:02,  8.75s/it]\u001b[32m[I 2021-11-30 15:37:09,425]\u001b[0m Trial 5 finished with value: 0.03343418227499406 and parameters: {'num_leaves': 3057}. Best is trial 1 with value: 0.03343418227499406.\u001b[0m\n"
     ]
    },
    {
     "name": "stdout",
     "output_type": "stream",
     "text": [
      "Trial 5 finished with value: 0.03343418227499406 and parameters: {'num_leaves': 3057}. Best is trial 1 with value: 0.03343418227499406.\n"
     ]
    },
    {
     "name": "stderr",
     "output_type": "stream",
     "text": [
      "num_leaves, val_score: 0.033434:  30%|###############                                   | 6/20 [00:52<02:02,  8.75s/it]C:\\Users\\BenJames\\anaconda3\\envs\\geospatial\\lib\\site-packages\\lightgbm\\engine.py:151: UserWarning: Found `num_iterations` in params. Will use it instead of argument\n",
      "  warnings.warn(\"Found `{}` in params. Will use it instead of argument\".format(alias))\n",
      "C:\\Users\\BenJames\\anaconda3\\envs\\geospatial\\lib\\site-packages\\lightgbm\\engine.py:156: UserWarning: Found `early_stopping_round` in params. Will use it instead of argument\n",
      "  warnings.warn(\"Found `{}` in params. Will use it instead of argument\".format(alias))\n"
     ]
    },
    {
     "name": "stdout",
     "output_type": "stream",
     "text": [
      "Training until validation scores don't improve for 200 rounds\n",
      "[100]\tvalid_0's binary_logloss: 0.0180005\tvalid_1's binary_logloss: 0.0334342\n",
      "Did not meet early stopping. Best iteration is:\n",
      "[100]\tvalid_0's binary_logloss: 0.0180005\tvalid_1's binary_logloss: 0.0334342\n"
     ]
    },
    {
     "name": "stderr",
     "output_type": "stream",
     "text": [
      "num_leaves, val_score: 0.033434:  35%|#################5                                | 7/20 [01:04<02:09,  9.94s/it]\u001b[32m[I 2021-11-30 15:37:22,176]\u001b[0m Trial 6 finished with value: 0.03343418227499406 and parameters: {'num_leaves': 2948}. Best is trial 1 with value: 0.03343418227499406.\u001b[0m\n"
     ]
    },
    {
     "name": "stdout",
     "output_type": "stream",
     "text": [
      "Trial 6 finished with value: 0.03343418227499406 and parameters: {'num_leaves': 2948}. Best is trial 1 with value: 0.03343418227499406.\n"
     ]
    },
    {
     "name": "stderr",
     "output_type": "stream",
     "text": [
      "num_leaves, val_score: 0.033434:  35%|#################5                                | 7/20 [01:04<02:09,  9.94s/it]C:\\Users\\BenJames\\anaconda3\\envs\\geospatial\\lib\\site-packages\\lightgbm\\engine.py:151: UserWarning: Found `num_iterations` in params. Will use it instead of argument\n",
      "  warnings.warn(\"Found `{}` in params. Will use it instead of argument\".format(alias))\n",
      "C:\\Users\\BenJames\\anaconda3\\envs\\geospatial\\lib\\site-packages\\lightgbm\\engine.py:156: UserWarning: Found `early_stopping_round` in params. Will use it instead of argument\n",
      "  warnings.warn(\"Found `{}` in params. Will use it instead of argument\".format(alias))\n"
     ]
    },
    {
     "name": "stdout",
     "output_type": "stream",
     "text": [
      "Training until validation scores don't improve for 200 rounds\n"
     ]
    },
    {
     "name": "stderr",
     "output_type": "stream",
     "text": [
      "num_leaves, val_score: 0.033238:  35%|#################5                                | 7/20 [01:14<02:09,  9.94s/it]"
     ]
    },
    {
     "name": "stdout",
     "output_type": "stream",
     "text": [
      "[100]\tvalid_0's binary_logloss: 0.0178395\tvalid_1's binary_logloss: 0.0332376\n",
      "Did not meet early stopping. Best iteration is:\n",
      "[100]\tvalid_0's binary_logloss: 0.0178395\tvalid_1's binary_logloss: 0.0332376\n"
     ]
    },
    {
     "name": "stderr",
     "output_type": "stream",
     "text": [
      "num_leaves, val_score: 0.033238:  40%|####################                              | 8/20 [01:14<02:00, 10.03s/it]\u001b[32m[I 2021-11-30 15:37:32,387]\u001b[0m Trial 7 finished with value: 0.033237617625135184 and parameters: {'num_leaves': 1049}. Best is trial 7 with value: 0.033237617625135184.\u001b[0m\n"
     ]
    },
    {
     "name": "stdout",
     "output_type": "stream",
     "text": [
      "Trial 7 finished with value: 0.033237617625135184 and parameters: {'num_leaves': 1049}. Best is trial 7 with value: 0.033237617625135184.\n"
     ]
    },
    {
     "name": "stderr",
     "output_type": "stream",
     "text": [
      "num_leaves, val_score: 0.033238:  40%|####################                              | 8/20 [01:14<02:00, 10.03s/it]C:\\Users\\BenJames\\anaconda3\\envs\\geospatial\\lib\\site-packages\\lightgbm\\engine.py:151: UserWarning: Found `num_iterations` in params. Will use it instead of argument\n",
      "  warnings.warn(\"Found `{}` in params. Will use it instead of argument\".format(alias))\n",
      "C:\\Users\\BenJames\\anaconda3\\envs\\geospatial\\lib\\site-packages\\lightgbm\\engine.py:156: UserWarning: Found `early_stopping_round` in params. Will use it instead of argument\n",
      "  warnings.warn(\"Found `{}` in params. Will use it instead of argument\".format(alias))\n"
     ]
    },
    {
     "name": "stdout",
     "output_type": "stream",
     "text": [
      "Training until validation scores don't improve for 200 rounds\n",
      "[100]\tvalid_0's binary_logloss: 0.0180005\tvalid_1's binary_logloss: 0.0334342\n",
      "Did not meet early stopping. Best iteration is:\n",
      "[100]\tvalid_0's binary_logloss: 0.0180005\tvalid_1's binary_logloss: 0.0334342\n"
     ]
    },
    {
     "name": "stderr",
     "output_type": "stream",
     "text": [
      "num_leaves, val_score: 0.033238:  45%|######################5                           | 9/20 [01:27<01:58, 10.79s/it]\u001b[32m[I 2021-11-30 15:37:44,931]\u001b[0m Trial 8 finished with value: 0.03343418227499406 and parameters: {'num_leaves': 1999}. Best is trial 7 with value: 0.033237617625135184.\u001b[0m\n"
     ]
    },
    {
     "name": "stdout",
     "output_type": "stream",
     "text": [
      "Trial 8 finished with value: 0.03343418227499406 and parameters: {'num_leaves': 1999}. Best is trial 7 with value: 0.033237617625135184.\n"
     ]
    },
    {
     "name": "stderr",
     "output_type": "stream",
     "text": [
      "num_leaves, val_score: 0.033238:  45%|######################5                           | 9/20 [01:27<01:58, 10.79s/it]C:\\Users\\BenJames\\anaconda3\\envs\\geospatial\\lib\\site-packages\\lightgbm\\engine.py:151: UserWarning: Found `num_iterations` in params. Will use it instead of argument\n",
      "  warnings.warn(\"Found `{}` in params. Will use it instead of argument\".format(alias))\n",
      "C:\\Users\\BenJames\\anaconda3\\envs\\geospatial\\lib\\site-packages\\lightgbm\\engine.py:156: UserWarning: Found `early_stopping_round` in params. Will use it instead of argument\n",
      "  warnings.warn(\"Found `{}` in params. Will use it instead of argument\".format(alias))\n"
     ]
    },
    {
     "name": "stdout",
     "output_type": "stream",
     "text": [
      "Training until validation scores don't improve for 200 rounds\n",
      "[100]\tvalid_0's binary_logloss: 0.0180005\tvalid_1's binary_logloss: 0.0334342\n",
      "Did not meet early stopping. Best iteration is:\n",
      "[100]\tvalid_0's binary_logloss: 0.0180005\tvalid_1's binary_logloss: 0.0334342\n"
     ]
    },
    {
     "name": "stderr",
     "output_type": "stream",
     "text": [
      "num_leaves, val_score: 0.033238:  50%|########################5                        | 10/20 [01:39<01:53, 11.38s/it]\u001b[32m[I 2021-11-30 15:37:57,701]\u001b[0m Trial 9 finished with value: 0.03343418227499406 and parameters: {'num_leaves': 3147}. Best is trial 7 with value: 0.033237617625135184.\u001b[0m\n"
     ]
    },
    {
     "name": "stdout",
     "output_type": "stream",
     "text": [
      "Trial 9 finished with value: 0.03343418227499406 and parameters: {'num_leaves': 3147}. Best is trial 7 with value: 0.033237617625135184.\n"
     ]
    },
    {
     "name": "stderr",
     "output_type": "stream",
     "text": [
      "num_leaves, val_score: 0.033238:  50%|########################5                        | 10/20 [01:40<01:53, 11.38s/it]C:\\Users\\BenJames\\anaconda3\\envs\\geospatial\\lib\\site-packages\\lightgbm\\engine.py:151: UserWarning: Found `num_iterations` in params. Will use it instead of argument\n",
      "  warnings.warn(\"Found `{}` in params. Will use it instead of argument\".format(alias))\n",
      "C:\\Users\\BenJames\\anaconda3\\envs\\geospatial\\lib\\site-packages\\lightgbm\\engine.py:156: UserWarning: Found `early_stopping_round` in params. Will use it instead of argument\n",
      "  warnings.warn(\"Found `{}` in params. Will use it instead of argument\".format(alias))\n"
     ]
    },
    {
     "name": "stdout",
     "output_type": "stream",
     "text": [
      "Training until validation scores don't improve for 200 rounds\n",
      "[100]\tvalid_0's binary_logloss: 0.0175063\tvalid_1's binary_logloss: 0.0330349\n",
      "Did not meet early stopping. Best iteration is:\n",
      "[100]\tvalid_0's binary_logloss: 0.0175063\tvalid_1's binary_logloss: 0.0330349\n"
     ]
    },
    {
     "name": "stderr",
     "output_type": "stream",
     "text": [
      "num_leaves, val_score: 0.033035:  55%|##########################9                      | 11/20 [01:51<01:43, 11.55s/it]\u001b[32m[I 2021-11-30 15:38:09,611]\u001b[0m Trial 10 finished with value: 0.0330349194826867 and parameters: {'num_leaves': 1485}. Best is trial 10 with value: 0.0330349194826867.\u001b[0m\n"
     ]
    },
    {
     "name": "stdout",
     "output_type": "stream",
     "text": [
      "Trial 10 finished with value: 0.0330349194826867 and parameters: {'num_leaves': 1485}. Best is trial 10 with value: 0.0330349194826867.\n"
     ]
    },
    {
     "name": "stderr",
     "output_type": "stream",
     "text": [
      "num_leaves, val_score: 0.033035:  55%|##########################9                      | 11/20 [01:52<01:43, 11.55s/it]C:\\Users\\BenJames\\anaconda3\\envs\\geospatial\\lib\\site-packages\\lightgbm\\engine.py:151: UserWarning: Found `num_iterations` in params. Will use it instead of argument\n",
      "  warnings.warn(\"Found `{}` in params. Will use it instead of argument\".format(alias))\n",
      "C:\\Users\\BenJames\\anaconda3\\envs\\geospatial\\lib\\site-packages\\lightgbm\\engine.py:156: UserWarning: Found `early_stopping_round` in params. Will use it instead of argument\n",
      "  warnings.warn(\"Found `{}` in params. Will use it instead of argument\".format(alias))\n"
     ]
    },
    {
     "name": "stdout",
     "output_type": "stream",
     "text": [
      "Training until validation scores don't improve for 200 rounds\n",
      "[100]\tvalid_0's binary_logloss: 0.0170633\tvalid_1's binary_logloss: 0.03298\n",
      "Did not meet early stopping. Best iteration is:\n",
      "[100]\tvalid_0's binary_logloss: 0.0170633\tvalid_1's binary_logloss: 0.03298\n"
     ]
    },
    {
     "name": "stderr",
     "output_type": "stream",
     "text": [
      "num_leaves, val_score: 0.032980:  60%|#############################4                   | 12/20 [02:02<01:30, 11.30s/it]\u001b[32m[I 2021-11-30 15:38:20,362]\u001b[0m Trial 11 finished with value: 0.03297995429547574 and parameters: {'num_leaves': 1207}. Best is trial 11 with value: 0.03297995429547574.\u001b[0m\n"
     ]
    },
    {
     "name": "stdout",
     "output_type": "stream",
     "text": [
      "Trial 11 finished with value: 0.03297995429547574 and parameters: {'num_leaves': 1207}. Best is trial 11 with value: 0.03297995429547574.\n"
     ]
    },
    {
     "name": "stderr",
     "output_type": "stream",
     "text": [
      "num_leaves, val_score: 0.032980:  60%|#############################4                   | 12/20 [02:02<01:30, 11.30s/it]C:\\Users\\BenJames\\anaconda3\\envs\\geospatial\\lib\\site-packages\\lightgbm\\engine.py:151: UserWarning: Found `num_iterations` in params. Will use it instead of argument\n",
      "  warnings.warn(\"Found `{}` in params. Will use it instead of argument\".format(alias))\n",
      "C:\\Users\\BenJames\\anaconda3\\envs\\geospatial\\lib\\site-packages\\lightgbm\\engine.py:156: UserWarning: Found `early_stopping_round` in params. Will use it instead of argument\n",
      "  warnings.warn(\"Found `{}` in params. Will use it instead of argument\".format(alias))\n"
     ]
    },
    {
     "name": "stdout",
     "output_type": "stream",
     "text": [
      "Training until validation scores don't improve for 200 rounds\n",
      "[100]\tvalid_0's binary_logloss: 0.0178162\tvalid_1's binary_logloss: 0.0333376\n",
      "Did not meet early stopping. Best iteration is:\n",
      "[100]\tvalid_0's binary_logloss: 0.0178162\tvalid_1's binary_logloss: 0.0333376\n"
     ]
    },
    {
     "name": "stderr",
     "output_type": "stream",
     "text": [
      "num_leaves, val_score: 0.032980:  65%|###############################8                 | 13/20 [02:14<01:20, 11.44s/it]\u001b[32m[I 2021-11-30 15:38:32,110]\u001b[0m Trial 12 finished with value: 0.033337571152557144 and parameters: {'num_leaves': 1490}. Best is trial 11 with value: 0.03297995429547574.\u001b[0m\n"
     ]
    },
    {
     "name": "stdout",
     "output_type": "stream",
     "text": [
      "Trial 12 finished with value: 0.033337571152557144 and parameters: {'num_leaves': 1490}. Best is trial 11 with value: 0.03297995429547574.\n"
     ]
    },
    {
     "name": "stderr",
     "output_type": "stream",
     "text": [
      "num_leaves, val_score: 0.032980:  65%|###############################8                 | 13/20 [02:14<01:20, 11.44s/it]C:\\Users\\BenJames\\anaconda3\\envs\\geospatial\\lib\\site-packages\\lightgbm\\engine.py:151: UserWarning: Found `num_iterations` in params. Will use it instead of argument\n",
      "  warnings.warn(\"Found `{}` in params. Will use it instead of argument\".format(alias))\n",
      "C:\\Users\\BenJames\\anaconda3\\envs\\geospatial\\lib\\site-packages\\lightgbm\\engine.py:156: UserWarning: Found `early_stopping_round` in params. Will use it instead of argument\n",
      "  warnings.warn(\"Found `{}` in params. Will use it instead of argument\".format(alias))\n"
     ]
    },
    {
     "name": "stdout",
     "output_type": "stream",
     "text": [
      "Training until validation scores don't improve for 200 rounds\n",
      "[100]\tvalid_0's binary_logloss: 0.0180005\tvalid_1's binary_logloss: 0.0334348\n",
      "Did not meet early stopping. Best iteration is:\n",
      "[100]\tvalid_0's binary_logloss: 0.0180005\tvalid_1's binary_logloss: 0.0334348\n"
     ]
    },
    {
     "name": "stderr",
     "output_type": "stream",
     "text": [
      "num_leaves, val_score: 0.032980:  70%|##################################3              | 14/20 [02:26<01:10, 11.75s/it]\u001b[32m[I 2021-11-30 15:38:44,611]\u001b[0m Trial 13 finished with value: 0.03343477255359119 and parameters: {'num_leaves': 1777}. Best is trial 11 with value: 0.03297995429547574.\u001b[0m\n"
     ]
    },
    {
     "name": "stdout",
     "output_type": "stream",
     "text": [
      "Trial 13 finished with value: 0.03343477255359119 and parameters: {'num_leaves': 1777}. Best is trial 11 with value: 0.03297995429547574.\n"
     ]
    },
    {
     "name": "stderr",
     "output_type": "stream",
     "text": [
      "num_leaves, val_score: 0.032980:  70%|##################################3              | 14/20 [02:27<01:10, 11.75s/it]C:\\Users\\BenJames\\anaconda3\\envs\\geospatial\\lib\\site-packages\\lightgbm\\engine.py:151: UserWarning: Found `num_iterations` in params. Will use it instead of argument\n",
      "  warnings.warn(\"Found `{}` in params. Will use it instead of argument\".format(alias))\n",
      "C:\\Users\\BenJames\\anaconda3\\envs\\geospatial\\lib\\site-packages\\lightgbm\\engine.py:156: UserWarning: Found `early_stopping_round` in params. Will use it instead of argument\n",
      "  warnings.warn(\"Found `{}` in params. Will use it instead of argument\".format(alias))\n"
     ]
    },
    {
     "name": "stdout",
     "output_type": "stream",
     "text": [
      "Training until validation scores don't improve for 200 rounds\n",
      "[100]\tvalid_0's binary_logloss: 0.01765\tvalid_1's binary_logloss: 0.0333491\n",
      "Did not meet early stopping. Best iteration is:\n",
      "[100]\tvalid_0's binary_logloss: 0.01765\tvalid_1's binary_logloss: 0.0333491\n"
     ]
    },
    {
     "name": "stderr",
     "output_type": "stream",
     "text": [
      "num_leaves, val_score: 0.032980:  75%|####################################7            | 15/20 [02:37<00:57, 11.52s/it]\u001b[32m[I 2021-11-30 15:38:55,554]\u001b[0m Trial 14 finished with value: 0.03334910649753119 and parameters: {'num_leaves': 1233}. Best is trial 11 with value: 0.03297995429547574.\u001b[0m\n"
     ]
    },
    {
     "name": "stdout",
     "output_type": "stream",
     "text": [
      "Trial 14 finished with value: 0.03334910649753119 and parameters: {'num_leaves': 1233}. Best is trial 11 with value: 0.03297995429547574.\n"
     ]
    },
    {
     "name": "stderr",
     "output_type": "stream",
     "text": [
      "num_leaves, val_score: 0.032980:  75%|####################################7            | 15/20 [02:38<00:57, 11.52s/it]C:\\Users\\BenJames\\anaconda3\\envs\\geospatial\\lib\\site-packages\\lightgbm\\engine.py:151: UserWarning: Found `num_iterations` in params. Will use it instead of argument\n",
      "  warnings.warn(\"Found `{}` in params. Will use it instead of argument\".format(alias))\n",
      "C:\\Users\\BenJames\\anaconda3\\envs\\geospatial\\lib\\site-packages\\lightgbm\\engine.py:156: UserWarning: Found `early_stopping_round` in params. Will use it instead of argument\n",
      "  warnings.warn(\"Found `{}` in params. Will use it instead of argument\".format(alias))\n"
     ]
    },
    {
     "name": "stdout",
     "output_type": "stream",
     "text": [
      "Training until validation scores don't improve for 200 rounds\n",
      "[100]\tvalid_0's binary_logloss: 0.0180005\tvalid_1's binary_logloss: 0.0334342\n",
      "Did not meet early stopping. Best iteration is:\n",
      "[100]\tvalid_0's binary_logloss: 0.0180005\tvalid_1's binary_logloss: 0.0334342\n"
     ]
    },
    {
     "name": "stderr",
     "output_type": "stream",
     "text": [
      "num_leaves, val_score: 0.032980:  80%|#######################################2         | 16/20 [02:50<00:47, 11.85s/it]\u001b[32m[I 2021-11-30 15:39:08,189]\u001b[0m Trial 15 finished with value: 0.03343418227499406 and parameters: {'num_leaves': 3975}. Best is trial 11 with value: 0.03297995429547574.\u001b[0m\n"
     ]
    },
    {
     "name": "stdout",
     "output_type": "stream",
     "text": [
      "Trial 15 finished with value: 0.03343418227499406 and parameters: {'num_leaves': 3975}. Best is trial 11 with value: 0.03297995429547574.\n"
     ]
    },
    {
     "name": "stderr",
     "output_type": "stream",
     "text": [
      "num_leaves, val_score: 0.032980:  80%|#######################################2         | 16/20 [02:50<00:47, 11.85s/it]C:\\Users\\BenJames\\anaconda3\\envs\\geospatial\\lib\\site-packages\\lightgbm\\engine.py:151: UserWarning: Found `num_iterations` in params. Will use it instead of argument\n",
      "  warnings.warn(\"Found `{}` in params. Will use it instead of argument\".format(alias))\n",
      "C:\\Users\\BenJames\\anaconda3\\envs\\geospatial\\lib\\site-packages\\lightgbm\\engine.py:156: UserWarning: Found `early_stopping_round` in params. Will use it instead of argument\n",
      "  warnings.warn(\"Found `{}` in params. Will use it instead of argument\".format(alias))\n"
     ]
    },
    {
     "name": "stdout",
     "output_type": "stream",
     "text": [
      "Training until validation scores don't improve for 200 rounds\n",
      "[100]\tvalid_0's binary_logloss: 0.0180005\tvalid_1's binary_logloss: 0.0334342\n",
      "Did not meet early stopping. Best iteration is:\n",
      "[100]\tvalid_0's binary_logloss: 0.0180005\tvalid_1's binary_logloss: 0.0334342\n"
     ]
    },
    {
     "name": "stderr",
     "output_type": "stream",
     "text": [
      "num_leaves, val_score: 0.032980:  85%|#########################################6       | 17/20 [03:03<00:36, 12.07s/it]\u001b[32m[I 2021-11-30 15:39:20,817]\u001b[0m Trial 16 finished with value: 0.03343418227499406 and parameters: {'num_leaves': 2561}. Best is trial 11 with value: 0.03297995429547574.\u001b[0m\n"
     ]
    },
    {
     "name": "stdout",
     "output_type": "stream",
     "text": [
      "Trial 16 finished with value: 0.03343418227499406 and parameters: {'num_leaves': 2561}. Best is trial 11 with value: 0.03297995429547574.\n"
     ]
    },
    {
     "name": "stderr",
     "output_type": "stream",
     "text": [
      "num_leaves, val_score: 0.032980:  85%|#########################################6       | 17/20 [03:03<00:36, 12.07s/it]C:\\Users\\BenJames\\anaconda3\\envs\\geospatial\\lib\\site-packages\\lightgbm\\engine.py:151: UserWarning: Found `num_iterations` in params. Will use it instead of argument\n",
      "  warnings.warn(\"Found `{}` in params. Will use it instead of argument\".format(alias))\n",
      "C:\\Users\\BenJames\\anaconda3\\envs\\geospatial\\lib\\site-packages\\lightgbm\\engine.py:156: UserWarning: Found `early_stopping_round` in params. Will use it instead of argument\n",
      "  warnings.warn(\"Found `{}` in params. Will use it instead of argument\".format(alias))\n"
     ]
    },
    {
     "name": "stdout",
     "output_type": "stream",
     "text": [
      "Training until validation scores don't improve for 200 rounds\n"
     ]
    },
    {
     "name": "stderr",
     "output_type": "stream",
     "text": [
      "num_leaves, val_score: 0.032980:  90%|############################################1    | 18/20 [03:13<00:23, 11.51s/it]"
     ]
    },
    {
     "name": "stdout",
     "output_type": "stream",
     "text": [
      "[100]\tvalid_0's binary_logloss: 0.0174554\tvalid_1's binary_logloss: 0.0332914\n",
      "Did not meet early stopping. Best iteration is:\n",
      "[100]\tvalid_0's binary_logloss: 0.0174554\tvalid_1's binary_logloss: 0.0332914\n"
     ]
    },
    {
     "name": "stderr",
     "output_type": "stream",
     "text": [
      "\u001b[32m[I 2021-11-30 15:39:30,959]\u001b[0m Trial 17 finished with value: 0.03329135903810357 and parameters: {'num_leaves': 1024}. Best is trial 11 with value: 0.03297995429547574.\u001b[0m\n"
     ]
    },
    {
     "name": "stdout",
     "output_type": "stream",
     "text": [
      "Trial 17 finished with value: 0.03329135903810357 and parameters: {'num_leaves': 1024}. Best is trial 11 with value: 0.03297995429547574.\n"
     ]
    },
    {
     "name": "stderr",
     "output_type": "stream",
     "text": [
      "num_leaves, val_score: 0.032980:  90%|############################################1    | 18/20 [03:13<00:23, 11.51s/it]C:\\Users\\BenJames\\anaconda3\\envs\\geospatial\\lib\\site-packages\\lightgbm\\engine.py:151: UserWarning: Found `num_iterations` in params. Will use it instead of argument\n",
      "  warnings.warn(\"Found `{}` in params. Will use it instead of argument\".format(alias))\n",
      "C:\\Users\\BenJames\\anaconda3\\envs\\geospatial\\lib\\site-packages\\lightgbm\\engine.py:156: UserWarning: Found `early_stopping_round` in params. Will use it instead of argument\n",
      "  warnings.warn(\"Found `{}` in params. Will use it instead of argument\".format(alias))\n"
     ]
    },
    {
     "name": "stdout",
     "output_type": "stream",
     "text": [
      "Training until validation scores don't improve for 200 rounds\n"
     ]
    },
    {
     "name": "stderr",
     "output_type": "stream",
     "text": [
      "num_leaves, val_score: 0.032830:  90%|############################################1    | 18/20 [03:22<00:23, 11.51s/it]"
     ]
    },
    {
     "name": "stdout",
     "output_type": "stream",
     "text": [
      "[100]\tvalid_0's binary_logloss: 0.0174391\tvalid_1's binary_logloss: 0.0328301\n",
      "Did not meet early stopping. Best iteration is:\n",
      "[100]\tvalid_0's binary_logloss: 0.0174391\tvalid_1's binary_logloss: 0.0328301\n"
     ]
    },
    {
     "name": "stderr",
     "output_type": "stream",
     "text": [
      "num_leaves, val_score: 0.032830:  95%|##############################################5  | 19/20 [03:22<00:10, 10.84s/it]\u001b[32m[I 2021-11-30 15:39:40,232]\u001b[0m Trial 18 finished with value: 0.032830125107050634 and parameters: {'num_leaves': 826}. Best is trial 18 with value: 0.032830125107050634.\u001b[0m\n"
     ]
    },
    {
     "name": "stdout",
     "output_type": "stream",
     "text": [
      "Trial 18 finished with value: 0.032830125107050634 and parameters: {'num_leaves': 826}. Best is trial 18 with value: 0.032830125107050634.\n"
     ]
    },
    {
     "name": "stderr",
     "output_type": "stream",
     "text": [
      "num_leaves, val_score: 0.032830:  95%|##############################################5  | 19/20 [03:22<00:10, 10.84s/it]C:\\Users\\BenJames\\anaconda3\\envs\\geospatial\\lib\\site-packages\\lightgbm\\engine.py:151: UserWarning: Found `num_iterations` in params. Will use it instead of argument\n",
      "  warnings.warn(\"Found `{}` in params. Will use it instead of argument\".format(alias))\n",
      "C:\\Users\\BenJames\\anaconda3\\envs\\geospatial\\lib\\site-packages\\lightgbm\\engine.py:156: UserWarning: Found `early_stopping_round` in params. Will use it instead of argument\n",
      "  warnings.warn(\"Found `{}` in params. Will use it instead of argument\".format(alias))\n"
     ]
    },
    {
     "name": "stdout",
     "output_type": "stream",
     "text": [
      "Training until validation scores don't improve for 200 rounds\n"
     ]
    },
    {
     "name": "stderr",
     "output_type": "stream",
     "text": [
      "num_leaves, val_score: 0.032830: 100%|#################################################| 20/20 [03:31<00:00, 10.15s/it]"
     ]
    },
    {
     "name": "stdout",
     "output_type": "stream",
     "text": [
      "[100]\tvalid_0's binary_logloss: 0.0179918\tvalid_1's binary_logloss: 0.0335612\n",
      "Did not meet early stopping. Best iteration is:\n",
      "[100]\tvalid_0's binary_logloss: 0.0179918\tvalid_1's binary_logloss: 0.0335612\n"
     ]
    },
    {
     "name": "stderr",
     "output_type": "stream",
     "text": [
      "\u001b[32m[I 2021-11-30 15:39:48,801]\u001b[0m Trial 19 finished with value: 0.03356116563074832 and parameters: {'num_leaves': 705}. Best is trial 18 with value: 0.032830125107050634.\u001b[0m\n"
     ]
    },
    {
     "name": "stdout",
     "output_type": "stream",
     "text": [
      "Trial 19 finished with value: 0.03356116563074832 and parameters: {'num_leaves': 705}. Best is trial 18 with value: 0.032830125107050634.\n"
     ]
    },
    {
     "name": "stderr",
     "output_type": "stream",
     "text": [
      "num_leaves, val_score: 0.032830: 100%|#################################################| 20/20 [03:31<00:00, 10.57s/it]\n",
      "feature_fraction, val_score: 0.032830:   0%|                                                    | 0/20 [00:00<?, ?it/s]C:\\Users\\BenJames\\anaconda3\\envs\\geospatial\\lib\\site-packages\\lightgbm\\engine.py:151: UserWarning: Found `num_iterations` in params. Will use it instead of argument\n",
      "  warnings.warn(\"Found `{}` in params. Will use it instead of argument\".format(alias))\n",
      "C:\\Users\\BenJames\\anaconda3\\envs\\geospatial\\lib\\site-packages\\lightgbm\\engine.py:156: UserWarning: Found `early_stopping_round` in params. Will use it instead of argument\n",
      "  warnings.warn(\"Found `{}` in params. Will use it instead of argument\".format(alias))\n"
     ]
    },
    {
     "name": "stdout",
     "output_type": "stream",
     "text": [
      "\n",
      "Tuning feature fraction (1)\n",
      "Training until validation scores don't improve for 200 rounds\n"
     ]
    },
    {
     "name": "stderr",
     "output_type": "stream",
     "text": [
      "feature_fraction, val_score: 0.032692:   5%|##2                                         | 1/20 [00:12<03:52, 12.26s/it]"
     ]
    },
    {
     "name": "stdout",
     "output_type": "stream",
     "text": [
      "[100]\tvalid_0's binary_logloss: 0.0175348\tvalid_1's binary_logloss: 0.0326919\n",
      "Did not meet early stopping. Best iteration is:\n",
      "[100]\tvalid_0's binary_logloss: 0.0175348\tvalid_1's binary_logloss: 0.0326919\n"
     ]
    },
    {
     "name": "stderr",
     "output_type": "stream",
     "text": [
      "\u001b[32m[I 2021-11-30 15:40:01,402]\u001b[0m Trial 20 finished with value: 0.03269185943584694 and parameters: {'feature_fraction': 1.0}. Best is trial 20 with value: 0.03269185943584694.\u001b[0m\n"
     ]
    },
    {
     "name": "stdout",
     "output_type": "stream",
     "text": [
      "Trial 20 finished with value: 0.03269185943584694 and parameters: {'feature_fraction': 1.0}. Best is trial 20 with value: 0.03269185943584694.\n"
     ]
    },
    {
     "name": "stderr",
     "output_type": "stream",
     "text": [
      "feature_fraction, val_score: 0.032692:   5%|##2                                         | 1/20 [00:12<03:52, 12.26s/it]C:\\Users\\BenJames\\anaconda3\\envs\\geospatial\\lib\\site-packages\\lightgbm\\engine.py:151: UserWarning: Found `num_iterations` in params. Will use it instead of argument\n",
      "  warnings.warn(\"Found `{}` in params. Will use it instead of argument\".format(alias))\n",
      "C:\\Users\\BenJames\\anaconda3\\envs\\geospatial\\lib\\site-packages\\lightgbm\\engine.py:156: UserWarning: Found `early_stopping_round` in params. Will use it instead of argument\n",
      "  warnings.warn(\"Found `{}` in params. Will use it instead of argument\".format(alias))\n"
     ]
    },
    {
     "name": "stdout",
     "output_type": "stream",
     "text": [
      "Training until validation scores don't improve for 200 rounds\n"
     ]
    },
    {
     "name": "stderr",
     "output_type": "stream",
     "text": [
      "feature_fraction, val_score: 0.032692:  10%|####4                                       | 2/20 [00:22<03:29, 11.66s/it]"
     ]
    },
    {
     "name": "stdout",
     "output_type": "stream",
     "text": [
      "[100]\tvalid_0's binary_logloss: 0.0182149\tvalid_1's binary_logloss: 0.0334447\n",
      "Did not meet early stopping. Best iteration is:\n",
      "[100]\tvalid_0's binary_logloss: 0.0182149\tvalid_1's binary_logloss: 0.0334447\n"
     ]
    },
    {
     "name": "stderr",
     "output_type": "stream",
     "text": [
      "\u001b[32m[I 2021-11-30 15:40:11,667]\u001b[0m Trial 21 finished with value: 0.03344472749541564 and parameters: {'feature_fraction': 0.6210526315789474}. Best is trial 20 with value: 0.03269185943584694.\u001b[0m\n"
     ]
    },
    {
     "name": "stdout",
     "output_type": "stream",
     "text": [
      "Trial 21 finished with value: 0.03344472749541564 and parameters: {'feature_fraction': 0.6210526315789474}. Best is trial 20 with value: 0.03269185943584694.\n"
     ]
    },
    {
     "name": "stderr",
     "output_type": "stream",
     "text": [
      "feature_fraction, val_score: 0.032692:  10%|####4                                       | 2/20 [00:23<03:29, 11.66s/it]C:\\Users\\BenJames\\anaconda3\\envs\\geospatial\\lib\\site-packages\\lightgbm\\engine.py:151: UserWarning: Found `num_iterations` in params. Will use it instead of argument\n",
      "  warnings.warn(\"Found `{}` in params. Will use it instead of argument\".format(alias))\n",
      "C:\\Users\\BenJames\\anaconda3\\envs\\geospatial\\lib\\site-packages\\lightgbm\\engine.py:156: UserWarning: Found `early_stopping_round` in params. Will use it instead of argument\n",
      "  warnings.warn(\"Found `{}` in params. Will use it instead of argument\".format(alias))\n"
     ]
    },
    {
     "name": "stdout",
     "output_type": "stream",
     "text": [
      "Training until validation scores don't improve for 200 rounds\n"
     ]
    },
    {
     "name": "stderr",
     "output_type": "stream",
     "text": [
      "feature_fraction, val_score: 0.032203:  15%|######6                                     | 3/20 [00:35<03:24, 12.03s/it]"
     ]
    },
    {
     "name": "stdout",
     "output_type": "stream",
     "text": [
      "[100]\tvalid_0's binary_logloss: 0.0170863\tvalid_1's binary_logloss: 0.0322031\n",
      "Did not meet early stopping. Best iteration is:\n",
      "[100]\tvalid_0's binary_logloss: 0.0170863\tvalid_1's binary_logloss: 0.0322031\n"
     ]
    },
    {
     "name": "stderr",
     "output_type": "stream",
     "text": [
      "\u001b[32m[I 2021-11-30 15:40:24,615]\u001b[0m Trial 22 finished with value: 0.0322030607797253 and parameters: {'feature_fraction': 0.8736842105263158}. Best is trial 22 with value: 0.0322030607797253.\u001b[0m\n"
     ]
    },
    {
     "name": "stdout",
     "output_type": "stream",
     "text": [
      "Trial 22 finished with value: 0.0322030607797253 and parameters: {'feature_fraction': 0.8736842105263158}. Best is trial 22 with value: 0.0322030607797253.\n"
     ]
    },
    {
     "name": "stderr",
     "output_type": "stream",
     "text": [
      "feature_fraction, val_score: 0.032203:  15%|######6                                     | 3/20 [00:35<03:24, 12.03s/it]C:\\Users\\BenJames\\anaconda3\\envs\\geospatial\\lib\\site-packages\\lightgbm\\engine.py:151: UserWarning: Found `num_iterations` in params. Will use it instead of argument\n",
      "  warnings.warn(\"Found `{}` in params. Will use it instead of argument\".format(alias))\n",
      "C:\\Users\\BenJames\\anaconda3\\envs\\geospatial\\lib\\site-packages\\lightgbm\\engine.py:156: UserWarning: Found `early_stopping_round` in params. Will use it instead of argument\n",
      "  warnings.warn(\"Found `{}` in params. Will use it instead of argument\".format(alias))\n"
     ]
    },
    {
     "name": "stdout",
     "output_type": "stream",
     "text": [
      "Training until validation scores don't improve for 200 rounds\n"
     ]
    },
    {
     "name": "stderr",
     "output_type": "stream",
     "text": [
      "feature_fraction, val_score: 0.032112:  20%|########8                                   | 4/20 [00:48<03:16, 12.25s/it]"
     ]
    },
    {
     "name": "stdout",
     "output_type": "stream",
     "text": [
      "[100]\tvalid_0's binary_logloss: 0.0166155\tvalid_1's binary_logloss: 0.0321117\n",
      "Did not meet early stopping. Best iteration is:\n",
      "[100]\tvalid_0's binary_logloss: 0.0166155\tvalid_1's binary_logloss: 0.0321117\n"
     ]
    },
    {
     "name": "stderr",
     "output_type": "stream",
     "text": [
      "\u001b[32m[I 2021-11-30 15:40:37,320]\u001b[0m Trial 23 finished with value: 0.032111709557474374 and parameters: {'feature_fraction': 0.9052631578947369}. Best is trial 23 with value: 0.032111709557474374.\u001b[0m\n"
     ]
    },
    {
     "name": "stdout",
     "output_type": "stream",
     "text": [
      "Trial 23 finished with value: 0.032111709557474374 and parameters: {'feature_fraction': 0.9052631578947369}. Best is trial 23 with value: 0.032111709557474374.\n"
     ]
    },
    {
     "name": "stderr",
     "output_type": "stream",
     "text": [
      "feature_fraction, val_score: 0.032112:  20%|########8                                   | 4/20 [00:48<03:16, 12.25s/it]C:\\Users\\BenJames\\anaconda3\\envs\\geospatial\\lib\\site-packages\\lightgbm\\engine.py:151: UserWarning: Found `num_iterations` in params. Will use it instead of argument\n",
      "  warnings.warn(\"Found `{}` in params. Will use it instead of argument\".format(alias))\n",
      "C:\\Users\\BenJames\\anaconda3\\envs\\geospatial\\lib\\site-packages\\lightgbm\\engine.py:156: UserWarning: Found `early_stopping_round` in params. Will use it instead of argument\n",
      "  warnings.warn(\"Found `{}` in params. Will use it instead of argument\".format(alias))\n"
     ]
    },
    {
     "name": "stdout",
     "output_type": "stream",
     "text": [
      "Training until validation scores don't improve for 200 rounds\n"
     ]
    },
    {
     "name": "stderr",
     "output_type": "stream",
     "text": [
      "feature_fraction, val_score: 0.032112:  25%|###########                                 | 5/20 [00:59<03:00, 12.01s/it]"
     ]
    },
    {
     "name": "stdout",
     "output_type": "stream",
     "text": [
      "[100]\tvalid_0's binary_logloss: 0.0185919\tvalid_1's binary_logloss: 0.0333575\n",
      "Did not meet early stopping. Best iteration is:\n",
      "[100]\tvalid_0's binary_logloss: 0.0185919\tvalid_1's binary_logloss: 0.0333575\n"
     ]
    },
    {
     "name": "stderr",
     "output_type": "stream",
     "text": [
      "\u001b[32m[I 2021-11-30 15:40:48,788]\u001b[0m Trial 24 finished with value: 0.033357462088046394 and parameters: {'feature_fraction': 0.7157894736842105}. Best is trial 23 with value: 0.032111709557474374.\u001b[0m\n"
     ]
    },
    {
     "name": "stdout",
     "output_type": "stream",
     "text": [
      "Trial 24 finished with value: 0.033357462088046394 and parameters: {'feature_fraction': 0.7157894736842105}. Best is trial 23 with value: 0.032111709557474374.\n"
     ]
    },
    {
     "name": "stderr",
     "output_type": "stream",
     "text": [
      "feature_fraction, val_score: 0.032112:  25%|###########                                 | 5/20 [01:00<03:00, 12.01s/it]C:\\Users\\BenJames\\anaconda3\\envs\\geospatial\\lib\\site-packages\\lightgbm\\engine.py:151: UserWarning: Found `num_iterations` in params. Will use it instead of argument\n",
      "  warnings.warn(\"Found `{}` in params. Will use it instead of argument\".format(alias))\n",
      "C:\\Users\\BenJames\\anaconda3\\envs\\geospatial\\lib\\site-packages\\lightgbm\\engine.py:156: UserWarning: Found `early_stopping_round` in params. Will use it instead of argument\n",
      "  warnings.warn(\"Found `{}` in params. Will use it instead of argument\".format(alias))\n"
     ]
    },
    {
     "name": "stdout",
     "output_type": "stream",
     "text": [
      "Training until validation scores don't improve for 200 rounds\n"
     ]
    },
    {
     "name": "stderr",
     "output_type": "stream",
     "text": [
      "feature_fraction, val_score: 0.032112:  25%|###########                                 | 5/20 [01:09<03:00, 12.01s/it]"
     ]
    },
    {
     "name": "stdout",
     "output_type": "stream",
     "text": [
      "[100]\tvalid_0's binary_logloss: 0.0174391\tvalid_1's binary_logloss: 0.0328301\n",
      "Did not meet early stopping. Best iteration is:\n",
      "[100]\tvalid_0's binary_logloss: 0.0174391\tvalid_1's binary_logloss: 0.0328301\n"
     ]
    },
    {
     "name": "stderr",
     "output_type": "stream",
     "text": [
      "feature_fraction, val_score: 0.032112:  30%|#############2                              | 6/20 [01:09<02:37, 11.24s/it]\u001b[32m[I 2021-11-30 15:40:58,228]\u001b[0m Trial 25 finished with value: 0.032830125107050634 and parameters: {'feature_fraction': 0.4947368421052632}. Best is trial 23 with value: 0.032111709557474374.\u001b[0m\n"
     ]
    },
    {
     "name": "stdout",
     "output_type": "stream",
     "text": [
      "Trial 25 finished with value: 0.032830125107050634 and parameters: {'feature_fraction': 0.4947368421052632}. Best is trial 23 with value: 0.032111709557474374.\n"
     ]
    },
    {
     "name": "stderr",
     "output_type": "stream",
     "text": [
      "feature_fraction, val_score: 0.032112:  30%|#############2                              | 6/20 [01:09<02:37, 11.24s/it]C:\\Users\\BenJames\\anaconda3\\envs\\geospatial\\lib\\site-packages\\lightgbm\\engine.py:151: UserWarning: Found `num_iterations` in params. Will use it instead of argument\n",
      "  warnings.warn(\"Found `{}` in params. Will use it instead of argument\".format(alias))\n",
      "C:\\Users\\BenJames\\anaconda3\\envs\\geospatial\\lib\\site-packages\\lightgbm\\engine.py:156: UserWarning: Found `early_stopping_round` in params. Will use it instead of argument\n",
      "  warnings.warn(\"Found `{}` in params. Will use it instead of argument\".format(alias))\n"
     ]
    },
    {
     "name": "stdout",
     "output_type": "stream",
     "text": [
      "Training until validation scores don't improve for 200 rounds\n"
     ]
    },
    {
     "name": "stderr",
     "output_type": "stream",
     "text": [
      "feature_fraction, val_score: 0.031670:  35%|###############4                            | 7/20 [01:22<02:32, 11.77s/it]"
     ]
    },
    {
     "name": "stdout",
     "output_type": "stream",
     "text": [
      "[100]\tvalid_0's binary_logloss: 0.0161905\tvalid_1's binary_logloss: 0.0316702\n",
      "Did not meet early stopping. Best iteration is:\n",
      "[100]\tvalid_0's binary_logloss: 0.0161905\tvalid_1's binary_logloss: 0.0316702\n"
     ]
    },
    {
     "name": "stderr",
     "output_type": "stream",
     "text": [
      "\u001b[32m[I 2021-11-30 15:41:11,217]\u001b[0m Trial 26 finished with value: 0.03167018105596415 and parameters: {'feature_fraction': 0.968421052631579}. Best is trial 26 with value: 0.03167018105596415.\u001b[0m\n"
     ]
    },
    {
     "name": "stdout",
     "output_type": "stream",
     "text": [
      "Trial 26 finished with value: 0.03167018105596415 and parameters: {'feature_fraction': 0.968421052631579}. Best is trial 26 with value: 0.03167018105596415.\n"
     ]
    },
    {
     "name": "stderr",
     "output_type": "stream",
     "text": [
      "feature_fraction, val_score: 0.031670:  35%|###############4                            | 7/20 [01:22<02:32, 11.77s/it]C:\\Users\\BenJames\\anaconda3\\envs\\geospatial\\lib\\site-packages\\lightgbm\\engine.py:151: UserWarning: Found `num_iterations` in params. Will use it instead of argument\n",
      "  warnings.warn(\"Found `{}` in params. Will use it instead of argument\".format(alias))\n",
      "C:\\Users\\BenJames\\anaconda3\\envs\\geospatial\\lib\\site-packages\\lightgbm\\engine.py:156: UserWarning: Found `early_stopping_round` in params. Will use it instead of argument\n",
      "  warnings.warn(\"Found `{}` in params. Will use it instead of argument\".format(alias))\n"
     ]
    },
    {
     "name": "stdout",
     "output_type": "stream",
     "text": [
      "Training until validation scores don't improve for 200 rounds\n"
     ]
    },
    {
     "name": "stderr",
     "output_type": "stream",
     "text": [
      "feature_fraction, val_score: 0.031670:  40%|#################6                          | 8/20 [01:30<02:10, 10.89s/it]"
     ]
    },
    {
     "name": "stdout",
     "output_type": "stream",
     "text": [
      "[100]\tvalid_0's binary_logloss: 0.0171458\tvalid_1's binary_logloss: 0.0332376\n",
      "Did not meet early stopping. Best iteration is:\n",
      "[100]\tvalid_0's binary_logloss: 0.0171458\tvalid_1's binary_logloss: 0.0332376\n"
     ]
    },
    {
     "name": "stderr",
     "output_type": "stream",
     "text": [
      "\u001b[32m[I 2021-11-30 15:41:20,129]\u001b[0m Trial 27 finished with value: 0.03323759905377216 and parameters: {'feature_fraction': 0.4631578947368421}. Best is trial 26 with value: 0.03167018105596415.\u001b[0m\n"
     ]
    },
    {
     "name": "stdout",
     "output_type": "stream",
     "text": [
      "Trial 27 finished with value: 0.03323759905377216 and parameters: {'feature_fraction': 0.4631578947368421}. Best is trial 26 with value: 0.03167018105596415.\n"
     ]
    },
    {
     "name": "stderr",
     "output_type": "stream",
     "text": [
      "feature_fraction, val_score: 0.031670:  40%|#################6                          | 8/20 [01:31<02:10, 10.89s/it]C:\\Users\\BenJames\\anaconda3\\envs\\geospatial\\lib\\site-packages\\lightgbm\\engine.py:151: UserWarning: Found `num_iterations` in params. Will use it instead of argument\n",
      "  warnings.warn(\"Found `{}` in params. Will use it instead of argument\".format(alias))\n",
      "C:\\Users\\BenJames\\anaconda3\\envs\\geospatial\\lib\\site-packages\\lightgbm\\engine.py:156: UserWarning: Found `early_stopping_round` in params. Will use it instead of argument\n",
      "  warnings.warn(\"Found `{}` in params. Will use it instead of argument\".format(alias))\n"
     ]
    },
    {
     "name": "stdout",
     "output_type": "stream",
     "text": [
      "Training until validation scores don't improve for 200 rounds\n"
     ]
    },
    {
     "name": "stderr",
     "output_type": "stream",
     "text": [
      "feature_fraction, val_score: 0.031670:  40%|#################6                          | 8/20 [01:39<02:10, 10.89s/it]"
     ]
    },
    {
     "name": "stdout",
     "output_type": "stream",
     "text": [
      "[100]\tvalid_0's binary_logloss: 0.0176326\tvalid_1's binary_logloss: 0.0336382\n",
      "Did not meet early stopping. Best iteration is:\n",
      "[100]\tvalid_0's binary_logloss: 0.0176326\tvalid_1's binary_logloss: 0.0336382\n"
     ]
    },
    {
     "name": "stderr",
     "output_type": "stream",
     "text": [
      "feature_fraction, val_score: 0.031670:  45%|###################8                        | 9/20 [01:39<01:52, 10.24s/it]\u001b[32m[I 2021-11-30 15:41:28,773]\u001b[0m Trial 28 finished with value: 0.03363818632695338 and parameters: {'feature_fraction': 0.4}. Best is trial 26 with value: 0.03167018105596415.\u001b[0m\n"
     ]
    },
    {
     "name": "stdout",
     "output_type": "stream",
     "text": [
      "Trial 28 finished with value: 0.03363818632695338 and parameters: {'feature_fraction': 0.4}. Best is trial 26 with value: 0.03167018105596415.\n"
     ]
    },
    {
     "name": "stderr",
     "output_type": "stream",
     "text": [
      "feature_fraction, val_score: 0.031670:  45%|###################8                        | 9/20 [01:40<01:52, 10.24s/it]C:\\Users\\BenJames\\anaconda3\\envs\\geospatial\\lib\\site-packages\\lightgbm\\engine.py:151: UserWarning: Found `num_iterations` in params. Will use it instead of argument\n",
      "  warnings.warn(\"Found `{}` in params. Will use it instead of argument\".format(alias))\n",
      "C:\\Users\\BenJames\\anaconda3\\envs\\geospatial\\lib\\site-packages\\lightgbm\\engine.py:156: UserWarning: Found `early_stopping_round` in params. Will use it instead of argument\n",
      "  warnings.warn(\"Found `{}` in params. Will use it instead of argument\".format(alias))\n"
     ]
    },
    {
     "name": "stdout",
     "output_type": "stream",
     "text": [
      "Training until validation scores don't improve for 200 rounds\n"
     ]
    },
    {
     "name": "stderr",
     "output_type": "stream",
     "text": [
      "feature_fraction, val_score: 0.031670:  50%|#####################5                     | 10/20 [01:50<01:44, 10.47s/it]"
     ]
    },
    {
     "name": "stdout",
     "output_type": "stream",
     "text": [
      "[100]\tvalid_0's binary_logloss: 0.0184641\tvalid_1's binary_logloss: 0.0332655\n",
      "Did not meet early stopping. Best iteration is:\n",
      "[100]\tvalid_0's binary_logloss: 0.0184641\tvalid_1's binary_logloss: 0.0332655\n"
     ]
    },
    {
     "name": "stderr",
     "output_type": "stream",
     "text": [
      "\u001b[32m[I 2021-11-30 15:41:39,812]\u001b[0m Trial 29 finished with value: 0.03326554837382152 and parameters: {'feature_fraction': 0.6842105263157895}. Best is trial 26 with value: 0.03167018105596415.\u001b[0m\n"
     ]
    },
    {
     "name": "stdout",
     "output_type": "stream",
     "text": [
      "Trial 29 finished with value: 0.03326554837382152 and parameters: {'feature_fraction': 0.6842105263157895}. Best is trial 26 with value: 0.03167018105596415.\n"
     ]
    },
    {
     "name": "stderr",
     "output_type": "stream",
     "text": [
      "feature_fraction, val_score: 0.031670:  50%|#####################5                     | 10/20 [01:51<01:44, 10.47s/it]C:\\Users\\BenJames\\anaconda3\\envs\\geospatial\\lib\\site-packages\\lightgbm\\engine.py:151: UserWarning: Found `num_iterations` in params. Will use it instead of argument\n",
      "  warnings.warn(\"Found `{}` in params. Will use it instead of argument\".format(alias))\n",
      "C:\\Users\\BenJames\\anaconda3\\envs\\geospatial\\lib\\site-packages\\lightgbm\\engine.py:156: UserWarning: Found `early_stopping_round` in params. Will use it instead of argument\n",
      "  warnings.warn(\"Found `{}` in params. Will use it instead of argument\".format(alias))\n"
     ]
    },
    {
     "name": "stdout",
     "output_type": "stream",
     "text": [
      "Training until validation scores don't improve for 200 rounds\n"
     ]
    },
    {
     "name": "stderr",
     "output_type": "stream",
     "text": [
      "feature_fraction, val_score: 0.031670:  55%|#######################6                   | 11/20 [02:01<01:35, 10.59s/it]"
     ]
    },
    {
     "name": "stdout",
     "output_type": "stream",
     "text": [
      "[100]\tvalid_0's binary_logloss: 0.017704\tvalid_1's binary_logloss: 0.0329299\n",
      "Did not meet early stopping. Best iteration is:\n",
      "[100]\tvalid_0's binary_logloss: 0.017704\tvalid_1's binary_logloss: 0.0329299\n"
     ]
    },
    {
     "name": "stderr",
     "output_type": "stream",
     "text": [
      "\u001b[32m[I 2021-11-30 15:41:50,686]\u001b[0m Trial 30 finished with value: 0.03292985257891062 and parameters: {'feature_fraction': 0.6526315789473685}. Best is trial 26 with value: 0.03167018105596415.\u001b[0m\n"
     ]
    },
    {
     "name": "stdout",
     "output_type": "stream",
     "text": [
      "Trial 30 finished with value: 0.03292985257891062 and parameters: {'feature_fraction': 0.6526315789473685}. Best is trial 26 with value: 0.03167018105596415.\n"
     ]
    },
    {
     "name": "stderr",
     "output_type": "stream",
     "text": [
      "feature_fraction, val_score: 0.031670:  55%|#######################6                   | 11/20 [02:01<01:35, 10.59s/it]C:\\Users\\BenJames\\anaconda3\\envs\\geospatial\\lib\\site-packages\\lightgbm\\engine.py:151: UserWarning: Found `num_iterations` in params. Will use it instead of argument\n",
      "  warnings.warn(\"Found `{}` in params. Will use it instead of argument\".format(alias))\n",
      "C:\\Users\\BenJames\\anaconda3\\envs\\geospatial\\lib\\site-packages\\lightgbm\\engine.py:156: UserWarning: Found `early_stopping_round` in params. Will use it instead of argument\n",
      "  warnings.warn(\"Found `{}` in params. Will use it instead of argument\".format(alias))\n"
     ]
    },
    {
     "name": "stdout",
     "output_type": "stream",
     "text": [
      "Training until validation scores don't improve for 200 rounds\n"
     ]
    },
    {
     "name": "stderr",
     "output_type": "stream",
     "text": [
      "feature_fraction, val_score: 0.031670:  60%|#########################8                 | 12/20 [02:13<01:28, 11.04s/it]"
     ]
    },
    {
     "name": "stdout",
     "output_type": "stream",
     "text": [
      "[100]\tvalid_0's binary_logloss: 0.0185298\tvalid_1's binary_logloss: 0.0331059\n",
      "Did not meet early stopping. Best iteration is:\n",
      "[100]\tvalid_0's binary_logloss: 0.0185298\tvalid_1's binary_logloss: 0.0331059\n"
     ]
    },
    {
     "name": "stderr",
     "output_type": "stream",
     "text": [
      "\u001b[32m[I 2021-11-30 15:42:02,754]\u001b[0m Trial 31 finished with value: 0.03310594600413056 and parameters: {'feature_fraction': 0.7789473684210526}. Best is trial 26 with value: 0.03167018105596415.\u001b[0m\n"
     ]
    },
    {
     "name": "stdout",
     "output_type": "stream",
     "text": [
      "Trial 31 finished with value: 0.03310594600413056 and parameters: {'feature_fraction': 0.7789473684210526}. Best is trial 26 with value: 0.03167018105596415.\n"
     ]
    },
    {
     "name": "stderr",
     "output_type": "stream",
     "text": [
      "feature_fraction, val_score: 0.031670:  60%|#########################8                 | 12/20 [02:13<01:28, 11.04s/it]C:\\Users\\BenJames\\anaconda3\\envs\\geospatial\\lib\\site-packages\\lightgbm\\engine.py:151: UserWarning: Found `num_iterations` in params. Will use it instead of argument\n",
      "  warnings.warn(\"Found `{}` in params. Will use it instead of argument\".format(alias))\n",
      "C:\\Users\\BenJames\\anaconda3\\envs\\geospatial\\lib\\site-packages\\lightgbm\\engine.py:156: UserWarning: Found `early_stopping_round` in params. Will use it instead of argument\n",
      "  warnings.warn(\"Found `{}` in params. Will use it instead of argument\".format(alias))\n"
     ]
    },
    {
     "name": "stdout",
     "output_type": "stream",
     "text": [
      "Training until validation scores don't improve for 200 rounds\n"
     ]
    },
    {
     "name": "stderr",
     "output_type": "stream",
     "text": [
      "feature_fraction, val_score: 0.031670:  65%|###########################9               | 13/20 [02:23<01:14, 10.59s/it]"
     ]
    },
    {
     "name": "stdout",
     "output_type": "stream",
     "text": [
      "[100]\tvalid_0's binary_logloss: 0.0181417\tvalid_1's binary_logloss: 0.0335461\n",
      "Did not meet early stopping. Best iteration is:\n",
      "[100]\tvalid_0's binary_logloss: 0.0181417\tvalid_1's binary_logloss: 0.0335461\n"
     ]
    },
    {
     "name": "stderr",
     "output_type": "stream",
     "text": [
      "\u001b[32m[I 2021-11-30 15:42:12,288]\u001b[0m Trial 32 finished with value: 0.03354609325200679 and parameters: {'feature_fraction': 0.5263157894736843}. Best is trial 26 with value: 0.03167018105596415.\u001b[0m\n"
     ]
    },
    {
     "name": "stdout",
     "output_type": "stream",
     "text": [
      "Trial 32 finished with value: 0.03354609325200679 and parameters: {'feature_fraction': 0.5263157894736843}. Best is trial 26 with value: 0.03167018105596415.\n"
     ]
    },
    {
     "name": "stderr",
     "output_type": "stream",
     "text": [
      "feature_fraction, val_score: 0.031670:  65%|###########################9               | 13/20 [02:23<01:14, 10.59s/it]C:\\Users\\BenJames\\anaconda3\\envs\\geospatial\\lib\\site-packages\\lightgbm\\engine.py:151: UserWarning: Found `num_iterations` in params. Will use it instead of argument\n",
      "  warnings.warn(\"Found `{}` in params. Will use it instead of argument\".format(alias))\n",
      "C:\\Users\\BenJames\\anaconda3\\envs\\geospatial\\lib\\site-packages\\lightgbm\\engine.py:156: UserWarning: Found `early_stopping_round` in params. Will use it instead of argument\n",
      "  warnings.warn(\"Found `{}` in params. Will use it instead of argument\".format(alias))\n"
     ]
    },
    {
     "name": "stdout",
     "output_type": "stream",
     "text": [
      "Training until validation scores don't improve for 200 rounds\n"
     ]
    },
    {
     "name": "stderr",
     "output_type": "stream",
     "text": [
      "feature_fraction, val_score: 0.031670:  70%|##############################1            | 14/20 [02:33<01:02, 10.37s/it]"
     ]
    },
    {
     "name": "stdout",
     "output_type": "stream",
     "text": [
      "[100]\tvalid_0's binary_logloss: 0.0180378\tvalid_1's binary_logloss: 0.0336217\n",
      "Did not meet early stopping. Best iteration is:\n",
      "[100]\tvalid_0's binary_logloss: 0.0180378\tvalid_1's binary_logloss: 0.0336217\n"
     ]
    },
    {
     "name": "stderr",
     "output_type": "stream",
     "text": [
      "\u001b[32m[I 2021-11-30 15:42:22,166]\u001b[0m Trial 33 finished with value: 0.03362174726903609 and parameters: {'feature_fraction': 0.5578947368421052}. Best is trial 26 with value: 0.03167018105596415.\u001b[0m\n"
     ]
    },
    {
     "name": "stdout",
     "output_type": "stream",
     "text": [
      "Trial 33 finished with value: 0.03362174726903609 and parameters: {'feature_fraction': 0.5578947368421052}. Best is trial 26 with value: 0.03167018105596415.\n"
     ]
    },
    {
     "name": "stderr",
     "output_type": "stream",
     "text": [
      "feature_fraction, val_score: 0.031670:  70%|##############################1            | 14/20 [02:33<01:02, 10.37s/it]C:\\Users\\BenJames\\anaconda3\\envs\\geospatial\\lib\\site-packages\\lightgbm\\engine.py:151: UserWarning: Found `num_iterations` in params. Will use it instead of argument\n",
      "  warnings.warn(\"Found `{}` in params. Will use it instead of argument\".format(alias))\n",
      "C:\\Users\\BenJames\\anaconda3\\envs\\geospatial\\lib\\site-packages\\lightgbm\\engine.py:156: UserWarning: Found `early_stopping_round` in params. Will use it instead of argument\n",
      "  warnings.warn(\"Found `{}` in params. Will use it instead of argument\".format(alias))\n"
     ]
    },
    {
     "name": "stdout",
     "output_type": "stream",
     "text": [
      "Training until validation scores don't improve for 200 rounds\n"
     ]
    },
    {
     "name": "stderr",
     "output_type": "stream",
     "text": [
      "feature_fraction, val_score: 0.031670:  75%|################################2          | 15/20 [02:44<00:53, 10.66s/it]"
     ]
    },
    {
     "name": "stdout",
     "output_type": "stream",
     "text": [
      "[100]\tvalid_0's binary_logloss: 0.017793\tvalid_1's binary_logloss: 0.0327478\n",
      "Did not meet early stopping. Best iteration is:\n",
      "[100]\tvalid_0's binary_logloss: 0.017793\tvalid_1's binary_logloss: 0.0327478\n"
     ]
    },
    {
     "name": "stderr",
     "output_type": "stream",
     "text": [
      "\u001b[32m[I 2021-11-30 15:42:33,473]\u001b[0m Trial 34 finished with value: 0.03274777375792721 and parameters: {'feature_fraction': 0.7473684210526317}. Best is trial 26 with value: 0.03167018105596415.\u001b[0m\n"
     ]
    },
    {
     "name": "stdout",
     "output_type": "stream",
     "text": [
      "Trial 34 finished with value: 0.03274777375792721 and parameters: {'feature_fraction': 0.7473684210526317}. Best is trial 26 with value: 0.03167018105596415.\n"
     ]
    },
    {
     "name": "stderr",
     "output_type": "stream",
     "text": [
      "feature_fraction, val_score: 0.031670:  75%|################################2          | 15/20 [02:44<00:53, 10.66s/it]C:\\Users\\BenJames\\anaconda3\\envs\\geospatial\\lib\\site-packages\\lightgbm\\engine.py:151: UserWarning: Found `num_iterations` in params. Will use it instead of argument\n",
      "  warnings.warn(\"Found `{}` in params. Will use it instead of argument\".format(alias))\n",
      "C:\\Users\\BenJames\\anaconda3\\envs\\geospatial\\lib\\site-packages\\lightgbm\\engine.py:156: UserWarning: Found `early_stopping_round` in params. Will use it instead of argument\n",
      "  warnings.warn(\"Found `{}` in params. Will use it instead of argument\".format(alias))\n"
     ]
    },
    {
     "name": "stdout",
     "output_type": "stream",
     "text": [
      "Training until validation scores don't improve for 200 rounds\n"
     ]
    },
    {
     "name": "stderr",
     "output_type": "stream",
     "text": [
      "feature_fraction, val_score: 0.031670:  75%|################################2          | 15/20 [02:57<00:53, 10.66s/it]"
     ]
    },
    {
     "name": "stdout",
     "output_type": "stream",
     "text": [
      "[100]\tvalid_0's binary_logloss: 0.0170856\tvalid_1's binary_logloss: 0.0322155\n",
      "Did not meet early stopping. Best iteration is:\n",
      "[100]\tvalid_0's binary_logloss: 0.0170856\tvalid_1's binary_logloss: 0.0322155\n"
     ]
    },
    {
     "name": "stderr",
     "output_type": "stream",
     "text": [
      "feature_fraction, val_score: 0.031670:  80%|##################################4        | 16/20 [02:57<00:45, 11.41s/it]\u001b[32m[I 2021-11-30 15:42:46,660]\u001b[0m Trial 35 finished with value: 0.032215457346582495 and parameters: {'feature_fraction': 0.9368421052631579}. Best is trial 26 with value: 0.03167018105596415.\u001b[0m\n"
     ]
    },
    {
     "name": "stdout",
     "output_type": "stream",
     "text": [
      "Trial 35 finished with value: 0.032215457346582495 and parameters: {'feature_fraction': 0.9368421052631579}. Best is trial 26 with value: 0.03167018105596415.\n"
     ]
    },
    {
     "name": "stderr",
     "output_type": "stream",
     "text": [
      "feature_fraction, val_score: 0.031670:  80%|##################################4        | 16/20 [02:57<00:45, 11.41s/it]C:\\Users\\BenJames\\anaconda3\\envs\\geospatial\\lib\\site-packages\\lightgbm\\engine.py:151: UserWarning: Found `num_iterations` in params. Will use it instead of argument\n",
      "  warnings.warn(\"Found `{}` in params. Will use it instead of argument\".format(alias))\n",
      "C:\\Users\\BenJames\\anaconda3\\envs\\geospatial\\lib\\site-packages\\lightgbm\\engine.py:156: UserWarning: Found `early_stopping_round` in params. Will use it instead of argument\n",
      "  warnings.warn(\"Found `{}` in params. Will use it instead of argument\".format(alias))\n"
     ]
    },
    {
     "name": "stdout",
     "output_type": "stream",
     "text": [
      "Training until validation scores don't improve for 200 rounds\n"
     ]
    },
    {
     "name": "stderr",
     "output_type": "stream",
     "text": [
      "feature_fraction, val_score: 0.031670:  85%|####################################5      | 17/20 [03:10<00:35, 11.77s/it]"
     ]
    },
    {
     "name": "stdout",
     "output_type": "stream",
     "text": [
      "[100]\tvalid_0's binary_logloss: 0.0172451\tvalid_1's binary_logloss: 0.0322903\n",
      "Did not meet early stopping. Best iteration is:\n",
      "[100]\tvalid_0's binary_logloss: 0.0172451\tvalid_1's binary_logloss: 0.0322903\n"
     ]
    },
    {
     "name": "stderr",
     "output_type": "stream",
     "text": [
      "\u001b[32m[I 2021-11-30 15:42:59,273]\u001b[0m Trial 36 finished with value: 0.03229029821108989 and parameters: {'feature_fraction': 0.8421052631578948}. Best is trial 26 with value: 0.03167018105596415.\u001b[0m\n"
     ]
    },
    {
     "name": "stdout",
     "output_type": "stream",
     "text": [
      "Trial 36 finished with value: 0.03229029821108989 and parameters: {'feature_fraction': 0.8421052631578948}. Best is trial 26 with value: 0.03167018105596415.\n"
     ]
    },
    {
     "name": "stderr",
     "output_type": "stream",
     "text": [
      "feature_fraction, val_score: 0.031670:  85%|####################################5      | 17/20 [03:10<00:35, 11.77s/it]C:\\Users\\BenJames\\anaconda3\\envs\\geospatial\\lib\\site-packages\\lightgbm\\engine.py:151: UserWarning: Found `num_iterations` in params. Will use it instead of argument\n",
      "  warnings.warn(\"Found `{}` in params. Will use it instead of argument\".format(alias))\n",
      "C:\\Users\\BenJames\\anaconda3\\envs\\geospatial\\lib\\site-packages\\lightgbm\\engine.py:156: UserWarning: Found `early_stopping_round` in params. Will use it instead of argument\n",
      "  warnings.warn(\"Found `{}` in params. Will use it instead of argument\".format(alias))\n"
     ]
    },
    {
     "name": "stdout",
     "output_type": "stream",
     "text": [
      "Training until validation scores don't improve for 200 rounds\n"
     ]
    },
    {
     "name": "stderr",
     "output_type": "stream",
     "text": [
      "feature_fraction, val_score: 0.031670:  90%|######################################7    | 18/20 [03:20<00:22, 11.24s/it]\u001b[32m[I 2021-11-30 15:43:09,269]\u001b[0m Trial 37 finished with value: 0.0333722066543642 and parameters: {'feature_fraction': 0.5894736842105264}. Best is trial 26 with value: 0.03167018105596415.\u001b[0m\n"
     ]
    },
    {
     "name": "stdout",
     "output_type": "stream",
     "text": [
      "[100]\tvalid_0's binary_logloss: 0.0183213\tvalid_1's binary_logloss: 0.0333722\n",
      "Did not meet early stopping. Best iteration is:\n",
      "[100]\tvalid_0's binary_logloss: 0.0183213\tvalid_1's binary_logloss: 0.0333722\n",
      "Trial 37 finished with value: 0.0333722066543642 and parameters: {'feature_fraction': 0.5894736842105264}. Best is trial 26 with value: 0.03167018105596415.\n"
     ]
    },
    {
     "name": "stderr",
     "output_type": "stream",
     "text": [
      "feature_fraction, val_score: 0.031670:  90%|######################################7    | 18/20 [03:20<00:22, 11.24s/it]C:\\Users\\BenJames\\anaconda3\\envs\\geospatial\\lib\\site-packages\\lightgbm\\engine.py:151: UserWarning: Found `num_iterations` in params. Will use it instead of argument\n",
      "  warnings.warn(\"Found `{}` in params. Will use it instead of argument\".format(alias))\n",
      "C:\\Users\\BenJames\\anaconda3\\envs\\geospatial\\lib\\site-packages\\lightgbm\\engine.py:156: UserWarning: Found `early_stopping_round` in params. Will use it instead of argument\n",
      "  warnings.warn(\"Found `{}` in params. Will use it instead of argument\".format(alias))\n"
     ]
    },
    {
     "name": "stdout",
     "output_type": "stream",
     "text": [
      "Training until validation scores don't improve for 200 rounds\n"
     ]
    },
    {
     "name": "stderr",
     "output_type": "stream",
     "text": [
      "feature_fraction, val_score: 0.031670:  95%|########################################8  | 19/20 [03:32<00:11, 11.57s/it]"
     ]
    },
    {
     "name": "stdout",
     "output_type": "stream",
     "text": [
      "[100]\tvalid_0's binary_logloss: 0.0169252\tvalid_1's binary_logloss: 0.0322955\n",
      "Did not meet early stopping. Best iteration is:\n",
      "[100]\tvalid_0's binary_logloss: 0.0169252\tvalid_1's binary_logloss: 0.0322955\n"
     ]
    },
    {
     "name": "stderr",
     "output_type": "stream",
     "text": [
      "\u001b[32m[I 2021-11-30 15:43:21,620]\u001b[0m Trial 38 finished with value: 0.032295506901901264 and parameters: {'feature_fraction': 0.8105263157894738}. Best is trial 26 with value: 0.03167018105596415.\u001b[0m\n"
     ]
    },
    {
     "name": "stdout",
     "output_type": "stream",
     "text": [
      "Trial 38 finished with value: 0.032295506901901264 and parameters: {'feature_fraction': 0.8105263157894738}. Best is trial 26 with value: 0.03167018105596415.\n"
     ]
    },
    {
     "name": "stderr",
     "output_type": "stream",
     "text": [
      "feature_fraction, val_score: 0.031670:  95%|########################################8  | 19/20 [03:32<00:11, 11.57s/it]C:\\Users\\BenJames\\anaconda3\\envs\\geospatial\\lib\\site-packages\\lightgbm\\engine.py:151: UserWarning: Found `num_iterations` in params. Will use it instead of argument\n",
      "  warnings.warn(\"Found `{}` in params. Will use it instead of argument\".format(alias))\n",
      "C:\\Users\\BenJames\\anaconda3\\envs\\geospatial\\lib\\site-packages\\lightgbm\\engine.py:156: UserWarning: Found `early_stopping_round` in params. Will use it instead of argument\n",
      "  warnings.warn(\"Found `{}` in params. Will use it instead of argument\".format(alias))\n"
     ]
    },
    {
     "name": "stdout",
     "output_type": "stream",
     "text": [
      "Training until validation scores don't improve for 200 rounds\n"
     ]
    },
    {
     "name": "stderr",
     "output_type": "stream",
     "text": [
      "feature_fraction, val_score: 0.031670: 100%|###########################################| 20/20 [03:41<00:00, 10.80s/it]"
     ]
    },
    {
     "name": "stdout",
     "output_type": "stream",
     "text": [
      "[100]\tvalid_0's binary_logloss: 0.0183163\tvalid_1's binary_logloss: 0.0336429\n",
      "Did not meet early stopping. Best iteration is:\n",
      "[100]\tvalid_0's binary_logloss: 0.0183163\tvalid_1's binary_logloss: 0.0336429\n"
     ]
    },
    {
     "name": "stderr",
     "output_type": "stream",
     "text": [
      "\u001b[32m[I 2021-11-30 15:43:30,604]\u001b[0m Trial 39 finished with value: 0.03364293963447584 and parameters: {'feature_fraction': 0.43157894736842106}. Best is trial 26 with value: 0.03167018105596415.\u001b[0m\n"
     ]
    },
    {
     "name": "stdout",
     "output_type": "stream",
     "text": [
      "Trial 39 finished with value: 0.03364293963447584 and parameters: {'feature_fraction': 0.43157894736842106}. Best is trial 26 with value: 0.03167018105596415.\n"
     ]
    },
    {
     "name": "stderr",
     "output_type": "stream",
     "text": [
      "feature_fraction, val_score: 0.031670: 100%|###########################################| 20/20 [03:41<00:00, 11.09s/it]\n",
      "bagging, val_score: 0.031670:   0%|                                                             | 0/10 [00:00<?, ?it/s]C:\\Users\\BenJames\\anaconda3\\envs\\geospatial\\lib\\site-packages\\lightgbm\\engine.py:151: UserWarning: Found `num_iterations` in params. Will use it instead of argument\n",
      "  warnings.warn(\"Found `{}` in params. Will use it instead of argument\".format(alias))\n",
      "C:\\Users\\BenJames\\anaconda3\\envs\\geospatial\\lib\\site-packages\\lightgbm\\engine.py:156: UserWarning: Found `early_stopping_round` in params. Will use it instead of argument\n",
      "  warnings.warn(\"Found `{}` in params. Will use it instead of argument\".format(alias))\n"
     ]
    },
    {
     "name": "stdout",
     "output_type": "stream",
     "text": [
      "\n",
      "Tuning Bagging\n",
      "Training until validation scores don't improve for 200 rounds\n"
     ]
    },
    {
     "name": "stderr",
     "output_type": "stream",
     "text": [
      "bagging, val_score: 0.031670:  10%|#####3                                               | 1/10 [00:12<01:51, 12.41s/it]\u001b[32m[I 2021-11-30 15:43:43,370]\u001b[0m Trial 40 finished with value: 0.03186344643112216 and parameters: {'bagging_fraction': 0.798528553022563, 'bagging_freq': 7}. Best is trial 40 with value: 0.03186344643112216.\u001b[0m\n"
     ]
    },
    {
     "name": "stdout",
     "output_type": "stream",
     "text": [
      "[100]\tvalid_0's binary_logloss: 0.0168929\tvalid_1's binary_logloss: 0.0318634\n",
      "Did not meet early stopping. Best iteration is:\n",
      "[100]\tvalid_0's binary_logloss: 0.0168929\tvalid_1's binary_logloss: 0.0318634\n",
      "Trial 40 finished with value: 0.03186344643112216 and parameters: {'bagging_fraction': 0.798528553022563, 'bagging_freq': 7}. Best is trial 40 with value: 0.03186344643112216.\n"
     ]
    },
    {
     "name": "stderr",
     "output_type": "stream",
     "text": [
      "bagging, val_score: 0.031670:  10%|#####3                                               | 1/10 [00:12<01:51, 12.41s/it]C:\\Users\\BenJames\\anaconda3\\envs\\geospatial\\lib\\site-packages\\lightgbm\\engine.py:151: UserWarning: Found `num_iterations` in params. Will use it instead of argument\n",
      "  warnings.warn(\"Found `{}` in params. Will use it instead of argument\".format(alias))\n",
      "C:\\Users\\BenJames\\anaconda3\\envs\\geospatial\\lib\\site-packages\\lightgbm\\engine.py:156: UserWarning: Found `early_stopping_round` in params. Will use it instead of argument\n",
      "  warnings.warn(\"Found `{}` in params. Will use it instead of argument\".format(alias))\n"
     ]
    },
    {
     "name": "stdout",
     "output_type": "stream",
     "text": [
      "Training until validation scores don't improve for 200 rounds\n"
     ]
    },
    {
     "name": "stderr",
     "output_type": "stream",
     "text": [
      "bagging, val_score: 0.031670:  20%|##########6                                          | 2/10 [00:22<01:34, 11.80s/it]"
     ]
    },
    {
     "name": "stdout",
     "output_type": "stream",
     "text": [
      "[100]\tvalid_0's binary_logloss: 0.0171109\tvalid_1's binary_logloss: 0.0319803\n",
      "Did not meet early stopping. Best iteration is:\n",
      "[100]\tvalid_0's binary_logloss: 0.0171109\tvalid_1's binary_logloss: 0.0319803\n"
     ]
    },
    {
     "name": "stderr",
     "output_type": "stream",
     "text": [
      "\u001b[32m[I 2021-11-30 15:43:53,761]\u001b[0m Trial 41 finished with value: 0.031980320316918644 and parameters: {'bagging_fraction': 0.4939218520052872, 'bagging_freq': 5}. Best is trial 40 with value: 0.03186344643112216.\u001b[0m\n"
     ]
    },
    {
     "name": "stdout",
     "output_type": "stream",
     "text": [
      "Trial 41 finished with value: 0.031980320316918644 and parameters: {'bagging_fraction': 0.4939218520052872, 'bagging_freq': 5}. Best is trial 40 with value: 0.03186344643112216.\n"
     ]
    },
    {
     "name": "stderr",
     "output_type": "stream",
     "text": [
      "bagging, val_score: 0.031670:  20%|##########6                                          | 2/10 [00:23<01:34, 11.80s/it]C:\\Users\\BenJames\\anaconda3\\envs\\geospatial\\lib\\site-packages\\lightgbm\\engine.py:151: UserWarning: Found `num_iterations` in params. Will use it instead of argument\n",
      "  warnings.warn(\"Found `{}` in params. Will use it instead of argument\".format(alias))\n",
      "C:\\Users\\BenJames\\anaconda3\\envs\\geospatial\\lib\\site-packages\\lightgbm\\engine.py:156: UserWarning: Found `early_stopping_round` in params. Will use it instead of argument\n",
      "  warnings.warn(\"Found `{}` in params. Will use it instead of argument\".format(alias))\n"
     ]
    },
    {
     "name": "stdout",
     "output_type": "stream",
     "text": [
      "Training until validation scores don't improve for 200 rounds\n"
     ]
    },
    {
     "name": "stderr",
     "output_type": "stream",
     "text": [
      "bagging, val_score: 0.031670:  30%|###############9                                     | 3/10 [00:36<01:27, 12.47s/it]"
     ]
    },
    {
     "name": "stdout",
     "output_type": "stream",
     "text": [
      "[100]\tvalid_0's binary_logloss: 0.0168868\tvalid_1's binary_logloss: 0.0322924\n",
      "Did not meet early stopping. Best iteration is:\n",
      "[100]\tvalid_0's binary_logloss: 0.0168868\tvalid_1's binary_logloss: 0.0322924\n"
     ]
    },
    {
     "name": "stderr",
     "output_type": "stream",
     "text": [
      "\u001b[32m[I 2021-11-30 15:44:07,795]\u001b[0m Trial 42 finished with value: 0.03229241976898004 and parameters: {'bagging_fraction': 0.9683016279733444, 'bagging_freq': 4}. Best is trial 40 with value: 0.03186344643112216.\u001b[0m\n"
     ]
    },
    {
     "name": "stdout",
     "output_type": "stream",
     "text": [
      "Trial 42 finished with value: 0.03229241976898004 and parameters: {'bagging_fraction': 0.9683016279733444, 'bagging_freq': 4}. Best is trial 40 with value: 0.03186344643112216.\n"
     ]
    },
    {
     "name": "stderr",
     "output_type": "stream",
     "text": [
      "bagging, val_score: 0.031670:  30%|###############9                                     | 3/10 [00:37<01:27, 12.47s/it]C:\\Users\\BenJames\\anaconda3\\envs\\geospatial\\lib\\site-packages\\lightgbm\\engine.py:151: UserWarning: Found `num_iterations` in params. Will use it instead of argument\n",
      "  warnings.warn(\"Found `{}` in params. Will use it instead of argument\".format(alias))\n",
      "C:\\Users\\BenJames\\anaconda3\\envs\\geospatial\\lib\\site-packages\\lightgbm\\engine.py:156: UserWarning: Found `early_stopping_round` in params. Will use it instead of argument\n",
      "  warnings.warn(\"Found `{}` in params. Will use it instead of argument\".format(alias))\n"
     ]
    },
    {
     "name": "stdout",
     "output_type": "stream",
     "text": [
      "Training until validation scores don't improve for 200 rounds\n"
     ]
    },
    {
     "name": "stderr",
     "output_type": "stream",
     "text": [
      "bagging, val_score: 0.031670:  40%|#####################2                               | 4/10 [00:47<01:11, 11.90s/it]"
     ]
    },
    {
     "name": "stdout",
     "output_type": "stream",
     "text": [
      "[100]\tvalid_0's binary_logloss: 0.0179056\tvalid_1's binary_logloss: 0.0323185\n",
      "Did not meet early stopping. Best iteration is:\n",
      "[100]\tvalid_0's binary_logloss: 0.0179056\tvalid_1's binary_logloss: 0.0323185\n"
     ]
    },
    {
     "name": "stderr",
     "output_type": "stream",
     "text": [
      "\u001b[32m[I 2021-11-30 15:44:18,419]\u001b[0m Trial 43 finished with value: 0.032318511023658805 and parameters: {'bagging_fraction': 0.5346250200710128, 'bagging_freq': 5}. Best is trial 40 with value: 0.03186344643112216.\u001b[0m\n"
     ]
    },
    {
     "name": "stdout",
     "output_type": "stream",
     "text": [
      "Trial 43 finished with value: 0.032318511023658805 and parameters: {'bagging_fraction': 0.5346250200710128, 'bagging_freq': 5}. Best is trial 40 with value: 0.03186344643112216.\n"
     ]
    },
    {
     "name": "stderr",
     "output_type": "stream",
     "text": [
      "bagging, val_score: 0.031670:  40%|#####################2                               | 4/10 [00:47<01:11, 11.90s/it]C:\\Users\\BenJames\\anaconda3\\envs\\geospatial\\lib\\site-packages\\lightgbm\\engine.py:151: UserWarning: Found `num_iterations` in params. Will use it instead of argument\n",
      "  warnings.warn(\"Found `{}` in params. Will use it instead of argument\".format(alias))\n",
      "C:\\Users\\BenJames\\anaconda3\\envs\\geospatial\\lib\\site-packages\\lightgbm\\engine.py:156: UserWarning: Found `early_stopping_round` in params. Will use it instead of argument\n",
      "  warnings.warn(\"Found `{}` in params. Will use it instead of argument\".format(alias))\n"
     ]
    },
    {
     "name": "stdout",
     "output_type": "stream",
     "text": [
      "Training until validation scores don't improve for 200 rounds\n"
     ]
    },
    {
     "name": "stderr",
     "output_type": "stream",
     "text": [
      "bagging, val_score: 0.031361:  50%|##########################5                          | 5/10 [00:59<01:00, 12.03s/it]"
     ]
    },
    {
     "name": "stdout",
     "output_type": "stream",
     "text": [
      "[100]\tvalid_0's binary_logloss: 0.0164344\tvalid_1's binary_logloss: 0.0313609\n",
      "Did not meet early stopping. Best iteration is:\n",
      "[100]\tvalid_0's binary_logloss: 0.0164344\tvalid_1's binary_logloss: 0.0313609\n"
     ]
    },
    {
     "name": "stderr",
     "output_type": "stream",
     "text": [
      "\u001b[32m[I 2021-11-30 15:44:30,705]\u001b[0m Trial 44 finished with value: 0.031360908323083296 and parameters: {'bagging_fraction': 0.7019911552190997, 'bagging_freq': 2}. Best is trial 44 with value: 0.031360908323083296.\u001b[0m\n"
     ]
    },
    {
     "name": "stdout",
     "output_type": "stream",
     "text": [
      "Trial 44 finished with value: 0.031360908323083296 and parameters: {'bagging_fraction': 0.7019911552190997, 'bagging_freq': 2}. Best is trial 44 with value: 0.031360908323083296.\n"
     ]
    },
    {
     "name": "stderr",
     "output_type": "stream",
     "text": [
      "bagging, val_score: 0.031361:  50%|##########################5                          | 5/10 [01:00<01:00, 12.03s/it]C:\\Users\\BenJames\\anaconda3\\envs\\geospatial\\lib\\site-packages\\lightgbm\\engine.py:151: UserWarning: Found `num_iterations` in params. Will use it instead of argument\n",
      "  warnings.warn(\"Found `{}` in params. Will use it instead of argument\".format(alias))\n",
      "C:\\Users\\BenJames\\anaconda3\\envs\\geospatial\\lib\\site-packages\\lightgbm\\engine.py:156: UserWarning: Found `early_stopping_round` in params. Will use it instead of argument\n",
      "  warnings.warn(\"Found `{}` in params. Will use it instead of argument\".format(alias))\n"
     ]
    },
    {
     "name": "stdout",
     "output_type": "stream",
     "text": [
      "Training until validation scores don't improve for 200 rounds\n"
     ]
    },
    {
     "name": "stderr",
     "output_type": "stream",
     "text": [
      "bagging, val_score: 0.031361:  60%|###############################8                     | 6/10 [01:12<00:49, 12.28s/it]"
     ]
    },
    {
     "name": "stdout",
     "output_type": "stream",
     "text": [
      "[100]\tvalid_0's binary_logloss: 0.0163053\tvalid_1's binary_logloss: 0.0315684\n",
      "Did not meet early stopping. Best iteration is:\n",
      "[100]\tvalid_0's binary_logloss: 0.0163053\tvalid_1's binary_logloss: 0.0315684\n"
     ]
    },
    {
     "name": "stderr",
     "output_type": "stream",
     "text": [
      "\u001b[32m[I 2021-11-30 15:44:43,556]\u001b[0m Trial 45 finished with value: 0.03156835299814546 and parameters: {'bagging_fraction': 0.7766200026098764, 'bagging_freq': 1}. Best is trial 44 with value: 0.031360908323083296.\u001b[0m\n"
     ]
    },
    {
     "name": "stdout",
     "output_type": "stream",
     "text": [
      "Trial 45 finished with value: 0.03156835299814546 and parameters: {'bagging_fraction': 0.7766200026098764, 'bagging_freq': 1}. Best is trial 44 with value: 0.031360908323083296.\n"
     ]
    },
    {
     "name": "stderr",
     "output_type": "stream",
     "text": [
      "bagging, val_score: 0.031361:  60%|###############################8                     | 6/10 [01:12<00:49, 12.28s/it]C:\\Users\\BenJames\\anaconda3\\envs\\geospatial\\lib\\site-packages\\lightgbm\\engine.py:151: UserWarning: Found `num_iterations` in params. Will use it instead of argument\n",
      "  warnings.warn(\"Found `{}` in params. Will use it instead of argument\".format(alias))\n",
      "C:\\Users\\BenJames\\anaconda3\\envs\\geospatial\\lib\\site-packages\\lightgbm\\engine.py:156: UserWarning: Found `early_stopping_round` in params. Will use it instead of argument\n",
      "  warnings.warn(\"Found `{}` in params. Will use it instead of argument\".format(alias))\n"
     ]
    },
    {
     "name": "stdout",
     "output_type": "stream",
     "text": [
      "Training until validation scores don't improve for 200 rounds\n"
     ]
    },
    {
     "name": "stderr",
     "output_type": "stream",
     "text": [
      "bagging, val_score: 0.031361:  70%|#####################################                | 7/10 [01:23<00:35, 12.00s/it]"
     ]
    },
    {
     "name": "stdout",
     "output_type": "stream",
     "text": [
      "[100]\tvalid_0's binary_logloss: 0.0170066\tvalid_1's binary_logloss: 0.0319772\n",
      "Did not meet early stopping. Best iteration is:\n",
      "[100]\tvalid_0's binary_logloss: 0.0170066\tvalid_1's binary_logloss: 0.0319772\n"
     ]
    },
    {
     "name": "stderr",
     "output_type": "stream",
     "text": [
      "\u001b[32m[I 2021-11-30 15:44:54,878]\u001b[0m Trial 46 finished with value: 0.03197716676099851 and parameters: {'bagging_fraction': 0.6414998904090635, 'bagging_freq': 7}. Best is trial 44 with value: 0.031360908323083296.\u001b[0m\n"
     ]
    },
    {
     "name": "stdout",
     "output_type": "stream",
     "text": [
      "Trial 46 finished with value: 0.03197716676099851 and parameters: {'bagging_fraction': 0.6414998904090635, 'bagging_freq': 7}. Best is trial 44 with value: 0.031360908323083296.\n"
     ]
    },
    {
     "name": "stderr",
     "output_type": "stream",
     "text": [
      "bagging, val_score: 0.031361:  70%|#####################################                | 7/10 [01:24<00:35, 12.00s/it]C:\\Users\\BenJames\\anaconda3\\envs\\geospatial\\lib\\site-packages\\lightgbm\\engine.py:151: UserWarning: Found `num_iterations` in params. Will use it instead of argument\n",
      "  warnings.warn(\"Found `{}` in params. Will use it instead of argument\".format(alias))\n",
      "C:\\Users\\BenJames\\anaconda3\\envs\\geospatial\\lib\\site-packages\\lightgbm\\engine.py:156: UserWarning: Found `early_stopping_round` in params. Will use it instead of argument\n",
      "  warnings.warn(\"Found `{}` in params. Will use it instead of argument\".format(alias))\n"
     ]
    },
    {
     "name": "stdout",
     "output_type": "stream",
     "text": [
      "Training until validation scores don't improve for 200 rounds\n"
     ]
    },
    {
     "name": "stderr",
     "output_type": "stream",
     "text": [
      "bagging, val_score: 0.031361:  80%|##########################################4          | 8/10 [01:36<00:24, 12.32s/it]"
     ]
    },
    {
     "name": "stdout",
     "output_type": "stream",
     "text": [
      "[100]\tvalid_0's binary_logloss: 0.0166946\tvalid_1's binary_logloss: 0.0320078\n",
      "Did not meet early stopping. Best iteration is:\n",
      "[100]\tvalid_0's binary_logloss: 0.0166946\tvalid_1's binary_logloss: 0.0320078\n"
     ]
    },
    {
     "name": "stderr",
     "output_type": "stream",
     "text": [
      "\u001b[32m[I 2021-11-30 15:45:07,955]\u001b[0m Trial 47 finished with value: 0.032007790137898035 and parameters: {'bagging_fraction': 0.8827347609984981, 'bagging_freq': 2}. Best is trial 44 with value: 0.031360908323083296.\u001b[0m\n"
     ]
    },
    {
     "name": "stdout",
     "output_type": "stream",
     "text": [
      "Trial 47 finished with value: 0.032007790137898035 and parameters: {'bagging_fraction': 0.8827347609984981, 'bagging_freq': 2}. Best is trial 44 with value: 0.031360908323083296.\n"
     ]
    },
    {
     "name": "stderr",
     "output_type": "stream",
     "text": [
      "bagging, val_score: 0.031361:  80%|##########################################4          | 8/10 [01:37<00:24, 12.32s/it]C:\\Users\\BenJames\\anaconda3\\envs\\geospatial\\lib\\site-packages\\lightgbm\\engine.py:151: UserWarning: Found `num_iterations` in params. Will use it instead of argument\n",
      "  warnings.warn(\"Found `{}` in params. Will use it instead of argument\".format(alias))\n",
      "C:\\Users\\BenJames\\anaconda3\\envs\\geospatial\\lib\\site-packages\\lightgbm\\engine.py:156: UserWarning: Found `early_stopping_round` in params. Will use it instead of argument\n",
      "  warnings.warn(\"Found `{}` in params. Will use it instead of argument\".format(alias))\n"
     ]
    },
    {
     "name": "stdout",
     "output_type": "stream",
     "text": [
      "Training until validation scores don't improve for 200 rounds\n"
     ]
    },
    {
     "name": "stderr",
     "output_type": "stream",
     "text": [
      "bagging, val_score: 0.031361:  80%|##########################################4          | 8/10 [01:49<00:24, 12.32s/it]"
     ]
    },
    {
     "name": "stdout",
     "output_type": "stream",
     "text": [
      "[100]\tvalid_0's binary_logloss: 0.0164354\tvalid_1's binary_logloss: 0.0316322\n",
      "Did not meet early stopping. Best iteration is:\n",
      "[100]\tvalid_0's binary_logloss: 0.0164354\tvalid_1's binary_logloss: 0.0316322\n"
     ]
    },
    {
     "name": "stderr",
     "output_type": "stream",
     "text": [
      "bagging, val_score: 0.031361:  90%|###############################################7     | 9/10 [01:49<00:12, 12.46s/it]\u001b[32m[I 2021-11-30 15:45:20,747]\u001b[0m Trial 48 finished with value: 0.03163215083149963 and parameters: {'bagging_fraction': 0.8516968505823465, 'bagging_freq': 6}. Best is trial 44 with value: 0.031360908323083296.\u001b[0m\n"
     ]
    },
    {
     "name": "stdout",
     "output_type": "stream",
     "text": [
      "Trial 48 finished with value: 0.03163215083149963 and parameters: {'bagging_fraction': 0.8516968505823465, 'bagging_freq': 6}. Best is trial 44 with value: 0.031360908323083296.\n"
     ]
    },
    {
     "name": "stderr",
     "output_type": "stream",
     "text": [
      "bagging, val_score: 0.031361:  90%|###############################################7     | 9/10 [01:50<00:12, 12.46s/it]C:\\Users\\BenJames\\anaconda3\\envs\\geospatial\\lib\\site-packages\\lightgbm\\engine.py:151: UserWarning: Found `num_iterations` in params. Will use it instead of argument\n",
      "  warnings.warn(\"Found `{}` in params. Will use it instead of argument\".format(alias))\n",
      "C:\\Users\\BenJames\\anaconda3\\envs\\geospatial\\lib\\site-packages\\lightgbm\\engine.py:156: UserWarning: Found `early_stopping_round` in params. Will use it instead of argument\n",
      "  warnings.warn(\"Found `{}` in params. Will use it instead of argument\".format(alias))\n"
     ]
    },
    {
     "name": "stdout",
     "output_type": "stream",
     "text": [
      "Training until validation scores don't improve for 200 rounds\n"
     ]
    },
    {
     "name": "stderr",
     "output_type": "stream",
     "text": [
      "bagging, val_score: 0.031361: 100%|####################################################| 10/10 [01:59<00:00, 11.71s/it]"
     ]
    },
    {
     "name": "stdout",
     "output_type": "stream",
     "text": [
      "[100]\tvalid_0's binary_logloss: 0.0175933\tvalid_1's binary_logloss: 0.0322904\n",
      "Did not meet early stopping. Best iteration is:\n",
      "[100]\tvalid_0's binary_logloss: 0.0175933\tvalid_1's binary_logloss: 0.0322904\n"
     ]
    },
    {
     "name": "stderr",
     "output_type": "stream",
     "text": [
      "\u001b[32m[I 2021-11-30 15:45:30,730]\u001b[0m Trial 49 finished with value: 0.03229041916441391 and parameters: {'bagging_fraction': 0.46342338900442753, 'bagging_freq': 4}. Best is trial 44 with value: 0.031360908323083296.\u001b[0m\n"
     ]
    },
    {
     "name": "stdout",
     "output_type": "stream",
     "text": [
      "Trial 49 finished with value: 0.03229041916441391 and parameters: {'bagging_fraction': 0.46342338900442753, 'bagging_freq': 4}. Best is trial 44 with value: 0.031360908323083296.\n"
     ]
    },
    {
     "name": "stderr",
     "output_type": "stream",
     "text": [
      "bagging, val_score: 0.031361: 100%|####################################################| 10/10 [02:00<00:00, 12.01s/it]\n",
      "feature_fraction_stage2, val_score: 0.031361:   0%|                                              | 0/4 [00:00<?, ?it/s]C:\\Users\\BenJames\\anaconda3\\envs\\geospatial\\lib\\site-packages\\lightgbm\\engine.py:151: UserWarning: Found `num_iterations` in params. Will use it instead of argument\n",
      "  warnings.warn(\"Found `{}` in params. Will use it instead of argument\".format(alias))\n",
      "C:\\Users\\BenJames\\anaconda3\\envs\\geospatial\\lib\\site-packages\\lightgbm\\engine.py:156: UserWarning: Found `early_stopping_round` in params. Will use it instead of argument\n",
      "  warnings.warn(\"Found `{}` in params. Will use it instead of argument\".format(alias))\n"
     ]
    },
    {
     "name": "stdout",
     "output_type": "stream",
     "text": [
      "\n",
      "Tuning feature fraction (2)\n",
      "Training until validation scores don't improve for 200 rounds\n"
     ]
    },
    {
     "name": "stderr",
     "output_type": "stream",
     "text": [
      "feature_fraction_stage2, val_score: 0.031361:  25%|#########5                            | 1/4 [00:11<00:35, 11.72s/it]"
     ]
    },
    {
     "name": "stdout",
     "output_type": "stream",
     "text": [
      "[100]\tvalid_0's binary_logloss: 0.016407\tvalid_1's binary_logloss: 0.0317195\n",
      "Did not meet early stopping. Best iteration is:\n",
      "[100]\tvalid_0's binary_logloss: 0.016407\tvalid_1's binary_logloss: 0.0317195\n"
     ]
    },
    {
     "name": "stderr",
     "output_type": "stream",
     "text": [
      "\u001b[32m[I 2021-11-30 15:45:42,837]\u001b[0m Trial 50 finished with value: 0.03171954049882436 and parameters: {'feature_fraction': 0.984421052631579}. Best is trial 50 with value: 0.03171954049882436.\u001b[0m\n"
     ]
    },
    {
     "name": "stdout",
     "output_type": "stream",
     "text": [
      "Trial 50 finished with value: 0.03171954049882436 and parameters: {'feature_fraction': 0.984421052631579}. Best is trial 50 with value: 0.03171954049882436.\n"
     ]
    },
    {
     "name": "stderr",
     "output_type": "stream",
     "text": [
      "feature_fraction_stage2, val_score: 0.031361:  25%|#########5                            | 1/4 [00:12<00:35, 11.72s/it]C:\\Users\\BenJames\\anaconda3\\envs\\geospatial\\lib\\site-packages\\lightgbm\\engine.py:151: UserWarning: Found `num_iterations` in params. Will use it instead of argument\n",
      "  warnings.warn(\"Found `{}` in params. Will use it instead of argument\".format(alias))\n",
      "C:\\Users\\BenJames\\anaconda3\\envs\\geospatial\\lib\\site-packages\\lightgbm\\engine.py:156: UserWarning: Found `early_stopping_round` in params. Will use it instead of argument\n",
      "  warnings.warn(\"Found `{}` in params. Will use it instead of argument\".format(alias))\n"
     ]
    },
    {
     "name": "stdout",
     "output_type": "stream",
     "text": [
      "Training until validation scores don't improve for 200 rounds\n"
     ]
    },
    {
     "name": "stderr",
     "output_type": "stream",
     "text": [
      "feature_fraction_stage2, val_score: 0.031316:  25%|#########5                            | 1/4 [00:23<00:35, 11.72s/it]"
     ]
    },
    {
     "name": "stdout",
     "output_type": "stream",
     "text": [
      "[100]\tvalid_0's binary_logloss: 0.0161409\tvalid_1's binary_logloss: 0.0313159\n",
      "Did not meet early stopping. Best iteration is:\n",
      "[100]\tvalid_0's binary_logloss: 0.0161409\tvalid_1's binary_logloss: 0.0313159\n"
     ]
    },
    {
     "name": "stderr",
     "output_type": "stream",
     "text": [
      "feature_fraction_stage2, val_score: 0.031316:  50%|###################                   | 2/4 [00:23<00:23, 11.73s/it]\u001b[32m[I 2021-11-30 15:45:54,566]\u001b[0m Trial 51 finished with value: 0.031315912861992624 and parameters: {'feature_fraction': 0.920421052631579}. Best is trial 51 with value: 0.031315912861992624.\u001b[0m\n"
     ]
    },
    {
     "name": "stdout",
     "output_type": "stream",
     "text": [
      "Trial 51 finished with value: 0.031315912861992624 and parameters: {'feature_fraction': 0.920421052631579}. Best is trial 51 with value: 0.031315912861992624.\n"
     ]
    },
    {
     "name": "stderr",
     "output_type": "stream",
     "text": [
      "feature_fraction_stage2, val_score: 0.031316:  50%|###################                   | 2/4 [00:23<00:23, 11.73s/it]C:\\Users\\BenJames\\anaconda3\\envs\\geospatial\\lib\\site-packages\\lightgbm\\engine.py:151: UserWarning: Found `num_iterations` in params. Will use it instead of argument\n",
      "  warnings.warn(\"Found `{}` in params. Will use it instead of argument\".format(alias))\n",
      "C:\\Users\\BenJames\\anaconda3\\envs\\geospatial\\lib\\site-packages\\lightgbm\\engine.py:156: UserWarning: Found `early_stopping_round` in params. Will use it instead of argument\n",
      "  warnings.warn(\"Found `{}` in params. Will use it instead of argument\".format(alias))\n"
     ]
    },
    {
     "name": "stdout",
     "output_type": "stream",
     "text": [
      "Training until validation scores don't improve for 200 rounds\n"
     ]
    },
    {
     "name": "stderr",
     "output_type": "stream",
     "text": [
      "feature_fraction_stage2, val_score: 0.031316:  75%|############################5         | 3/4 [00:34<00:11, 11.67s/it]"
     ]
    },
    {
     "name": "stdout",
     "output_type": "stream",
     "text": [
      "[100]\tvalid_0's binary_logloss: 0.0164062\tvalid_1's binary_logloss: 0.0313796\n",
      "Did not meet early stopping. Best iteration is:\n",
      "[100]\tvalid_0's binary_logloss: 0.0164062\tvalid_1's binary_logloss: 0.0313796\n"
     ]
    },
    {
     "name": "stderr",
     "output_type": "stream",
     "text": [
      "\u001b[32m[I 2021-11-30 15:46:06,161]\u001b[0m Trial 52 finished with value: 0.031379622123410396 and parameters: {'feature_fraction': 0.888421052631579}. Best is trial 51 with value: 0.031315912861992624.\u001b[0m\n"
     ]
    },
    {
     "name": "stdout",
     "output_type": "stream",
     "text": [
      "Trial 52 finished with value: 0.031379622123410396 and parameters: {'feature_fraction': 0.888421052631579}. Best is trial 51 with value: 0.031315912861992624.\n"
     ]
    },
    {
     "name": "stderr",
     "output_type": "stream",
     "text": [
      "feature_fraction_stage2, val_score: 0.031316:  75%|############################5         | 3/4 [00:35<00:11, 11.67s/it]C:\\Users\\BenJames\\anaconda3\\envs\\geospatial\\lib\\site-packages\\lightgbm\\engine.py:151: UserWarning: Found `num_iterations` in params. Will use it instead of argument\n",
      "  warnings.warn(\"Found `{}` in params. Will use it instead of argument\".format(alias))\n",
      "C:\\Users\\BenJames\\anaconda3\\envs\\geospatial\\lib\\site-packages\\lightgbm\\engine.py:156: UserWarning: Found `early_stopping_round` in params. Will use it instead of argument\n",
      "  warnings.warn(\"Found `{}` in params. Will use it instead of argument\".format(alias))\n"
     ]
    },
    {
     "name": "stdout",
     "output_type": "stream",
     "text": [
      "Training until validation scores don't improve for 200 rounds\n"
     ]
    },
    {
     "name": "stderr",
     "output_type": "stream",
     "text": [
      "feature_fraction_stage2, val_score: 0.031316: 100%|######################################| 4/4 [00:46<00:00, 11.66s/it]"
     ]
    },
    {
     "name": "stdout",
     "output_type": "stream",
     "text": [
      "[100]\tvalid_0's binary_logloss: 0.0164344\tvalid_1's binary_logloss: 0.0313609\n",
      "Did not meet early stopping. Best iteration is:\n",
      "[100]\tvalid_0's binary_logloss: 0.0164344\tvalid_1's binary_logloss: 0.0313609\n"
     ]
    },
    {
     "name": "stderr",
     "output_type": "stream",
     "text": [
      "\u001b[32m[I 2021-11-30 15:46:17,770]\u001b[0m Trial 53 finished with value: 0.031360908323083296 and parameters: {'feature_fraction': 0.952421052631579}. Best is trial 51 with value: 0.031315912861992624.\u001b[0m\n"
     ]
    },
    {
     "name": "stdout",
     "output_type": "stream",
     "text": [
      "Trial 53 finished with value: 0.031360908323083296 and parameters: {'feature_fraction': 0.952421052631579}. Best is trial 51 with value: 0.031315912861992624.\n"
     ]
    },
    {
     "name": "stderr",
     "output_type": "stream",
     "text": [
      "feature_fraction_stage2, val_score: 0.031316: 100%|######################################| 4/4 [00:46<00:00, 11.74s/it]\n",
      "regularization_factors, val_score: 0.031316:   0%|                                              | 0/20 [00:00<?, ?it/s]C:\\Users\\BenJames\\anaconda3\\envs\\geospatial\\lib\\site-packages\\lightgbm\\engine.py:151: UserWarning: Found `num_iterations` in params. Will use it instead of argument\n",
      "  warnings.warn(\"Found `{}` in params. Will use it instead of argument\".format(alias))\n",
      "C:\\Users\\BenJames\\anaconda3\\envs\\geospatial\\lib\\site-packages\\lightgbm\\engine.py:156: UserWarning: Found `early_stopping_round` in params. Will use it instead of argument\n",
      "  warnings.warn(\"Found `{}` in params. Will use it instead of argument\".format(alias))\n"
     ]
    },
    {
     "name": "stdout",
     "output_type": "stream",
     "text": [
      "\n",
      "Tuning Lambdal1 and l2\n",
      "Training until validation scores don't improve for 200 rounds\n"
     ]
    },
    {
     "name": "stderr",
     "output_type": "stream",
     "text": [
      "regularization_factors, val_score: 0.031316:   5%|#9                                    | 1/20 [00:08<02:41,  8.49s/it]\u001b[32m[I 2021-11-30 15:46:26,571]\u001b[0m Trial 54 finished with value: 0.033300652433122635 and parameters: {'lambda_l1': 3.2242151762253095, 'lambda_l2': 0.010678651068077832}. Best is trial 54 with value: 0.033300652433122635.\u001b[0m\n"
     ]
    },
    {
     "name": "stdout",
     "output_type": "stream",
     "text": [
      "[100]\tvalid_0's binary_logloss: 0.0229299\tvalid_1's binary_logloss: 0.0333007\n",
      "Did not meet early stopping. Best iteration is:\n",
      "[100]\tvalid_0's binary_logloss: 0.0229299\tvalid_1's binary_logloss: 0.0333007\n",
      "Trial 54 finished with value: 0.033300652433122635 and parameters: {'lambda_l1': 3.2242151762253095, 'lambda_l2': 0.010678651068077832}. Best is trial 54 with value: 0.033300652433122635.\n"
     ]
    },
    {
     "name": "stderr",
     "output_type": "stream",
     "text": [
      "regularization_factors, val_score: 0.031316:   5%|#9                                    | 1/20 [00:08<02:41,  8.49s/it]C:\\Users\\BenJames\\anaconda3\\envs\\geospatial\\lib\\site-packages\\lightgbm\\engine.py:151: UserWarning: Found `num_iterations` in params. Will use it instead of argument\n",
      "  warnings.warn(\"Found `{}` in params. Will use it instead of argument\".format(alias))\n",
      "C:\\Users\\BenJames\\anaconda3\\envs\\geospatial\\lib\\site-packages\\lightgbm\\engine.py:156: UserWarning: Found `early_stopping_round` in params. Will use it instead of argument\n",
      "  warnings.warn(\"Found `{}` in params. Will use it instead of argument\".format(alias))\n"
     ]
    },
    {
     "name": "stdout",
     "output_type": "stream",
     "text": [
      "Training until validation scores don't improve for 200 rounds\n"
     ]
    },
    {
     "name": "stderr",
     "output_type": "stream",
     "text": [
      "regularization_factors, val_score: 0.031263:  10%|###8                                  | 2/20 [00:18<02:39,  8.86s/it]\u001b[32m[I 2021-11-30 15:46:36,294]\u001b[0m Trial 55 finished with value: 0.03126253982468622 and parameters: {'lambda_l1': 1.3484468348861228e-08, 'lambda_l2': 0.001960064387238065}. Best is trial 55 with value: 0.03126253982468622.\u001b[0m\n"
     ]
    },
    {
     "name": "stdout",
     "output_type": "stream",
     "text": [
      "[100]\tvalid_0's binary_logloss: 0.0161528\tvalid_1's binary_logloss: 0.0312625\n",
      "Did not meet early stopping. Best iteration is:\n",
      "[100]\tvalid_0's binary_logloss: 0.0161528\tvalid_1's binary_logloss: 0.0312625\n",
      "Trial 55 finished with value: 0.03126253982468622 and parameters: {'lambda_l1': 1.3484468348861228e-08, 'lambda_l2': 0.001960064387238065}. Best is trial 55 with value: 0.03126253982468622.\n"
     ]
    },
    {
     "name": "stderr",
     "output_type": "stream",
     "text": [
      "regularization_factors, val_score: 0.031263:  10%|###8                                  | 2/20 [00:18<02:39,  8.86s/it]C:\\Users\\BenJames\\anaconda3\\envs\\geospatial\\lib\\site-packages\\lightgbm\\engine.py:151: UserWarning: Found `num_iterations` in params. Will use it instead of argument\n",
      "  warnings.warn(\"Found `{}` in params. Will use it instead of argument\".format(alias))\n",
      "C:\\Users\\BenJames\\anaconda3\\envs\\geospatial\\lib\\site-packages\\lightgbm\\engine.py:156: UserWarning: Found `early_stopping_round` in params. Will use it instead of argument\n",
      "  warnings.warn(\"Found `{}` in params. Will use it instead of argument\".format(alias))\n"
     ]
    },
    {
     "name": "stdout",
     "output_type": "stream",
     "text": [
      "Training until validation scores don't improve for 200 rounds\n"
     ]
    },
    {
     "name": "stderr",
     "output_type": "stream",
     "text": [
      "regularization_factors, val_score: 0.031263:  15%|#####7                                | 3/20 [00:27<02:33,  9.05s/it]\u001b[32m[I 2021-11-30 15:46:45,800]\u001b[0m Trial 56 finished with value: 0.03164295740770645 and parameters: {'lambda_l1': 2.193497924001889e-08, 'lambda_l2': 0.008616017506940871}. Best is trial 55 with value: 0.03126253982468622.\u001b[0m\n"
     ]
    },
    {
     "name": "stdout",
     "output_type": "stream",
     "text": [
      "[100]\tvalid_0's binary_logloss: 0.0166176\tvalid_1's binary_logloss: 0.031643\n",
      "Did not meet early stopping. Best iteration is:\n",
      "[100]\tvalid_0's binary_logloss: 0.0166176\tvalid_1's binary_logloss: 0.031643\n",
      "Trial 56 finished with value: 0.03164295740770645 and parameters: {'lambda_l1': 2.193497924001889e-08, 'lambda_l2': 0.008616017506940871}. Best is trial 55 with value: 0.03126253982468622.\n"
     ]
    },
    {
     "name": "stderr",
     "output_type": "stream",
     "text": [
      "regularization_factors, val_score: 0.031263:  15%|#####7                                | 3/20 [00:28<02:33,  9.05s/it]C:\\Users\\BenJames\\anaconda3\\envs\\geospatial\\lib\\site-packages\\lightgbm\\engine.py:151: UserWarning: Found `num_iterations` in params. Will use it instead of argument\n",
      "  warnings.warn(\"Found `{}` in params. Will use it instead of argument\".format(alias))\n",
      "C:\\Users\\BenJames\\anaconda3\\envs\\geospatial\\lib\\site-packages\\lightgbm\\engine.py:156: UserWarning: Found `early_stopping_round` in params. Will use it instead of argument\n",
      "  warnings.warn(\"Found `{}` in params. Will use it instead of argument\".format(alias))\n"
     ]
    },
    {
     "name": "stdout",
     "output_type": "stream",
     "text": [
      "Training until validation scores don't improve for 200 rounds\n"
     ]
    },
    {
     "name": "stderr",
     "output_type": "stream",
     "text": [
      "regularization_factors, val_score: 0.031263:  20%|#######6                              | 4/20 [00:37<02:28,  9.27s/it]"
     ]
    },
    {
     "name": "stdout",
     "output_type": "stream",
     "text": [
      "[100]\tvalid_0's binary_logloss: 0.0166099\tvalid_1's binary_logloss: 0.0314256\n",
      "Did not meet early stopping. Best iteration is:\n",
      "[100]\tvalid_0's binary_logloss: 0.0166099\tvalid_1's binary_logloss: 0.0314256\n"
     ]
    },
    {
     "name": "stderr",
     "output_type": "stream",
     "text": [
      "\u001b[32m[I 2021-11-30 15:46:55,579]\u001b[0m Trial 57 finished with value: 0.031425611182768716 and parameters: {'lambda_l1': 3.1173430528545114e-05, 'lambda_l2': 0.00011263587307631357}. Best is trial 55 with value: 0.03126253982468622.\u001b[0m\n"
     ]
    },
    {
     "name": "stdout",
     "output_type": "stream",
     "text": [
      "Trial 57 finished with value: 0.031425611182768716 and parameters: {'lambda_l1': 3.1173430528545114e-05, 'lambda_l2': 0.00011263587307631357}. Best is trial 55 with value: 0.03126253982468622.\n"
     ]
    },
    {
     "name": "stderr",
     "output_type": "stream",
     "text": [
      "regularization_factors, val_score: 0.031263:  20%|#######6                              | 4/20 [00:37<02:28,  9.27s/it]C:\\Users\\BenJames\\anaconda3\\envs\\geospatial\\lib\\site-packages\\lightgbm\\engine.py:151: UserWarning: Found `num_iterations` in params. Will use it instead of argument\n",
      "  warnings.warn(\"Found `{}` in params. Will use it instead of argument\".format(alias))\n",
      "C:\\Users\\BenJames\\anaconda3\\envs\\geospatial\\lib\\site-packages\\lightgbm\\engine.py:156: UserWarning: Found `early_stopping_round` in params. Will use it instead of argument\n",
      "  warnings.warn(\"Found `{}` in params. Will use it instead of argument\".format(alias))\n"
     ]
    },
    {
     "name": "stdout",
     "output_type": "stream",
     "text": [
      "Training until validation scores don't improve for 200 rounds\n"
     ]
    },
    {
     "name": "stderr",
     "output_type": "stream",
     "text": [
      "regularization_factors, val_score: 0.031263:  25%|#########5                            | 5/20 [00:46<02:17,  9.16s/it]\u001b[32m[I 2021-11-30 15:47:04,461]\u001b[0m Trial 58 finished with value: 0.03352616633684488 and parameters: {'lambda_l1': 1.749291965992798e-07, 'lambda_l2': 4.12588782766703}. Best is trial 55 with value: 0.03126253982468622.\u001b[0m\n"
     ]
    },
    {
     "name": "stdout",
     "output_type": "stream",
     "text": [
      "[100]\tvalid_0's binary_logloss: 0.022864\tvalid_1's binary_logloss: 0.0335262\n",
      "Did not meet early stopping. Best iteration is:\n",
      "[100]\tvalid_0's binary_logloss: 0.022864\tvalid_1's binary_logloss: 0.0335262\n",
      "Trial 58 finished with value: 0.03352616633684488 and parameters: {'lambda_l1': 1.749291965992798e-07, 'lambda_l2': 4.12588782766703}. Best is trial 55 with value: 0.03126253982468622.\n"
     ]
    },
    {
     "name": "stderr",
     "output_type": "stream",
     "text": [
      "regularization_factors, val_score: 0.031263:  25%|#########5                            | 5/20 [00:46<02:17,  9.16s/it]C:\\Users\\BenJames\\anaconda3\\envs\\geospatial\\lib\\site-packages\\lightgbm\\engine.py:151: UserWarning: Found `num_iterations` in params. Will use it instead of argument\n",
      "  warnings.warn(\"Found `{}` in params. Will use it instead of argument\".format(alias))\n",
      "C:\\Users\\BenJames\\anaconda3\\envs\\geospatial\\lib\\site-packages\\lightgbm\\engine.py:156: UserWarning: Found `early_stopping_round` in params. Will use it instead of argument\n",
      "  warnings.warn(\"Found `{}` in params. Will use it instead of argument\".format(alias))\n"
     ]
    },
    {
     "name": "stdout",
     "output_type": "stream",
     "text": [
      "Training until validation scores don't improve for 200 rounds\n"
     ]
    },
    {
     "name": "stderr",
     "output_type": "stream",
     "text": [
      "regularization_factors, val_score: 0.031263:  30%|###########4                          | 6/20 [00:55<02:09,  9.23s/it]"
     ]
    },
    {
     "name": "stdout",
     "output_type": "stream",
     "text": [
      "[100]\tvalid_0's binary_logloss: 0.0168575\tvalid_1's binary_logloss: 0.0315849\n",
      "Did not meet early stopping. Best iteration is:\n",
      "[100]\tvalid_0's binary_logloss: 0.0168575\tvalid_1's binary_logloss: 0.0315849\n"
     ]
    },
    {
     "name": "stderr",
     "output_type": "stream",
     "text": [
      "\u001b[32m[I 2021-11-30 15:47:13,874]\u001b[0m Trial 59 finished with value: 0.0315848584850515 and parameters: {'lambda_l1': 9.536011007059796e-06, 'lambda_l2': 0.02508376358719634}. Best is trial 55 with value: 0.03126253982468622.\u001b[0m\n"
     ]
    },
    {
     "name": "stdout",
     "output_type": "stream",
     "text": [
      "Trial 59 finished with value: 0.0315848584850515 and parameters: {'lambda_l1': 9.536011007059796e-06, 'lambda_l2': 0.02508376358719634}. Best is trial 55 with value: 0.03126253982468622.\n"
     ]
    },
    {
     "name": "stderr",
     "output_type": "stream",
     "text": [
      "regularization_factors, val_score: 0.031263:  30%|###########4                          | 6/20 [00:56<02:09,  9.23s/it]C:\\Users\\BenJames\\anaconda3\\envs\\geospatial\\lib\\site-packages\\lightgbm\\engine.py:151: UserWarning: Found `num_iterations` in params. Will use it instead of argument\n",
      "  warnings.warn(\"Found `{}` in params. Will use it instead of argument\".format(alias))\n",
      "C:\\Users\\BenJames\\anaconda3\\envs\\geospatial\\lib\\site-packages\\lightgbm\\engine.py:156: UserWarning: Found `early_stopping_round` in params. Will use it instead of argument\n",
      "  warnings.warn(\"Found `{}` in params. Will use it instead of argument\".format(alias))\n"
     ]
    },
    {
     "name": "stdout",
     "output_type": "stream",
     "text": [
      "Training until validation scores don't improve for 200 rounds\n"
     ]
    },
    {
     "name": "stderr",
     "output_type": "stream",
     "text": [
      "regularization_factors, val_score: 0.031263:  35%|#############3                        | 7/20 [01:04<01:59,  9.18s/it]"
     ]
    },
    {
     "name": "stdout",
     "output_type": "stream",
     "text": [
      "[100]\tvalid_0's binary_logloss: 0.0190632\tvalid_1's binary_logloss: 0.0320304\n",
      "Did not meet early stopping. Best iteration is:\n",
      "[100]\tvalid_0's binary_logloss: 0.0190632\tvalid_1's binary_logloss: 0.0320304\n"
     ]
    },
    {
     "name": "stderr",
     "output_type": "stream",
     "text": [
      "\u001b[32m[I 2021-11-30 15:47:22,970]\u001b[0m Trial 60 finished with value: 0.032030357600204 and parameters: {'lambda_l1': 0.007690460323974571, 'lambda_l2': 1.0026038199848804}. Best is trial 55 with value: 0.03126253982468622.\u001b[0m\n"
     ]
    },
    {
     "name": "stdout",
     "output_type": "stream",
     "text": [
      "Trial 60 finished with value: 0.032030357600204 and parameters: {'lambda_l1': 0.007690460323974571, 'lambda_l2': 1.0026038199848804}. Best is trial 55 with value: 0.03126253982468622.\n"
     ]
    },
    {
     "name": "stderr",
     "output_type": "stream",
     "text": [
      "regularization_factors, val_score: 0.031263:  35%|#############3                        | 7/20 [01:05<01:59,  9.18s/it]C:\\Users\\BenJames\\anaconda3\\envs\\geospatial\\lib\\site-packages\\lightgbm\\engine.py:151: UserWarning: Found `num_iterations` in params. Will use it instead of argument\n",
      "  warnings.warn(\"Found `{}` in params. Will use it instead of argument\".format(alias))\n",
      "C:\\Users\\BenJames\\anaconda3\\envs\\geospatial\\lib\\site-packages\\lightgbm\\engine.py:156: UserWarning: Found `early_stopping_round` in params. Will use it instead of argument\n",
      "  warnings.warn(\"Found `{}` in params. Will use it instead of argument\".format(alias))\n"
     ]
    },
    {
     "name": "stdout",
     "output_type": "stream",
     "text": [
      "Training until validation scores don't improve for 200 rounds\n"
     ]
    },
    {
     "name": "stderr",
     "output_type": "stream",
     "text": [
      "regularization_factors, val_score: 0.031263:  40%|###############2                      | 8/20 [01:14<01:51,  9.30s/it]\u001b[32m[I 2021-11-30 15:47:32,543]\u001b[0m Trial 61 finished with value: 0.03144563113004935 and parameters: {'lambda_l1': 0.021157504341310498, 'lambda_l2': 0.0006113630914725304}. Best is trial 55 with value: 0.03126253982468622.\u001b[0m\n"
     ]
    },
    {
     "name": "stdout",
     "output_type": "stream",
     "text": [
      "[100]\tvalid_0's binary_logloss: 0.0164717\tvalid_1's binary_logloss: 0.0314456\n",
      "Did not meet early stopping. Best iteration is:\n",
      "[100]\tvalid_0's binary_logloss: 0.0164717\tvalid_1's binary_logloss: 0.0314456\n",
      "Trial 61 finished with value: 0.03144563113004935 and parameters: {'lambda_l1': 0.021157504341310498, 'lambda_l2': 0.0006113630914725304}. Best is trial 55 with value: 0.03126253982468622.\n"
     ]
    },
    {
     "name": "stderr",
     "output_type": "stream",
     "text": [
      "regularization_factors, val_score: 0.031263:  40%|###############2                      | 8/20 [01:14<01:51,  9.30s/it]C:\\Users\\BenJames\\anaconda3\\envs\\geospatial\\lib\\site-packages\\lightgbm\\engine.py:151: UserWarning: Found `num_iterations` in params. Will use it instead of argument\n",
      "  warnings.warn(\"Found `{}` in params. Will use it instead of argument\".format(alias))\n",
      "C:\\Users\\BenJames\\anaconda3\\envs\\geospatial\\lib\\site-packages\\lightgbm\\engine.py:156: UserWarning: Found `early_stopping_round` in params. Will use it instead of argument\n",
      "  warnings.warn(\"Found `{}` in params. Will use it instead of argument\".format(alias))\n"
     ]
    },
    {
     "name": "stdout",
     "output_type": "stream",
     "text": [
      "Training until validation scores don't improve for 200 rounds\n"
     ]
    },
    {
     "name": "stderr",
     "output_type": "stream",
     "text": [
      "regularization_factors, val_score: 0.031263:  45%|#################1                    | 9/20 [01:23<01:42,  9.35s/it]\u001b[32m[I 2021-11-30 15:47:41,962]\u001b[0m Trial 62 finished with value: 0.03162826695172658 and parameters: {'lambda_l1': 1.7447295184553684e-05, 'lambda_l2': 0.09619072224565253}. Best is trial 55 with value: 0.03126253982468622.\u001b[0m\n"
     ]
    },
    {
     "name": "stdout",
     "output_type": "stream",
     "text": [
      "[100]\tvalid_0's binary_logloss: 0.0166945\tvalid_1's binary_logloss: 0.0316283\n",
      "Did not meet early stopping. Best iteration is:\n",
      "[100]\tvalid_0's binary_logloss: 0.0166945\tvalid_1's binary_logloss: 0.0316283\n",
      "Trial 62 finished with value: 0.03162826695172658 and parameters: {'lambda_l1': 1.7447295184553684e-05, 'lambda_l2': 0.09619072224565253}. Best is trial 55 with value: 0.03126253982468622.\n"
     ]
    },
    {
     "name": "stderr",
     "output_type": "stream",
     "text": [
      "regularization_factors, val_score: 0.031263:  45%|#################1                    | 9/20 [01:24<01:42,  9.35s/it]C:\\Users\\BenJames\\anaconda3\\envs\\geospatial\\lib\\site-packages\\lightgbm\\engine.py:151: UserWarning: Found `num_iterations` in params. Will use it instead of argument\n",
      "  warnings.warn(\"Found `{}` in params. Will use it instead of argument\".format(alias))\n",
      "C:\\Users\\BenJames\\anaconda3\\envs\\geospatial\\lib\\site-packages\\lightgbm\\engine.py:156: UserWarning: Found `early_stopping_round` in params. Will use it instead of argument\n",
      "  warnings.warn(\"Found `{}` in params. Will use it instead of argument\".format(alias))\n"
     ]
    },
    {
     "name": "stdout",
     "output_type": "stream",
     "text": [
      "Training until validation scores don't improve for 200 rounds\n"
     ]
    },
    {
     "name": "stderr",
     "output_type": "stream",
     "text": [
      "regularization_factors, val_score: 0.031263:  50%|##################5                  | 10/20 [01:33<01:33,  9.38s/it]"
     ]
    },
    {
     "name": "stdout",
     "output_type": "stream",
     "text": [
      "[100]\tvalid_0's binary_logloss: 0.0163001\tvalid_1's binary_logloss: 0.0315494\n",
      "Did not meet early stopping. Best iteration is:\n",
      "[100]\tvalid_0's binary_logloss: 0.0163001\tvalid_1's binary_logloss: 0.0315494\n"
     ]
    },
    {
     "name": "stderr",
     "output_type": "stream",
     "text": [
      "\u001b[32m[I 2021-11-30 15:47:51,466]\u001b[0m Trial 63 finished with value: 0.03154938398449641 and parameters: {'lambda_l1': 0.01579548280997778, 'lambda_l2': 2.4040089769420172e-05}. Best is trial 55 with value: 0.03126253982468622.\u001b[0m\n"
     ]
    },
    {
     "name": "stdout",
     "output_type": "stream",
     "text": [
      "Trial 63 finished with value: 0.03154938398449641 and parameters: {'lambda_l1': 0.01579548280997778, 'lambda_l2': 2.4040089769420172e-05}. Best is trial 55 with value: 0.03126253982468622.\n"
     ]
    },
    {
     "name": "stderr",
     "output_type": "stream",
     "text": [
      "regularization_factors, val_score: 0.031263:  50%|##################5                  | 10/20 [01:33<01:33,  9.38s/it]C:\\Users\\BenJames\\anaconda3\\envs\\geospatial\\lib\\site-packages\\lightgbm\\engine.py:151: UserWarning: Found `num_iterations` in params. Will use it instead of argument\n",
      "  warnings.warn(\"Found `{}` in params. Will use it instead of argument\".format(alias))\n",
      "C:\\Users\\BenJames\\anaconda3\\envs\\geospatial\\lib\\site-packages\\lightgbm\\engine.py:156: UserWarning: Found `early_stopping_round` in params. Will use it instead of argument\n",
      "  warnings.warn(\"Found `{}` in params. Will use it instead of argument\".format(alias))\n"
     ]
    },
    {
     "name": "stdout",
     "output_type": "stream",
     "text": [
      "Training until validation scores don't improve for 200 rounds\n"
     ]
    },
    {
     "name": "stderr",
     "output_type": "stream",
     "text": [
      "regularization_factors, val_score: 0.031263:  55%|####################3                | 11/20 [01:43<01:27,  9.69s/it]"
     ]
    },
    {
     "name": "stdout",
     "output_type": "stream",
     "text": [
      "[100]\tvalid_0's binary_logloss: 0.0164519\tvalid_1's binary_logloss: 0.0315088\n",
      "Did not meet early stopping. Best iteration is:\n",
      "[100]\tvalid_0's binary_logloss: 0.0164519\tvalid_1's binary_logloss: 0.0315088\n"
     ]
    },
    {
     "name": "stderr",
     "output_type": "stream",
     "text": [
      "\u001b[32m[I 2021-11-30 15:48:01,853]\u001b[0m Trial 64 finished with value: 0.031508837844724975 and parameters: {'lambda_l1': 5.217769985085306e-07, 'lambda_l2': 6.582190431039313e-08}. Best is trial 55 with value: 0.03126253982468622.\u001b[0m\n"
     ]
    },
    {
     "name": "stdout",
     "output_type": "stream",
     "text": [
      "Trial 64 finished with value: 0.031508837844724975 and parameters: {'lambda_l1': 5.217769985085306e-07, 'lambda_l2': 6.582190431039313e-08}. Best is trial 55 with value: 0.03126253982468622.\n"
     ]
    },
    {
     "name": "stderr",
     "output_type": "stream",
     "text": [
      "regularization_factors, val_score: 0.031263:  55%|####################3                | 11/20 [01:44<01:27,  9.69s/it]C:\\Users\\BenJames\\anaconda3\\envs\\geospatial\\lib\\site-packages\\lightgbm\\engine.py:151: UserWarning: Found `num_iterations` in params. Will use it instead of argument\n",
      "  warnings.warn(\"Found `{}` in params. Will use it instead of argument\".format(alias))\n",
      "C:\\Users\\BenJames\\anaconda3\\envs\\geospatial\\lib\\site-packages\\lightgbm\\engine.py:156: UserWarning: Found `early_stopping_round` in params. Will use it instead of argument\n",
      "  warnings.warn(\"Found `{}` in params. Will use it instead of argument\".format(alias))\n"
     ]
    },
    {
     "name": "stdout",
     "output_type": "stream",
     "text": [
      "Training until validation scores don't improve for 200 rounds\n"
     ]
    },
    {
     "name": "stderr",
     "output_type": "stream",
     "text": [
      "regularization_factors, val_score: 0.031263:  60%|######################2              | 12/20 [01:53<01:17,  9.73s/it]"
     ]
    },
    {
     "name": "stdout",
     "output_type": "stream",
     "text": [
      "[100]\tvalid_0's binary_logloss: 0.0167608\tvalid_1's binary_logloss: 0.0316093\n",
      "Did not meet early stopping. Best iteration is:\n",
      "[100]\tvalid_0's binary_logloss: 0.0167608\tvalid_1's binary_logloss: 0.0316093\n"
     ]
    },
    {
     "name": "stderr",
     "output_type": "stream",
     "text": [
      "\u001b[32m[I 2021-11-30 15:48:11,738]\u001b[0m Trial 65 finished with value: 0.031609253367650504 and parameters: {'lambda_l1': 5.7838463496565345e-05, 'lambda_l2': 7.443448946095416e-06}. Best is trial 55 with value: 0.03126253982468622.\u001b[0m\n"
     ]
    },
    {
     "name": "stdout",
     "output_type": "stream",
     "text": [
      "Trial 65 finished with value: 0.031609253367650504 and parameters: {'lambda_l1': 5.7838463496565345e-05, 'lambda_l2': 7.443448946095416e-06}. Best is trial 55 with value: 0.03126253982468622.\n"
     ]
    },
    {
     "name": "stderr",
     "output_type": "stream",
     "text": [
      "regularization_factors, val_score: 0.031263:  60%|######################2              | 12/20 [01:53<01:17,  9.73s/it]C:\\Users\\BenJames\\anaconda3\\envs\\geospatial\\lib\\site-packages\\lightgbm\\engine.py:151: UserWarning: Found `num_iterations` in params. Will use it instead of argument\n",
      "  warnings.warn(\"Found `{}` in params. Will use it instead of argument\".format(alias))\n",
      "C:\\Users\\BenJames\\anaconda3\\envs\\geospatial\\lib\\site-packages\\lightgbm\\engine.py:156: UserWarning: Found `early_stopping_round` in params. Will use it instead of argument\n",
      "  warnings.warn(\"Found `{}` in params. Will use it instead of argument\".format(alias))\n"
     ]
    },
    {
     "name": "stdout",
     "output_type": "stream",
     "text": [
      "Training until validation scores don't improve for 200 rounds\n"
     ]
    },
    {
     "name": "stderr",
     "output_type": "stream",
     "text": [
      "regularization_factors, val_score: 0.031263:  65%|########################             | 13/20 [02:03<01:08,  9.79s/it]"
     ]
    },
    {
     "name": "stdout",
     "output_type": "stream",
     "text": [
      "[100]\tvalid_0's binary_logloss: 0.0166081\tvalid_1's binary_logloss: 0.031801\n",
      "Did not meet early stopping. Best iteration is:\n",
      "[100]\tvalid_0's binary_logloss: 0.0166081\tvalid_1's binary_logloss: 0.031801\n"
     ]
    },
    {
     "name": "stderr",
     "output_type": "stream",
     "text": [
      "\u001b[32m[I 2021-11-30 15:48:21,649]\u001b[0m Trial 66 finished with value: 0.031801031877056816 and parameters: {'lambda_l1': 7.08207006242917e-07, 'lambda_l2': 0.0001447477778439047}. Best is trial 55 with value: 0.03126253982468622.\u001b[0m\n"
     ]
    },
    {
     "name": "stdout",
     "output_type": "stream",
     "text": [
      "Trial 66 finished with value: 0.031801031877056816 and parameters: {'lambda_l1': 7.08207006242917e-07, 'lambda_l2': 0.0001447477778439047}. Best is trial 55 with value: 0.03126253982468622.\n"
     ]
    },
    {
     "name": "stderr",
     "output_type": "stream",
     "text": [
      "regularization_factors, val_score: 0.031263:  65%|########################             | 13/20 [02:03<01:08,  9.79s/it]C:\\Users\\BenJames\\anaconda3\\envs\\geospatial\\lib\\site-packages\\lightgbm\\engine.py:151: UserWarning: Found `num_iterations` in params. Will use it instead of argument\n",
      "  warnings.warn(\"Found `{}` in params. Will use it instead of argument\".format(alias))\n",
      "C:\\Users\\BenJames\\anaconda3\\envs\\geospatial\\lib\\site-packages\\lightgbm\\engine.py:156: UserWarning: Found `early_stopping_round` in params. Will use it instead of argument\n",
      "  warnings.warn(\"Found `{}` in params. Will use it instead of argument\".format(alias))\n"
     ]
    },
    {
     "name": "stdout",
     "output_type": "stream",
     "text": [
      "Training until validation scores don't improve for 200 rounds\n"
     ]
    },
    {
     "name": "stderr",
     "output_type": "stream",
     "text": [
      "regularization_factors, val_score: 0.031263:  70%|#########################9           | 14/20 [02:13<00:58,  9.77s/it]\u001b[32m[I 2021-11-30 15:48:31,336]\u001b[0m Trial 67 finished with value: 0.031613835483990445 and parameters: {'lambda_l1': 0.0005714173045075007, 'lambda_l2': 8.004634069613187e-07}. Best is trial 55 with value: 0.03126253982468622.\u001b[0m\n"
     ]
    },
    {
     "name": "stdout",
     "output_type": "stream",
     "text": [
      "[100]\tvalid_0's binary_logloss: 0.0167312\tvalid_1's binary_logloss: 0.0316138\n",
      "Did not meet early stopping. Best iteration is:\n",
      "[100]\tvalid_0's binary_logloss: 0.0167312\tvalid_1's binary_logloss: 0.0316138\n",
      "Trial 67 finished with value: 0.031613835483990445 and parameters: {'lambda_l1': 0.0005714173045075007, 'lambda_l2': 8.004634069613187e-07}. Best is trial 55 with value: 0.03126253982468622.\n"
     ]
    },
    {
     "name": "stderr",
     "output_type": "stream",
     "text": [
      "regularization_factors, val_score: 0.031263:  70%|#########################9           | 14/20 [02:13<00:58,  9.77s/it]C:\\Users\\BenJames\\anaconda3\\envs\\geospatial\\lib\\site-packages\\lightgbm\\engine.py:151: UserWarning: Found `num_iterations` in params. Will use it instead of argument\n",
      "  warnings.warn(\"Found `{}` in params. Will use it instead of argument\".format(alias))\n",
      "C:\\Users\\BenJames\\anaconda3\\envs\\geospatial\\lib\\site-packages\\lightgbm\\engine.py:156: UserWarning: Found `early_stopping_round` in params. Will use it instead of argument\n",
      "  warnings.warn(\"Found `{}` in params. Will use it instead of argument\".format(alias))\n"
     ]
    },
    {
     "name": "stdout",
     "output_type": "stream",
     "text": [
      "Training until validation scores don't improve for 200 rounds\n"
     ]
    },
    {
     "name": "stderr",
     "output_type": "stream",
     "text": [
      "regularization_factors, val_score: 0.031263:  75%|###########################7         | 15/20 [02:22<00:48,  9.76s/it]"
     ]
    },
    {
     "name": "stdout",
     "output_type": "stream",
     "text": [
      "[100]\tvalid_0's binary_logloss: 0.0163452\tvalid_1's binary_logloss: 0.031435\n",
      "Did not meet early stopping. Best iteration is:\n",
      "[100]\tvalid_0's binary_logloss: 0.0163452\tvalid_1's binary_logloss: 0.031435\n"
     ]
    },
    {
     "name": "stderr",
     "output_type": "stream",
     "text": [
      "\u001b[32m[I 2021-11-30 15:48:41,068]\u001b[0m Trial 68 finished with value: 0.03143498038054018 and parameters: {'lambda_l1': 1.977858951398259e-08, 'lambda_l2': 0.0012097694953980141}. Best is trial 55 with value: 0.03126253982468622.\u001b[0m\n"
     ]
    },
    {
     "name": "stdout",
     "output_type": "stream",
     "text": [
      "Trial 68 finished with value: 0.03143498038054018 and parameters: {'lambda_l1': 1.977858951398259e-08, 'lambda_l2': 0.0012097694953980141}. Best is trial 55 with value: 0.03126253982468622.\n"
     ]
    },
    {
     "name": "stderr",
     "output_type": "stream",
     "text": [
      "regularization_factors, val_score: 0.031263:  75%|###########################7         | 15/20 [02:23<00:48,  9.76s/it]C:\\Users\\BenJames\\anaconda3\\envs\\geospatial\\lib\\site-packages\\lightgbm\\engine.py:151: UserWarning: Found `num_iterations` in params. Will use it instead of argument\n",
      "  warnings.warn(\"Found `{}` in params. Will use it instead of argument\".format(alias))\n",
      "C:\\Users\\BenJames\\anaconda3\\envs\\geospatial\\lib\\site-packages\\lightgbm\\engine.py:156: UserWarning: Found `early_stopping_round` in params. Will use it instead of argument\n",
      "  warnings.warn(\"Found `{}` in params. Will use it instead of argument\".format(alias))\n"
     ]
    },
    {
     "name": "stdout",
     "output_type": "stream",
     "text": [
      "Training until validation scores don't improve for 200 rounds\n"
     ]
    },
    {
     "name": "stderr",
     "output_type": "stream",
     "text": [
      "regularization_factors, val_score: 0.031263:  80%|#############################6       | 16/20 [02:31<00:37,  9.31s/it]\u001b[32m[I 2021-11-30 15:48:49,327]\u001b[0m Trial 69 finished with value: 0.03565551473737809 and parameters: {'lambda_l1': 7.463365965774157, 'lambda_l2': 1.0978449376483323e-08}. Best is trial 55 with value: 0.03126253982468622.\u001b[0m\n"
     ]
    },
    {
     "name": "stdout",
     "output_type": "stream",
     "text": [
      "[100]\tvalid_0's binary_logloss: 0.027763\tvalid_1's binary_logloss: 0.0356555\n",
      "Did not meet early stopping. Best iteration is:\n",
      "[100]\tvalid_0's binary_logloss: 0.027763\tvalid_1's binary_logloss: 0.0356555\n",
      "Trial 69 finished with value: 0.03565551473737809 and parameters: {'lambda_l1': 7.463365965774157, 'lambda_l2': 1.0978449376483323e-08}. Best is trial 55 with value: 0.03126253982468622.\n"
     ]
    },
    {
     "name": "stderr",
     "output_type": "stream",
     "text": [
      "regularization_factors, val_score: 0.031263:  80%|#############################6       | 16/20 [02:31<00:37,  9.31s/it]C:\\Users\\BenJames\\anaconda3\\envs\\geospatial\\lib\\site-packages\\lightgbm\\engine.py:151: UserWarning: Found `num_iterations` in params. Will use it instead of argument\n",
      "  warnings.warn(\"Found `{}` in params. Will use it instead of argument\".format(alias))\n",
      "C:\\Users\\BenJames\\anaconda3\\envs\\geospatial\\lib\\site-packages\\lightgbm\\engine.py:156: UserWarning: Found `early_stopping_round` in params. Will use it instead of argument\n",
      "  warnings.warn(\"Found `{}` in params. Will use it instead of argument\".format(alias))\n"
     ]
    },
    {
     "name": "stdout",
     "output_type": "stream",
     "text": [
      "Training until validation scores don't improve for 200 rounds\n"
     ]
    },
    {
     "name": "stderr",
     "output_type": "stream",
     "text": [
      "regularization_factors, val_score: 0.031263:  85%|###############################4     | 17/20 [02:40<00:28,  9.43s/it]\u001b[32m[I 2021-11-30 15:48:59,034]\u001b[0m Trial 70 finished with value: 0.031588270725007174 and parameters: {'lambda_l1': 0.0003885169202095502, 'lambda_l2': 9.794477405684299e-06}. Best is trial 55 with value: 0.03126253982468622.\u001b[0m\n"
     ]
    },
    {
     "name": "stdout",
     "output_type": "stream",
     "text": [
      "[100]\tvalid_0's binary_logloss: 0.0167569\tvalid_1's binary_logloss: 0.0315883\n",
      "Did not meet early stopping. Best iteration is:\n",
      "[100]\tvalid_0's binary_logloss: 0.0167569\tvalid_1's binary_logloss: 0.0315883\n",
      "Trial 70 finished with value: 0.031588270725007174 and parameters: {'lambda_l1': 0.0003885169202095502, 'lambda_l2': 9.794477405684299e-06}. Best is trial 55 with value: 0.03126253982468622.\n"
     ]
    },
    {
     "name": "stderr",
     "output_type": "stream",
     "text": [
      "regularization_factors, val_score: 0.031263:  85%|###############################4     | 17/20 [02:41<00:28,  9.43s/it]C:\\Users\\BenJames\\anaconda3\\envs\\geospatial\\lib\\site-packages\\lightgbm\\engine.py:151: UserWarning: Found `num_iterations` in params. Will use it instead of argument\n",
      "  warnings.warn(\"Found `{}` in params. Will use it instead of argument\".format(alias))\n",
      "C:\\Users\\BenJames\\anaconda3\\envs\\geospatial\\lib\\site-packages\\lightgbm\\engine.py:156: UserWarning: Found `early_stopping_round` in params. Will use it instead of argument\n",
      "  warnings.warn(\"Found `{}` in params. Will use it instead of argument\".format(alias))\n"
     ]
    },
    {
     "name": "stdout",
     "output_type": "stream",
     "text": [
      "Training until validation scores don't improve for 200 rounds\n"
     ]
    },
    {
     "name": "stderr",
     "output_type": "stream",
     "text": [
      "regularization_factors, val_score: 0.031263:  90%|#################################3   | 18/20 [02:50<00:18,  9.32s/it]"
     ]
    },
    {
     "name": "stdout",
     "output_type": "stream",
     "text": [
      "[100]\tvalid_0's binary_logloss: 0.0174619\tvalid_1's binary_logloss: 0.0317368\n",
      "Did not meet early stopping. Best iteration is:\n",
      "[100]\tvalid_0's binary_logloss: 0.0174619\tvalid_1's binary_logloss: 0.0317368\n"
     ]
    },
    {
     "name": "stderr",
     "output_type": "stream",
     "text": [
      "\u001b[32m[I 2021-11-30 15:49:08,102]\u001b[0m Trial 71 finished with value: 0.03173679046071537 and parameters: {'lambda_l1': 0.2549283659233666, 'lambda_l2': 0.00012788701175140375}. Best is trial 55 with value: 0.03126253982468622.\u001b[0m\n"
     ]
    },
    {
     "name": "stdout",
     "output_type": "stream",
     "text": [
      "Trial 71 finished with value: 0.03173679046071537 and parameters: {'lambda_l1': 0.2549283659233666, 'lambda_l2': 0.00012788701175140375}. Best is trial 55 with value: 0.03126253982468622.\n"
     ]
    },
    {
     "name": "stderr",
     "output_type": "stream",
     "text": [
      "regularization_factors, val_score: 0.031263:  90%|#################################3   | 18/20 [02:50<00:18,  9.32s/it]C:\\Users\\BenJames\\anaconda3\\envs\\geospatial\\lib\\site-packages\\lightgbm\\engine.py:151: UserWarning: Found `num_iterations` in params. Will use it instead of argument\n",
      "  warnings.warn(\"Found `{}` in params. Will use it instead of argument\".format(alias))\n",
      "C:\\Users\\BenJames\\anaconda3\\envs\\geospatial\\lib\\site-packages\\lightgbm\\engine.py:156: UserWarning: Found `early_stopping_round` in params. Will use it instead of argument\n",
      "  warnings.warn(\"Found `{}` in params. Will use it instead of argument\".format(alias))\n"
     ]
    },
    {
     "name": "stdout",
     "output_type": "stream",
     "text": [
      "Training until validation scores don't improve for 200 rounds\n"
     ]
    },
    {
     "name": "stderr",
     "output_type": "stream",
     "text": [
      "regularization_factors, val_score: 0.031263:  95%|###################################1 | 19/20 [03:00<00:09,  9.71s/it]"
     ]
    },
    {
     "name": "stdout",
     "output_type": "stream",
     "text": [
      "[100]\tvalid_0's binary_logloss: 0.0158029\tvalid_1's binary_logloss: 0.0313262\n",
      "Did not meet early stopping. Best iteration is:\n",
      "[100]\tvalid_0's binary_logloss: 0.0158029\tvalid_1's binary_logloss: 0.0313262\n"
     ]
    },
    {
     "name": "stderr",
     "output_type": "stream",
     "text": [
      "\u001b[32m[I 2021-11-30 15:49:18,748]\u001b[0m Trial 72 finished with value: 0.03132616439383203 and parameters: {'lambda_l1': 2.377122585505113e-06, 'lambda_l2': 8.415588941525416e-07}. Best is trial 55 with value: 0.03126253982468622.\u001b[0m\n"
     ]
    },
    {
     "name": "stdout",
     "output_type": "stream",
     "text": [
      "Trial 72 finished with value: 0.03132616439383203 and parameters: {'lambda_l1': 2.377122585505113e-06, 'lambda_l2': 8.415588941525416e-07}. Best is trial 55 with value: 0.03126253982468622.\n"
     ]
    },
    {
     "name": "stderr",
     "output_type": "stream",
     "text": [
      "regularization_factors, val_score: 0.031263:  95%|###################################1 | 19/20 [03:00<00:09,  9.71s/it]C:\\Users\\BenJames\\anaconda3\\envs\\geospatial\\lib\\site-packages\\lightgbm\\engine.py:151: UserWarning: Found `num_iterations` in params. Will use it instead of argument\n",
      "  warnings.warn(\"Found `{}` in params. Will use it instead of argument\".format(alias))\n",
      "C:\\Users\\BenJames\\anaconda3\\envs\\geospatial\\lib\\site-packages\\lightgbm\\engine.py:156: UserWarning: Found `early_stopping_round` in params. Will use it instead of argument\n",
      "  warnings.warn(\"Found `{}` in params. Will use it instead of argument\".format(alias))\n"
     ]
    },
    {
     "name": "stdout",
     "output_type": "stream",
     "text": [
      "Training until validation scores don't improve for 200 rounds\n"
     ]
    },
    {
     "name": "stderr",
     "output_type": "stream",
     "text": [
      "regularization_factors, val_score: 0.031263: 100%|#####################################| 20/20 [03:10<00:00,  9.90s/it]"
     ]
    },
    {
     "name": "stdout",
     "output_type": "stream",
     "text": [
      "[100]\tvalid_0's binary_logloss: 0.0167157\tvalid_1's binary_logloss: 0.0317006\n",
      "Did not meet early stopping. Best iteration is:\n",
      "[100]\tvalid_0's binary_logloss: 0.0167157\tvalid_1's binary_logloss: 0.0317006\n"
     ]
    },
    {
     "name": "stderr",
     "output_type": "stream",
     "text": [
      "\u001b[32m[I 2021-11-30 15:49:29,114]\u001b[0m Trial 73 finished with value: 0.03170057772927753 and parameters: {'lambda_l1': 2.66586357653121e-06, 'lambda_l2': 8.890961186231676e-07}. Best is trial 55 with value: 0.03126253982468622.\u001b[0m\n"
     ]
    },
    {
     "name": "stdout",
     "output_type": "stream",
     "text": [
      "Trial 73 finished with value: 0.03170057772927753 and parameters: {'lambda_l1': 2.66586357653121e-06, 'lambda_l2': 8.890961186231676e-07}. Best is trial 55 with value: 0.03126253982468622.\n"
     ]
    },
    {
     "name": "stderr",
     "output_type": "stream",
     "text": [
      "regularization_factors, val_score: 0.031263: 100%|#####################################| 20/20 [03:11<00:00,  9.57s/it]\n"
     ]
    }
   ],
   "source": [
    "params[\"feature_fraction\"] = 0.5\n",
    "imp19_tuner = useOptunaLGBMTuner(dtrain, dval, params=params, lc_class=k, suffix=tday, resume=False)\n",
    "%chime"
   ]
  },
  {
   "cell_type": "code",
   "execution_count": 13,
   "metadata": {},
   "outputs": [
    {
     "data": {
      "text/plain": [
       "{'objective': 'binary',\n",
       " 'metric': 'binary_logloss',\n",
       " 'verbosity': -1,\n",
       " 'boosting_type': 'gbdt',\n",
       " 'max_depth': 12,\n",
       " 'min_child_samples': 20,\n",
       " 'early_stopping_round': 200,\n",
       " 'n_jobs': 8,\n",
       " 'scale_pos_weight': 0.7241379310344828,\n",
       " 'num_iterations': 100,\n",
       " 'feature_fraction': 0.920421052631579,\n",
       " 'feature_pre_filter': False,\n",
       " 'lambda_l1': 1.3484468348861228e-08,\n",
       " 'lambda_l2': 0.001960064387238065,\n",
       " 'num_leaves': 826,\n",
       " 'bagging_fraction': 0.7019911552190997,\n",
       " 'bagging_freq': 2}"
      ]
     },
     "execution_count": 13,
     "metadata": {},
     "output_type": "execute_result"
    }
   ],
   "source": [
    "bestParams"
   ]
  },
  {
   "cell_type": "code",
   "execution_count": 12,
   "metadata": {
    "scrolled": true
   },
   "outputs": [
    {
     "name": "stdout",
     "output_type": "stream",
     "text": [
      "[1]\ttraining's binary_logloss: 0.274966\tvalid_1's binary_logloss: 0.276499\n",
      "Training until validation scores don't improve for 200 rounds\n",
      "[2]\ttraining's binary_logloss: 0.236466\tvalid_1's binary_logloss: 0.238345\n",
      "[3]\ttraining's binary_logloss: 0.208937\tvalid_1's binary_logloss: 0.211147\n",
      "[4]\ttraining's binary_logloss: 0.187951\tvalid_1's binary_logloss: 0.190658\n",
      "[5]\ttraining's binary_logloss: 0.169975\tvalid_1's binary_logloss: 0.172966\n",
      "[6]\ttraining's binary_logloss: 0.155315\tvalid_1's binary_logloss: 0.15852\n",
      "[7]\ttraining's binary_logloss: 0.142585\tvalid_1's binary_logloss: 0.146001\n",
      "[8]\ttraining's binary_logloss: 0.131638\tvalid_1's binary_logloss: 0.135245\n",
      "[9]\ttraining's binary_logloss: 0.121827\tvalid_1's binary_logloss: 0.125695\n",
      "[10]\ttraining's binary_logloss: 0.113334\tvalid_1's binary_logloss: 0.117402\n",
      "[11]\ttraining's binary_logloss: 0.105976\tvalid_1's binary_logloss: 0.110254\n",
      "[12]\ttraining's binary_logloss: 0.0992167\tvalid_1's binary_logloss: 0.103753\n",
      "[13]\ttraining's binary_logloss: 0.0936206\tvalid_1's binary_logloss: 0.098286\n",
      "[14]\ttraining's binary_logloss: 0.0883479\tvalid_1's binary_logloss: 0.0931704\n",
      "[15]\ttraining's binary_logloss: 0.0833203\tvalid_1's binary_logloss: 0.0883497\n",
      "[16]\ttraining's binary_logloss: 0.07936\tvalid_1's binary_logloss: 0.084548\n",
      "[17]\ttraining's binary_logloss: 0.0752021\tvalid_1's binary_logloss: 0.0805611\n",
      "[18]\ttraining's binary_logloss: 0.0714354\tvalid_1's binary_logloss: 0.0769696\n",
      "[19]\ttraining's binary_logloss: 0.0680199\tvalid_1's binary_logloss: 0.0736873\n",
      "[20]\ttraining's binary_logloss: 0.0648649\tvalid_1's binary_logloss: 0.0707139\n",
      "[21]\ttraining's binary_logloss: 0.0620255\tvalid_1's binary_logloss: 0.0680615\n",
      "[22]\ttraining's binary_logloss: 0.0595019\tvalid_1's binary_logloss: 0.0657408\n",
      "[23]\ttraining's binary_logloss: 0.0572774\tvalid_1's binary_logloss: 0.0636537\n",
      "[24]\ttraining's binary_logloss: 0.0553495\tvalid_1's binary_logloss: 0.0618762\n",
      "[25]\ttraining's binary_logloss: 0.0536051\tvalid_1's binary_logloss: 0.0602794\n",
      "[26]\ttraining's binary_logloss: 0.0519244\tvalid_1's binary_logloss: 0.0587416\n",
      "[27]\ttraining's binary_logloss: 0.0500325\tvalid_1's binary_logloss: 0.0570508\n",
      "[28]\ttraining's binary_logloss: 0.0483501\tvalid_1's binary_logloss: 0.0554911\n",
      "[29]\ttraining's binary_logloss: 0.04679\tvalid_1's binary_logloss: 0.0541012\n",
      "[30]\ttraining's binary_logloss: 0.0456105\tvalid_1's binary_logloss: 0.0530128\n",
      "[31]\ttraining's binary_logloss: 0.044573\tvalid_1's binary_logloss: 0.0520685\n",
      "[32]\ttraining's binary_logloss: 0.04326\tvalid_1's binary_logloss: 0.0509011\n",
      "[33]\ttraining's binary_logloss: 0.0421025\tvalid_1's binary_logloss: 0.0498694\n",
      "[34]\ttraining's binary_logloss: 0.0412745\tvalid_1's binary_logloss: 0.0491341\n",
      "[35]\ttraining's binary_logloss: 0.04034\tvalid_1's binary_logloss: 0.0483186\n",
      "[36]\ttraining's binary_logloss: 0.0396198\tvalid_1's binary_logloss: 0.0477002\n",
      "[37]\ttraining's binary_logloss: 0.0388969\tvalid_1's binary_logloss: 0.0470719\n",
      "[38]\ttraining's binary_logloss: 0.0383016\tvalid_1's binary_logloss: 0.0465307\n",
      "[39]\ttraining's binary_logloss: 0.0375879\tvalid_1's binary_logloss: 0.0459681\n",
      "[40]\ttraining's binary_logloss: 0.0369358\tvalid_1's binary_logloss: 0.0454638\n",
      "[41]\ttraining's binary_logloss: 0.0361468\tvalid_1's binary_logloss: 0.0447907\n",
      "[42]\ttraining's binary_logloss: 0.0354223\tvalid_1's binary_logloss: 0.0441418\n",
      "[43]\ttraining's binary_logloss: 0.0348272\tvalid_1's binary_logloss: 0.0436679\n",
      "[44]\ttraining's binary_logloss: 0.0343068\tvalid_1's binary_logloss: 0.0432905\n",
      "[45]\ttraining's binary_logloss: 0.0336116\tvalid_1's binary_logloss: 0.0427255\n",
      "[46]\ttraining's binary_logloss: 0.0330039\tvalid_1's binary_logloss: 0.0421953\n",
      "[47]\ttraining's binary_logloss: 0.0325489\tvalid_1's binary_logloss: 0.0418322\n",
      "[48]\ttraining's binary_logloss: 0.0321914\tvalid_1's binary_logloss: 0.0414993\n",
      "[49]\ttraining's binary_logloss: 0.0317477\tvalid_1's binary_logloss: 0.0412083\n",
      "[50]\ttraining's binary_logloss: 0.0312672\tvalid_1's binary_logloss: 0.0408578\n",
      "[51]\ttraining's binary_logloss: 0.030888\tvalid_1's binary_logloss: 0.0405892\n",
      "[52]\ttraining's binary_logloss: 0.0306356\tvalid_1's binary_logloss: 0.0403891\n",
      "[53]\ttraining's binary_logloss: 0.0300438\tvalid_1's binary_logloss: 0.039928\n",
      "[54]\ttraining's binary_logloss: 0.0295825\tvalid_1's binary_logloss: 0.0396088\n",
      "[55]\ttraining's binary_logloss: 0.0290909\tvalid_1's binary_logloss: 0.0391992\n",
      "[56]\ttraining's binary_logloss: 0.0286446\tvalid_1's binary_logloss: 0.0388627\n",
      "[57]\ttraining's binary_logloss: 0.0282463\tvalid_1's binary_logloss: 0.0385975\n",
      "[58]\ttraining's binary_logloss: 0.0280319\tvalid_1's binary_logloss: 0.0384237\n",
      "[59]\ttraining's binary_logloss: 0.0278163\tvalid_1's binary_logloss: 0.0382737\n",
      "[60]\ttraining's binary_logloss: 0.0276412\tvalid_1's binary_logloss: 0.0381502\n",
      "[61]\ttraining's binary_logloss: 0.0273017\tvalid_1's binary_logloss: 0.0379102\n",
      "[62]\ttraining's binary_logloss: 0.02713\tvalid_1's binary_logloss: 0.0378051\n",
      "[63]\ttraining's binary_logloss: 0.0268875\tvalid_1's binary_logloss: 0.0375892\n",
      "[64]\ttraining's binary_logloss: 0.0265791\tvalid_1's binary_logloss: 0.0373456\n",
      "[65]\ttraining's binary_logloss: 0.0263466\tvalid_1's binary_logloss: 0.0371814\n",
      "[66]\ttraining's binary_logloss: 0.0261113\tvalid_1's binary_logloss: 0.0370118\n",
      "[67]\ttraining's binary_logloss: 0.0258983\tvalid_1's binary_logloss: 0.0368698\n",
      "[68]\ttraining's binary_logloss: 0.0254926\tvalid_1's binary_logloss: 0.0365845\n",
      "[69]\ttraining's binary_logloss: 0.025158\tvalid_1's binary_logloss: 0.0364061\n",
      "[70]\ttraining's binary_logloss: 0.0249227\tvalid_1's binary_logloss: 0.0362437\n",
      "[71]\ttraining's binary_logloss: 0.0245617\tvalid_1's binary_logloss: 0.0359514\n",
      "[72]\ttraining's binary_logloss: 0.0243606\tvalid_1's binary_logloss: 0.0358109\n",
      "[73]\ttraining's binary_logloss: 0.0241059\tvalid_1's binary_logloss: 0.0356311\n",
      "[74]\ttraining's binary_logloss: 0.0238528\tvalid_1's binary_logloss: 0.0354536\n",
      "[75]\ttraining's binary_logloss: 0.0234173\tvalid_1's binary_logloss: 0.0352027\n",
      "[76]\ttraining's binary_logloss: 0.0228219\tvalid_1's binary_logloss: 0.0349154\n",
      "[77]\ttraining's binary_logloss: 0.0226837\tvalid_1's binary_logloss: 0.0348244\n",
      "[78]\ttraining's binary_logloss: 0.0223655\tvalid_1's binary_logloss: 0.0346265\n",
      "[79]\ttraining's binary_logloss: 0.0219783\tvalid_1's binary_logloss: 0.0343977\n",
      "[80]\ttraining's binary_logloss: 0.0216636\tvalid_1's binary_logloss: 0.034208\n",
      "[81]\ttraining's binary_logloss: 0.0214854\tvalid_1's binary_logloss: 0.0340875\n",
      "[82]\ttraining's binary_logloss: 0.0212545\tvalid_1's binary_logloss: 0.0339615\n",
      "[83]\ttraining's binary_logloss: 0.0208795\tvalid_1's binary_logloss: 0.0337844\n",
      "[84]\ttraining's binary_logloss: 0.0207451\tvalid_1's binary_logloss: 0.0337318\n",
      "[85]\ttraining's binary_logloss: 0.0203042\tvalid_1's binary_logloss: 0.0335062\n",
      "[86]\ttraining's binary_logloss: 0.0201015\tvalid_1's binary_logloss: 0.0334233\n",
      "[87]\ttraining's binary_logloss: 0.0197153\tvalid_1's binary_logloss: 0.0331992\n",
      "[88]\ttraining's binary_logloss: 0.0194989\tvalid_1's binary_logloss: 0.0330988\n",
      "[89]\ttraining's binary_logloss: 0.0191167\tvalid_1's binary_logloss: 0.0329231\n",
      "[90]\ttraining's binary_logloss: 0.0186843\tvalid_1's binary_logloss: 0.0326774\n",
      "[91]\ttraining's binary_logloss: 0.0182287\tvalid_1's binary_logloss: 0.0323982\n",
      "[92]\ttraining's binary_logloss: 0.0180889\tvalid_1's binary_logloss: 0.0323655\n",
      "[93]\ttraining's binary_logloss: 0.0177595\tvalid_1's binary_logloss: 0.0321661\n",
      "[94]\ttraining's binary_logloss: 0.0175641\tvalid_1's binary_logloss: 0.0320864\n",
      "[95]\ttraining's binary_logloss: 0.0173701\tvalid_1's binary_logloss: 0.0319815\n",
      "[96]\ttraining's binary_logloss: 0.0171064\tvalid_1's binary_logloss: 0.0318306\n",
      "[97]\ttraining's binary_logloss: 0.0169292\tvalid_1's binary_logloss: 0.0316877\n",
      "[98]\ttraining's binary_logloss: 0.0167967\tvalid_1's binary_logloss: 0.031575\n",
      "[99]\ttraining's binary_logloss: 0.0164134\tvalid_1's binary_logloss: 0.031398\n",
      "[100]\ttraining's binary_logloss: 0.0161528\tvalid_1's binary_logloss: 0.0312625\n",
      "Did not meet early stopping. Best iteration is:\n",
      "[100]\ttraining's binary_logloss: 0.0161528\tvalid_1's binary_logloss: 0.0312625\n",
      "[1]\ttraining's binary_logloss: 0.278958\tvalid_1's binary_logloss: 0.280868\n",
      "Training until validation scores don't improve for 200 rounds\n",
      "[2]\ttraining's binary_logloss: 0.243947\tvalid_1's binary_logloss: 0.246244\n",
      "[3]\ttraining's binary_logloss: 0.216573\tvalid_1's binary_logloss: 0.219223\n",
      "[4]\ttraining's binary_logloss: 0.195363\tvalid_1's binary_logloss: 0.198348\n",
      "[5]\ttraining's binary_logloss: 0.17928\tvalid_1's binary_logloss: 0.182611\n",
      "[6]\ttraining's binary_logloss: 0.163743\tvalid_1's binary_logloss: 0.167234\n",
      "[7]\ttraining's binary_logloss: 0.150812\tvalid_1's binary_logloss: 0.154506\n",
      "[8]\ttraining's binary_logloss: 0.139781\tvalid_1's binary_logloss: 0.143717\n",
      "[9]\ttraining's binary_logloss: 0.129878\tvalid_1's binary_logloss: 0.133983\n",
      "[10]\ttraining's binary_logloss: 0.12127\tvalid_1's binary_logloss: 0.12554\n",
      "[11]\ttraining's binary_logloss: 0.11357\tvalid_1's binary_logloss: 0.117983\n",
      "[12]\ttraining's binary_logloss: 0.107385\tvalid_1's binary_logloss: 0.112022\n",
      "[13]\ttraining's binary_logloss: 0.101733\tvalid_1's binary_logloss: 0.106569\n",
      "[14]\ttraining's binary_logloss: 0.0959715\tvalid_1's binary_logloss: 0.100953\n",
      "[15]\ttraining's binary_logloss: 0.0909872\tvalid_1's binary_logloss: 0.0960523\n",
      "[16]\ttraining's binary_logloss: 0.0868534\tvalid_1's binary_logloss: 0.0921025\n",
      "[17]\ttraining's binary_logloss: 0.0830008\tvalid_1's binary_logloss: 0.0884185\n",
      "[18]\ttraining's binary_logloss: 0.0793121\tvalid_1's binary_logloss: 0.0848453\n",
      "[19]\ttraining's binary_logloss: 0.0757846\tvalid_1's binary_logloss: 0.0813824\n",
      "[20]\ttraining's binary_logloss: 0.0723045\tvalid_1's binary_logloss: 0.0780056\n",
      "[21]\ttraining's binary_logloss: 0.0695781\tvalid_1's binary_logloss: 0.0754171\n",
      "[22]\ttraining's binary_logloss: 0.0669827\tvalid_1's binary_logloss: 0.0729245\n",
      "[23]\ttraining's binary_logloss: 0.0645051\tvalid_1's binary_logloss: 0.0706095\n",
      "[24]\ttraining's binary_logloss: 0.0619298\tvalid_1's binary_logloss: 0.0681386\n",
      "[25]\ttraining's binary_logloss: 0.0599456\tvalid_1's binary_logloss: 0.066308\n",
      "[26]\ttraining's binary_logloss: 0.0579457\tvalid_1's binary_logloss: 0.0644211\n",
      "[27]\ttraining's binary_logloss: 0.056255\tvalid_1's binary_logloss: 0.0629015\n",
      "[28]\ttraining's binary_logloss: 0.054694\tvalid_1's binary_logloss: 0.0614444\n",
      "[29]\ttraining's binary_logloss: 0.0530243\tvalid_1's binary_logloss: 0.0598892\n",
      "[30]\ttraining's binary_logloss: 0.0515658\tvalid_1's binary_logloss: 0.058557\n",
      "[31]\ttraining's binary_logloss: 0.0501091\tvalid_1's binary_logloss: 0.0572379\n",
      "[32]\ttraining's binary_logloss: 0.0487862\tvalid_1's binary_logloss: 0.0559996\n",
      "[33]\ttraining's binary_logloss: 0.0476479\tvalid_1's binary_logloss: 0.0549746\n",
      "[34]\ttraining's binary_logloss: 0.0465933\tvalid_1's binary_logloss: 0.054009\n",
      "[35]\ttraining's binary_logloss: 0.0454784\tvalid_1's binary_logloss: 0.0529914\n",
      "[36]\ttraining's binary_logloss: 0.0445761\tvalid_1's binary_logloss: 0.0522436\n",
      "[37]\ttraining's binary_logloss: 0.0437737\tvalid_1's binary_logloss: 0.0515853\n",
      "[38]\ttraining's binary_logloss: 0.0429479\tvalid_1's binary_logloss: 0.0508893\n",
      "[39]\ttraining's binary_logloss: 0.0421008\tvalid_1's binary_logloss: 0.0501511\n",
      "[40]\ttraining's binary_logloss: 0.0414453\tvalid_1's binary_logloss: 0.049626\n",
      "[41]\ttraining's binary_logloss: 0.0405352\tvalid_1's binary_logloss: 0.0488918\n",
      "[42]\ttraining's binary_logloss: 0.0395494\tvalid_1's binary_logloss: 0.0480386\n",
      "[43]\ttraining's binary_logloss: 0.0388762\tvalid_1's binary_logloss: 0.0474659\n",
      "[44]\ttraining's binary_logloss: 0.0382629\tvalid_1's binary_logloss: 0.0470449\n",
      "[45]\ttraining's binary_logloss: 0.0376341\tvalid_1's binary_logloss: 0.0465486\n",
      "[46]\ttraining's binary_logloss: 0.0369461\tvalid_1's binary_logloss: 0.045965\n",
      "[47]\ttraining's binary_logloss: 0.0363014\tvalid_1's binary_logloss: 0.0453918\n",
      "[48]\ttraining's binary_logloss: 0.0356991\tvalid_1's binary_logloss: 0.0448846\n",
      "[49]\ttraining's binary_logloss: 0.0350647\tvalid_1's binary_logloss: 0.0444292\n",
      "[50]\ttraining's binary_logloss: 0.0346568\tvalid_1's binary_logloss: 0.044112\n",
      "[51]\ttraining's binary_logloss: 0.0341375\tvalid_1's binary_logloss: 0.0437342\n",
      "[52]\ttraining's binary_logloss: 0.0336227\tvalid_1's binary_logloss: 0.0433383\n",
      "[53]\ttraining's binary_logloss: 0.0331953\tvalid_1's binary_logloss: 0.0430334\n",
      "[54]\ttraining's binary_logloss: 0.0326358\tvalid_1's binary_logloss: 0.0425828\n",
      "[55]\ttraining's binary_logloss: 0.0321942\tvalid_1's binary_logloss: 0.0422251\n",
      "[56]\ttraining's binary_logloss: 0.0315896\tvalid_1's binary_logloss: 0.0417932\n",
      "[57]\ttraining's binary_logloss: 0.031311\tvalid_1's binary_logloss: 0.0415517\n",
      "[58]\ttraining's binary_logloss: 0.0310479\tvalid_1's binary_logloss: 0.0413728\n",
      "[59]\ttraining's binary_logloss: 0.0305642\tvalid_1's binary_logloss: 0.0410305\n",
      "[60]\ttraining's binary_logloss: 0.0301126\tvalid_1's binary_logloss: 0.0407\n",
      "[61]\ttraining's binary_logloss: 0.029689\tvalid_1's binary_logloss: 0.040408\n",
      "[62]\ttraining's binary_logloss: 0.0293299\tvalid_1's binary_logloss: 0.0401367\n",
      "[63]\ttraining's binary_logloss: 0.0288905\tvalid_1's binary_logloss: 0.0398488\n",
      "[64]\ttraining's binary_logloss: 0.0287211\tvalid_1's binary_logloss: 0.0397078\n",
      "[65]\ttraining's binary_logloss: 0.0283366\tvalid_1's binary_logloss: 0.0394379\n",
      "[66]\ttraining's binary_logloss: 0.0279166\tvalid_1's binary_logloss: 0.0392048\n",
      "[67]\ttraining's binary_logloss: 0.0274992\tvalid_1's binary_logloss: 0.0389525\n",
      "[68]\ttraining's binary_logloss: 0.0272131\tvalid_1's binary_logloss: 0.0387508\n",
      "[69]\ttraining's binary_logloss: 0.0270585\tvalid_1's binary_logloss: 0.0386377\n",
      "[70]\ttraining's binary_logloss: 0.0267206\tvalid_1's binary_logloss: 0.0383583\n",
      "[71]\ttraining's binary_logloss: 0.0264074\tvalid_1's binary_logloss: 0.0381102\n",
      "[72]\ttraining's binary_logloss: 0.0260631\tvalid_1's binary_logloss: 0.0379088\n",
      "[73]\ttraining's binary_logloss: 0.0258459\tvalid_1's binary_logloss: 0.0377309\n",
      "[74]\ttraining's binary_logloss: 0.025525\tvalid_1's binary_logloss: 0.0375314\n",
      "[75]\ttraining's binary_logloss: 0.0253279\tvalid_1's binary_logloss: 0.0373999\n",
      "[76]\ttraining's binary_logloss: 0.0252424\tvalid_1's binary_logloss: 0.037327\n",
      "[77]\ttraining's binary_logloss: 0.0248812\tvalid_1's binary_logloss: 0.0371238\n",
      "[78]\ttraining's binary_logloss: 0.0245078\tvalid_1's binary_logloss: 0.0369051\n",
      "[79]\ttraining's binary_logloss: 0.0241272\tvalid_1's binary_logloss: 0.0366244\n",
      "[80]\ttraining's binary_logloss: 0.023933\tvalid_1's binary_logloss: 0.0365146\n",
      "[81]\ttraining's binary_logloss: 0.0237147\tvalid_1's binary_logloss: 0.036395\n",
      "[82]\ttraining's binary_logloss: 0.0234755\tvalid_1's binary_logloss: 0.0362241\n",
      "[83]\ttraining's binary_logloss: 0.0232494\tvalid_1's binary_logloss: 0.0360385\n",
      "[84]\ttraining's binary_logloss: 0.0230884\tvalid_1's binary_logloss: 0.0359362\n",
      "[85]\ttraining's binary_logloss: 0.02282\tvalid_1's binary_logloss: 0.035782\n",
      "[86]\ttraining's binary_logloss: 0.022685\tvalid_1's binary_logloss: 0.0356909\n",
      "[87]\ttraining's binary_logloss: 0.0222974\tvalid_1's binary_logloss: 0.035475\n",
      "[88]\ttraining's binary_logloss: 0.0222083\tvalid_1's binary_logloss: 0.0354037\n",
      "[89]\ttraining's binary_logloss: 0.0218577\tvalid_1's binary_logloss: 0.0351679\n",
      "[90]\ttraining's binary_logloss: 0.0216203\tvalid_1's binary_logloss: 0.0349962\n",
      "[91]\ttraining's binary_logloss: 0.0215109\tvalid_1's binary_logloss: 0.0349064\n",
      "[92]\ttraining's binary_logloss: 0.0212949\tvalid_1's binary_logloss: 0.0348218\n",
      "[93]\ttraining's binary_logloss: 0.0209523\tvalid_1's binary_logloss: 0.0345636\n",
      "[94]\ttraining's binary_logloss: 0.0207267\tvalid_1's binary_logloss: 0.0343862\n",
      "[95]\ttraining's binary_logloss: 0.0204398\tvalid_1's binary_logloss: 0.0342311\n",
      "[96]\ttraining's binary_logloss: 0.020245\tvalid_1's binary_logloss: 0.0340723\n",
      "[97]\ttraining's binary_logloss: 0.0200956\tvalid_1's binary_logloss: 0.0339788\n",
      "[98]\ttraining's binary_logloss: 0.0198245\tvalid_1's binary_logloss: 0.0337982\n",
      "[99]\ttraining's binary_logloss: 0.0196862\tvalid_1's binary_logloss: 0.0337181\n",
      "[100]\ttraining's binary_logloss: 0.0195385\tvalid_1's binary_logloss: 0.0336503\n",
      "Did not meet early stopping. Best iteration is:\n",
      "[100]\ttraining's binary_logloss: 0.0195385\tvalid_1's binary_logloss: 0.0336503\n"
     ]
    }
   ],
   "source": [
    "imp19_study_df = imp19_tuner.study.trials_dataframe().sort_values(\"value\", ascending=True)\n",
    "imp19_study_df[\"DurationSeconds\"] = imp19_study_df.duration.apply(lambda d: d/np.timedelta64(1, 's'))\n",
    "\n",
    "bestRun = imp19_study_df[imp19_study_df.value == imp19_study_df.value.min()]\n",
    "optimumRun = imp19_study_df[(imp19_study_df.DurationSeconds <= bestRun.DurationSeconds.max()) & (imp19_study_df.value < bestRun.value.max()*1.1)].sort_values(\"DurationSeconds\", ascending=True).iloc[:1]\n",
    "\n",
    "bestParams = imp19_tuner.best_params\n",
    "optimumParams = json.loads(optimumRun[\"system_attrs_lightgbm_tuner:lgbm_params\"].values[0])\n",
    "#optimumParams[\"bagging_freq\"] = 3\n",
    "#optimumParams[\"bagging_fraction\"] = 0.5\n",
    "\n",
    "bestModel = lgb.train(bestParams, train_set=dtrain, valid_sets=[dtrain, dval], verbose_eval=1)\n",
    "optimumModel = lgb.train(optimumParams, train_set=dtrain, valid_sets=[dtrain, dval], verbose_eval=1)"
   ]
  },
  {
   "cell_type": "code",
   "execution_count": 14,
   "metadata": {},
   "outputs": [
    {
     "name": "stdout",
     "output_type": "stream",
     "text": [
      "Differences in parameters between best and optimum models:\n",
      "Parameter            BM Value             OM Value            \n",
      "feature_fraction     0.920421052632       0.5                 \n",
      "lambda_l1            1.3484e-08           0.0                 \n",
      "lambda_l2            0.001960064387       0.0                 \n",
      "num_leaves           826                  420                 \n",
      "bagging_fraction     0.701991155219       1.0                 \n",
      "bagging_freq         2                    0                   \n",
      "\n",
      "Identical parameters in best and optimum models\n",
      "objective            binary               binary              \n",
      "metric               binary_logloss       binary_logloss      \n",
      "verbosity            -1                   -1                  \n",
      "boosting_type        gbdt                 gbdt                \n",
      "max_depth            12                   12                  \n",
      "min_child_samples    20                   20                  \n",
      "early_stopping_round 200                  200                 \n",
      "n_jobs               8                    8                   \n",
      "scale_pos_weight     0.7241379310344828   0.7241379310344828  \n",
      "num_iterations       100                  100                 \n",
      "feature_pre_filter   0                    0                   \n"
     ]
    }
   ],
   "source": [
    "print(\"Differences in parameters between best and optimum models:\")\n",
    "print (\"{:<20} {:<20} {:<20}\".format('Parameter','BM Value','OM Value'))\n",
    "for param, bestValue in bestParams.items():\n",
    "    if bestValue != optimumParams[param]:\n",
    "        print(\"{:<20} {:<20} {:<20}\".format(param, round(bestValue, 12), round(optimumParams[param], 12)))\n",
    "print(f\"\\nIdentical parameters in best and optimum models\")\n",
    "for param, bestValue in bestParams.items():\n",
    "    if bestValue == optimumParams[param]:\n",
    "        print(\"{:<20} {:<20} {:<20}\".format(param, bestValue, optimumParams[param]))"
   ]
  },
  {
   "cell_type": "code",
   "execution_count": 15,
   "metadata": {},
   "outputs": [
    {
     "data": {
      "image/png": "[encoded data removed]",
      "text/plain": [
       "<Figure size 360x360 with 1 Axes>"
      ]
     },
     "metadata": {
      "needs_background": "light"
     },
     "output_type": "display_data"
    }
   ],
   "source": [
    "ax1 = imp19_study_df[imp19_study_df.DurationSeconds <= bestRun.DurationSeconds.max()].plot(kind='scatter', x='DurationSeconds', y='value', color='green', s=20, figsize=(5,5))    \n",
    "ax2 = bestRun.plot(kind='scatter', x='DurationSeconds', y='value', color='red', s=100, ax=ax1)\n",
    "ax3 = optimumRun.plot(kind='scatter', x='DurationSeconds', y='value', color='blue', s=100, ax=ax1)"
   ]
  },
  {
   "cell_type": "code",
   "execution_count": 16,
   "metadata": {},
   "outputs": [],
   "source": [
    "#lgb.plot_importance(bestModel, figsize=(10,10))"
   ]
  },
  {
   "cell_type": "code",
   "execution_count": 28,
   "metadata": {},
   "outputs": [
    {
     "data": {
      "text/plain": [
       "1.748717426840463"
      ]
     },
     "execution_count": 28,
     "metadata": {},
     "output_type": "execute_result"
    }
   ],
   "source": [
    "0.914985/(len(X_valid) * len(X_valid.columns)) * (5079**2 * len(X_valid.columns))/60"
   ]
  },
  {
   "cell_type": "code",
   "execution_count": 30,
   "metadata": {},
   "outputs": [
    {
     "name": "stdout",
     "output_type": "stream",
     "text": [
      "Best Accuracy: 0.8884942455669306 in 0:00:01.578602\n",
      "Optimum Accuracy: 0.8884942455669306 in 0:00:00.905001\n",
      "Wrote best out model to M:\\PAG2019\\notebooks\\Models\\lightGBMBinaryBarren_LGBMTunerBest_20211130.sav\n",
      "Wrote out optimum model to M:\\PAG2019\\notebooks\\Models\\lightGBMBinaryBarren_LGBMTunerOptimum_20211130.sav\n"
     ]
    }
   ],
   "source": [
    "def getPredictionAndTime(model):\n",
    "    start = datetime.now()\n",
    "    prediction = np.rint(model.predict(X_valid, num_iteration=model.best_iteration))\n",
    "    prediction = [np.argmax(x) for x in prediction]\n",
    "    end = datetime.now()\n",
    "    return prediction, end-start\n",
    "    \n",
    "bestTunerPrediction, bestTime = getPredictionAndTime(bestModel)\n",
    "optimumTunerPrediction, optimumTime = getPredictionAndTime(optimumModel)\n",
    "\n",
    "bestAccuracy = accuracy_score(Y_valid, bestTunerPrediction)\n",
    "optimumAccuracy = accuracy_score(Y_valid, optimumTunerPrediction)\n",
    "print(f\"Best Accuracy: {bestAccuracy} in {bestTime}\\nOptimum Accuracy: {optimumAccuracy} in {optimumTime}\")\n",
    "\n",
    "bestModelName = f\"lightGBMBinary{k}_LGBMTunerBest_{tday}.sav\"\n",
    "optimumModelName = f\"lightGBMBinary{k}_LGBMTunerOptimum_{tday}.sav\"\n",
    "bestModelPath = os.path.join(os.path.abspath(\"../notebooks/Models\"), bestModelName)\n",
    "optimumModelPath = os.path.join(os.path.abspath(\"../notebooks/Models\"), optimumModelName)\n",
    "pickle.dump(bestModel, open(bestModelPath, \"wb\"))\n",
    "pickle.dump(optimumModel, open(optimumModelPath, \"wb\"))\n",
    "print(f\"Wrote best out model to {bestModelPath}\\nWrote out optimum model to {optimumModelPath}\")\n",
    "%chime"
   ]
  },
  {
   "cell_type": "code",
   "execution_count": 23,
   "metadata": {},
   "outputs": [
    {
     "data": {
      "text/plain": [
       "(224957, 914985)"
      ]
     },
     "execution_count": 23,
     "metadata": {},
     "output_type": "execute_result"
    }
   ],
   "source": [
    "len(X_valid), optimumTime.microseconds"
   ]
  },
  {
   "cell_type": "code",
   "execution_count": null,
   "metadata": {},
   "outputs": [],
   "source": []
  },
  {
   "cell_type": "code",
   "execution_count": null,
   "metadata": {},
   "outputs": [],
   "source": []
  },
  {
   "cell_type": "code",
   "execution_count": 161,
   "metadata": {
    "scrolled": true
   },
   "outputs": [
    {
     "name": "stderr",
     "output_type": "stream",
     "text": [
      "C:\\Users\\BenJames\\anaconda3\\envs\\geospatial\\lib\\site-packages\\sklearn\\model_selection\\_split.py:440: DeprecationWarning: `np.int` is a deprecated alias for the builtin `int`. To silence this warning, use `int` by itself. Doing this will not modify any behavior and is safe. When replacing `np.int`, you may wish to use e.g. `np.int64` or `np.int32` to specify the precision. If you wish to review your current use, check the release note link for additional information.\n",
      "Deprecated in NumPy 1.20; for more details and guidance: https://numpy.org/devdocs/release/1.20.0-notes.html#deprecations\n",
      "  fold_sizes = np.full(n_splits, n_samples // n_splits, dtype=np.int)\n",
      "C:\\Users\\BenJames\\anaconda3\\envs\\geospatial\\lib\\site-packages\\sklearn\\model_selection\\_split.py:93: DeprecationWarning: `np.bool` is a deprecated alias for the builtin `bool`. To silence this warning, use `bool` by itself. Doing this will not modify any behavior and is safe. If you specifically wanted the numpy scalar type, use `np.bool_` here.\n",
      "Deprecated in NumPy 1.20; for more details and guidance: https://numpy.org/devdocs/release/1.20.0-notes.html#deprecations\n",
      "  test_mask = np.zeros(_num_samples(X), dtype=np.bool)\n",
      "C:\\Users\\BenJames\\anaconda3\\envs\\geospatial\\lib\\site-packages\\sklearn\\linear_model\\_coordinate_descent.py:470: ConvergenceWarning: Objective did not converge. You might want to increase the number of iterations. Duality gap: 18.539578820775205, tolerance: 7.100049692857585\n",
      "  model = cd_fast.enet_coordinate_descent_gram(\n",
      "C:\\Users\\BenJames\\anaconda3\\envs\\geospatial\\lib\\site-packages\\sklearn\\linear_model\\_coordinate_descent.py:470: ConvergenceWarning: Objective did not converge. You might want to increase the number of iterations. Duality gap: 12.547622374884668, tolerance: 7.100049692857585\n",
      "  model = cd_fast.enet_coordinate_descent_gram(\n",
      "C:\\Users\\BenJames\\anaconda3\\envs\\geospatial\\lib\\site-packages\\sklearn\\linear_model\\_coordinate_descent.py:470: ConvergenceWarning: Objective did not converge. You might want to increase the number of iterations. Duality gap: 10.99609058410715, tolerance: 7.100049692857585\n",
      "  model = cd_fast.enet_coordinate_descent_gram(\n",
      "C:\\Users\\BenJames\\anaconda3\\envs\\geospatial\\lib\\site-packages\\sklearn\\linear_model\\_coordinate_descent.py:470: ConvergenceWarning: Objective did not converge. You might want to increase the number of iterations. Duality gap: 11.573959326124168, tolerance: 7.100049692857585\n",
      "  model = cd_fast.enet_coordinate_descent_gram(\n",
      "C:\\Users\\BenJames\\anaconda3\\envs\\geospatial\\lib\\site-packages\\sklearn\\linear_model\\_coordinate_descent.py:470: ConvergenceWarning: Objective did not converge. You might want to increase the number of iterations. Duality gap: 23.3070312228665, tolerance: 7.100049692857585\n",
      "  model = cd_fast.enet_coordinate_descent_gram(\n",
      "C:\\Users\\BenJames\\anaconda3\\envs\\geospatial\\lib\\site-packages\\sklearn\\linear_model\\_coordinate_descent.py:470: ConvergenceWarning: Objective did not converge. You might want to increase the number of iterations. Duality gap: 22.476419375103433, tolerance: 7.100049692857585\n",
      "  model = cd_fast.enet_coordinate_descent_gram(\n",
      "C:\\Users\\BenJames\\anaconda3\\envs\\geospatial\\lib\\site-packages\\sklearn\\linear_model\\_coordinate_descent.py:470: ConvergenceWarning: Objective did not converge. You might want to increase the number of iterations. Duality gap: 24.994980296381982, tolerance: 7.100049692857585\n",
      "  model = cd_fast.enet_coordinate_descent_gram(\n",
      "C:\\Users\\BenJames\\anaconda3\\envs\\geospatial\\lib\\site-packages\\sklearn\\linear_model\\_coordinate_descent.py:470: ConvergenceWarning: Objective did not converge. You might want to increase the number of iterations. Duality gap: 24.76705613550439, tolerance: 7.100049692857585\n",
      "  model = cd_fast.enet_coordinate_descent_gram(\n",
      "C:\\Users\\BenJames\\anaconda3\\envs\\geospatial\\lib\\site-packages\\sklearn\\linear_model\\_coordinate_descent.py:470: ConvergenceWarning: Objective did not converge. You might want to increase the number of iterations. Duality gap: 24.177712489647092, tolerance: 7.100049692857585\n",
      "  model = cd_fast.enet_coordinate_descent_gram(\n",
      "C:\\Users\\BenJames\\anaconda3\\envs\\geospatial\\lib\\site-packages\\sklearn\\linear_model\\_coordinate_descent.py:470: ConvergenceWarning: Objective did not converge. You might want to increase the number of iterations. Duality gap: 23.51229464415519, tolerance: 7.100049692857585\n",
      "  model = cd_fast.enet_coordinate_descent_gram(\n",
      "C:\\Users\\BenJames\\anaconda3\\envs\\geospatial\\lib\\site-packages\\sklearn\\linear_model\\_coordinate_descent.py:470: ConvergenceWarning: Objective did not converge. You might want to increase the number of iterations. Duality gap: 22.814531730808085, tolerance: 7.100049692857585\n",
      "  model = cd_fast.enet_coordinate_descent_gram(\n",
      "C:\\Users\\BenJames\\anaconda3\\envs\\geospatial\\lib\\site-packages\\sklearn\\linear_model\\_coordinate_descent.py:470: ConvergenceWarning: Objective did not converge. You might want to increase the number of iterations. Duality gap: 22.09925598961854, tolerance: 7.100049692857585\n",
      "  model = cd_fast.enet_coordinate_descent_gram(\n",
      "C:\\Users\\BenJames\\anaconda3\\envs\\geospatial\\lib\\site-packages\\sklearn\\linear_model\\_coordinate_descent.py:470: ConvergenceWarning: Objective did not converge. You might want to increase the number of iterations. Duality gap: 21.376340407965472, tolerance: 7.100049692857585\n",
      "  model = cd_fast.enet_coordinate_descent_gram(\n",
      "C:\\Users\\BenJames\\anaconda3\\envs\\geospatial\\lib\\site-packages\\sklearn\\linear_model\\_coordinate_descent.py:470: ConvergenceWarning: Objective did not converge. You might want to increase the number of iterations. Duality gap: 20.65360552806669, tolerance: 7.100049692857585\n",
      "  model = cd_fast.enet_coordinate_descent_gram(\n",
      "C:\\Users\\BenJames\\anaconda3\\envs\\geospatial\\lib\\site-packages\\sklearn\\linear_model\\_coordinate_descent.py:470: ConvergenceWarning: Objective did not converge. You might want to increase the number of iterations. Duality gap: 19.937365189238335, tolerance: 7.100049692857585\n",
      "  model = cd_fast.enet_coordinate_descent_gram(\n",
      "C:\\Users\\BenJames\\anaconda3\\envs\\geospatial\\lib\\site-packages\\sklearn\\linear_model\\_coordinate_descent.py:470: ConvergenceWarning: Objective did not converge. You might want to increase the number of iterations. Duality gap: 19.232680651373812, tolerance: 7.100049692857585\n",
      "  model = cd_fast.enet_coordinate_descent_gram(\n",
      "C:\\Users\\BenJames\\anaconda3\\envs\\geospatial\\lib\\site-packages\\sklearn\\linear_model\\_coordinate_descent.py:470: ConvergenceWarning: Objective did not converge. You might want to increase the number of iterations. Duality gap: 18.54355549646425, tolerance: 7.100049692857585\n",
      "  model = cd_fast.enet_coordinate_descent_gram(\n",
      "C:\\Users\\BenJames\\anaconda3\\envs\\geospatial\\lib\\site-packages\\sklearn\\linear_model\\_coordinate_descent.py:470: ConvergenceWarning: Objective did not converge. You might want to increase the number of iterations. Duality gap: 17.87310049557709, tolerance: 7.100049692857585\n",
      "  model = cd_fast.enet_coordinate_descent_gram(\n",
      "C:\\Users\\BenJames\\anaconda3\\envs\\geospatial\\lib\\site-packages\\sklearn\\linear_model\\_coordinate_descent.py:470: ConvergenceWarning: Objective did not converge. You might want to increase the number of iterations. Duality gap: 17.239232255815296, tolerance: 7.100049692857585\n",
      "  model = cd_fast.enet_coordinate_descent_gram(\n",
      "C:\\Users\\BenJames\\anaconda3\\envs\\geospatial\\lib\\site-packages\\sklearn\\linear_model\\_coordinate_descent.py:470: ConvergenceWarning: Objective did not converge. You might want to increase the number of iterations. Duality gap: 16.846288651584473, tolerance: 7.100049692857585\n",
      "  model = cd_fast.enet_coordinate_descent_gram(\n",
      "C:\\Users\\BenJames\\anaconda3\\envs\\geospatial\\lib\\site-packages\\sklearn\\linear_model\\_coordinate_descent.py:470: ConvergenceWarning: Objective did not converge. You might want to increase the number of iterations. Duality gap: 14.722995480333338, tolerance: 7.100049692857585\n",
      "  model = cd_fast.enet_coordinate_descent_gram(\n",
      "C:\\Users\\BenJames\\anaconda3\\envs\\geospatial\\lib\\site-packages\\sklearn\\linear_model\\_coordinate_descent.py:470: ConvergenceWarning: Objective did not converge. You might want to increase the number of iterations. Duality gap: 14.223157362706843, tolerance: 7.100049692857585\n",
      "  model = cd_fast.enet_coordinate_descent_gram(\n",
      "C:\\Users\\BenJames\\anaconda3\\envs\\geospatial\\lib\\site-packages\\sklearn\\linear_model\\_coordinate_descent.py:470: ConvergenceWarning: Objective did not converge. You might want to increase the number of iterations. Duality gap: 13.90281108282943, tolerance: 7.100049692857585\n",
      "  model = cd_fast.enet_coordinate_descent_gram(\n",
      "C:\\Users\\BenJames\\anaconda3\\envs\\geospatial\\lib\\site-packages\\sklearn\\linear_model\\_coordinate_descent.py:470: ConvergenceWarning: Objective did not converge. You might want to increase the number of iterations. Duality gap: 17.897798313257226, tolerance: 7.100049692857585\n",
      "  model = cd_fast.enet_coordinate_descent_gram(\n",
      "C:\\Users\\BenJames\\anaconda3\\envs\\geospatial\\lib\\site-packages\\sklearn\\linear_model\\_coordinate_descent.py:470: ConvergenceWarning: Objective did not converge. You might want to increase the number of iterations. Duality gap: 25.75348783730442, tolerance: 7.100049692857585\n",
      "  model = cd_fast.enet_coordinate_descent_gram(\n",
      "C:\\Users\\BenJames\\anaconda3\\envs\\geospatial\\lib\\site-packages\\sklearn\\linear_model\\_coordinate_descent.py:470: ConvergenceWarning: Objective did not converge. You might want to increase the number of iterations. Duality gap: 27.242250345283537, tolerance: 7.100049692857585\n",
      "  model = cd_fast.enet_coordinate_descent_gram(\n",
      "C:\\Users\\BenJames\\anaconda3\\envs\\geospatial\\lib\\site-packages\\sklearn\\linear_model\\_coordinate_descent.py:470: ConvergenceWarning: Objective did not converge. You might want to increase the number of iterations. Duality gap: 28.050723709857266, tolerance: 7.100049692857585\n",
      "  model = cd_fast.enet_coordinate_descent_gram(\n",
      "C:\\Users\\BenJames\\anaconda3\\envs\\geospatial\\lib\\site-packages\\sklearn\\linear_model\\_coordinate_descent.py:470: ConvergenceWarning: Objective did not converge. You might want to increase the number of iterations. Duality gap: 29.67752942149673, tolerance: 7.100049692857585\n",
      "  model = cd_fast.enet_coordinate_descent_gram(\n",
      "C:\\Users\\BenJames\\anaconda3\\envs\\geospatial\\lib\\site-packages\\sklearn\\linear_model\\_coordinate_descent.py:470: ConvergenceWarning: Objective did not converge. You might want to increase the number of iterations. Duality gap: 41.16788513006031, tolerance: 7.100049692857585\n",
      "  model = cd_fast.enet_coordinate_descent_gram(\n",
      "C:\\Users\\BenJames\\anaconda3\\envs\\geospatial\\lib\\site-packages\\sklearn\\linear_model\\_coordinate_descent.py:470: ConvergenceWarning: Objective did not converge. You might want to increase the number of iterations. Duality gap: 172.26243919087574, tolerance: 7.100049692857585\n",
      "  model = cd_fast.enet_coordinate_descent_gram(\n",
      "C:\\Users\\BenJames\\anaconda3\\envs\\geospatial\\lib\\site-packages\\sklearn\\linear_model\\_coordinate_descent.py:470: ConvergenceWarning: Objective did not converge. You might want to increase the number of iterations. Duality gap: 241.36127658623445, tolerance: 7.100049692857585\n",
      "  model = cd_fast.enet_coordinate_descent_gram(\n",
      "C:\\Users\\BenJames\\anaconda3\\envs\\geospatial\\lib\\site-packages\\sklearn\\linear_model\\_coordinate_descent.py:470: ConvergenceWarning: Objective did not converge. You might want to increase the number of iterations. Duality gap: 267.7979304192413, tolerance: 7.100049692857585\n",
      "  model = cd_fast.enet_coordinate_descent_gram(\n",
      "C:\\Users\\BenJames\\anaconda3\\envs\\geospatial\\lib\\site-packages\\sklearn\\linear_model\\_coordinate_descent.py:470: ConvergenceWarning: Objective did not converge. You might want to increase the number of iterations. Duality gap: 274.2989783044468, tolerance: 7.100049692857585\n",
      "  model = cd_fast.enet_coordinate_descent_gram(\n",
      "C:\\Users\\BenJames\\anaconda3\\envs\\geospatial\\lib\\site-packages\\sklearn\\linear_model\\_coordinate_descent.py:470: ConvergenceWarning: Objective did not converge. You might want to increase the number of iterations. Duality gap: 274.95343002851587, tolerance: 7.100049692857585\n",
      "  model = cd_fast.enet_coordinate_descent_gram(\n",
      "C:\\Users\\BenJames\\anaconda3\\envs\\geospatial\\lib\\site-packages\\sklearn\\linear_model\\_coordinate_descent.py:470: ConvergenceWarning: Objective did not converge. You might want to increase the number of iterations. Duality gap: 19.278849659429397, tolerance: 7.099971880304741\n",
      "  model = cd_fast.enet_coordinate_descent_gram(\n",
      "C:\\Users\\BenJames\\anaconda3\\envs\\geospatial\\lib\\site-packages\\sklearn\\linear_model\\_coordinate_descent.py:470: ConvergenceWarning: Objective did not converge. You might want to increase the number of iterations. Duality gap: 12.802689174568513, tolerance: 7.099971880304741\n",
      "  model = cd_fast.enet_coordinate_descent_gram(\n",
      "C:\\Users\\BenJames\\anaconda3\\envs\\geospatial\\lib\\site-packages\\sklearn\\linear_model\\_coordinate_descent.py:470: ConvergenceWarning: Objective did not converge. You might want to increase the number of iterations. Duality gap: 10.815634586171655, tolerance: 7.099971880304741\n",
      "  model = cd_fast.enet_coordinate_descent_gram(\n",
      "C:\\Users\\BenJames\\anaconda3\\envs\\geospatial\\lib\\site-packages\\sklearn\\linear_model\\_coordinate_descent.py:470: ConvergenceWarning: Objective did not converge. You might want to increase the number of iterations. Duality gap: 11.483027149624832, tolerance: 7.099971880304741\n",
      "  model = cd_fast.enet_coordinate_descent_gram(\n",
      "C:\\Users\\BenJames\\anaconda3\\envs\\geospatial\\lib\\site-packages\\sklearn\\linear_model\\_coordinate_descent.py:470: ConvergenceWarning: Objective did not converge. You might want to increase the number of iterations. Duality gap: 21.049516492537805, tolerance: 7.099971880304741\n",
      "  model = cd_fast.enet_coordinate_descent_gram(\n",
      "C:\\Users\\BenJames\\anaconda3\\envs\\geospatial\\lib\\site-packages\\sklearn\\linear_model\\_coordinate_descent.py:470: ConvergenceWarning: Objective did not converge. You might want to increase the number of iterations. Duality gap: 20.49261739430949, tolerance: 7.099971880304741\n",
      "  model = cd_fast.enet_coordinate_descent_gram(\n",
      "C:\\Users\\BenJames\\anaconda3\\envs\\geospatial\\lib\\site-packages\\sklearn\\linear_model\\_coordinate_descent.py:470: ConvergenceWarning: Objective did not converge. You might want to increase the number of iterations. Duality gap: 24.780901819714927, tolerance: 7.099971880304741\n",
      "  model = cd_fast.enet_coordinate_descent_gram(\n",
      "C:\\Users\\BenJames\\anaconda3\\envs\\geospatial\\lib\\site-packages\\sklearn\\linear_model\\_coordinate_descent.py:470: ConvergenceWarning: Objective did not converge. You might want to increase the number of iterations. Duality gap: 24.761011856782716, tolerance: 7.099971880304741\n",
      "  model = cd_fast.enet_coordinate_descent_gram(\n",
      "C:\\Users\\BenJames\\anaconda3\\envs\\geospatial\\lib\\site-packages\\sklearn\\linear_model\\_coordinate_descent.py:470: ConvergenceWarning: Objective did not converge. You might want to increase the number of iterations. Duality gap: 24.195773294442915, tolerance: 7.099971880304741\n",
      "  model = cd_fast.enet_coordinate_descent_gram(\n",
      "C:\\Users\\BenJames\\anaconda3\\envs\\geospatial\\lib\\site-packages\\sklearn\\linear_model\\_coordinate_descent.py:470: ConvergenceWarning: Objective did not converge. You might want to increase the number of iterations. Duality gap: 23.533650684999884, tolerance: 7.099971880304741\n",
      "  model = cd_fast.enet_coordinate_descent_gram(\n",
      "C:\\Users\\BenJames\\anaconda3\\envs\\geospatial\\lib\\site-packages\\sklearn\\linear_model\\_coordinate_descent.py:470: ConvergenceWarning: Objective did not converge. You might want to increase the number of iterations. Duality gap: 22.836641973844962, tolerance: 7.099971880304741\n",
      "  model = cd_fast.enet_coordinate_descent_gram(\n",
      "C:\\Users\\BenJames\\anaconda3\\envs\\geospatial\\lib\\site-packages\\sklearn\\linear_model\\_coordinate_descent.py:470: ConvergenceWarning: Objective did not converge. You might want to increase the number of iterations. Duality gap: 22.12164420499903, tolerance: 7.099971880304741\n",
      "  model = cd_fast.enet_coordinate_descent_gram(\n",
      "C:\\Users\\BenJames\\anaconda3\\envs\\geospatial\\lib\\site-packages\\sklearn\\linear_model\\_coordinate_descent.py:470: ConvergenceWarning: Objective did not converge. You might want to increase the number of iterations. Duality gap: 21.398793679451046, tolerance: 7.099971880304741\n",
      "  model = cd_fast.enet_coordinate_descent_gram(\n",
      "C:\\Users\\BenJames\\anaconda3\\envs\\geospatial\\lib\\site-packages\\sklearn\\linear_model\\_coordinate_descent.py:470: ConvergenceWarning: Objective did not converge. You might want to increase the number of iterations. Duality gap: 20.67596996674547, tolerance: 7.099971880304741\n",
      "  model = cd_fast.enet_coordinate_descent_gram(\n",
      "C:\\Users\\BenJames\\anaconda3\\envs\\geospatial\\lib\\site-packages\\sklearn\\linear_model\\_coordinate_descent.py:470: ConvergenceWarning: Objective did not converge. You might want to increase the number of iterations. Duality gap: 19.95951889063872, tolerance: 7.099971880304741\n",
      "  model = cd_fast.enet_coordinate_descent_gram(\n",
      "C:\\Users\\BenJames\\anaconda3\\envs\\geospatial\\lib\\site-packages\\sklearn\\linear_model\\_coordinate_descent.py:470: ConvergenceWarning: Objective did not converge. You might want to increase the number of iterations. Duality gap: 19.25452682746254, tolerance: 7.099971880304741\n",
      "  model = cd_fast.enet_coordinate_descent_gram(\n",
      "C:\\Users\\BenJames\\anaconda3\\envs\\geospatial\\lib\\site-packages\\sklearn\\linear_model\\_coordinate_descent.py:470: ConvergenceWarning: Objective did not converge. You might want to increase the number of iterations. Duality gap: 18.56501834053779, tolerance: 7.099971880304741\n",
      "  model = cd_fast.enet_coordinate_descent_gram(\n",
      "C:\\Users\\BenJames\\anaconda3\\envs\\geospatial\\lib\\site-packages\\sklearn\\linear_model\\_coordinate_descent.py:470: ConvergenceWarning: Objective did not converge. You might want to increase the number of iterations. Duality gap: 17.89412191811425, tolerance: 7.099971880304741\n",
      "  model = cd_fast.enet_coordinate_descent_gram(\n",
      "C:\\Users\\BenJames\\anaconda3\\envs\\geospatial\\lib\\site-packages\\sklearn\\linear_model\\_coordinate_descent.py:470: ConvergenceWarning: Objective did not converge. You might want to increase the number of iterations. Duality gap: 17.536917544370226, tolerance: 7.099971880304741\n",
      "  model = cd_fast.enet_coordinate_descent_gram(\n",
      "C:\\Users\\BenJames\\anaconda3\\envs\\geospatial\\lib\\site-packages\\sklearn\\linear_model\\_coordinate_descent.py:470: ConvergenceWarning: Objective did not converge. You might want to increase the number of iterations. Duality gap: 16.553426008031238, tolerance: 7.099971880304741\n",
      "  model = cd_fast.enet_coordinate_descent_gram(\n",
      "C:\\Users\\BenJames\\anaconda3\\envs\\geospatial\\lib\\site-packages\\sklearn\\linear_model\\_coordinate_descent.py:470: ConvergenceWarning: Objective did not converge. You might want to increase the number of iterations. Duality gap: 14.703678551333724, tolerance: 7.099971880304741\n",
      "  model = cd_fast.enet_coordinate_descent_gram(\n",
      "C:\\Users\\BenJames\\anaconda3\\envs\\geospatial\\lib\\site-packages\\sklearn\\linear_model\\_coordinate_descent.py:470: ConvergenceWarning: Objective did not converge. You might want to increase the number of iterations. Duality gap: 14.261353053894709, tolerance: 7.099971880304741\n",
      "  model = cd_fast.enet_coordinate_descent_gram(\n",
      "C:\\Users\\BenJames\\anaconda3\\envs\\geospatial\\lib\\site-packages\\sklearn\\linear_model\\_coordinate_descent.py:470: ConvergenceWarning: Objective did not converge. You might want to increase the number of iterations. Duality gap: 13.944872908119578, tolerance: 7.099971880304741\n",
      "  model = cd_fast.enet_coordinate_descent_gram(\n",
      "C:\\Users\\BenJames\\anaconda3\\envs\\geospatial\\lib\\site-packages\\sklearn\\linear_model\\_coordinate_descent.py:470: ConvergenceWarning: Objective did not converge. You might want to increase the number of iterations. Duality gap: 18.590978371110396, tolerance: 7.099971880304741\n",
      "  model = cd_fast.enet_coordinate_descent_gram(\n",
      "C:\\Users\\BenJames\\anaconda3\\envs\\geospatial\\lib\\site-packages\\sklearn\\linear_model\\_coordinate_descent.py:470: ConvergenceWarning: Objective did not converge. You might want to increase the number of iterations. Duality gap: 26.050261874552234, tolerance: 7.099971880304741\n",
      "  model = cd_fast.enet_coordinate_descent_gram(\n",
      "C:\\Users\\BenJames\\anaconda3\\envs\\geospatial\\lib\\site-packages\\sklearn\\linear_model\\_coordinate_descent.py:470: ConvergenceWarning: Objective did not converge. You might want to increase the number of iterations. Duality gap: 27.460243732733943, tolerance: 7.099971880304741\n",
      "  model = cd_fast.enet_coordinate_descent_gram(\n",
      "C:\\Users\\BenJames\\anaconda3\\envs\\geospatial\\lib\\site-packages\\sklearn\\linear_model\\_coordinate_descent.py:470: ConvergenceWarning: Objective did not converge. You might want to increase the number of iterations. Duality gap: 28.258112583214825, tolerance: 7.099971880304741\n",
      "  model = cd_fast.enet_coordinate_descent_gram(\n",
      "C:\\Users\\BenJames\\anaconda3\\envs\\geospatial\\lib\\site-packages\\sklearn\\linear_model\\_coordinate_descent.py:470: ConvergenceWarning: Objective did not converge. You might want to increase the number of iterations. Duality gap: 29.90311146005115, tolerance: 7.099971880304741\n",
      "  model = cd_fast.enet_coordinate_descent_gram(\n",
      "C:\\Users\\BenJames\\anaconda3\\envs\\geospatial\\lib\\site-packages\\sklearn\\linear_model\\_coordinate_descent.py:470: ConvergenceWarning: Objective did not converge. You might want to increase the number of iterations. Duality gap: 97.99155462154158, tolerance: 7.099971880304741\n",
      "  model = cd_fast.enet_coordinate_descent_gram(\n",
      "C:\\Users\\BenJames\\anaconda3\\envs\\geospatial\\lib\\site-packages\\sklearn\\linear_model\\_coordinate_descent.py:470: ConvergenceWarning: Objective did not converge. You might want to increase the number of iterations. Duality gap: 216.34445617442543, tolerance: 7.099971880304741\n",
      "  model = cd_fast.enet_coordinate_descent_gram(\n",
      "C:\\Users\\BenJames\\anaconda3\\envs\\geospatial\\lib\\site-packages\\sklearn\\linear_model\\_coordinate_descent.py:470: ConvergenceWarning: Objective did not converge. You might want to increase the number of iterations. Duality gap: 253.3476986063688, tolerance: 7.099971880304741\n",
      "  model = cd_fast.enet_coordinate_descent_gram(\n",
      "C:\\Users\\BenJames\\anaconda3\\envs\\geospatial\\lib\\site-packages\\sklearn\\linear_model\\_coordinate_descent.py:470: ConvergenceWarning: Objective did not converge. You might want to increase the number of iterations. Duality gap: 270.2953304189068, tolerance: 7.099971880304741\n",
      "  model = cd_fast.enet_coordinate_descent_gram(\n",
      "C:\\Users\\BenJames\\anaconda3\\envs\\geospatial\\lib\\site-packages\\sklearn\\linear_model\\_coordinate_descent.py:470: ConvergenceWarning: Objective did not converge. You might want to increase the number of iterations. Duality gap: 274.4212293746241, tolerance: 7.099971880304741\n",
      "  model = cd_fast.enet_coordinate_descent_gram(\n",
      "C:\\Users\\BenJames\\anaconda3\\envs\\geospatial\\lib\\site-packages\\sklearn\\linear_model\\_coordinate_descent.py:470: ConvergenceWarning: Objective did not converge. You might want to increase the number of iterations. Duality gap: 274.4135028356686, tolerance: 7.099971880304741\n",
      "  model = cd_fast.enet_coordinate_descent_gram(\n",
      "C:\\Users\\BenJames\\anaconda3\\envs\\geospatial\\lib\\site-packages\\sklearn\\linear_model\\_coordinate_descent.py:470: ConvergenceWarning: Objective did not converge. You might want to increase the number of iterations. Duality gap: 18.39959655108396, tolerance: 7.100360940291671\n",
      "  model = cd_fast.enet_coordinate_descent_gram(\n",
      "C:\\Users\\BenJames\\anaconda3\\envs\\geospatial\\lib\\site-packages\\sklearn\\linear_model\\_coordinate_descent.py:470: ConvergenceWarning: Objective did not converge. You might want to increase the number of iterations. Duality gap: 12.446461709005234, tolerance: 7.100360940291671\n",
      "  model = cd_fast.enet_coordinate_descent_gram(\n",
      "C:\\Users\\BenJames\\anaconda3\\envs\\geospatial\\lib\\site-packages\\sklearn\\linear_model\\_coordinate_descent.py:470: ConvergenceWarning: Objective did not converge. You might want to increase the number of iterations. Duality gap: 11.104507411728264, tolerance: 7.100360940291671\n",
      "  model = cd_fast.enet_coordinate_descent_gram(\n",
      "C:\\Users\\BenJames\\anaconda3\\envs\\geospatial\\lib\\site-packages\\sklearn\\linear_model\\_coordinate_descent.py:470: ConvergenceWarning: Objective did not converge. You might want to increase the number of iterations. Duality gap: 11.657057283948234, tolerance: 7.100360940291671\n",
      "  model = cd_fast.enet_coordinate_descent_gram(\n",
      "C:\\Users\\BenJames\\anaconda3\\envs\\geospatial\\lib\\site-packages\\sklearn\\linear_model\\_coordinate_descent.py:470: ConvergenceWarning: Objective did not converge. You might want to increase the number of iterations. Duality gap: 22.311360694016912, tolerance: 7.100360940291671\n",
      "  model = cd_fast.enet_coordinate_descent_gram(\n",
      "C:\\Users\\BenJames\\anaconda3\\envs\\geospatial\\lib\\site-packages\\sklearn\\linear_model\\_coordinate_descent.py:470: ConvergenceWarning: Objective did not converge. You might want to increase the number of iterations. Duality gap: 21.407344193510653, tolerance: 7.100360940291671\n",
      "  model = cd_fast.enet_coordinate_descent_gram(\n",
      "C:\\Users\\BenJames\\anaconda3\\envs\\geospatial\\lib\\site-packages\\sklearn\\linear_model\\_coordinate_descent.py:470: ConvergenceWarning: Objective did not converge. You might want to increase the number of iterations. Duality gap: 24.83527729758498, tolerance: 7.100360940291671\n",
      "  model = cd_fast.enet_coordinate_descent_gram(\n",
      "C:\\Users\\BenJames\\anaconda3\\envs\\geospatial\\lib\\site-packages\\sklearn\\linear_model\\_coordinate_descent.py:470: ConvergenceWarning: Objective did not converge. You might want to increase the number of iterations. Duality gap: 24.710382174220285, tolerance: 7.100360940291671\n",
      "  model = cd_fast.enet_coordinate_descent_gram(\n",
      "C:\\Users\\BenJames\\anaconda3\\envs\\geospatial\\lib\\site-packages\\sklearn\\linear_model\\_coordinate_descent.py:470: ConvergenceWarning: Objective did not converge. You might want to increase the number of iterations. Duality gap: 24.13161196393048, tolerance: 7.100360940291671\n",
      "  model = cd_fast.enet_coordinate_descent_gram(\n",
      "C:\\Users\\BenJames\\anaconda3\\envs\\geospatial\\lib\\site-packages\\sklearn\\linear_model\\_coordinate_descent.py:470: ConvergenceWarning: Objective did not converge. You might want to increase the number of iterations. Duality gap: 23.466826426025364, tolerance: 7.100360940291671\n",
      "  model = cd_fast.enet_coordinate_descent_gram(\n",
      "C:\\Users\\BenJames\\anaconda3\\envs\\geospatial\\lib\\site-packages\\sklearn\\linear_model\\_coordinate_descent.py:470: ConvergenceWarning: Objective did not converge. You might want to increase the number of iterations. Duality gap: 22.76878712762118, tolerance: 7.100360940291671\n",
      "  model = cd_fast.enet_coordinate_descent_gram(\n",
      "C:\\Users\\BenJames\\anaconda3\\envs\\geospatial\\lib\\site-packages\\sklearn\\linear_model\\_coordinate_descent.py:470: ConvergenceWarning: Objective did not converge. You might want to increase the number of iterations. Duality gap: 22.053281155043805, tolerance: 7.100360940291671\n",
      "  model = cd_fast.enet_coordinate_descent_gram(\n",
      "C:\\Users\\BenJames\\anaconda3\\envs\\geospatial\\lib\\site-packages\\sklearn\\linear_model\\_coordinate_descent.py:470: ConvergenceWarning: Objective did not converge. You might want to increase the number of iterations. Duality gap: 21.33025971843017, tolerance: 7.100360940291671\n",
      "  model = cd_fast.enet_coordinate_descent_gram(\n",
      "C:\\Users\\BenJames\\anaconda3\\envs\\geospatial\\lib\\site-packages\\sklearn\\linear_model\\_coordinate_descent.py:470: ConvergenceWarning: Objective did not converge. You might want to increase the number of iterations. Duality gap: 20.6075299999211, tolerance: 7.100360940291671\n",
      "  model = cd_fast.enet_coordinate_descent_gram(\n",
      "C:\\Users\\BenJames\\anaconda3\\envs\\geospatial\\lib\\site-packages\\sklearn\\linear_model\\_coordinate_descent.py:470: ConvergenceWarning: Objective did not converge. You might want to increase the number of iterations. Duality gap: 19.891385838731367, tolerance: 7.100360940291671\n",
      "  model = cd_fast.enet_coordinate_descent_gram(\n",
      "C:\\Users\\BenJames\\anaconda3\\envs\\geospatial\\lib\\site-packages\\sklearn\\linear_model\\_coordinate_descent.py:470: ConvergenceWarning: Objective did not converge. You might want to increase the number of iterations. Duality gap: 19.18687056357885, tolerance: 7.100360940291671\n",
      "  model = cd_fast.enet_coordinate_descent_gram(\n",
      "C:\\Users\\BenJames\\anaconda3\\envs\\geospatial\\lib\\site-packages\\sklearn\\linear_model\\_coordinate_descent.py:470: ConvergenceWarning: Objective did not converge. You might want to increase the number of iterations. Duality gap: 18.497972482422483, tolerance: 7.100360940291671\n",
      "  model = cd_fast.enet_coordinate_descent_gram(\n",
      "C:\\Users\\BenJames\\anaconda3\\envs\\geospatial\\lib\\site-packages\\sklearn\\linear_model\\_coordinate_descent.py:470: ConvergenceWarning: Objective did not converge. You might want to increase the number of iterations. Duality gap: 17.82778945381142, tolerance: 7.100360940291671\n",
      "  model = cd_fast.enet_coordinate_descent_gram(\n",
      "C:\\Users\\BenJames\\anaconda3\\envs\\geospatial\\lib\\site-packages\\sklearn\\linear_model\\_coordinate_descent.py:470: ConvergenceWarning: Objective did not converge. You might want to increase the number of iterations. Duality gap: 17.178669983462896, tolerance: 7.100360940291671\n",
      "  model = cd_fast.enet_coordinate_descent_gram(\n",
      "C:\\Users\\BenJames\\anaconda3\\envs\\geospatial\\lib\\site-packages\\sklearn\\linear_model\\_coordinate_descent.py:470: ConvergenceWarning: Objective did not converge. You might want to increase the number of iterations. Duality gap: 16.38430517462257, tolerance: 7.100360940291671\n",
      "  model = cd_fast.enet_coordinate_descent_gram(\n",
      "C:\\Users\\BenJames\\anaconda3\\envs\\geospatial\\lib\\site-packages\\sklearn\\linear_model\\_coordinate_descent.py:470: ConvergenceWarning: Objective did not converge. You might want to increase the number of iterations. Duality gap: 14.591440126154339, tolerance: 7.100360940291671\n",
      "  model = cd_fast.enet_coordinate_descent_gram(\n",
      "C:\\Users\\BenJames\\anaconda3\\envs\\geospatial\\lib\\site-packages\\sklearn\\linear_model\\_coordinate_descent.py:470: ConvergenceWarning: Objective did not converge. You might want to increase the number of iterations. Duality gap: 14.156810292894079, tolerance: 7.100360940291671\n",
      "  model = cd_fast.enet_coordinate_descent_gram(\n",
      "C:\\Users\\BenJames\\anaconda3\\envs\\geospatial\\lib\\site-packages\\sklearn\\linear_model\\_coordinate_descent.py:470: ConvergenceWarning: Objective did not converge. You might want to increase the number of iterations. Duality gap: 13.84239582195005, tolerance: 7.100360940291671\n",
      "  model = cd_fast.enet_coordinate_descent_gram(\n",
      "C:\\Users\\BenJames\\anaconda3\\envs\\geospatial\\lib\\site-packages\\sklearn\\linear_model\\_coordinate_descent.py:470: ConvergenceWarning: Objective did not converge. You might want to increase the number of iterations. Duality gap: 19.550807458428608, tolerance: 7.100360940291671\n",
      "  model = cd_fast.enet_coordinate_descent_gram(\n",
      "C:\\Users\\BenJames\\anaconda3\\envs\\geospatial\\lib\\site-packages\\sklearn\\linear_model\\_coordinate_descent.py:470: ConvergenceWarning: Objective did not converge. You might want to increase the number of iterations. Duality gap: 26.066839037142927, tolerance: 7.100360940291671\n",
      "  model = cd_fast.enet_coordinate_descent_gram(\n",
      "C:\\Users\\BenJames\\anaconda3\\envs\\geospatial\\lib\\site-packages\\sklearn\\linear_model\\_coordinate_descent.py:470: ConvergenceWarning: Objective did not converge. You might want to increase the number of iterations. Duality gap: 27.511961087941017, tolerance: 7.100360940291671\n",
      "  model = cd_fast.enet_coordinate_descent_gram(\n",
      "C:\\Users\\BenJames\\anaconda3\\envs\\geospatial\\lib\\site-packages\\sklearn\\linear_model\\_coordinate_descent.py:470: ConvergenceWarning: Objective did not converge. You might want to increase the number of iterations. Duality gap: 28.29038687935099, tolerance: 7.100360940291671\n",
      "  model = cd_fast.enet_coordinate_descent_gram(\n",
      "C:\\Users\\BenJames\\anaconda3\\envs\\geospatial\\lib\\site-packages\\sklearn\\linear_model\\_coordinate_descent.py:470: ConvergenceWarning: Objective did not converge. You might want to increase the number of iterations. Duality gap: 30.430270244571147, tolerance: 7.100360940291671\n",
      "  model = cd_fast.enet_coordinate_descent_gram(\n",
      "C:\\Users\\BenJames\\anaconda3\\envs\\geospatial\\lib\\site-packages\\sklearn\\linear_model\\_coordinate_descent.py:470: ConvergenceWarning: Objective did not converge. You might want to increase the number of iterations. Duality gap: 41.36270693989354, tolerance: 7.100360940291671\n",
      "  model = cd_fast.enet_coordinate_descent_gram(\n",
      "C:\\Users\\BenJames\\anaconda3\\envs\\geospatial\\lib\\site-packages\\sklearn\\linear_model\\_coordinate_descent.py:470: ConvergenceWarning: Objective did not converge. You might want to increase the number of iterations. Duality gap: 117.71693304908695, tolerance: 7.100360940291671\n",
      "  model = cd_fast.enet_coordinate_descent_gram(\n",
      "C:\\Users\\BenJames\\anaconda3\\envs\\geospatial\\lib\\site-packages\\sklearn\\linear_model\\_coordinate_descent.py:470: ConvergenceWarning: Objective did not converge. You might want to increase the number of iterations. Duality gap: 228.17100507397845, tolerance: 7.100360940291671\n",
      "  model = cd_fast.enet_coordinate_descent_gram(\n",
      "C:\\Users\\BenJames\\anaconda3\\envs\\geospatial\\lib\\site-packages\\sklearn\\linear_model\\_coordinate_descent.py:470: ConvergenceWarning: Objective did not converge. You might want to increase the number of iterations. Duality gap: 264.35779757543787, tolerance: 7.100360940291671\n",
      "  model = cd_fast.enet_coordinate_descent_gram(\n",
      "C:\\Users\\BenJames\\anaconda3\\envs\\geospatial\\lib\\site-packages\\sklearn\\linear_model\\_coordinate_descent.py:470: ConvergenceWarning: Objective did not converge. You might want to increase the number of iterations. Duality gap: 273.60272197509767, tolerance: 7.100360940291671\n",
      "  model = cd_fast.enet_coordinate_descent_gram(\n",
      "C:\\Users\\BenJames\\anaconda3\\envs\\geospatial\\lib\\site-packages\\sklearn\\linear_model\\_coordinate_descent.py:470: ConvergenceWarning: Objective did not converge. You might want to increase the number of iterations. Duality gap: 274.9878480601328, tolerance: 7.100360940291671\n",
      "  model = cd_fast.enet_coordinate_descent_gram(\n",
      "C:\\Users\\BenJames\\anaconda3\\envs\\geospatial\\lib\\site-packages\\sklearn\\linear_model\\_coordinate_descent.py:470: ConvergenceWarning: Objective did not converge. You might want to increase the number of iterations. Duality gap: 19.753343788761413, tolerance: 7.100050923578217\n",
      "  model = cd_fast.enet_coordinate_descent_gram(\n",
      "C:\\Users\\BenJames\\anaconda3\\envs\\geospatial\\lib\\site-packages\\sklearn\\linear_model\\_coordinate_descent.py:470: ConvergenceWarning: Objective did not converge. You might want to increase the number of iterations. Duality gap: 12.839090756839141, tolerance: 7.100050923578217\n",
      "  model = cd_fast.enet_coordinate_descent_gram(\n",
      "C:\\Users\\BenJames\\anaconda3\\envs\\geospatial\\lib\\site-packages\\sklearn\\linear_model\\_coordinate_descent.py:470: ConvergenceWarning: Objective did not converge. You might want to increase the number of iterations. Duality gap: 10.392183693693369, tolerance: 7.100050923578217\n",
      "  model = cd_fast.enet_coordinate_descent_gram(\n",
      "C:\\Users\\BenJames\\anaconda3\\envs\\geospatial\\lib\\site-packages\\sklearn\\linear_model\\_coordinate_descent.py:470: ConvergenceWarning: Objective did not converge. You might want to increase the number of iterations. Duality gap: 25.309940655264654, tolerance: 7.100050923578217\n",
      "  model = cd_fast.enet_coordinate_descent_gram(\n",
      "C:\\Users\\BenJames\\anaconda3\\envs\\geospatial\\lib\\site-packages\\sklearn\\linear_model\\_coordinate_descent.py:470: ConvergenceWarning: Objective did not converge. You might want to increase the number of iterations. Duality gap: 21.7152643799418, tolerance: 7.100050923578217\n",
      "  model = cd_fast.enet_coordinate_descent_gram(\n",
      "C:\\Users\\BenJames\\anaconda3\\envs\\geospatial\\lib\\site-packages\\sklearn\\linear_model\\_coordinate_descent.py:470: ConvergenceWarning: Objective did not converge. You might want to increase the number of iterations. Duality gap: 24.80226819627569, tolerance: 7.100050923578217\n",
      "  model = cd_fast.enet_coordinate_descent_gram(\n",
      "C:\\Users\\BenJames\\anaconda3\\envs\\geospatial\\lib\\site-packages\\sklearn\\linear_model\\_coordinate_descent.py:470: ConvergenceWarning: Objective did not converge. You might want to increase the number of iterations. Duality gap: 24.63959957226325, tolerance: 7.100050923578217\n",
      "  model = cd_fast.enet_coordinate_descent_gram(\n",
      "C:\\Users\\BenJames\\anaconda3\\envs\\geospatial\\lib\\site-packages\\sklearn\\linear_model\\_coordinate_descent.py:470: ConvergenceWarning: Objective did not converge. You might want to increase the number of iterations. Duality gap: 24.05882512118842, tolerance: 7.100050923578217\n",
      "  model = cd_fast.enet_coordinate_descent_gram(\n",
      "C:\\Users\\BenJames\\anaconda3\\envs\\geospatial\\lib\\site-packages\\sklearn\\linear_model\\_coordinate_descent.py:470: ConvergenceWarning: Objective did not converge. You might want to increase the number of iterations. Duality gap: 23.396073606760183, tolerance: 7.100050923578217\n",
      "  model = cd_fast.enet_coordinate_descent_gram(\n",
      "C:\\Users\\BenJames\\anaconda3\\envs\\geospatial\\lib\\site-packages\\sklearn\\linear_model\\_coordinate_descent.py:470: ConvergenceWarning: Objective did not converge. You might want to increase the number of iterations. Duality gap: 22.700520108068304, tolerance: 7.100050923578217\n",
      "  model = cd_fast.enet_coordinate_descent_gram(\n",
      "C:\\Users\\BenJames\\anaconda3\\envs\\geospatial\\lib\\site-packages\\sklearn\\linear_model\\_coordinate_descent.py:470: ConvergenceWarning: Objective did not converge. You might want to increase the number of iterations. Duality gap: 21.98753214838507, tolerance: 7.100050923578217\n",
      "  model = cd_fast.enet_coordinate_descent_gram(\n",
      "C:\\Users\\BenJames\\anaconda3\\envs\\geospatial\\lib\\site-packages\\sklearn\\linear_model\\_coordinate_descent.py:470: ConvergenceWarning: Objective did not converge. You might want to increase the number of iterations. Duality gap: 21.266998061124468, tolerance: 7.100050923578217\n",
      "  model = cd_fast.enet_coordinate_descent_gram(\n",
      "C:\\Users\\BenJames\\anaconda3\\envs\\geospatial\\lib\\site-packages\\sklearn\\linear_model\\_coordinate_descent.py:470: ConvergenceWarning: Objective did not converge. You might want to increase the number of iterations. Duality gap: 20.546705145454325, tolerance: 7.100050923578217\n",
      "  model = cd_fast.enet_coordinate_descent_gram(\n",
      "C:\\Users\\BenJames\\anaconda3\\envs\\geospatial\\lib\\site-packages\\sklearn\\linear_model\\_coordinate_descent.py:470: ConvergenceWarning: Objective did not converge. You might want to increase the number of iterations. Duality gap: 19.832934958249098, tolerance: 7.100050923578217\n",
      "  model = cd_fast.enet_coordinate_descent_gram(\n",
      "C:\\Users\\BenJames\\anaconda3\\envs\\geospatial\\lib\\site-packages\\sklearn\\linear_model\\_coordinate_descent.py:470: ConvergenceWarning: Objective did not converge. You might want to increase the number of iterations. Duality gap: 19.130721834408178, tolerance: 7.100050923578217\n",
      "  model = cd_fast.enet_coordinate_descent_gram(\n",
      "C:\\Users\\BenJames\\anaconda3\\envs\\geospatial\\lib\\site-packages\\sklearn\\linear_model\\_coordinate_descent.py:470: ConvergenceWarning: Objective did not converge. You might want to increase the number of iterations. Duality gap: 18.444047391931235, tolerance: 7.100050923578217\n",
      "  model = cd_fast.enet_coordinate_descent_gram(\n",
      "C:\\Users\\BenJames\\anaconda3\\envs\\geospatial\\lib\\site-packages\\sklearn\\linear_model\\_coordinate_descent.py:470: ConvergenceWarning: Objective did not converge. You might want to increase the number of iterations. Duality gap: 17.776004832747276, tolerance: 7.100050923578217\n",
      "  model = cd_fast.enet_coordinate_descent_gram(\n",
      "C:\\Users\\BenJames\\anaconda3\\envs\\geospatial\\lib\\site-packages\\sklearn\\linear_model\\_coordinate_descent.py:470: ConvergenceWarning: Objective did not converge. You might want to increase the number of iterations. Duality gap: 17.128939563350286, tolerance: 7.100050923578217\n",
      "  model = cd_fast.enet_coordinate_descent_gram(\n",
      "C:\\Users\\BenJames\\anaconda3\\envs\\geospatial\\lib\\site-packages\\sklearn\\linear_model\\_coordinate_descent.py:470: ConvergenceWarning: Objective did not converge. You might want to increase the number of iterations. Duality gap: 16.342322017073457, tolerance: 7.100050923578217\n",
      "  model = cd_fast.enet_coordinate_descent_gram(\n",
      "C:\\Users\\BenJames\\anaconda3\\envs\\geospatial\\lib\\site-packages\\sklearn\\linear_model\\_coordinate_descent.py:470: ConvergenceWarning: Objective did not converge. You might want to increase the number of iterations. Duality gap: 14.62106480624061, tolerance: 7.100050923578217\n",
      "  model = cd_fast.enet_coordinate_descent_gram(\n",
      "C:\\Users\\BenJames\\anaconda3\\envs\\geospatial\\lib\\site-packages\\sklearn\\linear_model\\_coordinate_descent.py:470: ConvergenceWarning: Objective did not converge. You might want to increase the number of iterations. Duality gap: 14.194793345151993, tolerance: 7.100050923578217\n",
      "  model = cd_fast.enet_coordinate_descent_gram(\n",
      "C:\\Users\\BenJames\\anaconda3\\envs\\geospatial\\lib\\site-packages\\sklearn\\linear_model\\_coordinate_descent.py:470: ConvergenceWarning: Objective did not converge. You might want to increase the number of iterations. Duality gap: 13.881583079120901, tolerance: 7.100050923578217\n",
      "  model = cd_fast.enet_coordinate_descent_gram(\n",
      "C:\\Users\\BenJames\\anaconda3\\envs\\geospatial\\lib\\site-packages\\sklearn\\linear_model\\_coordinate_descent.py:470: ConvergenceWarning: Objective did not converge. You might want to increase the number of iterations. Duality gap: 19.630924929537287, tolerance: 7.100050923578217\n",
      "  model = cd_fast.enet_coordinate_descent_gram(\n",
      "C:\\Users\\BenJames\\anaconda3\\envs\\geospatial\\lib\\site-packages\\sklearn\\linear_model\\_coordinate_descent.py:470: ConvergenceWarning: Objective did not converge. You might want to increase the number of iterations. Duality gap: 26.086753529350972, tolerance: 7.100050923578217\n",
      "  model = cd_fast.enet_coordinate_descent_gram(\n",
      "C:\\Users\\BenJames\\anaconda3\\envs\\geospatial\\lib\\site-packages\\sklearn\\linear_model\\_coordinate_descent.py:470: ConvergenceWarning: Objective did not converge. You might want to increase the number of iterations. Duality gap: 27.3961718090286, tolerance: 7.100050923578217\n",
      "  model = cd_fast.enet_coordinate_descent_gram(\n",
      "C:\\Users\\BenJames\\anaconda3\\envs\\geospatial\\lib\\site-packages\\sklearn\\linear_model\\_coordinate_descent.py:470: ConvergenceWarning: Objective did not converge. You might want to increase the number of iterations. Duality gap: 28.169523092459713, tolerance: 7.100050923578217\n",
      "  model = cd_fast.enet_coordinate_descent_gram(\n",
      "C:\\Users\\BenJames\\anaconda3\\envs\\geospatial\\lib\\site-packages\\sklearn\\linear_model\\_coordinate_descent.py:470: ConvergenceWarning: Objective did not converge. You might want to increase the number of iterations. Duality gap: 29.571863217388454, tolerance: 7.100050923578217\n",
      "  model = cd_fast.enet_coordinate_descent_gram(\n",
      "C:\\Users\\BenJames\\anaconda3\\envs\\geospatial\\lib\\site-packages\\sklearn\\linear_model\\_coordinate_descent.py:470: ConvergenceWarning: Objective did not converge. You might want to increase the number of iterations. Duality gap: 129.37225499094347, tolerance: 7.100050923578217\n",
      "  model = cd_fast.enet_coordinate_descent_gram(\n",
      "C:\\Users\\BenJames\\anaconda3\\envs\\geospatial\\lib\\site-packages\\sklearn\\linear_model\\_coordinate_descent.py:470: ConvergenceWarning: Objective did not converge. You might want to increase the number of iterations. Duality gap: 226.6371838673731, tolerance: 7.100050923578217\n",
      "  model = cd_fast.enet_coordinate_descent_gram(\n",
      "C:\\Users\\BenJames\\anaconda3\\envs\\geospatial\\lib\\site-packages\\sklearn\\linear_model\\_coordinate_descent.py:470: ConvergenceWarning: Objective did not converge. You might want to increase the number of iterations. Duality gap: 256.07413550779165, tolerance: 7.100050923578217\n",
      "  model = cd_fast.enet_coordinate_descent_gram(\n",
      "C:\\Users\\BenJames\\anaconda3\\envs\\geospatial\\lib\\site-packages\\sklearn\\linear_model\\_coordinate_descent.py:470: ConvergenceWarning: Objective did not converge. You might want to increase the number of iterations. Duality gap: 270.75025680557883, tolerance: 7.100050923578217\n",
      "  model = cd_fast.enet_coordinate_descent_gram(\n",
      "C:\\Users\\BenJames\\anaconda3\\envs\\geospatial\\lib\\site-packages\\sklearn\\linear_model\\_coordinate_descent.py:470: ConvergenceWarning: Objective did not converge. You might want to increase the number of iterations. Duality gap: 274.2815516329283, tolerance: 7.100050923578217\n",
      "  model = cd_fast.enet_coordinate_descent_gram(\n",
      "C:\\Users\\BenJames\\anaconda3\\envs\\geospatial\\lib\\site-packages\\sklearn\\linear_model\\_coordinate_descent.py:470: ConvergenceWarning: Objective did not converge. You might want to increase the number of iterations. Duality gap: 274.09495173998585, tolerance: 7.100050923578217\n",
      "  model = cd_fast.enet_coordinate_descent_gram(\n",
      "C:\\Users\\BenJames\\anaconda3\\envs\\geospatial\\lib\\site-packages\\sklearn\\linear_model\\_coordinate_descent.py:470: ConvergenceWarning: Objective did not converge. You might want to increase the number of iterations. Duality gap: 19.626698477186437, tolerance: 7.100751224330273\n",
      "  model = cd_fast.enet_coordinate_descent_gram(\n",
      "C:\\Users\\BenJames\\anaconda3\\envs\\geospatial\\lib\\site-packages\\sklearn\\linear_model\\_coordinate_descent.py:470: ConvergenceWarning: Objective did not converge. You might want to increase the number of iterations. Duality gap: 12.861745458401856, tolerance: 7.100751224330273\n",
      "  model = cd_fast.enet_coordinate_descent_gram(\n",
      "C:\\Users\\BenJames\\anaconda3\\envs\\geospatial\\lib\\site-packages\\sklearn\\linear_model\\_coordinate_descent.py:470: ConvergenceWarning: Objective did not converge. You might want to increase the number of iterations. Duality gap: 10.51152344817092, tolerance: 7.100751224330273\n",
      "  model = cd_fast.enet_coordinate_descent_gram(\n",
      "C:\\Users\\BenJames\\anaconda3\\envs\\geospatial\\lib\\site-packages\\sklearn\\linear_model\\_coordinate_descent.py:470: ConvergenceWarning: Objective did not converge. You might want to increase the number of iterations. Duality gap: 24.23729912078852, tolerance: 7.100751224330273\n",
      "  model = cd_fast.enet_coordinate_descent_gram(\n",
      "C:\\Users\\BenJames\\anaconda3\\envs\\geospatial\\lib\\site-packages\\sklearn\\linear_model\\_coordinate_descent.py:470: ConvergenceWarning: Objective did not converge. You might want to increase the number of iterations. Duality gap: 21.279494021066057, tolerance: 7.100751224330273\n",
      "  model = cd_fast.enet_coordinate_descent_gram(\n",
      "C:\\Users\\BenJames\\anaconda3\\envs\\geospatial\\lib\\site-packages\\sklearn\\linear_model\\_coordinate_descent.py:470: ConvergenceWarning: Objective did not converge. You might want to increase the number of iterations. Duality gap: 24.916449331052718, tolerance: 7.100751224330273\n",
      "  model = cd_fast.enet_coordinate_descent_gram(\n",
      "C:\\Users\\BenJames\\anaconda3\\envs\\geospatial\\lib\\site-packages\\sklearn\\linear_model\\_coordinate_descent.py:470: ConvergenceWarning: Objective did not converge. You might want to increase the number of iterations. Duality gap: 24.816586261527846, tolerance: 7.100751224330273\n",
      "  model = cd_fast.enet_coordinate_descent_gram(\n",
      "C:\\Users\\BenJames\\anaconda3\\envs\\geospatial\\lib\\site-packages\\sklearn\\linear_model\\_coordinate_descent.py:470: ConvergenceWarning: Objective did not converge. You might want to increase the number of iterations. Duality gap: 24.23940824165038, tolerance: 7.100751224330273\n",
      "  model = cd_fast.enet_coordinate_descent_gram(\n",
      "C:\\Users\\BenJames\\anaconda3\\envs\\geospatial\\lib\\site-packages\\sklearn\\linear_model\\_coordinate_descent.py:470: ConvergenceWarning: Objective did not converge. You might want to increase the number of iterations. Duality gap: 23.573231116650277, tolerance: 7.100751224330273\n",
      "  model = cd_fast.enet_coordinate_descent_gram(\n",
      "C:\\Users\\BenJames\\anaconda3\\envs\\geospatial\\lib\\site-packages\\sklearn\\linear_model\\_coordinate_descent.py:470: ConvergenceWarning: Objective did not converge. You might want to increase the number of iterations. Duality gap: 22.873303142514487, tolerance: 7.100751224330273\n",
      "  model = cd_fast.enet_coordinate_descent_gram(\n",
      "C:\\Users\\BenJames\\anaconda3\\envs\\geospatial\\lib\\site-packages\\sklearn\\linear_model\\_coordinate_descent.py:470: ConvergenceWarning: Objective did not converge. You might want to increase the number of iterations. Duality gap: 22.155746554337384, tolerance: 7.100751224330273\n",
      "  model = cd_fast.enet_coordinate_descent_gram(\n",
      "C:\\Users\\BenJames\\anaconda3\\envs\\geospatial\\lib\\site-packages\\sklearn\\linear_model\\_coordinate_descent.py:470: ConvergenceWarning: Objective did not converge. You might want to increase the number of iterations. Duality gap: 21.43058737859974, tolerance: 7.100751224330273\n",
      "  model = cd_fast.enet_coordinate_descent_gram(\n",
      "C:\\Users\\BenJames\\anaconda3\\envs\\geospatial\\lib\\site-packages\\sklearn\\linear_model\\_coordinate_descent.py:470: ConvergenceWarning: Objective did not converge. You might want to increase the number of iterations. Duality gap: 20.70567108517571, tolerance: 7.100751224330273\n",
      "  model = cd_fast.enet_coordinate_descent_gram(\n",
      "C:\\Users\\BenJames\\anaconda3\\envs\\geospatial\\lib\\site-packages\\sklearn\\linear_model\\_coordinate_descent.py:470: ConvergenceWarning: Objective did not converge. You might want to increase the number of iterations. Duality gap: 19.987320273401565, tolerance: 7.100751224330273\n",
      "  model = cd_fast.enet_coordinate_descent_gram(\n",
      "C:\\Users\\BenJames\\anaconda3\\envs\\geospatial\\lib\\site-packages\\sklearn\\linear_model\\_coordinate_descent.py:470: ConvergenceWarning: Objective did not converge. You might want to increase the number of iterations. Duality gap: 19.28060148964869, tolerance: 7.100751224330273\n",
      "  model = cd_fast.enet_coordinate_descent_gram(\n",
      "C:\\Users\\BenJames\\anaconda3\\envs\\geospatial\\lib\\site-packages\\sklearn\\linear_model\\_coordinate_descent.py:470: ConvergenceWarning: Objective did not converge. You might want to increase the number of iterations. Duality gap: 18.58952176886669, tolerance: 7.100751224330273\n",
      "  model = cd_fast.enet_coordinate_descent_gram(\n",
      "C:\\Users\\BenJames\\anaconda3\\envs\\geospatial\\lib\\site-packages\\sklearn\\linear_model\\_coordinate_descent.py:470: ConvergenceWarning: Objective did not converge. You might want to increase the number of iterations. Duality gap: 17.917194023357297, tolerance: 7.100751224330273\n",
      "  model = cd_fast.enet_coordinate_descent_gram(\n",
      "C:\\Users\\BenJames\\anaconda3\\envs\\geospatial\\lib\\site-packages\\sklearn\\linear_model\\_coordinate_descent.py:470: ConvergenceWarning: Objective did not converge. You might want to increase the number of iterations. Duality gap: 17.587991306572803, tolerance: 7.100751224330273\n",
      "  model = cd_fast.enet_coordinate_descent_gram(\n",
      "C:\\Users\\BenJames\\anaconda3\\envs\\geospatial\\lib\\site-packages\\sklearn\\linear_model\\_coordinate_descent.py:470: ConvergenceWarning: Objective did not converge. You might want to increase the number of iterations. Duality gap: 16.92162541684229, tolerance: 7.100751224330273\n",
      "  model = cd_fast.enet_coordinate_descent_gram(\n",
      "C:\\Users\\BenJames\\anaconda3\\envs\\geospatial\\lib\\site-packages\\sklearn\\linear_model\\_coordinate_descent.py:470: ConvergenceWarning: Objective did not converge. You might want to increase the number of iterations. Duality gap: 14.726617813270423, tolerance: 7.100751224330273\n",
      "  model = cd_fast.enet_coordinate_descent_gram(\n",
      "C:\\Users\\BenJames\\anaconda3\\envs\\geospatial\\lib\\site-packages\\sklearn\\linear_model\\_coordinate_descent.py:470: ConvergenceWarning: Objective did not converge. You might want to increase the number of iterations. Duality gap: 14.257299413096916, tolerance: 7.100751224330273\n",
      "  model = cd_fast.enet_coordinate_descent_gram(\n",
      "C:\\Users\\BenJames\\anaconda3\\envs\\geospatial\\lib\\site-packages\\sklearn\\linear_model\\_coordinate_descent.py:470: ConvergenceWarning: Objective did not converge. You might want to increase the number of iterations. Duality gap: 13.937525177389034, tolerance: 7.100751224330273\n",
      "  model = cd_fast.enet_coordinate_descent_gram(\n",
      "C:\\Users\\BenJames\\anaconda3\\envs\\geospatial\\lib\\site-packages\\sklearn\\linear_model\\_coordinate_descent.py:470: ConvergenceWarning: Objective did not converge. You might want to increase the number of iterations. Duality gap: 19.103963962043053, tolerance: 7.100751224330273\n",
      "  model = cd_fast.enet_coordinate_descent_gram(\n",
      "C:\\Users\\BenJames\\anaconda3\\envs\\geospatial\\lib\\site-packages\\sklearn\\linear_model\\_coordinate_descent.py:470: ConvergenceWarning: Objective did not converge. You might want to increase the number of iterations. Duality gap: 26.134480626758887, tolerance: 7.100751224330273\n",
      "  model = cd_fast.enet_coordinate_descent_gram(\n",
      "C:\\Users\\BenJames\\anaconda3\\envs\\geospatial\\lib\\site-packages\\sklearn\\linear_model\\_coordinate_descent.py:470: ConvergenceWarning: Objective did not converge. You might want to increase the number of iterations. Duality gap: 27.45187050109962, tolerance: 7.100751224330273\n",
      "  model = cd_fast.enet_coordinate_descent_gram(\n",
      "C:\\Users\\BenJames\\anaconda3\\envs\\geospatial\\lib\\site-packages\\sklearn\\linear_model\\_coordinate_descent.py:470: ConvergenceWarning: Objective did not converge. You might want to increase the number of iterations. Duality gap: 28.23174117760209, tolerance: 7.100751224330273\n",
      "  model = cd_fast.enet_coordinate_descent_gram(\n",
      "C:\\Users\\BenJames\\anaconda3\\envs\\geospatial\\lib\\site-packages\\sklearn\\linear_model\\_coordinate_descent.py:470: ConvergenceWarning: Objective did not converge. You might want to increase the number of iterations. Duality gap: 30.772915505505807, tolerance: 7.100751224330273\n",
      "  model = cd_fast.enet_coordinate_descent_gram(\n",
      "C:\\Users\\BenJames\\anaconda3\\envs\\geospatial\\lib\\site-packages\\sklearn\\linear_model\\_coordinate_descent.py:470: ConvergenceWarning: Objective did not converge. You might want to increase the number of iterations. Duality gap: 111.80792520059913, tolerance: 7.100751224330273\n",
      "  model = cd_fast.enet_coordinate_descent_gram(\n",
      "C:\\Users\\BenJames\\anaconda3\\envs\\geospatial\\lib\\site-packages\\sklearn\\linear_model\\_coordinate_descent.py:470: ConvergenceWarning: Objective did not converge. You might want to increase the number of iterations. Duality gap: 221.99562723345298, tolerance: 7.100751224330273\n",
      "  model = cd_fast.enet_coordinate_descent_gram(\n",
      "C:\\Users\\BenJames\\anaconda3\\envs\\geospatial\\lib\\site-packages\\sklearn\\linear_model\\_coordinate_descent.py:470: ConvergenceWarning: Objective did not converge. You might want to increase the number of iterations. Duality gap: 258.4248879864317, tolerance: 7.100751224330273\n",
      "  model = cd_fast.enet_coordinate_descent_gram(\n",
      "C:\\Users\\BenJames\\anaconda3\\envs\\geospatial\\lib\\site-packages\\sklearn\\linear_model\\_coordinate_descent.py:470: ConvergenceWarning: Objective did not converge. You might want to increase the number of iterations. Duality gap: 272.79531239238713, tolerance: 7.100751224330273\n",
      "  model = cd_fast.enet_coordinate_descent_gram(\n",
      "C:\\Users\\BenJames\\anaconda3\\envs\\geospatial\\lib\\site-packages\\sklearn\\linear_model\\_coordinate_descent.py:470: ConvergenceWarning: Objective did not converge. You might want to increase the number of iterations. Duality gap: 275.85575853012415, tolerance: 7.100751224330273\n",
      "  model = cd_fast.enet_coordinate_descent_gram(\n",
      "C:\\Users\\BenJames\\anaconda3\\envs\\geospatial\\lib\\site-packages\\sklearn\\linear_model\\_coordinate_descent.py:470: ConvergenceWarning: Objective did not converge. You might want to increase the number of iterations. Duality gap: 275.5644533365703, tolerance: 7.100751224330273\n",
      "  model = cd_fast.enet_coordinate_descent_gram(\n"
     ]
    },
    {
     "name": "stdout",
     "output_type": "stream",
     "text": [
      "Wall time: 25.2 s\n"
     ]
    },
    {
     "name": "stderr",
     "output_type": "stream",
     "text": [
      "C:\\Users\\BenJames\\anaconda3\\envs\\geospatial\\lib\\site-packages\\sklearn\\linear_model\\_coordinate_descent.py:474: ConvergenceWarning: Objective did not converge. You might want to increase the number of iterations. Duality gap: 18580.942578149996, tolerance: 8.875296167711676\n",
      "  model = cd_fast.enet_coordinate_descent(\n"
     ]
    },
    {
     "data": {
      "text/plain": [
       "LassoCV(alphas=None, copy_X=True, cv=None, eps=0.001, fit_intercept=True,\n",
       "        max_iter=1000, n_alphas=100, n_jobs=None, normalize=False,\n",
       "        positive=False, precompute='auto', random_state=None,\n",
       "        selection='cyclic', tol=0.0001, verbose=False)"
      ]
     },
     "execution_count": 161,
     "metadata": {},
     "output_type": "execute_result"
    }
   ],
   "source": [
    "%%time\n",
    "from sklearn.linear_model import LassoCV\n",
    "reg = LassoCV()\n",
    "reg.fit(X,y)"
   ]
  },
  {
   "cell_type": "code",
   "execution_count": 187,
   "metadata": {},
   "outputs": [
    {
     "data": {
      "text/plain": [
       "(['Sentinel2_B8A',\n",
       "  'Sentinel2_B03',\n",
       "  'MSAVI',\n",
       "  'Sentinel2_B05',\n",
       "  'DPR',\n",
       "  'RGBNmean',\n",
       "  'REDness',\n",
       "  'RED',\n",
       "  'GREEN',\n",
       "  'GREENness',\n",
       "  'BLUEness',\n",
       "  'Sentinel2_B11',\n",
       "  'NDPI',\n",
       "  'NIRness',\n",
       "  'BLUE',\n",
       "  'NIR',\n",
       "  'NDVI',\n",
       "  'Sentinel2_B04',\n",
       "  'Sentinel2_B08',\n",
       "  'Sentinel2_B06'],\n",
       " Sentinel2_NDWI        0.347446\n",
       " NDVI                  0.329615\n",
       " Sentinel2_NDMI        0.328725\n",
       " GaussianSigma5_NIR    0.300532\n",
       " Sentinel2_B08         0.263607\n",
       " GaussianSigma2_NIR    0.261988\n",
       " DPR                   0.250857\n",
       " NIR                   0.248075\n",
       " Sentinel2_B07         0.244213\n",
       " Sentinel2_B8A         0.243112\n",
       " Sentinel2_BSI         0.240286\n",
       " Sentinel2_B06         0.236824\n",
       " NDPI                  0.214167\n",
       " GREENness             0.184640\n",
       " MSAVI                 0.182069\n",
       " NIR_LHE               0.174637\n",
       " Sentinel2_DBSI        0.166850\n",
       " RGBNmean              0.166844\n",
       " Sentinel2_B11         0.149992\n",
       " Name: LCClassInt, dtype: float64)"
      ]
     },
     "execution_count": 187,
     "metadata": {},
     "output_type": "execute_result"
    }
   ],
   "source": [
    "imp_coeff.index.tolist(), relevant_features[1:20]"
   ]
  },
  {
   "cell_type": "code",
   "execution_count": 182,
   "metadata": {},
   "outputs": [
    {
     "name": "stdout",
     "output_type": "stream",
     "text": [
      "Best alpha using built-in LassoCV: 1.040277\n",
      "Best score using built-in LassoCV: 0.361891\n",
      "Lasso picked 20 variables and eliminated the other 22 variables\n"
     ]
    },
    {
     "name": "stderr",
     "output_type": "stream",
     "text": [
      "C:\\Users\\BenJames\\anaconda3\\envs\\geospatial\\lib\\site-packages\\ipykernel\\ipkernel.py:283: DeprecationWarning: `should_run_async` will not call `transform_cell` automatically in the future. Please pass the result to `transformed_cell` argument and any exception that happen during thetransform in `preprocessing_exc_tuple` in IPython 7.17 and above.\n",
      "  and should_run_async(code)\n"
     ]
    },
    {
     "data": {
      "text/plain": [
       "Text(0.5, 1.0, 'Feature importance using Lasso Model')"
      ]
     },
     "execution_count": 182,
     "metadata": {},
     "output_type": "execute_result"
    },
    {
     "data": {
      "image/png": "[encoded data removed]",
      "text/plain": [
       "<Figure size 720x1080 with 1 Axes>"
      ]
     },
     "metadata": {
      "needs_background": "light"
     },
     "output_type": "display_data"
    }
   ],
   "source": [
    "print(\"Best alpha using built-in LassoCV: %f\" % reg.alpha_)\n",
    "print(\"Best score using built-in LassoCV: %f\" % reg.score(X,y))\n",
    "coef = pd.Series(reg.coef_, index=X.columns)\n",
    "imp_coeff = coef[coef!=0]\n",
    "print(\"Lasso picked \" + str(sum(coef!=0)) + \" variables and eliminated the other \" + str(sum(coef==0)) + \" variables\")\n",
    "imp_coeff.sort_values(ascending=False, inplace=True)\n",
    "import matplotlib\n",
    "matplotlib.rcParams['figure.figsize'] = (10,15)\n",
    "imp_coeff.plot(kind=\"barh\")\n",
    "plt.title(\"Feature importance using Lasso Model\")"
   ]
  },
  {
   "cell_type": "code",
   "execution_count": 37,
   "metadata": {},
   "outputs": [
    {
     "name": "stdout",
     "output_type": "stream",
     "text": [
      "Asphault\n",
      "Barren\n",
      "DenseVeg\n",
      "Impervious\n",
      "IrrigatedLand\n",
      "PondLake\n",
      "Pool\n",
      "SparseVeg\n",
      "Structure\n"
     ]
    }
   ],
   "source": [
    "fullBinaryFiles = [os.path.abspath(f) for f in glob(\"../EPCExtent_30cm/Orthos_Segmented_Classifiedv3/*_TrainingStackV3_BinaryOptunaTunerGBLM.tif\")]\n",
    "\n",
    "with rio.open(\"../EPCExtent_30cm/Orthos_Segmented_Classifiedv3/W1004789_W449850_TrainingStackV3_BinaryOptunaTunerGBLM.tif\") as src:\n",
    "    bands = src.descriptions\n",
    "    \n",
    "for i, name in enumerate(bands):\n",
    "    print(name)\n",
    "    vrtopts = gdal.BuildVRTOptions(bandList=[i+1])\n",
    "    vrtFile = f\"C:/Users/BenJames/Downloads/FullBinaryClassification_{name}.vrt\"\n",
    "    if os.path.exists(vrtFile):\n",
    "        continue\n",
    "    t = gdal.BuildVRT(vrtFile, fullBinaryFiles, options=vrtopts)\n",
    "    del t\n",
    "%chime"
   ]
  },
  {
   "cell_type": "code",
   "execution_count": 30,
   "metadata": {},
   "outputs": [
    {
     "name": "stderr",
     "output_type": "stream",
     "text": [
      "C:\\Users\\BenJames\\anaconda3\\envs\\geospatial\\lib\\site-packages\\ipykernel\\ipkernel.py:283: DeprecationWarning: `should_run_async` will not call `transform_cell` automatically in the future. Please pass the result to `transformed_cell` argument and any exception that happen during thetransform in `preprocessing_exc_tuple` in IPython 7.17 and above.\n",
      "  and should_run_async(code)\n"
     ]
    }
   ],
   "source": [
    "# Pool at 0.88897777 with 20k or 50k sample size and lgbm tuner\n",
    "# pool at 0.9992995555 with 50k sample size and optuna lgmb tuner"
   ]
  },
  {
   "cell_type": "code",
   "execution_count": 12,
   "metadata": {},
   "outputs": [],
   "source": [
    "def useOptunaOptunaObjective(trainDataset, validDataset, lcClass):\n",
    "    objectiveStudy = optuna.create_study(study_name=f\"lightgbm_ObjectiveTuner_{k}\", direction=\"minimize\")\n",
    "\n",
    "    model = olgb.train(\n",
    "        params, train_set=trainDataset, valid_sets=[trainDataset, validDataset], verbose_eval=100,\n",
    "        optuna_callbacks=[mlflow_callback], study=objectiveStudy\n",
    "    )\n",
    "\n",
    "    prediction = np.rint(model.predict(X_valid, num_iteration=model.best_iteration))\n",
    "    accuracy = accuracy_score(Y_valid, prediction)\n",
    "\n",
    "    best_params = model.params\n",
    "    print(f\"Best params for {k}:\", best_params)\n",
    "    print(f\"  {k} Accuracy = {accuracy}\")\n",
    "    print(\"  Params: \")\n",
    "    for key, value in best_params.items():\n",
    "        print(f\"    {key}: {value}\")\n",
    "\n",
    "\n",
    "    day = datetime.strftime(datetime.now(), \"%Y%m%d\")\n",
    "    model_name = f\"lightGBMBinary{k}_OptunaTuner_{day}.sav\"\n",
    "    model_path = os.path.join(os.path.abspath(\"../notebooks/Models\"), model_name)\n",
    "    pickle.dump(model, open(model_path, \"wb\"))\n",
    "    params_path = f\"../notebooks/Models/lightBinary{lcClass}Params_{day}.txt\"\n",
    "    with open(params_path, \"w+\") as txt:\n",
    "        txt.write(json.dumps(params))\n",
    "        print(f\"Wrote out trained model for {k} to \\n\\t{model_path} and paramameters to \\n\\t{params_path}\")\n",
    "    end = datetime.now()\n",
    "    print(f\"Training took {end-start}\\n\")\n",
    "\n",
    "    print(best_params)\n",
    "    \n",
    "    return objectiveStudy\n",
    "\n",
    "\n"
   ]
  },
  {
   "cell_type": "code",
   "execution_count": null,
   "metadata": {},
   "outputs": [],
   "source": []
  },
  {
   "cell_type": "code",
   "execution_count": null,
   "metadata": {},
   "outputs": [],
   "source": []
  },
  {
   "cell_type": "code",
   "execution_count": 131,
   "metadata": {},
   "outputs": [
    {
     "name": "stdout",
     "output_type": "stream",
     "text": [
      "Best trial:\n",
      "\tscore 0.0010724698440817458\n",
      "\ttook 2 minutes 22 seconds\n",
      "\tparams {\n",
      "          \"lambda_l1\": 0.006144408434141018,\n",
      "          \"lambda_l2\": 3.5771466455438237\n",
      "}\n",
      "Optimum trial (#39): \n",
      "\tscore 0.0010951646608571258 \n",
      "\ttook 1 minutes 18.5 seconds \n",
      "\tparams: {\n",
      "          \"feature_fraction\": 0.88\n",
      "}\n"
     ]
    },
    {
     "data": {
      "image/png": "[encoded data removed]",
      "text/plain": [
       "<Figure size 360x360 with 1 Axes>"
      ]
     },
     "metadata": {
      "needs_background": "light"
     },
     "output_type": "display_data"
    }
   ],
   "source": [
    "seconds_limit = 70\n",
    "history = tunerStudy.trials_dataframe()\n",
    "history[\"DurationSeconds\"] = history.duration.apply(lambda d: d/np.timedelta64(1, 's'))\n",
    "#history.to_csv(f\"./Models/lightGBMBinaryAsphaultStudy_{day}.csv\", index=False)\n",
    "best_params = tunerStudy.best_trial.params\n",
    "best_score = tunerStudy.best_trial.value\n",
    "print(f\"Best trial:\\n\\tscore {best_score}\\n\\ttook {int(tunerStudy.best_trial.duration.seconds/60)} minutes {tunerStudy.best_trial.duration.seconds%60} seconds\\n\\tparams {json.dumps(best_params, indent=10)}\")\n",
    "\n",
    "best_performers = history[(history.value<(best_score*1.2))]# & (history.DurationSeconds < seconds_limit)]\n",
    "highestAccuracy = history[history.value == history.value.min()]\n",
    "highAccuracyLowRun = history[(history.DurationSeconds < highestAccuracy.DurationSeconds.max()*1.5) & (history.value < best_score / 0.95)]\n",
    "optimum_trial = best_performers[best_performers.DurationSeconds == best_performers.DurationSeconds.min()] \n",
    "optimum_trial_number = optimum_trial.number.values[0]\n",
    "optimum_score = optimum_trial.value.values[0]\n",
    "optimum_time = optimum_trial.DurationSeconds.values[0]\n",
    "optimum_params = tunerStudy.get_trials()[optimum_trial_number].params\n",
    "print(f\"Optimum trial (#{optimum_trial_number}): \\n\\tscore {optimum_score} \\n\\ttook {int(optimum_time/60)} minutes {round(optimum_time%60,1)} seconds \\n\\tparams: {json.dumps(optimum_params, indent=10)}\")\n",
    "\n",
    "ax1 = highAccuracyLowRun.plot(kind='scatter', x='DurationSeconds', y='value', color='green', s=20, figsize=(5,5))    \n",
    "ax2 = highestAccuracy.plot(kind='scatter', x='DurationSeconds', y='value', color='red', s=100, ax=ax1)\n",
    "ax3 = optimum_trial.plot(kind='scatter', x='DurationSeconds', y='value', color='blue', s=100, ax=ax1)"
   ]
  },
  {
   "cell_type": "code",
   "execution_count": 49,
   "metadata": {},
   "outputs": [
    {
     "name": "stdout",
     "output_type": "stream",
     "text": [
      "Best trial:\n",
      "\tscore 0.0007565977694676177\n",
      "\ttook 1 minutes 31 seconds\n",
      "\tparams {\n",
      "          \"lambda_l1\": 0.028664020826938516,\n",
      "          \"lambda_l2\": 1.3198683384921155e-08\n",
      "}\n",
      "Optimum trial (#20): \n",
      "\tscore 0.000775853596216345 \n",
      "\ttook 1 minutes 4.0 seconds \n",
      "\tparams: {\n",
      "          \"num_leaves\": 124\n",
      "}\n"
     ]
    },
    {
     "name": "stderr",
     "output_type": "stream",
     "text": [
      "C:\\Users\\BenJames\\anaconda3\\envs\\geospatial\\lib\\site-packages\\ipykernel\\ipkernel.py:283: DeprecationWarning: `should_run_async` will not call `transform_cell` automatically in the future. Please pass the result to `transformed_cell` argument and any exception that happen during thetransform in `preprocessing_exc_tuple` in IPython 7.17 and above.\n",
      "  and should_run_async(code)\n"
     ]
    },
    {
     "data": {
      "image/png": "[encoded data removed]",
      "text/plain": [
       "<Figure size 360x360 with 1 Axes>"
      ]
     },
     "metadata": {
      "needs_background": "light"
     },
     "output_type": "display_data"
    }
   ],
   "source": [
    "seconds_limit = 70\n",
    "history = study.trials_dataframe()\n",
    "history[\"DurationSeconds\"] = history.duration.apply(lambda d: d/np.timedelta64(1, 's'))\n",
    "history.to_csv(f\"./Models/lightGBMBinaryAsphaultStudy_{day}.csv\", index=False)\n",
    "best_params = study.best_trial.params\n",
    "best_score = study.best_trial.value\n",
    "print(f\"Best trial:\\n\\tscore {best_score}\\n\\ttook {int(study.best_trial.duration.seconds/60)} minutes {study.best_trial.duration.seconds%60} seconds\\n\\tparams {json.dumps(best_params, indent=10)}\")\n",
    "\n",
    "best_performers = history[(history.value<(best_score*1.2))]# & (history.DurationSeconds < seconds_limit)]\n",
    "highestAccuracy = history[history.value == history.value.min()]\n",
    "highAccuracyLowRun = history[(history.DurationSeconds < highestAccuracy.DurationSeconds.max()*1.5) & (history.value < best_score / 0.95)]\n",
    "optimum_trial = best_performers[best_performers.DurationSeconds == best_performers.DurationSeconds.min()] \n",
    "optimum_trial_number = optimum_trial.number.values[0]\n",
    "optimum_score = optimum_trial.value.values[0]\n",
    "optimum_time = optimum_trial.DurationSeconds.values[0]\n",
    "optimum_params = study.get_trials()[optimum_trial_number].params\n",
    "print(f\"Optimum trial (#{optimum_trial_number}): \\n\\tscore {optimum_score} \\n\\ttook {int(optimum_time/60)} minutes {round(optimum_time%60,1)} seconds \\n\\tparams: {json.dumps(optimum_params, indent=10)}\")\n",
    "\n",
    "ax1 = highAccuracyLowRun.plot(kind='scatter', x='DurationSeconds', y='value', color='green', s=20, figsize=(5,5))    \n",
    "ax2 = highestAccuracy.plot(kind='scatter', x='DurationSeconds', y='value', color='red', s=100, ax=ax1)\n",
    "ax3 = optimum_trial.plot(kind='scatter', x='DurationSeconds', y='value', color='blue', s=100, ax=ax1)"
   ]
  },
  {
   "cell_type": "code",
   "execution_count": 99,
   "metadata": {},
   "outputs": [
    {
     "data": {
      "text/plain": [
       "<matplotlib.axes._subplots.AxesSubplot at 0x2da974887f0>"
      ]
     },
     "execution_count": 99,
     "metadata": {},
     "output_type": "execute_result"
    },
    {
     "data": {
      "image/png": "[encoded data removed]",
      "text/plain": [
       "<Figure size 360x360 with 1 Axes>"
      ]
     },
     "metadata": {
      "needs_background": "light"
     },
     "output_type": "display_data"
    }
   ],
   "source": [
    "olgb.plot_importance(model, height=0.5, figsize=(5,5))"
   ]
  },
  {
   "cell_type": "code",
   "execution_count": 30,
   "metadata": {},
   "outputs": [],
   "source": [
    "finished()"
   ]
  },
  {
   "cell_type": "code",
   "execution_count": 46,
   "metadata": {},
   "outputs": [],
   "source": [
    "from skimage.morphology import binary_closing, binary_opening, square, remove_small_holes, disk, square, remove_small_objects\n",
    "\n",
    "\n",
    "\n",
    "def removeClassSmaller(array, class_num, min_size):\n",
    "    non = np.where(array==class_num, 255, array)\n",
    "    removed = remove_small_objects(array==class_num, min_size=min_size, connectivity=1)\n",
    "    array_rem = np.where(removed==0, non, array)\n",
    "    return array_rem\n",
    "\n"
   ]
  },
  {
   "cell_type": "code",
   "execution_count": 47,
   "metadata": {},
   "outputs": [],
   "source": [
    "with rio.open(\"../EPCExtent_30cm\\Orthos_Segmented_Classifiedv3\\W989789_W439850_TrainingStackV3_AsphaultBinaryLGBNewishGBLM.tif\") as src:\n",
    "    asphault = src.read(1)\n",
    "    kwargs = src.profile\n",
    "\n",
    "with rio.open(\"C:/Users/BenJames/Downloads/testAsphault.tif\", \"w\", **kwargs) as dst:\n",
    "    dst.write(cleanupAsphault(asphault).astype(np.uint8), 1)\n",
    "\n"
   ]
  },
  {
   "cell_type": "code",
   "execution_count": null,
   "metadata": {},
   "outputs": [],
   "source": []
  }
 ],
 "metadata": {
  "kernelspec": {
   "display_name": "Python 3 (ipykernel)",
   "language": "python",
   "name": "python3"
  },
  "language_info": {
   "codemirror_mode": {
    "name": "ipython",
    "version": 3
   },
   "file_extension": ".py",
   "mimetype": "text/x-python",
   "name": "python",
   "nbconvert_exporter": "python",
   "pygments_lexer": "ipython3",
   "version": "3.8.12"
  }
 },
 "nbformat": 4,
 "nbformat_minor": 4
}
