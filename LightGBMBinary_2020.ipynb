{
 "cells": [
  {
   "cell_type": "markdown",
   "metadata": {},
   "source": [
    "# LIGHTGBM BINARY\n",
    "https://lightgbm.readthedocs.io/en/latest/Python-Intro.html\n",
    "\n",
    "Control Params | Core Params | Metric Params | IO Params\n",
    "-------------- | ----------- | ------------- | ---------\n",
    "max_depth | task | metric (mae, mse, binary_logloss, multi_logloss) | max_bin\n",
    "min_data_in_leaf | application (regression, binary, multiclass)| categorical_feature\n",
    "feature_fraction | boosting (gbdt, rf, dark, goss) | ignore_column\n",
    "bagging_fraction | num_boost_round | save_binary\n",
    "early_stopping_round | learning_rate\n",
    "lambda | num_leaves\n",
    "min_gain_to_split | device (GPU or CPU)\n",
    "max_cat_group | "
   ]
  },
  {
   "cell_type": "code",
   "execution_count": 1,
   "metadata": {},
   "outputs": [],
   "source": [
    "%load_ext chime\n",
    "%matplotlib inline\n",
    "\n",
    "import os\n",
    "from glob import glob\n",
    "import pickle\n",
    "import chime\n",
    "\n",
    "from pprint import pprint\n",
    "from sklearn.ensemble import RandomForestClassifier\n",
    "from sklearn.model_selection import RandomizedSearchCV, GridSearchCV\n",
    "from sklearn.metrics import confusion_matrix, accuracy_score, f1_score, cohen_kappa_score, classification_report\n",
    "from skimage.exposure import adjust_sigmoid\n",
    "from sklearn.model_selection import train_test_split\n",
    "from sklearn.preprocessing import StandardScaler\n",
    "\n",
    "import rasterio as rio\n",
    "from rasterio.windows import from_bounds\n",
    "\n",
    "import pandas as pd\n",
    "import geopandas as gpd\n",
    "import numpy as np\n",
    "\n",
    "from datetime import datetime\n",
    "import json\n",
    "\n",
    "import matplotlib.pyplot as plt\n",
    "import lightgbm as lgb\n",
    "\n",
    "import optuna \n",
    "from optuna import Trial, visualization\n",
    "from optuna.samplers import TPESampler\n",
    "\n",
    "from utils import *\n",
    "\n",
    "import optuna.integration.lightgbm as olgb"
   ]
  },
  {
   "cell_type": "code",
   "execution_count": 2,
   "metadata": {},
   "outputs": [],
   "source": [
    "\"\"\"\n",
    "def calcMeanDiffs(df, headers):\n",
    "    #\n",
    "    #Given a dataframe containing columns of RED, GREEN, BLUE, and NIR, calculate their difference from the mean of the others. Add these new columns to the headers to be used\n",
    "    #\n",
    "    df[\"REDness\"] = df.apply(lambda r: calcMeanDiff(r, \"RED\"), axis=1)\n",
    "    df[\"GREENness\"] = df.apply(lambda r: calcMeanDiff(r, \"GREEN\"), axis=1)\n",
    "    df[\"BLUEness\"] = df.apply(lambda r: calcMeanDiff(r, \"BLUE\"), axis=1)\n",
    "    df[\"NIRness\"] = df.apply(lambda r: calcMeanDiff(r, \"NIR\"), axis=1)\n",
    "    df[\"RGBNmean\"] = np.nanmean([df[\"RED\"], df[\"GREEN\"], df[\"BLUE\"], df[\"NIR\"]], axis=0)\n",
    "\n",
    "    if \"REDness\" not in headers:\n",
    "        headers += [\"REDness\", \"GREENness\", \"BLUEness\", \"NIRness\", \"BaseMean\"]\n",
    "    return df, headers\n",
    "\"\"\"\n",
    "\n",
    "def evaluate(model, test_features, test_labels):\n",
    "    predictions = model.predict(test_features)\n",
    "    errors = abs(predictions - test_labels)\n",
    "    mape = 100 * np.mean(errors / test_labels)\n",
    "    accuracy = 100 - mape\n",
    "    print('Model Performance')\n",
    "    print('Average Error: {:0.4f} degrees.'.format(np.mean(errors)))\n",
    "    print('Accuracy = {:0.2f}%.'.format(accuracy))\n",
    "    \n",
    "    return np.mean(errors), accuracy\n",
    "\n",
    "\n",
    "def buildModel(params, dataset, features, classCol, fullReport=False, writeOut=False):\n",
    "    \"\"\" Given parameters, a pandas dataframe, a list of feature column names, and the name of the class column\"\"\"\n",
    "    X = dataset[features]\n",
    "    y = dataset[classCol]\n",
    "    X_train, X_valid, Y_train, Y_valid = train_test_split(X, y, test_size=0.25, random_state=7)\n",
    "    train_data = lgb.Dataset(X_train, label=Y_train)\n",
    "    valid_data = lgb.Dataset(X_valid, label=Y_valid, reference=train_data)\n",
    "    gbmModel = lgb.LGBMClassifier(**params, metric=\"custom\")\n",
    "    \n",
    "    gbmModel.fit(X_train, Y_train, eval_set=(X_valid, Y_valid), eval_metric=evalF1, early_stopping_rounds=50)#, verbose_eval=False)\n",
    "    \n",
    "    preds = gbmModel.predict(X_valid)\n",
    "\n",
    "    scores = {}\n",
    "    f1 = f1_score(Y_valid, preds, average='weighted')\n",
    "\n",
    "    scores[\"F1\"] = f1\n",
    "    \n",
    "    if fullReport:\n",
    "        accuracy = accuracy_score(Y_valid, preds)\n",
    "        kappa = cohen_kappa_score(Y_valid, preds)\n",
    "        print(f\"Model:\\n\\tAccuracy: {accuracy}\\n\\tF1: {f1}\\n\\tCohensKappa: {kappa}\")\n",
    "        print(classification_report(Y_valid, preds, target_names=[k for k,v in values_2019_lookup.items()][:-2]))#\n",
    "        plotConfusionMatrix(gbmModel, X_valid, Y_valid)\n",
    "    if writeOut:\n",
    "        day = datetime.strftime(datetime.now(), \"%Y%m%d\")\n",
    "        model_name = f\"lightGBM_{day}.sav\"\n",
    "        model_path = os.path.join(os.path.abspath(\"./Models\"), model_name)\n",
    "        pickle.dump(gbmModel, open(model_path, \"wb\"))\n",
    "        params_path = f\"./Models/LGBMClassifierParams_{day}.txt\"\n",
    "        with open(params_path, \"w+\") as txt:\n",
    "            txt.write(json.dumps(params))\n",
    "        print(f\"Wrote out trained model to \\n\\t{model_path} and paramameters to \\n\\t{params_path}\")\n",
    "    \n",
    "    return gbmModel, scores\n",
    "\n",
    "\n",
    "def optunaObjective(trial):\n",
    "    # Add a callback for pruning.\n",
    "    pruning_callback = optuna.integration.LightGBMPruningCallback(trial, \"multi_logloss\")\n",
    "    \n",
    "    search_params = {\n",
    "        \"feature_fraction\": trial.suggest_float(\"feature_fraction\", 0.1, 0.5),\n",
    "        \"bagging_fraction\": trial.suggest_float(\"bagging_fraction\", 0.1, 0.5),\n",
    "        \"num_leaves\": trial.suggest_int(\"num_leaves\", 50, 500),\n",
    "        \"max_depth\": trial.suggest_int(\"max_depth\", 10, 100),\n",
    "        \"learning_rate\": trial.suggest_loguniform(\"learning_rate\", 0.005, 0.5),\n",
    "        \"num_boost_round\": trial.suggest_int(\"num_boost_round\", 25, 400), # change min limit to 25 because best fits were hitting limit of 50 \n",
    "        \"boosting_type\": trial.suggest_categorical('boosting_type', [\"rf\", \"gbdt\"]), # used dart on previous searches. not best for this\n",
    "        \"n_estimators\": trial.suggest_int(\"n_estimators\", 100, 500)\n",
    "    }\n",
    "    \n",
    "    params = {**fixed_params, **search_params}\n",
    "    scores = []\n",
    "    for data in subGroups:\n",
    "        #data = subGroups[i]\n",
    "        gbm, modelScores = buildModel(params, data, featureHeaders, class_col)\n",
    "                \n",
    "        #preds = gbm.predict(X_valid)\n",
    "        #accuracy = accuracy_score(y_valid, preds)\n",
    "        #f1 = f1_score(y_valid, preds, average='weighted')\n",
    "        scores.append(modelScores[\"F1\"])\n",
    "        \n",
    "    meanScore = np.mean(scores)\n",
    "    \n",
    "    return meanScore\n",
    "\n",
    "\n",
    "def evaluate_macroF1_lgb(truth, predictions):  \n",
    "    #pred_labels = predictions.reshape(len(np.unique(truth)),-1).argmax(axis=0)\n",
    "    f1 = f1_score(truth, pred_labels, average='weighted')\n",
    "    return ('macroF1', f1, True) \n",
    "\n",
    "\n",
    "def plotConfusionMatrix(model, xValid, yValid):\n",
    "    labels, counts = np.unique(yValid, return_counts=True)\n",
    "    pred_lgb = model.predict(xValid)\n",
    "    cm = confusion_matrix(yValid, pred_lgb, labels=labels)\n",
    "    cm = cm.astype('float') / cm.sum(axis=1)[:, np.newaxis]\n",
    "    fig, ax = plt.subplots(figsize=(10, 10))\n",
    "    im = ax.imshow(cm, interpolation='nearest', cmap=plt.cm.Blues)\n",
    "    ax.figure.colorbar(im, ax=ax)\n",
    "\n",
    "\n",
    "    # We want to show all ticks...\n",
    "    ax.set(xticks=np.arange(cm.shape[1]),\n",
    "           yticks=np.arange(cm.shape[0]),\n",
    "           # ... and label them with the respective list entries\n",
    "           xticklabels=[k for i in labels for k,v in values_2019_lookup.items() if i == v],\n",
    "           yticklabels=[k for i in labels for k,v in values_2019_lookup.items() if i == v],\n",
    "           title='Normalized Confusion Matrix',\n",
    "           ylabel='True label',\n",
    "           xlabel='Predicted label')\n",
    "\n",
    "\n",
    "    # Rotate the tick labels and set their alignment.\n",
    "    plt.setp(ax.get_xticklabels(), rotation=45, ha=\"right\",\n",
    "             rotation_mode=\"anchor\")\n",
    "    # Loop over data dimensions and create text annotations.\n",
    "    fmt = '.4f'\n",
    "    thresh = cm.max() / 2.\n",
    "    for i in range(cm.shape[0]):\n",
    "        for j in range(cm.shape[1]):\n",
    "            ax.text(j, i, format(cm[i, j], fmt),\n",
    "                    ha=\"center\", va=\"center\",\n",
    "                    color=\"white\" if cm[i, j] > thresh else \"black\")\n",
    "    fig.tight_layout()\n",
    "\n",
    "\n",
    "def evalF1(y_true, y_pred):\n",
    "    #https://stackoverflow.com/questions/57222667/light-gbm-early-stopping-does-not-work-for-custom-metric\n",
    "    # returns (eval_name, eval_result, is_higher_better\n",
    "    y_pred = y_pred.reshape(len(np.unique(y_true)),-1).argmax(axis=0)\n",
    "    return 'F1', f1_score(y_true, y_pred, average='weighted'), True"
   ]
  },
  {
   "cell_type": "code",
   "execution_count": 4,
   "metadata": {},
   "outputs": [
    {
     "data": {
      "text/plain": [
       "{'PondLake': '../OtherData/TrainingData/PondLake_20210813.pickle',\n",
       " 'Pool': '../OtherData/TrainingData/Pool_20210813.pickle',\n",
       " 'DenseVeg': '../OtherData/TrainingData/DenseVeg_20210813.pickle',\n",
       " 'IrrigatedLand': '../OtherData/TrainingData/IrrigatedLand_20210813.pickle',\n",
       " 'Asphault': '../OtherData/TrainingData/Asphault_20210813.pickle',\n",
       " 'Impervious': '../OtherData/TrainingData/Impervious_20210813.pickle',\n",
       " 'Structure': '../OtherData/TrainingData/Structure_20210813.pickle',\n",
       " 'Barren': '../OtherData/TrainingData/Barren_20210813.pickle',\n",
       " 'SparseVeg': '../OtherData/TrainingData/SparseVeg_20210813.pickle',\n",
       " 'ParkingLot': '../OtherData/TrainingData/ParkingLot_20210813.pickle',\n",
       " 'Sidewalk': '../OtherData/TrainingData/Sidewalk_20210813.pickle'}"
      ]
     },
     "execution_count": 4,
     "metadata": {},
     "output_type": "execute_result"
    }
   ],
   "source": [
    "trainingSamples_locs = {\"PondLake\": \"../OtherData/TrainingData/PondLake_20210519.pickle\",\n",
    "                        \"Pool\": \"../OtherData/TrainingData/Pool_20210519.pickle\",\n",
    "                        \"DenseVeg\": \"../OtherData/TrainingData/DenseVeg_20210519.pickle\",\n",
    "                        \"IrrigatedLand\": \"../OtherData/TrainingData/IrrigatedLand_20210519.pickle\",\n",
    "                        \"Asphault\": \"../OtherData/TrainingData/Asphault_20210519.pickle\",\n",
    "                        \"Impervious\": \"../OtherData/TrainingData/Impervious_20210519.pickle\",\n",
    "                        \"Structure\": \"../OtherData/TrainingData/Structure_20210519.pickle\",\n",
    "                        \"Barren\": \"../OtherData/TrainingData/Barren_20210519.pickle\",\n",
    "                        \"SparseVeg\": \"../OtherData/TrainingData/SparseVeg_20210519.pickle\",\n",
    "                        \"ParkingLot\": \"../OtherData/TrainingData/ParkingLot_20210519.pickle\",\n",
    "                        \"Sidewalk\": \"../OtherData/TrainingData/Sidewalk_20210519.pickle\"}\n",
    "\n",
    "values_2019_lookup = {\"PondLake\": 1, \"Pool\": 2, \"Barren\": 3, \"SparseVeg\": 4, \"DenseVeg\": 5, \"IrrigatedLand\": 6, \"Asphault\": 7, \"Impervious\": 8, \"Structure\": 9, \"ParkingLot\": 7, \"Sidewalk\": 8}\n",
    "for lcclass, fileloc in trainingSamples_locs.items():\n",
    "    trainingSamples_locs[lcclass] = fileloc.replace(\"20210519\", \"20210813\")\n",
    "trainingSamples_locs"
   ]
  },
  {
   "cell_type": "code",
   "execution_count": 5,
   "metadata": {},
   "outputs": [
    {
     "name": "stdout",
     "output_type": "stream",
     "text": [
      "(40519977, 28)\n",
      "Total weights: 100.0\n"
     ]
    }
   ],
   "source": [
    "class_col = \"LCClassInt\"\n",
    "\n",
    "trainingSamples = []\n",
    "for lcClass, file in trainingSamples_locs.items():\n",
    "    df = pd.read_pickle(file)\n",
    "    if lcClass == \"Structure\":\n",
    "        df = df[df.HAG >= 6]\n",
    "        \n",
    "    if lcClass == \"PondLake\" or lcClass == \"Pool\" or lcClass == \"IrrigatedLand\" or lcClass == \"Impervious\" or lcClass == \"Barren\" or lcClass == \"Asphault\":\n",
    "        df = df[df.HAG == 0] \n",
    "        \n",
    "    if lcClass == \"PondLake\":\n",
    "        df = df[df.MSAVI < (120/255)*np.iinfo(np.uint16).max]\n",
    "        df = df[df.NDVI < (15/255)*np.iinfo(np.uint16).max]\n",
    "        \n",
    "    if lcClass == \"Pool\":\n",
    "        df = df[df.MSAVI < (100/255)*np.iinfo(np.uint16).max]\n",
    "        df = df[df.NDVI < (65/255)*np.iinfo(np.uint16).max]\n",
    "        \n",
    "    if lcClass == \"Asphault\" or lcClass == \"ParkingLot\":\n",
    "        df.loc[df.NIR >= (100/255)*np.iinfo(np.uint16).max, \"LCClass\"] = \"Impervious\"\n",
    "        \n",
    "    trainingSamples.append(df)\n",
    "    \n",
    "trainingSamples = pd.concat(trainingSamples).reset_index(drop=True)\n",
    "\n",
    "print(trainingSamples.shape)\n",
    "\n",
    "trainingSamples[class_col] = trainingSamples[\"LCClass\"].apply(lambda lcc: values_2019_lookup[lcc])\n",
    "\n",
    "local_class_weight_dict = {\"PondLake\": 0.02,\n",
    "                           \"Pool\": 0.10,\n",
    "                           \"Barren\": 24,\n",
    "                           \"SparseVeg\": 18,\n",
    "                           \"DenseVeg\": 15,\n",
    "                           \"IrrigatedLand\": 3,\n",
    "                           \"Asphault\": 11,\n",
    "                           \"Impervious\": 14,\n",
    "                           \"Structure\": 14.88}\n",
    "\n",
    "# replace human readable names with numerical associations\n",
    "local_class_weight_dict = { values_2019_lookup[k]: v for k, v in local_class_weight_dict.items() }\n",
    "\n",
    "print(f\"Total weights: {np.sum([v for v in local_class_weight_dict.values()])}\")\n",
    "\n",
    "%chime"
   ]
  },
  {
   "cell_type": "code",
   "execution_count": 6,
   "metadata": {},
   "outputs": [
    {
     "data": {
      "text/plain": [
       "['RED',\n",
       " 'GREEN',\n",
       " 'BLUE',\n",
       " 'NIR',\n",
       " 'MSAVI',\n",
       " 'NDVI',\n",
       " 'NDPI',\n",
       " 'REDness',\n",
       " 'GREENness',\n",
       " 'BLUEness',\n",
       " 'NIRness',\n",
       " 'HAG',\n",
       " 'DPR',\n",
       " 'GaussianSigma2_RED',\n",
       " 'GaussianSigma2_GREEN',\n",
       " 'GaussianSigma2_BLUE',\n",
       " 'GaussianSigma2_NIR',\n",
       " 'GaussianSigma5_RED',\n",
       " 'GaussianSigma5_GREEN',\n",
       " 'GaussianSigma5_BLUE',\n",
       " 'GaussianSigma5_NIR',\n",
       " 'Segment_area',\n",
       " 'Segment_extent',\n",
       " 'Segment_eccentricity',\n",
       " 'Segment_perimeter',\n",
       " 'X',\n",
       " 'Y']"
      ]
     },
     "execution_count": 6,
     "metadata": {},
     "output_type": "execute_result"
    }
   ],
   "source": [
    "trainingFeaturesToUse = trainingSamples.columns.tolist()\n",
    "#trainingFeaturesToUse = [fn for fn in trainingFeaturesToUse if \"GaussianSigma5\" not in fn]\n",
    "#trainingFeaturesToUse = [fn for fn in trainingFeaturesToUse if \"Segment_\" not in fn]\n",
    "trainingFeaturesToUse.remove(\"LCClass\")\n",
    "trainingFeaturesToUse.remove(\"LCClassInt\")\n",
    "trainingFeaturesToUse"
   ]
  },
  {
   "cell_type": "code",
   "execution_count": 6,
   "metadata": {},
   "outputs": [
    {
     "data": {
      "text/plain": [
       "Impervious       5578105\n",
       "SparseVeg        5156222\n",
       "Structure        4741328\n",
       "Barren           4701539\n",
       "IrrigatedLand    4440013\n",
       "DenseVeg         4274182\n",
       "Asphault         4260472\n",
       "Pool             2801571\n",
       "ParkingLot       2458928\n",
       "Sidewalk         1053878\n",
       "PondLake          514561\n",
       "Name: LCClass, dtype: int64"
      ]
     },
     "execution_count": 6,
     "metadata": {},
     "output_type": "execute_result"
    }
   ],
   "source": [
    "trainingSamples.LCClass.value_counts()"
   ]
  },
  {
   "cell_type": "code",
   "execution_count": 7,
   "metadata": {},
   "outputs": [
    {
     "name": "stdout",
     "output_type": "stream",
     "text": [
      "Done 0 - 0:02:03.430473\n",
      "Done 1 - 0:02:06.205070\n",
      "Done 2 - 0:02:06.682276\n",
      "Wall time: 6min 16s\n"
     ]
    }
   ],
   "source": [
    "%%time\n",
    "subGroups = []\n",
    "sampleSize = 200000\n",
    "#sampleSize = min(10**6, trainingSamples.LCClassInt.value_counts().min()) # large sample size did not improve classification\n",
    "\n",
    "for i in range(3):\n",
    "    start = datetime.now()\n",
    "    trainingSamples_sub = getSubSample(data=trainingSamples, maxSampSize=sampleSize, features_cols=trainingFeaturesToUse[:], class_column=class_col)\n",
    "    trainingSamples_sub[\"RGBNmean\"] = trainingSamples_sub.apply(lambda r: np.nanmean([r.RED, r.GREEN, r.BLUE, r.NIR]), axis=1)\n",
    "    subGroups.append(trainingSamples_sub)\n",
    "    print(f\"Done {i} - {datetime.now()-start}\")\n",
    "    \n",
    "%chime\n",
    "\n",
    "featureHeaders = trainingFeaturesToUse[:]\n",
    "featureHeaders.append(\"RGBNmean\")"
   ]
  },
  {
   "cell_type": "code",
   "execution_count": 27,
   "metadata": {
    "scrolled": true
   },
   "outputs": [
    {
     "name": "stdout",
     "output_type": "stream",
     "text": [
      "Training Features:\n",
      " ['RED', 'GREEN', 'BLUE', 'NIR', 'MSAVI', 'NDVI', 'NDPI', 'REDness', 'GREENness', 'BLUEness', 'NIRness', 'HAG', 'DPR', 'GaussianSigma2_RED', 'GaussianSigma2_GREEN', 'GaussianSigma2_BLUE', 'GaussianSigma2_NIR', 'GaussianSigma5_RED', 'GaussianSigma5_GREEN', 'GaussianSigma5_BLUE', 'GaussianSigma5_NIR', 'Segment_area', 'Segment_extent', 'Segment_eccentricity', 'Segment_perimeter', 'RGBNmean']\n",
      "Starting training of binary model for Asphault\n"
     ]
    },
    {
     "name": "stderr",
     "output_type": "stream",
     "text": [
      "\u001b[32m[I 2021-07-27 10:57:04,673]\u001b[0m A new study created in memory with name: lightgbm_tuner_Asphault\u001b[0m\n",
      "\n",
      "  0%|                                                                                            | 0/7 [00:00<?, ?it/s]\u001b[A\n",
      "feature_fraction, val_score: inf:   0%|                                                          | 0/7 [00:00<?, ?it/s]\u001b[AC:\\Users\\BenJames\\anaconda3\\envs\\geospatial\\lib\\site-packages\\lightgbm\\engine.py:156: UserWarning: Found `early_stopping_round` in params. Will use it instead of argument\n",
      "  warnings.warn(\"Found `{}` in params. Will use it instead of argument\".format(alias))\n"
     ]
    },
    {
     "name": "stdout",
     "output_type": "stream",
     "text": [
      "Training until validation scores don't improve for 50 rounds\n",
      "[100]\tvalid_0's binary_logloss: 0.00207501\tvalid_1's binary_logloss: 0.00220363\n",
      "[200]\tvalid_0's binary_logloss: 0.00112777\tvalid_1's binary_logloss: 0.00156233\n",
      "[300]\tvalid_0's binary_logloss: 0.000729742\tvalid_1's binary_logloss: 0.00129197\n",
      "[400]\tvalid_0's binary_logloss: 0.000506245\tvalid_1's binary_logloss: 0.00114089\n",
      "[500]\tvalid_0's binary_logloss: 0.000362536\tvalid_1's binary_logloss: 0.00104451\n",
      "[600]\tvalid_0's binary_logloss: 0.000260459\tvalid_1's binary_logloss: 0.000988154\n",
      "[700]\tvalid_0's binary_logloss: 0.000184217\tvalid_1's binary_logloss: 0.000940191\n",
      "[800]\tvalid_0's binary_logloss: 0.000132518\tvalid_1's binary_logloss: 0.000911535\n",
      "[900]\tvalid_0's binary_logloss: 9.59088e-05\tvalid_1's binary_logloss: 0.000892324\n"
     ]
    },
    {
     "name": "stderr",
     "output_type": "stream",
     "text": [
      "\n",
      "feature_fraction, val_score: 0.000883:   0%|                                                     | 0/7 [01:53<?, ?it/s]\u001b[A\n",
      "feature_fraction, val_score: 0.000883:  14%|######2                                     | 1/7 [01:53<11:22, 113.69s/it]\u001b[A\u001b[32m[I 2021-07-27 10:58:58,385]\u001b[0m Trial 0 finished with value: 0.0008830168419893462 and parameters: {'feature_fraction': 0.4}. Best is trial 0 with value: 0.0008830168419893462.\u001b[0m\n"
     ]
    },
    {
     "name": "stdout",
     "output_type": "stream",
     "text": [
      "[1000]\tvalid_0's binary_logloss: 7.03412e-05\tvalid_1's binary_logloss: 0.000883017\n",
      "Did not meet early stopping. Best iteration is:\n",
      "[1000]\tvalid_0's binary_logloss: 7.03412e-05\tvalid_1's binary_logloss: 0.000883017\n"
     ]
    },
    {
     "name": "stderr",
     "output_type": "stream",
     "text": [
      "\n",
      "feature_fraction, val_score: 0.000883:  14%|######2                                     | 1/7 [01:53<11:22, 113.69s/it]\u001b[A"
     ]
    },
    {
     "name": "stdout",
     "output_type": "stream",
     "text": [
      "Training until validation scores don't improve for 50 rounds\n",
      "[100]\tvalid_0's binary_logloss: 0.00178649\tvalid_1's binary_logloss: 0.00194424\n",
      "[200]\tvalid_0's binary_logloss: 0.000976284\tvalid_1's binary_logloss: 0.00138784\n"
     ]
    },
    {
     "name": "stderr",
     "output_type": "stream",
     "text": [
      "\n",
      "feature_fraction, val_score: 0.000883:  14%|######2                                     | 1/7 [02:34<11:22, 113.69s/it]\u001b[A\n",
      "feature_fraction, val_score: 0.000883:  29%|############8                                | 2/7 [02:34<07:39, 91.87s/it]\u001b[A\u001b[32m[I 2021-07-27 10:59:39,337]\u001b[0m Trial 1 finished with value: 0.0013073238241941745 and parameters: {'feature_fraction': 0.7}. Best is trial 0 with value: 0.0008830168419893462.\u001b[0m\n",
      "\n",
      "feature_fraction, val_score: 0.000883:  29%|############8                                | 2/7 [02:34<07:39, 91.87s/it]\u001b[A"
     ]
    },
    {
     "name": "stdout",
     "output_type": "stream",
     "text": [
      "Early stopping, best iteration is:\n",
      "[228]\tvalid_0's binary_logloss: 0.000856596\tvalid_1's binary_logloss: 0.00130732\n",
      "Training until validation scores don't improve for 50 rounds\n",
      "[100]\tvalid_0's binary_logloss: 0.00175794\tvalid_1's binary_logloss: 0.00191843\n",
      "[200]\tvalid_0's binary_logloss: 0.000943048\tvalid_1's binary_logloss: 0.00132137\n",
      "[300]\tvalid_0's binary_logloss: 0.000623216\tvalid_1's binary_logloss: 0.00112022\n",
      "[400]\tvalid_0's binary_logloss: 0.000406086\tvalid_1's binary_logloss: 0.000983663\n",
      "[500]\tvalid_0's binary_logloss: 0.000276381\tvalid_1's binary_logloss: 0.000906714\n",
      "[600]\tvalid_0's binary_logloss: 0.000187504\tvalid_1's binary_logloss: 0.000861578\n",
      "[700]\tvalid_0's binary_logloss: 0.000127441\tvalid_1's binary_logloss: 0.000830445\n",
      "[800]\tvalid_0's binary_logloss: 8.80831e-05\tvalid_1's binary_logloss: 0.000815365\n",
      "[900]\tvalid_0's binary_logloss: 6.10454e-05\tvalid_1's binary_logloss: 0.000808556\n"
     ]
    },
    {
     "name": "stderr",
     "output_type": "stream",
     "text": [
      "\n",
      "feature_fraction, val_score: 0.000807:  29%|############8                                | 2/7 [04:44<07:39, 91.87s/it]\u001b[A\n",
      "feature_fraction, val_score: 0.000807:  43%|##################8                         | 3/7 [04:44<06:53, 103.28s/it]\u001b[A\u001b[32m[I 2021-07-27 11:01:49,265]\u001b[0m Trial 2 finished with value: 0.0008069199153780965 and parameters: {'feature_fraction': 0.8}. Best is trial 2 with value: 0.0008069199153780965.\u001b[0m\n"
     ]
    },
    {
     "name": "stdout",
     "output_type": "stream",
     "text": [
      "Early stopping, best iteration is:\n",
      "[918]\tvalid_0's binary_logloss: 5.7551e-05\tvalid_1's binary_logloss: 0.00080692\n"
     ]
    },
    {
     "name": "stderr",
     "output_type": "stream",
     "text": [
      "\n",
      "feature_fraction, val_score: 0.000807:  43%|##################8                         | 3/7 [04:44<06:53, 103.28s/it]\u001b[A"
     ]
    },
    {
     "name": "stdout",
     "output_type": "stream",
     "text": [
      "Training until validation scores don't improve for 50 rounds\n",
      "[100]\tvalid_0's binary_logloss: 0.00188967\tvalid_1's binary_logloss: 0.00203652\n",
      "[200]\tvalid_0's binary_logloss: 0.00100827\tvalid_1's binary_logloss: 0.00133935\n",
      "[300]\tvalid_0's binary_logloss: 0.000661245\tvalid_1's binary_logloss: 0.00111282\n",
      "[400]\tvalid_0's binary_logloss: 0.000457433\tvalid_1's binary_logloss: 0.000992137\n",
      "[500]\tvalid_0's binary_logloss: 0.000316209\tvalid_1's binary_logloss: 0.000912875\n",
      "[600]\tvalid_0's binary_logloss: 0.000220582\tvalid_1's binary_logloss: 0.000857604\n",
      "[700]\tvalid_0's binary_logloss: 0.000155486\tvalid_1's binary_logloss: 0.000825567\n",
      "[800]\tvalid_0's binary_logloss: 0.000111251\tvalid_1's binary_logloss: 0.000806259\n",
      "[900]\tvalid_0's binary_logloss: 7.88322e-05\tvalid_1's binary_logloss: 0.000795347\n"
     ]
    },
    {
     "name": "stderr",
     "output_type": "stream",
     "text": [
      "\n",
      "feature_fraction, val_score: 0.000788:  43%|##################8                         | 3/7 [06:41<06:53, 103.28s/it]\u001b[A\n",
      "feature_fraction, val_score: 0.000788:  57%|#########################1                  | 4/7 [06:41<05:22, 107.35s/it]\u001b[A"
     ]
    },
    {
     "name": "stdout",
     "output_type": "stream",
     "text": [
      "[1000]\tvalid_0's binary_logloss: 5.6129e-05\tvalid_1's binary_logloss: 0.000788189\n",
      "Did not meet early stopping. Best iteration is:\n",
      "[1000]\tvalid_0's binary_logloss: 5.6129e-05\tvalid_1's binary_logloss: 0.000788189\n"
     ]
    },
    {
     "name": "stderr",
     "output_type": "stream",
     "text": [
      "\u001b[32m[I 2021-07-27 11:03:46,102]\u001b[0m Trial 3 finished with value: 0.0007881885783415666 and parameters: {'feature_fraction': 0.5}. Best is trial 3 with value: 0.0007881885783415666.\u001b[0m\n",
      "\n",
      "feature_fraction, val_score: 0.000788:  57%|#########################1                  | 4/7 [06:41<05:22, 107.35s/it]\u001b[A"
     ]
    },
    {
     "name": "stdout",
     "output_type": "stream",
     "text": [
      "Training until validation scores don't improve for 50 rounds\n",
      "[100]\tvalid_0's binary_logloss: 0.0018361\tvalid_1's binary_logloss: 0.00198332\n",
      "[200]\tvalid_0's binary_logloss: 0.001067\tvalid_1's binary_logloss: 0.00140577\n",
      "[300]\tvalid_0's binary_logloss: 0.00108635\tvalid_1's binary_logloss: 0.0017126\n"
     ]
    },
    {
     "name": "stderr",
     "output_type": "stream",
     "text": [
      "\n",
      "feature_fraction, val_score: 0.000788:  57%|#########################1                  | 4/7 [07:26<05:22, 107.35s/it]\u001b[A\n",
      "feature_fraction, val_score: 0.000788:  71%|################################1            | 5/7 [07:26<02:57, 88.56s/it]\u001b[A\u001b[32m[I 2021-07-27 11:04:30,802]\u001b[0m Trial 4 finished with value: 0.0011868599659357773 and parameters: {'feature_fraction': 0.6}. Best is trial 3 with value: 0.0007881885783415666.\u001b[0m\n",
      "\n",
      "feature_fraction, val_score: 0.000788:  71%|################################1            | 5/7 [07:26<02:57, 88.56s/it]\u001b[A"
     ]
    },
    {
     "name": "stdout",
     "output_type": "stream",
     "text": [
      "Early stopping, best iteration is:\n",
      "[285]\tvalid_0's binary_logloss: 0.000740476\tvalid_1's binary_logloss: 0.00118686\n",
      "Training until validation scores don't improve for 50 rounds\n",
      "[100]\tvalid_0's binary_logloss: 0.00173308\tvalid_1's binary_logloss: 0.00190541\n",
      "[200]\tvalid_0's binary_logloss: 0.000938894\tvalid_1's binary_logloss: 0.00139148\n",
      "[300]\tvalid_0's binary_logloss: 0.00059732\tvalid_1's binary_logloss: 0.0011602\n",
      "[400]\tvalid_0's binary_logloss: 0.000392231\tvalid_1's binary_logloss: 0.0010184\n",
      "[500]\tvalid_0's binary_logloss: 0.000265289\tvalid_1's binary_logloss: 0.000934904\n",
      "[600]\tvalid_0's binary_logloss: 0.000178369\tvalid_1's binary_logloss: 0.000886297\n",
      "[700]\tvalid_0's binary_logloss: 0.000121641\tvalid_1's binary_logloss: 0.000850642\n",
      "[800]\tvalid_0's binary_logloss: 8.23906e-05\tvalid_1's binary_logloss: 0.000833455\n",
      "[900]\tvalid_0's binary_logloss: 5.63231e-05\tvalid_1's binary_logloss: 0.000820716\n"
     ]
    },
    {
     "name": "stderr",
     "output_type": "stream",
     "text": [
      "\n",
      "feature_fraction, val_score: 0.000788:  71%|################################1            | 5/7 [09:38<02:57, 88.56s/it]\u001b[A\n",
      "feature_fraction, val_score: 0.000788:  86%|#####################################7      | 6/7 [09:38<01:41, 101.77s/it]\u001b[A\u001b[32m[I 2021-07-27 11:06:43,399]\u001b[0m Trial 5 finished with value: 0.00081993859433085 and parameters: {'feature_fraction': 0.8999999999999999}. Best is trial 3 with value: 0.0007881885783415666.\u001b[0m\n"
     ]
    },
    {
     "name": "stdout",
     "output_type": "stream",
     "text": [
      "Early stopping, best iteration is:\n",
      "[906]\tvalid_0's binary_logloss: 5.5147e-05\tvalid_1's binary_logloss: 0.000819939\n"
     ]
    },
    {
     "name": "stderr",
     "output_type": "stream",
     "text": [
      "\n",
      "feature_fraction, val_score: 0.000788:  86%|#####################################7      | 6/7 [09:38<01:41, 101.77s/it]\u001b[A"
     ]
    },
    {
     "name": "stdout",
     "output_type": "stream",
     "text": [
      "Training until validation scores don't improve for 50 rounds\n",
      "[100]\tvalid_0's binary_logloss: 0.00172838\tvalid_1's binary_logloss: 0.00189997\n",
      "[200]\tvalid_0's binary_logloss: 0.000911733\tvalid_1's binary_logloss: 0.00130163\n",
      "[300]\tvalid_0's binary_logloss: 0.000576768\tvalid_1's binary_logloss: 0.00109771\n",
      "[400]\tvalid_0's binary_logloss: 0.000376112\tvalid_1's binary_logloss: 0.000983389\n",
      "[500]\tvalid_0's binary_logloss: 0.000248629\tvalid_1's binary_logloss: 0.000917182\n",
      "[600]\tvalid_0's binary_logloss: 0.000169389\tvalid_1's binary_logloss: 0.000870826\n",
      "[700]\tvalid_0's binary_logloss: 0.000117024\tvalid_1's binary_logloss: 0.000849155\n",
      "[800]\tvalid_0's binary_logloss: 7.94304e-05\tvalid_1's binary_logloss: 0.000831332\n",
      "[900]\tvalid_0's binary_logloss: 5.45506e-05\tvalid_1's binary_logloss: 0.000827968\n"
     ]
    },
    {
     "name": "stderr",
     "output_type": "stream",
     "text": [
      "\n",
      "feature_fraction, val_score: 0.000788:  86%|#####################################7      | 6/7 [11:50<01:41, 101.77s/it]\u001b[A\n",
      "feature_fraction, val_score: 0.000788: 100%|############################################| 7/7 [11:50<00:00, 110.85s/it]\u001b[A\u001b[32m[I 2021-07-27 11:08:55,463]\u001b[0m Trial 6 finished with value: 0.0008240072887643516 and parameters: {'feature_fraction': 1.0}. Best is trial 3 with value: 0.0007881885783415666.\u001b[0m\n"
     ]
    },
    {
     "name": "stdout",
     "output_type": "stream",
     "text": [
      "Early stopping, best iteration is:\n",
      "[869]\tvalid_0's binary_logloss: 6.0623e-05\tvalid_1's binary_logloss: 0.000824007\n"
     ]
    },
    {
     "name": "stderr",
     "output_type": "stream",
     "text": [
      "feature_fraction, val_score: 0.000788: 100%|############################################| 7/7 [11:50<00:00, 101.55s/it]\n",
      "\n",
      "  0%|                                                                                           | 0/20 [00:00<?, ?it/s]\u001b[A\n",
      "num_leaves, val_score: 0.000788:   0%|                                                          | 0/20 [00:00<?, ?it/s]\u001b[A"
     ]
    },
    {
     "name": "stdout",
     "output_type": "stream",
     "text": [
      "Training until validation scores don't improve for 50 rounds\n",
      "[100]\tvalid_0's binary_logloss: 0.00126825\tvalid_1's binary_logloss: 0.00157556\n",
      "[200]\tvalid_0's binary_logloss: 0.00019562\tvalid_1's binary_logloss: 0.000845019\n",
      "[300]\tvalid_0's binary_logloss: 3.28517e-05\tvalid_1's binary_logloss: 0.000785792\n"
     ]
    },
    {
     "name": "stderr",
     "output_type": "stream",
     "text": [
      "\n",
      "num_leaves, val_score: 0.000783:   0%|                                                          | 0/20 [01:18<?, ?it/s]\u001b[A\n",
      "num_leaves, val_score: 0.000783:   5%|##5                                               | 1/20 [01:18<24:47, 78.30s/it]\u001b[A"
     ]
    },
    {
     "name": "stdout",
     "output_type": "stream",
     "text": [
      "Early stopping, best iteration is:\n",
      "[276]\tvalid_0's binary_logloss: 5.01504e-05\tvalid_1's binary_logloss: 0.000783081\n"
     ]
    },
    {
     "name": "stderr",
     "output_type": "stream",
     "text": [
      "\u001b[32m[I 2021-07-27 11:10:13,888]\u001b[0m Trial 7 finished with value: 0.0007830812745130991 and parameters: {'num_leaves': 197}. Best is trial 7 with value: 0.0007830812745130991.\u001b[0m\n",
      "\n",
      "num_leaves, val_score: 0.000783:   5%|##5                                               | 1/20 [01:18<24:47, 78.30s/it]\u001b[A"
     ]
    },
    {
     "name": "stdout",
     "output_type": "stream",
     "text": [
      "Training until validation scores don't improve for 50 rounds\n",
      "[100]\tvalid_0's binary_logloss: 0.00126782\tvalid_1's binary_logloss: 0.00158015\n",
      "[200]\tvalid_0's binary_logloss: 0.000195525\tvalid_1's binary_logloss: 0.000846887\n",
      "[300]\tvalid_0's binary_logloss: 3.51665e-05\tvalid_1's binary_logloss: 0.000796849\n"
     ]
    },
    {
     "name": "stderr",
     "output_type": "stream",
     "text": [
      "\n",
      "num_leaves, val_score: 0.000783:   5%|##5                                               | 1/20 [02:36<24:47, 78.30s/it]\u001b[A\n",
      "num_leaves, val_score: 0.000783:  10%|#####                                             | 2/20 [02:36<23:28, 78.24s/it]\u001b[A\u001b[32m[I 2021-07-27 11:11:32,007]\u001b[0m Trial 8 finished with value: 0.0007929484088576611 and parameters: {'num_leaves': 189}. Best is trial 7 with value: 0.0007830812745130991.\u001b[0m\n"
     ]
    },
    {
     "name": "stdout",
     "output_type": "stream",
     "text": [
      "Early stopping, best iteration is:\n",
      "[281]\tvalid_0's binary_logloss: 4.86546e-05\tvalid_1's binary_logloss: 0.000792948\n"
     ]
    },
    {
     "name": "stderr",
     "output_type": "stream",
     "text": [
      "\n",
      "num_leaves, val_score: 0.000783:  10%|#####                                             | 2/20 [02:36<23:28, 78.24s/it]\u001b[A"
     ]
    },
    {
     "name": "stdout",
     "output_type": "stream",
     "text": [
      "Training until validation scores don't improve for 50 rounds\n",
      "[100]\tvalid_0's binary_logloss: 0.00421682\tvalid_1's binary_logloss: 0.00420297\n",
      "[200]\tvalid_0's binary_logloss: 0.00275787\tvalid_1's binary_logloss: 0.00280259\n",
      "[300]\tvalid_0's binary_logloss: 0.0022566\tvalid_1's binary_logloss: 0.00233411\n",
      "[400]\tvalid_0's binary_logloss: 0.00193973\tvalid_1's binary_logloss: 0.00205222\n",
      "[500]\tvalid_0's binary_logloss: 0.00172972\tvalid_1's binary_logloss: 0.0018814\n",
      "[600]\tvalid_0's binary_logloss: 0.00156819\tvalid_1's binary_logloss: 0.00174776\n",
      "[700]\tvalid_0's binary_logloss: 0.00143949\tvalid_1's binary_logloss: 0.00164635\n",
      "[800]\tvalid_0's binary_logloss: 0.00134793\tvalid_1's binary_logloss: 0.00158106\n",
      "[900]\tvalid_0's binary_logloss: 0.00124484\tvalid_1's binary_logloss: 0.00150917\n"
     ]
    },
    {
     "name": "stderr",
     "output_type": "stream",
     "text": [
      "\n",
      "num_leaves, val_score: 0.000783:  10%|#####                                             | 2/20 [03:56<23:28, 78.24s/it]\u001b[A\n",
      "num_leaves, val_score: 0.000783:  15%|#######5                                          | 3/20 [03:56<22:21, 78.88s/it]\u001b[A\u001b[32m[I 2021-07-27 11:12:52,377]\u001b[0m Trial 9 finished with value: 0.0014505294968608343 and parameters: {'num_leaves': 6}. Best is trial 7 with value: 0.0007830812745130991.\u001b[0m\n",
      "\n",
      "num_leaves, val_score: 0.000783:  15%|#######5                                          | 3/20 [03:56<22:21, 78.88s/it]\u001b[A"
     ]
    },
    {
     "name": "stdout",
     "output_type": "stream",
     "text": [
      "[1000]\tvalid_0's binary_logloss: 0.00116127\tvalid_1's binary_logloss: 0.00145053\n",
      "Did not meet early stopping. Best iteration is:\n",
      "[1000]\tvalid_0's binary_logloss: 0.00116127\tvalid_1's binary_logloss: 0.00145053\n",
      "Training until validation scores don't improve for 50 rounds\n",
      "[100]\tvalid_0's binary_logloss: 0.00168392\tvalid_1's binary_logloss: 0.00186176\n",
      "[200]\tvalid_0's binary_logloss: 0.000780214\tvalid_1's binary_logloss: 0.00119303\n",
      "[300]\tvalid_0's binary_logloss: 0.000449729\tvalid_1's binary_logloss: 0.000987724\n",
      "[400]\tvalid_0's binary_logloss: 0.00026328\tvalid_1's binary_logloss: 0.000880179\n",
      "[500]\tvalid_0's binary_logloss: 0.000159636\tvalid_1's binary_logloss: 0.000823418\n",
      "[600]\tvalid_0's binary_logloss: 9.7062e-05\tvalid_1's binary_logloss: 0.00079402\n",
      "[700]\tvalid_0's binary_logloss: 6.00907e-05\tvalid_1's binary_logloss: 0.000786153\n"
     ]
    },
    {
     "name": "stderr",
     "output_type": "stream",
     "text": [
      "\n",
      "num_leaves, val_score: 0.000783:  15%|#######5                                          | 3/20 [05:34<22:21, 78.88s/it]\u001b[A\n",
      "num_leaves, val_score: 0.000783:  20%|##########                                        | 4/20 [05:34<22:31, 84.49s/it]\u001b[A\u001b[32m[I 2021-07-27 11:14:29,949]\u001b[0m Trial 10 finished with value: 0.0007831193822447332 and parameters: {'num_leaves': 44}. Best is trial 7 with value: 0.0007830812745130991.\u001b[0m\n"
     ]
    },
    {
     "name": "stdout",
     "output_type": "stream",
     "text": [
      "Early stopping, best iteration is:\n",
      "[721]\tvalid_0's binary_logloss: 5.46754e-05\tvalid_1's binary_logloss: 0.000783119\n"
     ]
    },
    {
     "name": "stderr",
     "output_type": "stream",
     "text": [
      "\n",
      "num_leaves, val_score: 0.000783:  20%|##########                                        | 4/20 [05:34<22:31, 84.49s/it]\u001b[A"
     ]
    },
    {
     "name": "stdout",
     "output_type": "stream",
     "text": [
      "Training until validation scores don't improve for 50 rounds\n",
      "[100]\tvalid_0's binary_logloss: 0.00126178\tvalid_1's binary_logloss: 0.00156769\n",
      "[200]\tvalid_0's binary_logloss: 0.000209871\tvalid_1's binary_logloss: 0.000865068\n",
      "[300]\tvalid_0's binary_logloss: 3.92623e-05\tvalid_1's binary_logloss: 0.000804434\n"
     ]
    },
    {
     "name": "stderr",
     "output_type": "stream",
     "text": [
      "\n",
      "num_leaves, val_score: 0.000783:  20%|##########                                        | 4/20 [06:50<22:31, 84.49s/it]\u001b[A\n",
      "num_leaves, val_score: 0.000783:  25%|############5                                     | 5/20 [06:50<20:29, 81.95s/it]\u001b[A\u001b[32m[I 2021-07-27 11:15:45,962]\u001b[0m Trial 11 finished with value: 0.0008020862487967262 and parameters: {'num_leaves': 172}. Best is trial 7 with value: 0.0007830812745130991.\u001b[0m\n"
     ]
    },
    {
     "name": "stdout",
     "output_type": "stream",
     "text": [
      "Early stopping, best iteration is:\n",
      "[285]\tvalid_0's binary_logloss: 5.08655e-05\tvalid_1's binary_logloss: 0.000802086\n"
     ]
    },
    {
     "name": "stderr",
     "output_type": "stream",
     "text": [
      "\n",
      "num_leaves, val_score: 0.000783:  25%|############5                                     | 5/20 [06:50<20:29, 81.95s/it]\u001b[A"
     ]
    },
    {
     "name": "stdout",
     "output_type": "stream",
     "text": [
      "Training until validation scores don't improve for 50 rounds\n",
      "[100]\tvalid_0's binary_logloss: 0.00161455\tvalid_1's binary_logloss: 0.00180581\n",
      "[200]\tvalid_0's binary_logloss: 0.000694913\tvalid_1's binary_logloss: 0.00113421\n",
      "[300]\tvalid_0's binary_logloss: 0.000375682\tvalid_1's binary_logloss: 0.00094537\n",
      "[400]\tvalid_0's binary_logloss: 0.000209925\tvalid_1's binary_logloss: 0.000851496\n",
      "[500]\tvalid_0's binary_logloss: 0.000117511\tvalid_1's binary_logloss: 0.000806378\n",
      "[600]\tvalid_0's binary_logloss: 6.70645e-05\tvalid_1's binary_logloss: 0.00078975\n",
      "[700]\tvalid_0's binary_logloss: 3.95036e-05\tvalid_1's binary_logloss: 0.000787375\n"
     ]
    },
    {
     "name": "stderr",
     "output_type": "stream",
     "text": [
      "\n",
      "num_leaves, val_score: 0.000783:  25%|############5                                     | 5/20 [08:33<20:29, 81.95s/it]\u001b[A\n",
      "num_leaves, val_score: 0.000783:  30%|###############                                   | 6/20 [08:33<20:36, 88.34s/it]\u001b[A\u001b[32m[I 2021-07-27 11:17:29,207]\u001b[0m Trial 12 finished with value: 0.000784833273375585 and parameters: {'num_leaves': 50}. Best is trial 7 with value: 0.0007830812745130991.\u001b[0m\n"
     ]
    },
    {
     "name": "stdout",
     "output_type": "stream",
     "text": [
      "Early stopping, best iteration is:\n",
      "[660]\tvalid_0's binary_logloss: 4.84783e-05\tvalid_1's binary_logloss: 0.000784833\n"
     ]
    },
    {
     "name": "stderr",
     "output_type": "stream",
     "text": [
      "\n",
      "num_leaves, val_score: 0.000783:  30%|###############                                   | 6/20 [08:33<20:36, 88.34s/it]\u001b[A"
     ]
    },
    {
     "name": "stdout",
     "output_type": "stream",
     "text": [
      "Training until validation scores don't improve for 50 rounds\n",
      "[100]\tvalid_0's binary_logloss: 0.00125633\tvalid_1's binary_logloss: 0.00157749\n",
      "[200]\tvalid_0's binary_logloss: 0.000174949\tvalid_1's binary_logloss: 0.000833659\n",
      "[300]\tvalid_0's binary_logloss: 2.83055e-05\tvalid_1's binary_logloss: 0.000785819\n"
     ]
    },
    {
     "name": "stderr",
     "output_type": "stream",
     "text": [
      "\n",
      "num_leaves, val_score: 0.000782:  30%|###############                                   | 6/20 [09:59<20:36, 88.34s/it]\u001b[A\n",
      "num_leaves, val_score: 0.000782:  35%|#################5                                | 7/20 [09:59<18:59, 87.62s/it]\u001b[A\u001b[32m[I 2021-07-27 11:18:55,166]\u001b[0m Trial 13 finished with value: 0.0007817867765276667 and parameters: {'num_leaves': 247}. Best is trial 13 with value: 0.0007817867765276667.\u001b[0m\n"
     ]
    },
    {
     "name": "stdout",
     "output_type": "stream",
     "text": [
      "Early stopping, best iteration is:\n",
      "[281]\tvalid_0's binary_logloss: 4.02784e-05\tvalid_1's binary_logloss: 0.000781787\n"
     ]
    },
    {
     "name": "stderr",
     "output_type": "stream",
     "text": [
      "\n",
      "num_leaves, val_score: 0.000782:  35%|#################5                                | 7/20 [09:59<18:59, 87.62s/it]\u001b[A"
     ]
    },
    {
     "name": "stdout",
     "output_type": "stream",
     "text": [
      "Training until validation scores don't improve for 50 rounds\n",
      "[100]\tvalid_0's binary_logloss: 0.00145348\tvalid_1's binary_logloss: 0.00168606\n",
      "[200]\tvalid_0's binary_logloss: 0.000483017\tvalid_1's binary_logloss: 0.00101131\n",
      "[300]\tvalid_0's binary_logloss: 0.000202022\tvalid_1's binary_logloss: 0.000842607\n",
      "[400]\tvalid_0's binary_logloss: 8.91629e-05\tvalid_1's binary_logloss: 0.000787197\n",
      "[500]\tvalid_0's binary_logloss: 3.98049e-05\tvalid_1's binary_logloss: 0.000783451\n"
     ]
    },
    {
     "name": "stderr",
     "output_type": "stream",
     "text": [
      "\n",
      "num_leaves, val_score: 0.000779:  35%|#################5                                | 7/20 [11:22<18:59, 87.62s/it]\u001b[A\n",
      "num_leaves, val_score: 0.000779:  40%|####################                              | 8/20 [11:22<17:15, 86.30s/it]\u001b[A\u001b[32m[I 2021-07-27 11:20:18,361]\u001b[0m Trial 14 finished with value: 0.0007789959049833483 and parameters: {'num_leaves': 73}. Best is trial 14 with value: 0.0007789959049833483.\u001b[0m\n"
     ]
    },
    {
     "name": "stdout",
     "output_type": "stream",
     "text": [
      "Early stopping, best iteration is:\n",
      "[476]\tvalid_0's binary_logloss: 4.82476e-05\tvalid_1's binary_logloss: 0.000778996\n"
     ]
    },
    {
     "name": "stderr",
     "output_type": "stream",
     "text": [
      "\n",
      "num_leaves, val_score: 0.000779:  40%|####################                              | 8/20 [11:22<17:15, 86.30s/it]\u001b[A"
     ]
    },
    {
     "name": "stdout",
     "output_type": "stream",
     "text": [
      "Training until validation scores don't improve for 50 rounds\n",
      "[100]\tvalid_0's binary_logloss: 0.00128211\tvalid_1's binary_logloss: 0.00158294\n",
      "[200]\tvalid_0's binary_logloss: 0.0002047\tvalid_1's binary_logloss: 0.000854555\n",
      "[300]\tvalid_0's binary_logloss: 3.83183e-05\tvalid_1's binary_logloss: 0.00078904\n"
     ]
    },
    {
     "name": "stderr",
     "output_type": "stream",
     "text": [
      "\n",
      "num_leaves, val_score: 0.000779:  40%|####################                              | 8/20 [12:45<17:15, 86.30s/it]\u001b[A\n",
      "num_leaves, val_score: 0.000779:  45%|######################5                           | 9/20 [12:45<15:37, 85.21s/it]\u001b[A\u001b[32m[I 2021-07-27 11:21:41,034]\u001b[0m Trial 15 finished with value: 0.0007853882273740718 and parameters: {'num_leaves': 173}. Best is trial 14 with value: 0.0007789959049833483.\u001b[0m\n"
     ]
    },
    {
     "name": "stdout",
     "output_type": "stream",
     "text": [
      "Early stopping, best iteration is:\n",
      "[309]\tvalid_0's binary_logloss: 3.33239e-05\tvalid_1's binary_logloss: 0.000785388\n"
     ]
    },
    {
     "name": "stderr",
     "output_type": "stream",
     "text": [
      "\n",
      "num_leaves, val_score: 0.000779:  45%|######################5                           | 9/20 [12:45<15:37, 85.21s/it]\u001b[A"
     ]
    },
    {
     "name": "stdout",
     "output_type": "stream",
     "text": [
      "Training until validation scores don't improve for 50 rounds\n",
      "[100]\tvalid_0's binary_logloss: 0.00154633\tvalid_1's binary_logloss: 0.00176325\n",
      "[200]\tvalid_0's binary_logloss: 0.000598827\tvalid_1's binary_logloss: 0.00106491\n",
      "[300]\tvalid_0's binary_logloss: 0.000286622\tvalid_1's binary_logloss: 0.000875637\n",
      "[400]\tvalid_0's binary_logloss: 0.000147452\tvalid_1's binary_logloss: 0.00080107\n",
      "[500]\tvalid_0's binary_logloss: 7.59775e-05\tvalid_1's binary_logloss: 0.000778822\n"
     ]
    },
    {
     "name": "stderr",
     "output_type": "stream",
     "text": [
      "\n",
      "num_leaves, val_score: 0.000775:  45%|######################5                           | 9/20 [14:08<15:37, 85.21s/it]\u001b[A\n",
      "num_leaves, val_score: 0.000775:  50%|########################5                        | 10/20 [14:08<14:06, 84.67s/it]\u001b[A\u001b[32m[I 2021-07-27 11:23:04,442]\u001b[0m Trial 16 finished with value: 0.0007754586259655285 and parameters: {'num_leaves': 59}. Best is trial 16 with value: 0.0007754586259655285.\u001b[0m\n",
      "\n"
     ]
    },
    {
     "name": "stdout",
     "output_type": "stream",
     "text": [
      "Early stopping, best iteration is:\n",
      "[532]\tvalid_0's binary_logloss: 6.17926e-05\tvalid_1's binary_logloss: 0.000775459\n"
     ]
    },
    {
     "name": "stderr",
     "output_type": "stream",
     "text": [
      "num_leaves, val_score: 0.000775:  50%|########################5                        | 10/20 [14:08<14:06, 84.67s/it]\u001b[A"
     ]
    },
    {
     "name": "stdout",
     "output_type": "stream",
     "text": [
      "Training until validation scores don't improve for 50 rounds\n",
      "[100]\tvalid_0's binary_logloss: 0.00133466\tvalid_1's binary_logloss: 0.00161024\n",
      "[200]\tvalid_0's binary_logloss: 0.000307811\tvalid_1's binary_logloss: 0.000893467\n",
      "[300]\tvalid_0's binary_logloss: 8.92479e-05\tvalid_1's binary_logloss: 0.000778737\n",
      "[400]\tvalid_0's binary_logloss: 2.77219e-05\tvalid_1's binary_logloss: 0.000786464\n"
     ]
    },
    {
     "name": "stderr",
     "output_type": "stream",
     "text": [
      "\n",
      "num_leaves, val_score: 0.000770:  50%|########################5                        | 10/20 [15:27<14:06, 84.67s/it]\u001b[A\n",
      "num_leaves, val_score: 0.000770:  55%|##########################9                      | 11/20 [15:27<12:25, 82.86s/it]\u001b[A\u001b[32m[I 2021-07-27 11:24:23,084]\u001b[0m Trial 17 finished with value: 0.0007695372874709913 and parameters: {'num_leaves': 109}. Best is trial 17 with value: 0.0007695372874709913.\u001b[0m\n"
     ]
    },
    {
     "name": "stdout",
     "output_type": "stream",
     "text": [
      "Early stopping, best iteration is:\n",
      "[354]\tvalid_0's binary_logloss: 4.72893e-05\tvalid_1's binary_logloss: 0.000769537\n"
     ]
    },
    {
     "name": "stderr",
     "output_type": "stream",
     "text": [
      "\n",
      "num_leaves, val_score: 0.000770:  55%|##########################9                      | 11/20 [15:27<12:25, 82.86s/it]\u001b[A"
     ]
    },
    {
     "name": "stdout",
     "output_type": "stream",
     "text": [
      "Training until validation scores don't improve for 50 rounds\n",
      "[100]\tvalid_0's binary_logloss: 0.00132918\tvalid_1's binary_logloss: 0.00161075\n",
      "[200]\tvalid_0's binary_logloss: 0.00030944\tvalid_1's binary_logloss: 0.000904892\n",
      "[300]\tvalid_0's binary_logloss: 8.98296e-05\tvalid_1's binary_logloss: 0.00077999\n",
      "[400]\tvalid_0's binary_logloss: 2.84745e-05\tvalid_1's binary_logloss: 0.000781086\n"
     ]
    },
    {
     "name": "stderr",
     "output_type": "stream",
     "text": [
      "\n",
      "num_leaves, val_score: 0.000770:  55%|##########################9                      | 11/20 [16:48<12:25, 82.86s/it]\u001b[A\n",
      "num_leaves, val_score: 0.000770:  60%|#############################4                   | 12/20 [16:48<10:57, 82.21s/it]\u001b[A\u001b[32m[I 2021-07-27 11:25:43,770]\u001b[0m Trial 18 finished with value: 0.0007722834147019454 and parameters: {'num_leaves': 108}. Best is trial 17 with value: 0.0007695372874709913.\u001b[0m\n"
     ]
    },
    {
     "name": "stdout",
     "output_type": "stream",
     "text": [
      "Early stopping, best iteration is:\n",
      "[356]\tvalid_0's binary_logloss: 4.69168e-05\tvalid_1's binary_logloss: 0.000772283\n"
     ]
    },
    {
     "name": "stderr",
     "output_type": "stream",
     "text": [
      "\n",
      "num_leaves, val_score: 0.000770:  60%|#############################4                   | 12/20 [16:48<10:57, 82.21s/it]\u001b[A"
     ]
    },
    {
     "name": "stdout",
     "output_type": "stream",
     "text": [
      "Training until validation scores don't improve for 50 rounds\n",
      "[100]\tvalid_0's binary_logloss: 0.00135146\tvalid_1's binary_logloss: 0.0016265\n",
      "[200]\tvalid_0's binary_logloss: 0.000317942\tvalid_1's binary_logloss: 0.000910623\n",
      "[300]\tvalid_0's binary_logloss: 9.55165e-05\tvalid_1's binary_logloss: 0.000787513\n",
      "[400]\tvalid_0's binary_logloss: 3.06176e-05\tvalid_1's binary_logloss: 0.000785886\n"
     ]
    },
    {
     "name": "stderr",
     "output_type": "stream",
     "text": [
      "\n",
      "num_leaves, val_score: 0.000770:  60%|#############################4                   | 12/20 [18:05<10:57, 82.21s/it]\u001b[A\n",
      "num_leaves, val_score: 0.000770:  65%|###############################8                 | 13/20 [18:05<09:24, 80.66s/it]\u001b[A\u001b[32m[I 2021-07-27 11:27:00,825]\u001b[0m Trial 19 finished with value: 0.0007771828386940328 and parameters: {'num_leaves': 106}. Best is trial 17 with value: 0.0007695372874709913.\u001b[0m\n",
      "\n"
     ]
    },
    {
     "name": "stdout",
     "output_type": "stream",
     "text": [
      "Early stopping, best iteration is:\n",
      "[355]\tvalid_0's binary_logloss: 5.09285e-05\tvalid_1's binary_logloss: 0.000777183\n"
     ]
    },
    {
     "name": "stderr",
     "output_type": "stream",
     "text": [
      "num_leaves, val_score: 0.000770:  65%|###############################8                 | 13/20 [18:05<09:24, 80.66s/it]\u001b[A"
     ]
    },
    {
     "name": "stdout",
     "output_type": "stream",
     "text": [
      "Training until validation scores don't improve for 50 rounds\n",
      "[100]\tvalid_0's binary_logloss: 0.00132091\tvalid_1's binary_logloss: 0.00160798\n",
      "[200]\tvalid_0's binary_logloss: 0.000272817\tvalid_1's binary_logloss: 0.000877636\n",
      "[300]\tvalid_0's binary_logloss: 6.97961e-05\tvalid_1's binary_logloss: 0.000780247\n"
     ]
    },
    {
     "name": "stderr",
     "output_type": "stream",
     "text": [
      "\n",
      "num_leaves, val_score: 0.000770:  65%|###############################8                 | 13/20 [19:09<09:24, 80.66s/it]\u001b[A\n",
      "num_leaves, val_score: 0.000770:  70%|##################################3              | 14/20 [19:09<07:34, 75.68s/it]\u001b[A\u001b[32m[I 2021-07-27 11:28:04,888]\u001b[0m Trial 20 finished with value: 0.000775853596216345 and parameters: {'num_leaves': 124}. Best is trial 17 with value: 0.0007695372874709913.\u001b[0m\n"
     ]
    },
    {
     "name": "stdout",
     "output_type": "stream",
     "text": [
      "Early stopping, best iteration is:\n",
      "[318]\tvalid_0's binary_logloss: 5.47542e-05\tvalid_1's binary_logloss: 0.000775854\n"
     ]
    },
    {
     "name": "stderr",
     "output_type": "stream",
     "text": [
      "\n",
      "num_leaves, val_score: 0.000770:  70%|##################################3              | 14/20 [19:09<07:34, 75.68s/it]\u001b[A"
     ]
    },
    {
     "name": "stdout",
     "output_type": "stream",
     "text": [
      "Training until validation scores don't improve for 50 rounds\n",
      "[100]\tvalid_0's binary_logloss: 0.00137498\tvalid_1's binary_logloss: 0.00163404\n",
      "[200]\tvalid_0's binary_logloss: 0.000370252\tvalid_1's binary_logloss: 0.000933459\n",
      "[300]\tvalid_0's binary_logloss: 0.000126907\tvalid_1's binary_logloss: 0.000803624\n",
      "[400]\tvalid_0's binary_logloss: 4.63305e-05\tvalid_1's binary_logloss: 0.000781803\n"
     ]
    },
    {
     "name": "stderr",
     "output_type": "stream",
     "text": [
      "\n",
      "num_leaves, val_score: 0.000770:  70%|##################################3              | 14/20 [20:21<07:34, 75.68s/it]\u001b[A\n",
      "num_leaves, val_score: 0.000770:  75%|####################################7            | 15/20 [20:21<06:12, 74.55s/it]\u001b[A\u001b[32m[I 2021-07-27 11:29:16,787]\u001b[0m Trial 21 finished with value: 0.0007778644649703279 and parameters: {'num_leaves': 92}. Best is trial 17 with value: 0.0007695372874709913.\u001b[0m\n"
     ]
    },
    {
     "name": "stdout",
     "output_type": "stream",
     "text": [
      "Early stopping, best iteration is:\n",
      "[389]\tvalid_0's binary_logloss: 5.13727e-05\tvalid_1's binary_logloss: 0.000777864\n"
     ]
    },
    {
     "name": "stderr",
     "output_type": "stream",
     "text": [
      "\n",
      "num_leaves, val_score: 0.000770:  75%|####################################7            | 15/20 [20:21<06:12, 74.55s/it]\u001b[A"
     ]
    },
    {
     "name": "stdout",
     "output_type": "stream",
     "text": [
      "Training until validation scores don't improve for 50 rounds\n",
      "[100]\tvalid_0's binary_logloss: 0.00128828\tvalid_1's binary_logloss: 0.00158853\n",
      "[200]\tvalid_0's binary_logloss: 0.000232052\tvalid_1's binary_logloss: 0.000866682\n",
      "[300]\tvalid_0's binary_logloss: 5.00396e-05\tvalid_1's binary_logloss: 0.000781714\n"
     ]
    },
    {
     "name": "stderr",
     "output_type": "stream",
     "text": [
      "\n",
      "num_leaves, val_score: 0.000770:  75%|####################################7            | 15/20 [21:37<06:12, 74.55s/it]\u001b[A\n",
      "num_leaves, val_score: 0.000770:  80%|#######################################2         | 16/20 [21:37<04:59, 74.93s/it]\u001b[A\u001b[32m[I 2021-07-27 11:30:32,621]\u001b[0m Trial 22 finished with value: 0.0007798372345920619 and parameters: {'num_leaves': 146}. Best is trial 17 with value: 0.0007695372874709913.\u001b[0m\n"
     ]
    },
    {
     "name": "stdout",
     "output_type": "stream",
     "text": [
      "Early stopping, best iteration is:\n",
      "[302]\tvalid_0's binary_logloss: 4.85168e-05\tvalid_1's binary_logloss: 0.000779837\n"
     ]
    },
    {
     "name": "stderr",
     "output_type": "stream",
     "text": [
      "\n",
      "num_leaves, val_score: 0.000770:  80%|#######################################2         | 16/20 [21:37<04:59, 74.93s/it]\u001b[A"
     ]
    },
    {
     "name": "stdout",
     "output_type": "stream",
     "text": [
      "Training until validation scores don't improve for 50 rounds\n",
      "[100]\tvalid_0's binary_logloss: 0.00129152\tvalid_1's binary_logloss: 0.00158393\n",
      "[200]\tvalid_0's binary_logloss: 0.000242681\tvalid_1's binary_logloss: 0.000862404\n",
      "[300]\tvalid_0's binary_logloss: 5.51808e-05\tvalid_1's binary_logloss: 0.000788326\n"
     ]
    },
    {
     "name": "stderr",
     "output_type": "stream",
     "text": [
      "\n",
      "num_leaves, val_score: 0.000770:  80%|#######################################2         | 16/20 [22:46<04:59, 74.93s/it]\u001b[A\n",
      "num_leaves, val_score: 0.000770:  85%|#########################################6       | 17/20 [22:46<03:39, 73.23s/it]\u001b[A\u001b[32m[I 2021-07-27 11:31:41,891]\u001b[0m Trial 23 finished with value: 0.0007841558912161193 and parameters: {'num_leaves': 137}. Best is trial 17 with value: 0.0007695372874709913.\u001b[0m\n",
      "\n"
     ]
    },
    {
     "name": "stdout",
     "output_type": "stream",
     "text": [
      "Early stopping, best iteration is:\n",
      "[281]\tvalid_0's binary_logloss: 7.23114e-05\tvalid_1's binary_logloss: 0.000784156\n"
     ]
    },
    {
     "name": "stderr",
     "output_type": "stream",
     "text": [
      "num_leaves, val_score: 0.000770:  85%|#########################################6       | 17/20 [22:46<03:39, 73.23s/it]\u001b[A"
     ]
    },
    {
     "name": "stdout",
     "output_type": "stream",
     "text": [
      "Training until validation scores don't improve for 50 rounds\n",
      "[100]\tvalid_0's binary_logloss: 0.00281312\tvalid_1's binary_logloss: 0.00285951\n",
      "[200]\tvalid_0's binary_logloss: 0.00181275\tvalid_1's binary_logloss: 0.00195803\n",
      "[300]\tvalid_0's binary_logloss: 0.00146452\tvalid_1's binary_logloss: 0.0016793\n"
     ]
    },
    {
     "name": "stderr",
     "output_type": "stream",
     "text": [
      "\n",
      "num_leaves, val_score: 0.000770:  85%|#########################################6       | 17/20 [23:25<03:39, 73.23s/it]\u001b[A\n",
      "num_leaves, val_score: 0.000770:  90%|############################################1    | 18/20 [23:25<02:06, 63.08s/it]\u001b[A\u001b[32m[I 2021-07-27 11:32:21,270]\u001b[0m Trial 24 finished with value: 0.0016333292190731635 and parameters: {'num_leaves': 12}. Best is trial 17 with value: 0.0007695372874709913.\u001b[0m\n",
      "\n",
      "num_leaves, val_score: 0.000770:  90%|############################################1    | 18/20 [23:25<02:06, 63.08s/it]\u001b[A"
     ]
    },
    {
     "name": "stdout",
     "output_type": "stream",
     "text": [
      "Early stopping, best iteration is:\n",
      "[318]\tvalid_0's binary_logloss: 0.00140528\tvalid_1's binary_logloss: 0.00163333\n",
      "Training until validation scores don't improve for 50 rounds\n",
      "[100]\tvalid_0's binary_logloss: 0.00137012\tvalid_1's binary_logloss: 0.00163188\n",
      "[200]\tvalid_0's binary_logloss: 0.000354526\tvalid_1's binary_logloss: 0.000918927\n",
      "[300]\tvalid_0's binary_logloss: 0.000117546\tvalid_1's binary_logloss: 0.000792071\n",
      "[400]\tvalid_0's binary_logloss: 4.14796e-05\tvalid_1's binary_logloss: 0.000782343\n"
     ]
    },
    {
     "name": "stderr",
     "output_type": "stream",
     "text": [
      "\n",
      "num_leaves, val_score: 0.000770:  90%|############################################1    | 18/20 [24:42<02:06, 63.08s/it]\u001b[A\n",
      "num_leaves, val_score: 0.000770:  95%|##############################################5  | 19/20 [24:42<01:07, 67.09s/it]\u001b[A\u001b[32m[I 2021-07-27 11:33:37,709]\u001b[0m Trial 25 finished with value: 0.0007784330720750828 and parameters: {'num_leaves': 96}. Best is trial 17 with value: 0.0007695372874709913.\u001b[0m\n"
     ]
    },
    {
     "name": "stdout",
     "output_type": "stream",
     "text": [
      "Early stopping, best iteration is:\n",
      "[360]\tvalid_0's binary_logloss: 6.30342e-05\tvalid_1's binary_logloss: 0.000778433\n"
     ]
    },
    {
     "name": "stderr",
     "output_type": "stream",
     "text": [
      "\n",
      "num_leaves, val_score: 0.000770:  95%|##############################################5  | 19/20 [24:42<01:07, 67.09s/it]\u001b[A"
     ]
    },
    {
     "name": "stdout",
     "output_type": "stream",
     "text": [
      "Training until validation scores don't improve for 50 rounds\n",
      "[100]\tvalid_0's binary_logloss: 0.00127697\tvalid_1's binary_logloss: 0.00158066\n",
      "[200]\tvalid_0's binary_logloss: 0.000189564\tvalid_1's binary_logloss: 0.000847293\n",
      "[300]\tvalid_0's binary_logloss: 3.02651e-05\tvalid_1's binary_logloss: 0.000792709\n"
     ]
    },
    {
     "name": "stderr",
     "output_type": "stream",
     "text": [
      "\n",
      "num_leaves, val_score: 0.000770:  95%|##############################################5  | 19/20 [26:10<01:07, 67.09s/it]\u001b[A\n",
      "num_leaves, val_score: 0.000770: 100%|#################################################| 20/20 [26:10<00:00, 73.60s/it]\u001b[A"
     ]
    },
    {
     "name": "stdout",
     "output_type": "stream",
     "text": [
      "Early stopping, best iteration is:\n",
      "[302]\tvalid_0's binary_logloss: 2.90954e-05\tvalid_1's binary_logloss: 0.000791247\n"
     ]
    },
    {
     "name": "stderr",
     "output_type": "stream",
     "text": [
      "\u001b[32m[I 2021-07-27 11:35:06,522]\u001b[0m Trial 26 finished with value: 0.0007912470287845191 and parameters: {'num_leaves': 228}. Best is trial 17 with value: 0.0007695372874709913.\u001b[0m\n",
      "num_leaves, val_score: 0.000770: 100%|#################################################| 20/20 [26:11<00:00, 78.55s/it]\n",
      "\n",
      "  0%|                                                                                           | 0/10 [00:00<?, ?it/s]\u001b[A\n",
      "bagging, val_score: 0.000770:   0%|                                                             | 0/10 [00:00<?, ?it/s]\u001b[A"
     ]
    },
    {
     "name": "stdout",
     "output_type": "stream",
     "text": [
      "Training until validation scores don't improve for 50 rounds\n",
      "[100]\tvalid_0's binary_logloss: 0.00166263\tvalid_1's binary_logloss: 0.00186604\n",
      "[200]\tvalid_0's binary_logloss: 0.000444447\tvalid_1's binary_logloss: 0.00100239\n",
      "[300]\tvalid_0's binary_logloss: 0.000150927\tvalid_1's binary_logloss: 0.000825581\n",
      "[400]\tvalid_0's binary_logloss: 5.5065e-05\tvalid_1's binary_logloss: 0.000792414\n"
     ]
    },
    {
     "name": "stderr",
     "output_type": "stream",
     "text": [
      "\n",
      "bagging, val_score: 0.000770:   0%|                                                             | 0/10 [01:25<?, ?it/s]\u001b[A\n",
      "bagging, val_score: 0.000770:  10%|#####3                                               | 1/10 [01:25<12:47, 85.32s/it]\u001b[A"
     ]
    },
    {
     "name": "stdout",
     "output_type": "stream",
     "text": [
      "Early stopping, best iteration is:\n",
      "[436]\tvalid_0's binary_logloss: 3.86596e-05\tvalid_1's binary_logloss: 0.000785999\n"
     ]
    },
    {
     "name": "stderr",
     "output_type": "stream",
     "text": [
      "\u001b[32m[I 2021-07-27 11:36:31,960]\u001b[0m Trial 27 finished with value: 0.0007859988139975429 and parameters: {'bagging_fraction': 0.5185767377484907, 'bagging_freq': 6}. Best is trial 27 with value: 0.0007859988139975429.\u001b[0m\n",
      "\n",
      "bagging, val_score: 0.000770:  10%|#####3                                               | 1/10 [01:25<12:47, 85.32s/it]\u001b[A"
     ]
    },
    {
     "name": "stdout",
     "output_type": "stream",
     "text": [
      "Training until validation scores don't improve for 50 rounds\n",
      "[100]\tvalid_0's binary_logloss: 0.00138271\tvalid_1's binary_logloss: 0.00163751\n",
      "[200]\tvalid_0's binary_logloss: 0.000318488\tvalid_1's binary_logloss: 0.000897968\n",
      "[300]\tvalid_0's binary_logloss: 9.20265e-05\tvalid_1's binary_logloss: 0.000773236\n"
     ]
    },
    {
     "name": "stderr",
     "output_type": "stream",
     "text": [
      "\n",
      "bagging, val_score: 0.000766:  10%|#####3                                               | 1/10 [02:46<12:47, 85.32s/it]\u001b[A\n",
      "bagging, val_score: 0.000766:  20%|##########6                                          | 2/10 [02:46<11:12, 84.06s/it]\u001b[A\u001b[32m[I 2021-07-27 11:37:53,084]\u001b[0m Trial 28 finished with value: 0.0007662323454356268 and parameters: {'bagging_fraction': 0.8928523411212219, 'bagging_freq': 1}. Best is trial 28 with value: 0.0007662323454356268.\u001b[0m\n"
     ]
    },
    {
     "name": "stdout",
     "output_type": "stream",
     "text": [
      "Early stopping, best iteration is:\n",
      "[345]\tvalid_0's binary_logloss: 5.42754e-05\tvalid_1's binary_logloss: 0.000766232\n"
     ]
    },
    {
     "name": "stderr",
     "output_type": "stream",
     "text": [
      "\n",
      "bagging, val_score: 0.000766:  20%|##########6                                          | 2/10 [02:46<11:12, 84.06s/it]\u001b[A"
     ]
    },
    {
     "name": "stdout",
     "output_type": "stream",
     "text": [
      "Training until validation scores don't improve for 50 rounds\n",
      "[100]\tvalid_0's binary_logloss: 0.00146657\tvalid_1's binary_logloss: 0.00170703\n",
      "[200]\tvalid_0's binary_logloss: 0.000354701\tvalid_1's binary_logloss: 0.000923626\n",
      "[300]\tvalid_0's binary_logloss: 0.000105007\tvalid_1's binary_logloss: 0.00079446\n",
      "[400]\tvalid_0's binary_logloss: 3.41237e-05\tvalid_1's binary_logloss: 0.00078126\n"
     ]
    },
    {
     "name": "stderr",
     "output_type": "stream",
     "text": [
      "\n",
      "bagging, val_score: 0.000766:  20%|##########6                                          | 2/10 [04:10<11:12, 84.06s/it]\u001b[A\n",
      "bagging, val_score: 0.000766:  30%|###############9                                     | 3/10 [04:10<09:49, 84.17s/it]\u001b[A\u001b[32m[I 2021-07-27 11:39:17,511]\u001b[0m Trial 29 finished with value: 0.0007760652258460422 and parameters: {'bagging_fraction': 0.7394908680006693, 'bagging_freq': 5}. Best is trial 28 with value: 0.0007662323454356268.\u001b[0m\n"
     ]
    },
    {
     "name": "stdout",
     "output_type": "stream",
     "text": [
      "Early stopping, best iteration is:\n",
      "[363]\tvalid_0's binary_logloss: 5.09666e-05\tvalid_1's binary_logloss: 0.000776065\n"
     ]
    },
    {
     "name": "stderr",
     "output_type": "stream",
     "text": [
      "\n",
      "bagging, val_score: 0.000766:  30%|###############9                                     | 3/10 [04:10<09:49, 84.17s/it]\u001b[A"
     ]
    },
    {
     "name": "stdout",
     "output_type": "stream",
     "text": [
      "Training until validation scores don't improve for 50 rounds\n",
      "[100]\tvalid_0's binary_logloss: 0.00158295\tvalid_1's binary_logloss: 0.00181531\n",
      "[200]\tvalid_0's binary_logloss: 0.000400704\tvalid_1's binary_logloss: 0.000960252\n",
      "[300]\tvalid_0's binary_logloss: 0.000124689\tvalid_1's binary_logloss: 0.000805092\n",
      "[400]\tvalid_0's binary_logloss: 4.35251e-05\tvalid_1's binary_logloss: 0.000781647\n"
     ]
    },
    {
     "name": "stderr",
     "output_type": "stream",
     "text": [
      "\n",
      "bagging, val_score: 0.000766:  30%|###############9                                     | 3/10 [05:29<09:49, 84.17s/it]\u001b[A\n",
      "bagging, val_score: 0.000766:  40%|#####################2                               | 4/10 [05:29<08:15, 82.56s/it]\u001b[A\u001b[32m[I 2021-07-27 11:40:36,316]\u001b[0m Trial 30 finished with value: 0.000776424079580052 and parameters: {'bagging_fraction': 0.588800712090729, 'bagging_freq': 1}. Best is trial 28 with value: 0.0007662323454356268.\u001b[0m\n"
     ]
    },
    {
     "name": "stdout",
     "output_type": "stream",
     "text": [
      "Early stopping, best iteration is:\n",
      "[355]\tvalid_0's binary_logloss: 6.89292e-05\tvalid_1's binary_logloss: 0.000776424\n"
     ]
    },
    {
     "name": "stderr",
     "output_type": "stream",
     "text": [
      "\n",
      "bagging, val_score: 0.000766:  40%|#####################2                               | 4/10 [05:29<08:15, 82.56s/it]\u001b[A"
     ]
    },
    {
     "name": "stdout",
     "output_type": "stream",
     "text": [
      "Training until validation scores don't improve for 50 rounds\n",
      "[100]\tvalid_0's binary_logloss: 0.00139038\tvalid_1's binary_logloss: 0.00164105\n",
      "[200]\tvalid_0's binary_logloss: 0.000332312\tvalid_1's binary_logloss: 0.000909587\n",
      "[300]\tvalid_0's binary_logloss: 9.65842e-05\tvalid_1's binary_logloss: 0.000781884\n"
     ]
    },
    {
     "name": "stderr",
     "output_type": "stream",
     "text": [
      "\n",
      "bagging, val_score: 0.000766:  40%|#####################2                               | 4/10 [06:46<08:15, 82.56s/it]\u001b[A\n",
      "bagging, val_score: 0.000766:  50%|##########################5                          | 5/10 [06:46<06:43, 80.70s/it]\u001b[A\u001b[32m[I 2021-07-27 11:41:52,666]\u001b[0m Trial 31 finished with value: 0.0007706481109493817 and parameters: {'bagging_fraction': 0.8359553374088692, 'bagging_freq': 4}. Best is trial 28 with value: 0.0007662323454356268.\u001b[0m\n"
     ]
    },
    {
     "name": "stdout",
     "output_type": "stream",
     "text": [
      "Early stopping, best iteration is:\n",
      "[332]\tvalid_0's binary_logloss: 6.50865e-05\tvalid_1's binary_logloss: 0.000770648\n"
     ]
    },
    {
     "name": "stderr",
     "output_type": "stream",
     "text": [
      "\n",
      "bagging, val_score: 0.000766:  50%|##########################5                          | 5/10 [06:46<06:43, 80.70s/it]\u001b[A"
     ]
    },
    {
     "name": "stdout",
     "output_type": "stream",
     "text": [
      "Training until validation scores don't improve for 50 rounds\n",
      "[100]\tvalid_0's binary_logloss: 0.00166038\tvalid_1's binary_logloss: 0.00186768\n",
      "[200]\tvalid_0's binary_logloss: 0.000455652\tvalid_1's binary_logloss: 0.00101776\n",
      "[300]\tvalid_0's binary_logloss: 0.000152662\tvalid_1's binary_logloss: 0.00084111\n",
      "[400]\tvalid_0's binary_logloss: 5.62982e-05\tvalid_1's binary_logloss: 0.00081302\n"
     ]
    },
    {
     "name": "stderr",
     "output_type": "stream",
     "text": [
      "\n",
      "bagging, val_score: 0.000766:  50%|##########################5                          | 5/10 [08:15<06:43, 80.70s/it]\u001b[A\n",
      "bagging, val_score: 0.000766:  60%|###############################8                     | 6/10 [08:15<05:33, 83.31s/it]\u001b[A\u001b[32m[I 2021-07-27 11:43:22,057]\u001b[0m Trial 32 finished with value: 0.0008037844522327339 and parameters: {'bagging_fraction': 0.5084684213426159, 'bagging_freq': 6}. Best is trial 28 with value: 0.0007662323454356268.\u001b[0m\n"
     ]
    },
    {
     "name": "stdout",
     "output_type": "stream",
     "text": [
      "Early stopping, best iteration is:\n",
      "[441]\tvalid_0's binary_logloss: 3.77491e-05\tvalid_1's binary_logloss: 0.000803784\n"
     ]
    },
    {
     "name": "stderr",
     "output_type": "stream",
     "text": [
      "\n",
      "bagging, val_score: 0.000766:  60%|###############################8                     | 6/10 [08:15<05:33, 83.31s/it]\u001b[A"
     ]
    },
    {
     "name": "stdout",
     "output_type": "stream",
     "text": [
      "Training until validation scores don't improve for 50 rounds\n",
      "[100]\tvalid_0's binary_logloss: 0.0015047\tvalid_1's binary_logloss: 0.00173674\n",
      "[200]\tvalid_0's binary_logloss: 0.000369348\tvalid_1's binary_logloss: 0.000932199\n",
      "[300]\tvalid_0's binary_logloss: 0.000111796\tvalid_1's binary_logloss: 0.000786257\n",
      "[400]\tvalid_0's binary_logloss: 3.72849e-05\tvalid_1's binary_logloss: 0.000776656\n"
     ]
    },
    {
     "name": "stderr",
     "output_type": "stream",
     "text": [
      "\n",
      "bagging, val_score: 0.000765:  60%|###############################8                     | 6/10 [09:33<05:33, 83.31s/it]\u001b[A\n",
      "bagging, val_score: 0.000765:  70%|#####################################                | 7/10 [09:33<04:05, 81.72s/it]\u001b[A\u001b[32m[I 2021-07-27 11:44:40,083]\u001b[0m Trial 33 finished with value: 0.0007647156988885142 and parameters: {'bagging_fraction': 0.6582147828921243, 'bagging_freq': 1}. Best is trial 33 with value: 0.0007647156988885142.\u001b[0m\n"
     ]
    },
    {
     "name": "stdout",
     "output_type": "stream",
     "text": [
      "Early stopping, best iteration is:\n",
      "[360]\tvalid_0's binary_logloss: 5.72239e-05\tvalid_1's binary_logloss: 0.000764716\n"
     ]
    },
    {
     "name": "stderr",
     "output_type": "stream",
     "text": [
      "\n",
      "bagging, val_score: 0.000765:  70%|#####################################                | 7/10 [09:33<04:05, 81.72s/it]\u001b[A"
     ]
    },
    {
     "name": "stdout",
     "output_type": "stream",
     "text": [
      "Training until validation scores don't improve for 50 rounds\n",
      "[100]\tvalid_0's binary_logloss: 0.00158897\tvalid_1's binary_logloss: 0.00180622\n",
      "[200]\tvalid_0's binary_logloss: 0.000419744\tvalid_1's binary_logloss: 0.000988784\n",
      "[300]\tvalid_0's binary_logloss: 0.000131833\tvalid_1's binary_logloss: 0.000806415\n",
      "[400]\tvalid_0's binary_logloss: 4.67358e-05\tvalid_1's binary_logloss: 0.000784884\n"
     ]
    },
    {
     "name": "stderr",
     "output_type": "stream",
     "text": [
      "\n",
      "bagging, val_score: 0.000765:  70%|#####################################                | 7/10 [10:47<04:05, 81.72s/it]\u001b[A\n",
      "bagging, val_score: 0.000765:  80%|##########################################4          | 8/10 [10:47<02:38, 79.29s/it]\u001b[A\u001b[32m[I 2021-07-27 11:45:53,704]\u001b[0m Trial 34 finished with value: 0.0007790193828180632 and parameters: {'bagging_fraction': 0.5773461561105755, 'bagging_freq': 5}. Best is trial 33 with value: 0.0007647156988885142.\u001b[0m\n"
     ]
    },
    {
     "name": "stdout",
     "output_type": "stream",
     "text": [
      "Early stopping, best iteration is:\n",
      "[357]\tvalid_0's binary_logloss: 7.17012e-05\tvalid_1's binary_logloss: 0.000779019\n"
     ]
    },
    {
     "name": "stderr",
     "output_type": "stream",
     "text": [
      "\n",
      "bagging, val_score: 0.000765:  80%|##########################################4          | 8/10 [10:47<02:38, 79.29s/it]\u001b[A"
     ]
    },
    {
     "name": "stdout",
     "output_type": "stream",
     "text": [
      "Training until validation scores don't improve for 50 rounds\n",
      "[100]\tvalid_0's binary_logloss: 0.00139426\tvalid_1's binary_logloss: 0.00165403\n",
      "[200]\tvalid_0's binary_logloss: 0.000332303\tvalid_1's binary_logloss: 0.000915708\n",
      "[300]\tvalid_0's binary_logloss: 9.42665e-05\tvalid_1's binary_logloss: 0.000787749\n",
      "[400]\tvalid_0's binary_logloss: 2.94553e-05\tvalid_1's binary_logloss: 0.00079034\n"
     ]
    },
    {
     "name": "stderr",
     "output_type": "stream",
     "text": [
      "\n",
      "bagging, val_score: 0.000765:  80%|##########################################4          | 8/10 [12:16<02:38, 79.29s/it]\u001b[A\n",
      "bagging, val_score: 0.000765:  90%|###############################################7     | 9/10 [12:16<01:22, 82.22s/it]\u001b[A\u001b[32m[I 2021-07-27 11:47:22,741]\u001b[0m Trial 35 finished with value: 0.0007810198292797541 and parameters: {'bagging_fraction': 0.8828942774987283, 'bagging_freq': 3}. Best is trial 33 with value: 0.0007647156988885142.\u001b[0m\n"
     ]
    },
    {
     "name": "stdout",
     "output_type": "stream",
     "text": [
      "Early stopping, best iteration is:\n",
      "[360]\tvalid_0's binary_logloss: 4.66503e-05\tvalid_1's binary_logloss: 0.00078102\n"
     ]
    },
    {
     "name": "stderr",
     "output_type": "stream",
     "text": [
      "\n",
      "bagging, val_score: 0.000765:  90%|###############################################7     | 9/10 [12:16<01:22, 82.22s/it]\u001b[A"
     ]
    },
    {
     "name": "stdout",
     "output_type": "stream",
     "text": [
      "Training until validation scores don't improve for 50 rounds\n",
      "[100]\tvalid_0's binary_logloss: 0.00134663\tvalid_1's binary_logloss: 0.00162096\n",
      "[200]\tvalid_0's binary_logloss: 0.000309458\tvalid_1's binary_logloss: 0.000891578\n",
      "[300]\tvalid_0's binary_logloss: 9.09759e-05\tvalid_1's binary_logloss: 0.00077347\n",
      "[400]\tvalid_0's binary_logloss: 2.80451e-05\tvalid_1's binary_logloss: 0.000775705\n"
     ]
    },
    {
     "name": "stderr",
     "output_type": "stream",
     "text": [
      "\n",
      "bagging, val_score: 0.000764:  90%|###############################################7     | 9/10 [13:47<01:22, 82.22s/it]\u001b[A\n",
      "bagging, val_score: 0.000764: 100%|####################################################| 10/10 [13:47<00:00, 84.95s/it]\u001b[A\u001b[32m[I 2021-07-27 11:48:54,083]\u001b[0m Trial 36 finished with value: 0.0007643465326309131 and parameters: {'bagging_fraction': 0.9802729451630334, 'bagging_freq': 3}. Best is trial 36 with value: 0.0007643465326309131.\u001b[0m\n"
     ]
    },
    {
     "name": "stdout",
     "output_type": "stream",
     "text": [
      "Early stopping, best iteration is:\n",
      "[355]\tvalid_0's binary_logloss: 4.72511e-05\tvalid_1's binary_logloss: 0.000764347\n"
     ]
    },
    {
     "name": "stderr",
     "output_type": "stream",
     "text": [
      "bagging, val_score: 0.000764: 100%|####################################################| 10/10 [13:47<00:00, 82.76s/it]\n",
      "\n",
      "  0%|                                                                                            | 0/6 [00:00<?, ?it/s]\u001b[A\n",
      "feature_fraction_stage2, val_score: 0.000764:   0%|                                              | 0/6 [00:00<?, ?it/s]\u001b[A"
     ]
    },
    {
     "name": "stdout",
     "output_type": "stream",
     "text": [
      "Training until validation scores don't improve for 50 rounds\n",
      "[100]\tvalid_0's binary_logloss: 0.00138959\tvalid_1's binary_logloss: 0.00165846\n",
      "[200]\tvalid_0's binary_logloss: 0.000329129\tvalid_1's binary_logloss: 0.000917935\n",
      "[300]\tvalid_0's binary_logloss: 9.74173e-05\tvalid_1's binary_logloss: 0.000788023\n",
      "[400]\tvalid_0's binary_logloss: 3.11971e-05\tvalid_1's binary_logloss: 0.000786211\n"
     ]
    },
    {
     "name": "stderr",
     "output_type": "stream",
     "text": [
      "\n",
      "feature_fraction_stage2, val_score: 0.000764:   0%|                                              | 0/6 [01:21<?, ?it/s]\u001b[A\n",
      "feature_fraction_stage2, val_score: 0.000764:  17%|######3                               | 1/6 [01:21<06:48, 81.77s/it]\u001b[A\u001b[32m[I 2021-07-27 11:50:15,977]\u001b[0m Trial 37 finished with value: 0.0007734111036614332 and parameters: {'feature_fraction': 0.484}. Best is trial 37 with value: 0.0007734111036614332.\u001b[0m\n"
     ]
    },
    {
     "name": "stdout",
     "output_type": "stream",
     "text": [
      "Early stopping, best iteration is:\n",
      "[355]\tvalid_0's binary_logloss: 5.17996e-05\tvalid_1's binary_logloss: 0.000773411\n"
     ]
    },
    {
     "name": "stderr",
     "output_type": "stream",
     "text": [
      "\n",
      "feature_fraction_stage2, val_score: 0.000764:  17%|######3                               | 1/6 [01:21<06:48, 81.77s/it]\u001b[A"
     ]
    },
    {
     "name": "stdout",
     "output_type": "stream",
     "text": [
      "Training until validation scores don't improve for 50 rounds\n",
      "[100]\tvalid_0's binary_logloss: 0.00144036\tvalid_1's binary_logloss: 0.00170181\n",
      "[200]\tvalid_0's binary_logloss: 0.000372438\tvalid_1's binary_logloss: 0.0009575\n",
      "[300]\tvalid_0's binary_logloss: 0.000112863\tvalid_1's binary_logloss: 0.000798879\n",
      "[400]\tvalid_0's binary_logloss: 3.68889e-05\tvalid_1's binary_logloss: 0.000784174\n"
     ]
    },
    {
     "name": "stderr",
     "output_type": "stream",
     "text": [
      "\n",
      "feature_fraction_stage2, val_score: 0.000764:  17%|######3                               | 1/6 [02:49<06:48, 81.77s/it]\u001b[A\n",
      "feature_fraction_stage2, val_score: 0.000764:  33%|############6                         | 2/6 [02:49<05:33, 83.50s/it]\u001b[A\u001b[32m[I 2021-07-27 11:51:43,502]\u001b[0m Trial 38 finished with value: 0.000774662002498775 and parameters: {'feature_fraction': 0.42}. Best is trial 37 with value: 0.0007734111036614332.\u001b[0m\n"
     ]
    },
    {
     "name": "stdout",
     "output_type": "stream",
     "text": [
      "Early stopping, best iteration is:\n",
      "[355]\tvalid_0's binary_logloss: 6.10905e-05\tvalid_1's binary_logloss: 0.000774662\n"
     ]
    },
    {
     "name": "stderr",
     "output_type": "stream",
     "text": [
      "\n",
      "feature_fraction_stage2, val_score: 0.000764:  33%|############6                         | 2/6 [02:49<05:33, 83.50s/it]\u001b[A"
     ]
    },
    {
     "name": "stdout",
     "output_type": "stream",
     "text": [
      "Training until validation scores don't improve for 50 rounds\n",
      "[100]\tvalid_0's binary_logloss: 0.00144036\tvalid_1's binary_logloss: 0.00170181\n",
      "[200]\tvalid_0's binary_logloss: 0.000372438\tvalid_1's binary_logloss: 0.0009575\n",
      "[300]\tvalid_0's binary_logloss: 0.000112863\tvalid_1's binary_logloss: 0.000798879\n",
      "[400]\tvalid_0's binary_logloss: 3.68889e-05\tvalid_1's binary_logloss: 0.000784174\n"
     ]
    },
    {
     "name": "stderr",
     "output_type": "stream",
     "text": [
      "\n",
      "feature_fraction_stage2, val_score: 0.000764:  33%|############6                         | 2/6 [04:09<05:33, 83.50s/it]\u001b[A\n",
      "feature_fraction_stage2, val_score: 0.000764:  50%|###################                   | 3/6 [04:09<04:07, 82.54s/it]\u001b[A\u001b[32m[I 2021-07-27 11:53:03,801]\u001b[0m Trial 39 finished with value: 0.0007746620024877755 and parameters: {'feature_fraction': 0.45199999999999996}. Best is trial 37 with value: 0.0007734111036614332.\u001b[0m\n"
     ]
    },
    {
     "name": "stdout",
     "output_type": "stream",
     "text": [
      "Early stopping, best iteration is:\n",
      "[355]\tvalid_0's binary_logloss: 6.10905e-05\tvalid_1's binary_logloss: 0.000774662\n"
     ]
    },
    {
     "name": "stderr",
     "output_type": "stream",
     "text": [
      "\n",
      "feature_fraction_stage2, val_score: 0.000764:  50%|###################                   | 3/6 [04:09<04:07, 82.54s/it]\u001b[A"
     ]
    },
    {
     "name": "stdout",
     "output_type": "stream",
     "text": [
      "Training until validation scores don't improve for 50 rounds\n",
      "[100]\tvalid_0's binary_logloss: 0.00130752\tvalid_1's binary_logloss: 0.0015888\n",
      "[200]\tvalid_0's binary_logloss: 0.000291569\tvalid_1's binary_logloss: 0.000880155\n",
      "[300]\tvalid_0's binary_logloss: 8.0899e-05\tvalid_1's binary_logloss: 0.000775577\n"
     ]
    },
    {
     "name": "stderr",
     "output_type": "stream",
     "text": [
      "\n",
      "feature_fraction_stage2, val_score: 0.000764:  50%|###################                   | 3/6 [05:31<04:07, 82.54s/it]\u001b[A\n",
      "feature_fraction_stage2, val_score: 0.000764:  67%|#########################3            | 4/6 [05:31<02:44, 82.21s/it]\u001b[A\u001b[32m[I 2021-07-27 11:54:25,248]\u001b[0m Trial 40 finished with value: 0.0007724903262734592 and parameters: {'feature_fraction': 0.58}. Best is trial 40 with value: 0.0007724903262734592.\u001b[0m\n"
     ]
    },
    {
     "name": "stdout",
     "output_type": "stream",
     "text": [
      "Early stopping, best iteration is:\n",
      "[309]\tvalid_0's binary_logloss: 7.28136e-05\tvalid_1's binary_logloss: 0.00077249\n"
     ]
    },
    {
     "name": "stderr",
     "output_type": "stream",
     "text": [
      "\n",
      "feature_fraction_stage2, val_score: 0.000764:  67%|#########################3            | 4/6 [05:31<02:44, 82.21s/it]\u001b[A"
     ]
    },
    {
     "name": "stdout",
     "output_type": "stream",
     "text": [
      "Training until validation scores don't improve for 50 rounds\n",
      "[100]\tvalid_0's binary_logloss: 0.00134663\tvalid_1's binary_logloss: 0.00162096\n",
      "[200]\tvalid_0's binary_logloss: 0.000309458\tvalid_1's binary_logloss: 0.000891578\n",
      "[300]\tvalid_0's binary_logloss: 9.09759e-05\tvalid_1's binary_logloss: 0.00077347\n",
      "[400]\tvalid_0's binary_logloss: 2.80451e-05\tvalid_1's binary_logloss: 0.000775705\n"
     ]
    },
    {
     "name": "stderr",
     "output_type": "stream",
     "text": [
      "\n",
      "feature_fraction_stage2, val_score: 0.000764:  67%|#########################3            | 4/6 [06:53<02:44, 82.21s/it]\u001b[A\n",
      "feature_fraction_stage2, val_score: 0.000764:  83%|###############################6      | 5/6 [06:53<01:22, 82.27s/it]\u001b[A\u001b[32m[I 2021-07-27 11:55:47,644]\u001b[0m Trial 41 finished with value: 0.0007643465326264727 and parameters: {'feature_fraction': 0.516}. Best is trial 41 with value: 0.0007643465326264727.\u001b[0m\n"
     ]
    },
    {
     "name": "stdout",
     "output_type": "stream",
     "text": [
      "Early stopping, best iteration is:\n",
      "[355]\tvalid_0's binary_logloss: 4.72511e-05\tvalid_1's binary_logloss: 0.000764347\n"
     ]
    },
    {
     "name": "stderr",
     "output_type": "stream",
     "text": [
      "\n",
      "feature_fraction_stage2, val_score: 0.000764:  83%|###############################6      | 5/6 [06:53<01:22, 82.27s/it]\u001b[A"
     ]
    },
    {
     "name": "stdout",
     "output_type": "stream",
     "text": [
      "Training until validation scores don't improve for 50 rounds\n",
      "[100]\tvalid_0's binary_logloss: 0.00130752\tvalid_1's binary_logloss: 0.0015888\n",
      "[200]\tvalid_0's binary_logloss: 0.000291569\tvalid_1's binary_logloss: 0.000880155\n",
      "[300]\tvalid_0's binary_logloss: 8.0899e-05\tvalid_1's binary_logloss: 0.000775577\n"
     ]
    },
    {
     "name": "stderr",
     "output_type": "stream",
     "text": [
      "\n",
      "feature_fraction_stage2, val_score: 0.000764:  83%|###############################6      | 5/6 [08:07<01:22, 82.27s/it]\u001b[A\n",
      "feature_fraction_stage2, val_score: 0.000764: 100%|######################################| 6/6 [08:07<00:00, 79.93s/it]\u001b[A\u001b[32m[I 2021-07-27 11:57:02,112]\u001b[0m Trial 42 finished with value: 0.000772490309524695 and parameters: {'feature_fraction': 0.5479999999999999}. Best is trial 41 with value: 0.0007643465326264727.\u001b[0m\n"
     ]
    },
    {
     "name": "stdout",
     "output_type": "stream",
     "text": [
      "Early stopping, best iteration is:\n",
      "[309]\tvalid_0's binary_logloss: 7.28136e-05\tvalid_1's binary_logloss: 0.00077249\n"
     ]
    },
    {
     "name": "stderr",
     "output_type": "stream",
     "text": [
      "feature_fraction_stage2, val_score: 0.000764: 100%|######################################| 6/6 [08:08<00:00, 81.34s/it]\n",
      "\n",
      "  0%|                                                                                           | 0/20 [00:00<?, ?it/s]\u001b[A\n",
      "regularization_factors, val_score: 0.000764:   0%|                                              | 0/20 [00:00<?, ?it/s]\u001b[A"
     ]
    },
    {
     "name": "stdout",
     "output_type": "stream",
     "text": [
      "Training until validation scores don't improve for 50 rounds\n",
      "[100]\tvalid_0's binary_logloss: 0.00133393\tvalid_1's binary_logloss: 0.00161989\n",
      "[200]\tvalid_0's binary_logloss: 0.00030904\tvalid_1's binary_logloss: 0.000903755\n",
      "[300]\tvalid_0's binary_logloss: 8.9591e-05\tvalid_1's binary_logloss: 0.000795483\n",
      "[400]\tvalid_0's binary_logloss: 2.79899e-05\tvalid_1's binary_logloss: 0.000799018\n"
     ]
    },
    {
     "name": "stderr",
     "output_type": "stream",
     "text": [
      "\n",
      "regularization_factors, val_score: 0.000764:   0%|                                              | 0/20 [01:29<?, ?it/s]\u001b[A\n",
      "regularization_factors, val_score: 0.000764:   5%|#9                                    | 1/20 [01:29<28:19, 89.44s/it]\u001b[A\u001b[32m[I 2021-07-27 11:58:31,682]\u001b[0m Trial 43 finished with value: 0.0007849519747752326 and parameters: {'lambda_l1': 3.064869639068351e-08, 'lambda_l2': 0.00010614476961002586}. Best is trial 43 with value: 0.0007849519747752326.\u001b[0m\n"
     ]
    },
    {
     "name": "stdout",
     "output_type": "stream",
     "text": [
      "Early stopping, best iteration is:\n",
      "[356]\tvalid_0's binary_logloss: 4.65674e-05\tvalid_1's binary_logloss: 0.000784952\n"
     ]
    },
    {
     "name": "stderr",
     "output_type": "stream",
     "text": [
      "\n",
      "regularization_factors, val_score: 0.000764:   5%|#9                                    | 1/20 [01:29<28:19, 89.44s/it]\u001b[A"
     ]
    },
    {
     "name": "stdout",
     "output_type": "stream",
     "text": [
      "Training until validation scores don't improve for 50 rounds\n",
      "[100]\tvalid_0's binary_logloss: 0.00133999\tvalid_1's binary_logloss: 0.00161788\n",
      "[200]\tvalid_0's binary_logloss: 0.000307888\tvalid_1's binary_logloss: 0.000896668\n",
      "[300]\tvalid_0's binary_logloss: 8.88944e-05\tvalid_1's binary_logloss: 0.00077996\n"
     ]
    },
    {
     "name": "stderr",
     "output_type": "stream",
     "text": [
      "\n",
      "regularization_factors, val_score: 0.000764:   5%|#9                                    | 1/20 [02:49<28:19, 89.44s/it]\u001b[A\n",
      "regularization_factors, val_score: 0.000764:  10%|###8                                  | 2/20 [02:49<25:57, 86.53s/it]\u001b[A\u001b[32m[I 2021-07-27 11:59:51,439]\u001b[0m Trial 44 finished with value: 0.0007714335124004745 and parameters: {'lambda_l1': 0.010957950953067475, 'lambda_l2': 3.598720234426787e-05}. Best is trial 44 with value: 0.0007714335124004745.\u001b[0m\n"
     ]
    },
    {
     "name": "stdout",
     "output_type": "stream",
     "text": [
      "Early stopping, best iteration is:\n",
      "[343]\tvalid_0's binary_logloss: 5.35006e-05\tvalid_1's binary_logloss: 0.000771434\n"
     ]
    },
    {
     "name": "stderr",
     "output_type": "stream",
     "text": [
      "\n",
      "regularization_factors, val_score: 0.000764:  10%|###8                                  | 2/20 [02:49<25:57, 86.53s/it]\u001b[A"
     ]
    },
    {
     "name": "stdout",
     "output_type": "stream",
     "text": [
      "Training until validation scores don't improve for 50 rounds\n",
      "[100]\tvalid_0's binary_logloss: 0.00134564\tvalid_1's binary_logloss: 0.00162463\n",
      "[200]\tvalid_0's binary_logloss: 0.000310439\tvalid_1's binary_logloss: 0.00088931\n",
      "[300]\tvalid_0's binary_logloss: 9.16451e-05\tvalid_1's binary_logloss: 0.000780739\n",
      "[400]\tvalid_0's binary_logloss: 2.87889e-05\tvalid_1's binary_logloss: 0.000781082\n"
     ]
    },
    {
     "name": "stderr",
     "output_type": "stream",
     "text": [
      "\n",
      "regularization_factors, val_score: 0.000764:  10%|###8                                  | 2/20 [04:19<25:57, 86.53s/it]\u001b[A\n",
      "regularization_factors, val_score: 0.000764:  15%|#####7                                | 3/20 [04:19<24:47, 87.52s/it]\u001b[A\u001b[32m[I 2021-07-27 12:01:21,256]\u001b[0m Trial 45 finished with value: 0.000770831033763699 and parameters: {'lambda_l1': 4.378343886218189e-08, 'lambda_l2': 0.01490650385006837}. Best is trial 45 with value: 0.000770831033763699.\u001b[0m\n"
     ]
    },
    {
     "name": "stdout",
     "output_type": "stream",
     "text": [
      "Early stopping, best iteration is:\n",
      "[359]\tvalid_0's binary_logloss: 4.61637e-05\tvalid_1's binary_logloss: 0.000770831\n"
     ]
    },
    {
     "name": "stderr",
     "output_type": "stream",
     "text": [
      "\n",
      "regularization_factors, val_score: 0.000764:  15%|#####7                                | 3/20 [04:19<24:47, 87.52s/it]\u001b[A"
     ]
    },
    {
     "name": "stdout",
     "output_type": "stream",
     "text": [
      "Training until validation scores don't improve for 50 rounds\n",
      "[100]\tvalid_0's binary_logloss: 0.00133394\tvalid_1's binary_logloss: 0.0016199\n",
      "[200]\tvalid_0's binary_logloss: 0.000309094\tvalid_1's binary_logloss: 0.000904376\n",
      "[300]\tvalid_0's binary_logloss: 8.86079e-05\tvalid_1's binary_logloss: 0.000784499\n"
     ]
    },
    {
     "name": "stderr",
     "output_type": "stream",
     "text": [
      "\n",
      "regularization_factors, val_score: 0.000764:  15%|#####7                                | 3/20 [05:46<24:47, 87.52s/it]\u001b[A\n",
      "regularization_factors, val_score: 0.000764:  20%|#######6                              | 4/20 [05:46<23:21, 87.62s/it]\u001b[A\u001b[32m[I 2021-07-27 12:02:49,122]\u001b[0m Trial 46 finished with value: 0.0007774434877983336 and parameters: {'lambda_l1': 3.141707605652196e-05, 'lambda_l2': 0.00028464309058977484}. Best is trial 45 with value: 0.000770831033763699.\u001b[0m\n"
     ]
    },
    {
     "name": "stdout",
     "output_type": "stream",
     "text": [
      "Early stopping, best iteration is:\n",
      "[349]\tvalid_0's binary_logloss: 5.00788e-05\tvalid_1's binary_logloss: 0.000777443\n"
     ]
    },
    {
     "name": "stderr",
     "output_type": "stream",
     "text": [
      "\n",
      "regularization_factors, val_score: 0.000764:  20%|#######6                              | 4/20 [05:47<23:21, 87.62s/it]\u001b[A"
     ]
    },
    {
     "name": "stdout",
     "output_type": "stream",
     "text": [
      "Training until validation scores don't improve for 50 rounds\n",
      "[100]\tvalid_0's binary_logloss: 0.00133429\tvalid_1's binary_logloss: 0.00161222\n",
      "[200]\tvalid_0's binary_logloss: 0.000308781\tvalid_1's binary_logloss: 0.00089298\n",
      "[300]\tvalid_0's binary_logloss: 8.86743e-05\tvalid_1's binary_logloss: 0.000776379\n"
     ]
    },
    {
     "name": "stderr",
     "output_type": "stream",
     "text": [
      "\n",
      "regularization_factors, val_score: 0.000764:  20%|#######6                              | 4/20 [07:08<23:21, 87.62s/it]\u001b[A\n",
      "regularization_factors, val_score: 0.000764:  25%|#########5                            | 5/20 [07:08<21:27, 85.87s/it]\u001b[A\u001b[32m[I 2021-07-27 12:04:10,881]\u001b[0m Trial 47 finished with value: 0.0007681436679882822 and parameters: {'lambda_l1': 2.105199728190572e-08, 'lambda_l2': 0.0009840405868244426}. Best is trial 47 with value: 0.0007681436679882822.\u001b[0m\n"
     ]
    },
    {
     "name": "stdout",
     "output_type": "stream",
     "text": [
      "Early stopping, best iteration is:\n",
      "[323]\tvalid_0's binary_logloss: 6.7597e-05\tvalid_1's binary_logloss: 0.000768144\n"
     ]
    },
    {
     "name": "stderr",
     "output_type": "stream",
     "text": [
      "\n",
      "regularization_factors, val_score: 0.000764:  25%|#########5                            | 5/20 [07:08<21:27, 85.87s/it]\u001b[A"
     ]
    },
    {
     "name": "stdout",
     "output_type": "stream",
     "text": [
      "Training until validation scores don't improve for 50 rounds\n",
      "[100]\tvalid_0's binary_logloss: 0.00157845\tvalid_1's binary_logloss: 0.00179473\n",
      "[200]\tvalid_0's binary_logloss: 0.000557477\tvalid_1's binary_logloss: 0.00103403\n",
      "[300]\tvalid_0's binary_logloss: 0.000272864\tvalid_1's binary_logloss: 0.000854188\n",
      "[400]\tvalid_0's binary_logloss: 0.000159185\tvalid_1's binary_logloss: 0.000793368\n",
      "[500]\tvalid_0's binary_logloss: 0.000106078\tvalid_1's binary_logloss: 0.000772696\n",
      "[600]\tvalid_0's binary_logloss: 7.67323e-05\tvalid_1's binary_logloss: 0.000764632\n",
      "Early stopping, best iteration is:\n",
      "[634]\tvalid_0's binary_logloss: 6.96581e-05\tvalid_1's binary_logloss: 0.000763703\n"
     ]
    },
    {
     "name": "stderr",
     "output_type": "stream",
     "text": [
      "\n",
      "regularization_factors, val_score: 0.000764:  25%|#########5                            | 5/20 [09:37<21:27, 85.87s/it]\u001b[A\n",
      "regularization_factors, val_score: 0.000764:  30%|###########1                         | 6/20 [09:37<24:26, 104.73s/it]\u001b[A\u001b[32m[I 2021-07-27 12:06:39,630]\u001b[0m Trial 48 finished with value: 0.0007637032512618115 and parameters: {'lambda_l1': 0.01347408157926365, 'lambda_l2': 5.685613820043616}. Best is trial 48 with value: 0.0007637032512618115.\u001b[0m\n",
      "\n",
      "regularization_factors, val_score: 0.000764:  30%|###########1                         | 6/20 [09:37<24:26, 104.73s/it]\u001b[A"
     ]
    },
    {
     "name": "stdout",
     "output_type": "stream",
     "text": [
      "Training until validation scores don't improve for 50 rounds\n",
      "[100]\tvalid_0's binary_logloss: 0.00133653\tvalid_1's binary_logloss: 0.00161232\n",
      "[200]\tvalid_0's binary_logloss: 0.000303524\tvalid_1's binary_logloss: 0.000893318\n",
      "[300]\tvalid_0's binary_logloss: 8.71605e-05\tvalid_1's binary_logloss: 0.000774263\n"
     ]
    },
    {
     "name": "stderr",
     "output_type": "stream",
     "text": [
      "\n",
      "regularization_factors, val_score: 0.000764:  30%|###########1                         | 6/20 [11:04<24:26, 104.73s/it]\u001b[A\n",
      "regularization_factors, val_score: 0.000764:  35%|#############3                        | 7/20 [11:04<21:32, 99.40s/it]\u001b[A\u001b[32m[I 2021-07-27 12:08:06,607]\u001b[0m Trial 49 finished with value: 0.0007675630234543179 and parameters: {'lambda_l1': 0.00023610519123685458, 'lambda_l2': 0.0004376777620763468}. Best is trial 48 with value: 0.0007637032512618115.\u001b[0m\n"
     ]
    },
    {
     "name": "stdout",
     "output_type": "stream",
     "text": [
      "Early stopping, best iteration is:\n",
      "[333]\tvalid_0's binary_logloss: 5.87845e-05\tvalid_1's binary_logloss: 0.000767563\n"
     ]
    },
    {
     "name": "stderr",
     "output_type": "stream",
     "text": [
      "\n",
      "regularization_factors, val_score: 0.000764:  35%|#############3                        | 7/20 [11:04<21:32, 99.40s/it]\u001b[A"
     ]
    },
    {
     "name": "stdout",
     "output_type": "stream",
     "text": [
      "Training until validation scores don't improve for 50 rounds\n",
      "[100]\tvalid_0's binary_logloss: 0.00133653\tvalid_1's binary_logloss: 0.00161231\n",
      "[200]\tvalid_0's binary_logloss: 0.000303518\tvalid_1's binary_logloss: 0.000893312\n",
      "[300]\tvalid_0's binary_logloss: 8.64692e-05\tvalid_1's binary_logloss: 0.000777515\n"
     ]
    },
    {
     "name": "stderr",
     "output_type": "stream",
     "text": [
      "\n",
      "regularization_factors, val_score: 0.000764:  35%|#############3                        | 7/20 [12:33<21:32, 99.40s/it]\u001b[A\n",
      "regularization_factors, val_score: 0.000764:  40%|###############2                      | 8/20 [12:33<19:14, 96.22s/it]\u001b[A\u001b[32m[I 2021-07-27 12:09:35,420]\u001b[0m Trial 50 finished with value: 0.0007752486169598222 and parameters: {'lambda_l1': 0.0001319726706270122, 'lambda_l2': 0.0004719413157021859}. Best is trial 48 with value: 0.0007637032512618115.\u001b[0m\n"
     ]
    },
    {
     "name": "stdout",
     "output_type": "stream",
     "text": [
      "Early stopping, best iteration is:\n",
      "[333]\tvalid_0's binary_logloss: 5.86199e-05\tvalid_1's binary_logloss: 0.000775249\n"
     ]
    },
    {
     "name": "stderr",
     "output_type": "stream",
     "text": [
      "\n",
      "regularization_factors, val_score: 0.000764:  40%|###############2                      | 8/20 [12:33<19:14, 96.22s/it]\u001b[A"
     ]
    },
    {
     "name": "stdout",
     "output_type": "stream",
     "text": [
      "Training until validation scores don't improve for 50 rounds\n",
      "[100]\tvalid_0's binary_logloss: 0.00134663\tvalid_1's binary_logloss: 0.00162096\n",
      "[200]\tvalid_0's binary_logloss: 0.000309458\tvalid_1's binary_logloss: 0.000891578\n",
      "[300]\tvalid_0's binary_logloss: 9.09762e-05\tvalid_1's binary_logloss: 0.00077347\n",
      "[400]\tvalid_0's binary_logloss: 2.80454e-05\tvalid_1's binary_logloss: 0.000775703\n"
     ]
    },
    {
     "name": "stderr",
     "output_type": "stream",
     "text": [
      "\n",
      "regularization_factors, val_score: 0.000764:  40%|###############2                      | 8/20 [14:02<19:14, 96.22s/it]\u001b[A\n",
      "regularization_factors, val_score: 0.000764:  45%|#################1                    | 9/20 [14:03<17:17, 94.30s/it]\u001b[A\u001b[32m[I 2021-07-27 12:11:05,233]\u001b[0m Trial 51 finished with value: 0.0007643464573233285 and parameters: {'lambda_l1': 1.7671061894501572e-06, 'lambda_l2': 5.815881073425862e-07}. Best is trial 48 with value: 0.0007637032512618115.\u001b[0m\n"
     ]
    },
    {
     "name": "stdout",
     "output_type": "stream",
     "text": [
      "Early stopping, best iteration is:\n",
      "[355]\tvalid_0's binary_logloss: 4.72514e-05\tvalid_1's binary_logloss: 0.000764346\n"
     ]
    },
    {
     "name": "stderr",
     "output_type": "stream",
     "text": [
      "\n",
      "regularization_factors, val_score: 0.000764:  45%|#################1                    | 9/20 [14:03<17:17, 94.30s/it]\u001b[A"
     ]
    },
    {
     "name": "stdout",
     "output_type": "stream",
     "text": [
      "Training until validation scores don't improve for 50 rounds\n",
      "[100]\tvalid_0's binary_logloss: 0.00133652\tvalid_1's binary_logloss: 0.00161234\n",
      "[200]\tvalid_0's binary_logloss: 0.000307245\tvalid_1's binary_logloss: 0.000914219\n",
      "[300]\tvalid_0's binary_logloss: 9.00099e-05\tvalid_1's binary_logloss: 0.000793516\n",
      "[400]\tvalid_0's binary_logloss: 2.81118e-05\tvalid_1's binary_logloss: 0.000801547\n"
     ]
    },
    {
     "name": "stderr",
     "output_type": "stream",
     "text": [
      "\n",
      "regularization_factors, val_score: 0.000764:  45%|#################1                    | 9/20 [15:32<17:17, 94.30s/it]\u001b[A\n",
      "regularization_factors, val_score: 0.000764:  50%|##################5                  | 10/20 [15:32<15:29, 92.98s/it]\u001b[A\u001b[32m[I 2021-07-27 12:12:35,110]\u001b[0m Trial 52 finished with value: 0.0007821536262831255 and parameters: {'lambda_l1': 1.4015239500549206e-07, 'lambda_l2': 0.0004851853299347207}. Best is trial 48 with value: 0.0007637032512618115.\u001b[0m\n"
     ]
    },
    {
     "name": "stdout",
     "output_type": "stream",
     "text": [
      "Early stopping, best iteration is:\n",
      "[355]\tvalid_0's binary_logloss: 4.7555e-05\tvalid_1's binary_logloss: 0.000782154\n"
     ]
    },
    {
     "name": "stderr",
     "output_type": "stream",
     "text": [
      "\n",
      "regularization_factors, val_score: 0.000764:  50%|##################5                  | 10/20 [15:32<15:29, 92.98s/it]\u001b[A"
     ]
    },
    {
     "name": "stdout",
     "output_type": "stream",
     "text": [
      "Training until validation scores don't improve for 50 rounds\n",
      "[100]\tvalid_0's binary_logloss: 0.0017764\tvalid_1's binary_logloss: 0.00195437\n",
      "[200]\tvalid_0's binary_logloss: 0.000921415\tvalid_1's binary_logloss: 0.00128552\n",
      "[300]\tvalid_0's binary_logloss: 0.00067566\tvalid_1's binary_logloss: 0.00111752\n",
      "[400]\tvalid_0's binary_logloss: 0.000559038\tvalid_1's binary_logloss: 0.00104112\n",
      "[500]\tvalid_0's binary_logloss: 0.000498317\tvalid_1's binary_logloss: 0.00100316\n",
      "[600]\tvalid_0's binary_logloss: 0.000459261\tvalid_1's binary_logloss: 0.000981146\n",
      "[700]\tvalid_0's binary_logloss: 0.000434474\tvalid_1's binary_logloss: 0.000966442\n",
      "[800]\tvalid_0's binary_logloss: 0.000416742\tvalid_1's binary_logloss: 0.000956354\n",
      "[900]\tvalid_0's binary_logloss: 0.000405201\tvalid_1's binary_logloss: 0.000949133\n"
     ]
    },
    {
     "name": "stderr",
     "output_type": "stream",
     "text": [
      "\n",
      "regularization_factors, val_score: 0.000764:  50%|##################5                  | 10/20 [17:58<15:29, 92.98s/it]\u001b[A\n",
      "regularization_factors, val_score: 0.000764:  55%|###################8                | 11/20 [17:58<16:19, 108.80s/it]\u001b[A"
     ]
    },
    {
     "name": "stdout",
     "output_type": "stream",
     "text": [
      "Early stopping, best iteration is:\n",
      "[926]\tvalid_0's binary_logloss: 0.000402911\tvalid_1's binary_logloss: 0.000947907\n"
     ]
    },
    {
     "name": "stderr",
     "output_type": "stream",
     "text": [
      "\u001b[32m[I 2021-07-27 12:15:00,820]\u001b[0m Trial 53 finished with value: 0.0009479067816081897 and parameters: {'lambda_l1': 6.571848694253666, 'lambda_l2': 2.715693774394494}. Best is trial 48 with value: 0.0007637032512618115.\u001b[0m\n",
      "\n",
      "regularization_factors, val_score: 0.000764:  55%|###################8                | 11/20 [17:58<16:19, 108.80s/it]\u001b[A"
     ]
    },
    {
     "name": "stdout",
     "output_type": "stream",
     "text": [
      "Training until validation scores don't improve for 50 rounds\n",
      "[100]\tvalid_0's binary_logloss: 0.0013486\tvalid_1's binary_logloss: 0.00162715\n",
      "[200]\tvalid_0's binary_logloss: 0.000309688\tvalid_1's binary_logloss: 0.000881769\n",
      "[300]\tvalid_0's binary_logloss: 8.90191e-05\tvalid_1's binary_logloss: 0.000764351\n",
      "[400]\tvalid_0's binary_logloss: 2.98684e-05\tvalid_1's binary_logloss: 0.000771393\n"
     ]
    },
    {
     "name": "stderr",
     "output_type": "stream",
     "text": [
      "\n",
      "regularization_factors, val_score: 0.000757:  55%|###################8                | 11/20 [19:29<16:19, 108.80s/it]\u001b[A\n",
      "regularization_factors, val_score: 0.000757:  60%|#####################5              | 12/20 [19:29<13:48, 103.53s/it]\u001b[A\u001b[32m[I 2021-07-27 12:16:32,067]\u001b[0m Trial 54 finished with value: 0.0007565977694676177 and parameters: {'lambda_l1': 0.028664020826938516, 'lambda_l2': 1.3198683384921155e-08}. Best is trial 54 with value: 0.0007565977694676177.\u001b[0m\n"
     ]
    },
    {
     "name": "stdout",
     "output_type": "stream",
     "text": [
      "Early stopping, best iteration is:\n",
      "[355]\tvalid_0's binary_logloss: 4.79118e-05\tvalid_1's binary_logloss: 0.000756598\n"
     ]
    },
    {
     "name": "stderr",
     "output_type": "stream",
     "text": [
      "\n",
      "regularization_factors, val_score: 0.000757:  60%|#####################5              | 12/20 [19:29<13:48, 103.53s/it]\u001b[A"
     ]
    },
    {
     "name": "stdout",
     "output_type": "stream",
     "text": [
      "Training until validation scores don't improve for 50 rounds\n",
      "[100]\tvalid_0's binary_logloss: 0.00133842\tvalid_1's binary_logloss: 0.00161945\n",
      "[200]\tvalid_0's binary_logloss: 0.000311424\tvalid_1's binary_logloss: 0.000896362\n",
      "[300]\tvalid_0's binary_logloss: 9.20042e-05\tvalid_1's binary_logloss: 0.000774379\n",
      "[400]\tvalid_0's binary_logloss: 3.14557e-05\tvalid_1's binary_logloss: 0.00076878\n"
     ]
    },
    {
     "name": "stderr",
     "output_type": "stream",
     "text": [
      "\n",
      "regularization_factors, val_score: 0.000757:  60%|#####################5              | 12/20 [21:02<13:48, 103.53s/it]\u001b[A\n",
      "regularization_factors, val_score: 0.000757:  65%|#######################4            | 13/20 [21:02<11:41, 100.23s/it]\u001b[A\u001b[32m[I 2021-07-27 12:18:04,593]\u001b[0m Trial 55 finished with value: 0.0007576988430073319 and parameters: {'lambda_l1': 0.04127161936008046, 'lambda_l2': 1.8490384948820905e-08}. Best is trial 54 with value: 0.0007565977694676177.\u001b[0m\n"
     ]
    },
    {
     "name": "stdout",
     "output_type": "stream",
     "text": [
      "Early stopping, best iteration is:\n",
      "[360]\tvalid_0's binary_logloss: 4.69589e-05\tvalid_1's binary_logloss: 0.000757699\n"
     ]
    },
    {
     "name": "stderr",
     "output_type": "stream",
     "text": [
      "\n",
      "regularization_factors, val_score: 0.000757:  65%|#######################4            | 13/20 [21:02<11:41, 100.23s/it]\u001b[A"
     ]
    },
    {
     "name": "stdout",
     "output_type": "stream",
     "text": [
      "Training until validation scores don't improve for 50 rounds\n",
      "[100]\tvalid_0's binary_logloss: 0.0014016\tvalid_1's binary_logloss: 0.0016684\n",
      "[200]\tvalid_0's binary_logloss: 0.000380037\tvalid_1's binary_logloss: 0.000931852\n",
      "[300]\tvalid_0's binary_logloss: 0.000162408\tvalid_1's binary_logloss: 0.000813305\n",
      "[400]\tvalid_0's binary_logloss: 9.91429e-05\tvalid_1's binary_logloss: 0.000790135\n",
      "[500]\tvalid_0's binary_logloss: 7.43348e-05\tvalid_1's binary_logloss: 0.000783074\n"
     ]
    },
    {
     "name": "stderr",
     "output_type": "stream",
     "text": [
      "\n",
      "regularization_factors, val_score: 0.000757:  65%|#######################4            | 13/20 [23:01<11:41, 100.23s/it]\u001b[A\n",
      "regularization_factors, val_score: 0.000757:  70%|#########################2          | 14/20 [23:01<10:35, 105.97s/it]\u001b[A\u001b[32m[I 2021-07-27 12:20:03,960]\u001b[0m Trial 56 finished with value: 0.0007815565595326358 and parameters: {'lambda_l1': 0.7750055490681367, 'lambda_l2': 1.6201566673573317e-08}. Best is trial 54 with value: 0.0007565977694676177.\u001b[0m\n"
     ]
    },
    {
     "name": "stdout",
     "output_type": "stream",
     "text": [
      "Early stopping, best iteration is:\n",
      "[524]\tvalid_0's binary_logloss: 7.06821e-05\tvalid_1's binary_logloss: 0.000781557\n"
     ]
    },
    {
     "name": "stderr",
     "output_type": "stream",
     "text": [
      "\n",
      "regularization_factors, val_score: 0.000757:  70%|#########################2          | 14/20 [23:01<10:35, 105.97s/it]\u001b[A"
     ]
    },
    {
     "name": "stdout",
     "output_type": "stream",
     "text": [
      "Training until validation scores don't improve for 50 rounds\n",
      "[100]\tvalid_0's binary_logloss: 0.00134445\tvalid_1's binary_logloss: 0.00161796\n",
      "[200]\tvalid_0's binary_logloss: 0.000312226\tvalid_1's binary_logloss: 0.000900811\n",
      "[300]\tvalid_0's binary_logloss: 9.32197e-05\tvalid_1's binary_logloss: 0.000785896\n",
      "[400]\tvalid_0's binary_logloss: 3.11409e-05\tvalid_1's binary_logloss: 0.000788855\n"
     ]
    },
    {
     "name": "stderr",
     "output_type": "stream",
     "text": [
      "\n",
      "regularization_factors, val_score: 0.000757:  70%|#########################2          | 14/20 [24:27<10:35, 105.97s/it]\u001b[A\n",
      "regularization_factors, val_score: 0.000757:  75%|###########################7         | 15/20 [24:27<08:18, 99.78s/it]\u001b[A"
     ]
    },
    {
     "name": "stdout",
     "output_type": "stream",
     "text": [
      "Early stopping, best iteration is:\n",
      "[356]\tvalid_0's binary_logloss: 4.96641e-05\tvalid_1's binary_logloss: 0.000779162\n"
     ]
    },
    {
     "name": "stderr",
     "output_type": "stream",
     "text": [
      "\u001b[32m[I 2021-07-27 12:21:29,301]\u001b[0m Trial 57 finished with value: 0.000779161612994112 and parameters: {'lambda_l1': 0.031078662694350622, 'lambda_l2': 1.4418911076336157e-08}. Best is trial 54 with value: 0.0007565977694676177.\u001b[0m\n",
      "\n",
      "regularization_factors, val_score: 0.000757:  75%|###########################7         | 15/20 [24:27<08:18, 99.78s/it]\u001b[A"
     ]
    },
    {
     "name": "stdout",
     "output_type": "stream",
     "text": [
      "Training until validation scores don't improve for 50 rounds\n",
      "[100]\tvalid_0's binary_logloss: 0.00136506\tvalid_1's binary_logloss: 0.00163319\n",
      "[200]\tvalid_0's binary_logloss: 0.000329149\tvalid_1's binary_logloss: 0.000909768\n",
      "[300]\tvalid_0's binary_logloss: 0.000111944\tvalid_1's binary_logloss: 0.000786662\n"
     ]
    },
    {
     "name": "stderr",
     "output_type": "stream",
     "text": [
      "\n",
      "regularization_factors, val_score: 0.000757:  75%|###########################7         | 15/20 [25:54<08:18, 99.78s/it]\u001b[A\n",
      "regularization_factors, val_score: 0.000757:  80%|#############################6       | 16/20 [25:54<06:24, 96.22s/it]\u001b[A\u001b[32m[I 2021-07-27 12:22:57,201]\u001b[0m Trial 58 finished with value: 0.0007782975620915868 and parameters: {'lambda_l1': 0.26254513734210655, 'lambda_l2': 4.5806107281988706e-07}. Best is trial 54 with value: 0.0007565977694676177.\u001b[0m\n"
     ]
    },
    {
     "name": "stdout",
     "output_type": "stream",
     "text": [
      "Early stopping, best iteration is:\n",
      "[349]\tvalid_0's binary_logloss: 7.44343e-05\tvalid_1's binary_logloss: 0.000778298\n"
     ]
    },
    {
     "name": "stderr",
     "output_type": "stream",
     "text": [
      "\n",
      "regularization_factors, val_score: 0.000757:  80%|#############################6       | 16/20 [25:55<06:24, 96.22s/it]\u001b[A"
     ]
    },
    {
     "name": "stdout",
     "output_type": "stream",
     "text": [
      "Training until validation scores don't improve for 50 rounds\n",
      "[100]\tvalid_0's binary_logloss: 0.00134006\tvalid_1's binary_logloss: 0.00161668\n",
      "[200]\tvalid_0's binary_logloss: 0.000306732\tvalid_1's binary_logloss: 0.000901519\n",
      "[300]\tvalid_0's binary_logloss: 8.91853e-05\tvalid_1's binary_logloss: 0.00078841\n",
      "[400]\tvalid_0's binary_logloss: 2.78349e-05\tvalid_1's binary_logloss: 0.00079406\n"
     ]
    },
    {
     "name": "stderr",
     "output_type": "stream",
     "text": [
      "\n",
      "regularization_factors, val_score: 0.000757:  80%|#############################6       | 16/20 [27:28<06:24, 96.22s/it]\u001b[A\n",
      "regularization_factors, val_score: 0.000757:  85%|###############################4     | 17/20 [27:28<04:46, 95.49s/it]\u001b[A\u001b[32m[I 2021-07-27 12:24:31,018]\u001b[0m Trial 59 finished with value: 0.0007785503403649178 and parameters: {'lambda_l1': 0.0015427164395430458, 'lambda_l2': 4.179564855323722e-07}. Best is trial 54 with value: 0.0007565977694676177.\u001b[0m\n"
     ]
    },
    {
     "name": "stdout",
     "output_type": "stream",
     "text": [
      "Early stopping, best iteration is:\n",
      "[355]\tvalid_0's binary_logloss: 4.7151e-05\tvalid_1's binary_logloss: 0.00077855\n"
     ]
    },
    {
     "name": "stderr",
     "output_type": "stream",
     "text": [
      "\n",
      "regularization_factors, val_score: 0.000757:  85%|###############################4     | 17/20 [27:28<04:46, 95.49s/it]\u001b[A"
     ]
    },
    {
     "name": "stdout",
     "output_type": "stream",
     "text": [
      "Training until validation scores don't improve for 50 rounds\n",
      "[100]\tvalid_0's binary_logloss: 0.00174137\tvalid_1's binary_logloss: 0.00192313\n",
      "[200]\tvalid_0's binary_logloss: 0.000905361\tvalid_1's binary_logloss: 0.00127501\n",
      "[300]\tvalid_0's binary_logloss: 0.000677437\tvalid_1's binary_logloss: 0.00112279\n",
      "[400]\tvalid_0's binary_logloss: 0.000571647\tvalid_1's binary_logloss: 0.00105436\n",
      "[500]\tvalid_0's binary_logloss: 0.000516655\tvalid_1's binary_logloss: 0.00102268\n",
      "[600]\tvalid_0's binary_logloss: 0.000482748\tvalid_1's binary_logloss: 0.00100409\n",
      "[700]\tvalid_0's binary_logloss: 0.000462841\tvalid_1's binary_logloss: 0.000991321\n"
     ]
    },
    {
     "name": "stderr",
     "output_type": "stream",
     "text": [
      "\n",
      "regularization_factors, val_score: 0.000757:  85%|###############################4     | 17/20 [29:32<04:46, 95.49s/it]\u001b[A\n",
      "regularization_factors, val_score: 0.000757:  90%|################################4   | 18/20 [29:32<03:28, 104.07s/it]\u001b[A\u001b[32m[I 2021-07-27 12:26:35,075]\u001b[0m Trial 60 finished with value: 0.0009867355061449219 and parameters: {'lambda_l1': 7.198898160590215, 'lambda_l2': 1.1235904916021853e-08}. Best is trial 54 with value: 0.0007565977694676177.\u001b[0m\n"
     ]
    },
    {
     "name": "stdout",
     "output_type": "stream",
     "text": [
      "Early stopping, best iteration is:\n",
      "[747]\tvalid_0's binary_logloss: 0.000454961\tvalid_1's binary_logloss: 0.000986736\n"
     ]
    },
    {
     "name": "stderr",
     "output_type": "stream",
     "text": [
      "\n",
      "regularization_factors, val_score: 0.000757:  90%|################################4   | 18/20 [29:32<03:28, 104.07s/it]\u001b[A"
     ]
    },
    {
     "name": "stdout",
     "output_type": "stream",
     "text": [
      "Training until validation scores don't improve for 50 rounds\n",
      "[100]\tvalid_0's binary_logloss: 0.00136537\tvalid_1's binary_logloss: 0.00163082\n",
      "[200]\tvalid_0's binary_logloss: 0.000328466\tvalid_1's binary_logloss: 0.000903921\n",
      "[300]\tvalid_0's binary_logloss: 0.000109219\tvalid_1's binary_logloss: 0.000780563\n",
      "[400]\tvalid_0's binary_logloss: 5.00207e-05\tvalid_1's binary_logloss: 0.000771598\n"
     ]
    },
    {
     "name": "stderr",
     "output_type": "stream",
     "text": [
      "\n",
      "regularization_factors, val_score: 0.000757:  90%|################################4   | 18/20 [31:13<03:28, 104.07s/it]\u001b[A\n",
      "regularization_factors, val_score: 0.000757:  95%|##################################1 | 19/20 [31:13<01:42, 102.98s/it]\u001b[A\u001b[32m[I 2021-07-27 12:28:15,514]\u001b[0m Trial 61 finished with value: 0.0007706026505619038 and parameters: {'lambda_l1': 0.22704867181531208, 'lambda_l2': 3.7607063033562993e-06}. Best is trial 54 with value: 0.0007565977694676177.\u001b[0m\n"
     ]
    },
    {
     "name": "stdout",
     "output_type": "stream",
     "text": [
      "Early stopping, best iteration is:\n",
      "[402]\tvalid_0's binary_logloss: 4.93865e-05\tvalid_1's binary_logloss: 0.000770603\n"
     ]
    },
    {
     "name": "stderr",
     "output_type": "stream",
     "text": [
      "\n",
      "regularization_factors, val_score: 0.000757:  95%|##################################1 | 19/20 [31:13<01:42, 102.98s/it]\u001b[A"
     ]
    },
    {
     "name": "stdout",
     "output_type": "stream",
     "text": [
      "Training until validation scores don't improve for 50 rounds\n",
      "[100]\tvalid_0's binary_logloss: 0.00133893\tvalid_1's binary_logloss: 0.00162005\n",
      "[200]\tvalid_0's binary_logloss: 0.000306046\tvalid_1's binary_logloss: 0.000895653\n",
      "[300]\tvalid_0's binary_logloss: 8.80758e-05\tvalid_1's binary_logloss: 0.000784951\n"
     ]
    },
    {
     "name": "stderr",
     "output_type": "stream",
     "text": [
      "\n",
      "regularization_factors, val_score: 0.000757:  95%|##################################1 | 19/20 [32:31<01:42, 102.98s/it]\u001b[A\n",
      "regularization_factors, val_score: 0.000757: 100%|#####################################| 20/20 [32:31<00:00, 95.53s/it]\u001b[A\u001b[32m[I 2021-07-27 12:29:33,673]\u001b[0m Trial 62 finished with value: 0.0007792714679118898 and parameters: {'lambda_l1': 0.0024879515307908552, 'lambda_l2': 7.772883183134397e-08}. Best is trial 54 with value: 0.0007565977694676177.\u001b[0m\n"
     ]
    },
    {
     "name": "stdout",
     "output_type": "stream",
     "text": [
      "Early stopping, best iteration is:\n",
      "[322]\tvalid_0's binary_logloss: 6.75465e-05\tvalid_1's binary_logloss: 0.000779271\n"
     ]
    },
    {
     "name": "stderr",
     "output_type": "stream",
     "text": [
      "regularization_factors, val_score: 0.000757: 100%|#####################################| 20/20 [32:31<00:00, 97.58s/it]\n",
      "\n",
      "  0%|                                                                                            | 0/5 [00:00<?, ?it/s]\u001b[A\n",
      "min_data_in_leaf, val_score: 0.000757:   0%|                                                     | 0/5 [00:00<?, ?it/s]\u001b[A"
     ]
    },
    {
     "name": "stdout",
     "output_type": "stream",
     "text": [
      "Training until validation scores don't improve for 50 rounds\n",
      "[100]\tvalid_0's binary_logloss: 0.0013486\tvalid_1's binary_logloss: 0.00162715\n",
      "[200]\tvalid_0's binary_logloss: 0.000309688\tvalid_1's binary_logloss: 0.000881769\n",
      "[300]\tvalid_0's binary_logloss: 8.90191e-05\tvalid_1's binary_logloss: 0.000764351\n",
      "[400]\tvalid_0's binary_logloss: 2.98684e-05\tvalid_1's binary_logloss: 0.000771393\n"
     ]
    },
    {
     "name": "stderr",
     "output_type": "stream",
     "text": [
      "\n",
      "min_data_in_leaf, val_score: 0.000757:   0%|                                                     | 0/5 [01:32<?, ?it/s]\u001b[A\n",
      "min_data_in_leaf, val_score: 0.000757:  20%|#########                                    | 1/5 [01:32<06:10, 92.59s/it]\u001b[A\u001b[32m[I 2021-07-27 12:31:06,401]\u001b[0m Trial 63 finished with value: 0.0007565977694676177 and parameters: {'min_child_samples': 50}. Best is trial 63 with value: 0.0007565977694676177.\u001b[0m\n"
     ]
    },
    {
     "name": "stdout",
     "output_type": "stream",
     "text": [
      "Early stopping, best iteration is:\n",
      "[355]\tvalid_0's binary_logloss: 4.79118e-05\tvalid_1's binary_logloss: 0.000756598\n"
     ]
    },
    {
     "name": "stderr",
     "output_type": "stream",
     "text": [
      "\n",
      "min_data_in_leaf, val_score: 0.000757:  20%|#########                                    | 1/5 [01:32<06:10, 92.59s/it]\u001b[A"
     ]
    },
    {
     "name": "stdout",
     "output_type": "stream",
     "text": [
      "Training until validation scores don't improve for 50 rounds\n",
      "[100]\tvalid_0's binary_logloss: 0.0013486\tvalid_1's binary_logloss: 0.00162715\n",
      "[200]\tvalid_0's binary_logloss: 0.000309688\tvalid_1's binary_logloss: 0.000881769\n",
      "[300]\tvalid_0's binary_logloss: 8.90191e-05\tvalid_1's binary_logloss: 0.000764351\n",
      "[400]\tvalid_0's binary_logloss: 2.98684e-05\tvalid_1's binary_logloss: 0.000771393\n"
     ]
    },
    {
     "name": "stderr",
     "output_type": "stream",
     "text": [
      "\n",
      "min_data_in_leaf, val_score: 0.000757:  20%|#########                                    | 1/5 [03:04<06:10, 92.59s/it]\u001b[A\n",
      "min_data_in_leaf, val_score: 0.000757:  40%|##################                           | 2/5 [03:04<04:36, 92.26s/it]\u001b[A\u001b[32m[I 2021-07-27 12:32:37,866]\u001b[0m Trial 64 finished with value: 0.0007565977694676177 and parameters: {'min_child_samples': 25}. Best is trial 63 with value: 0.0007565977694676177.\u001b[0m\n"
     ]
    },
    {
     "name": "stdout",
     "output_type": "stream",
     "text": [
      "Early stopping, best iteration is:\n",
      "[355]\tvalid_0's binary_logloss: 4.79118e-05\tvalid_1's binary_logloss: 0.000756598\n"
     ]
    },
    {
     "name": "stderr",
     "output_type": "stream",
     "text": [
      "\n",
      "min_data_in_leaf, val_score: 0.000757:  40%|##################                           | 2/5 [03:04<04:36, 92.26s/it]\u001b[A"
     ]
    },
    {
     "name": "stdout",
     "output_type": "stream",
     "text": [
      "Training until validation scores don't improve for 50 rounds\n",
      "[100]\tvalid_0's binary_logloss: 0.0013486\tvalid_1's binary_logloss: 0.00162715\n",
      "[200]\tvalid_0's binary_logloss: 0.000309688\tvalid_1's binary_logloss: 0.000881769\n",
      "[300]\tvalid_0's binary_logloss: 8.90191e-05\tvalid_1's binary_logloss: 0.000764351\n",
      "[400]\tvalid_0's binary_logloss: 2.98684e-05\tvalid_1's binary_logloss: 0.000771393\n"
     ]
    },
    {
     "name": "stderr",
     "output_type": "stream",
     "text": [
      "\n",
      "min_data_in_leaf, val_score: 0.000757:  40%|##################                           | 2/5 [04:36<04:36, 92.26s/it]\u001b[A\n",
      "min_data_in_leaf, val_score: 0.000757:  60%|###########################                  | 3/5 [04:36<03:04, 92.39s/it]\u001b[A\u001b[32m[I 2021-07-27 12:34:10,578]\u001b[0m Trial 65 finished with value: 0.0007565977694676177 and parameters: {'min_child_samples': 10}. Best is trial 63 with value: 0.0007565977694676177.\u001b[0m\n"
     ]
    },
    {
     "name": "stdout",
     "output_type": "stream",
     "text": [
      "Early stopping, best iteration is:\n",
      "[355]\tvalid_0's binary_logloss: 4.79118e-05\tvalid_1's binary_logloss: 0.000756598\n"
     ]
    },
    {
     "name": "stderr",
     "output_type": "stream",
     "text": [
      "\n",
      "min_data_in_leaf, val_score: 0.000757:  60%|###########################                  | 3/5 [04:36<03:04, 92.39s/it]\u001b[A"
     ]
    },
    {
     "name": "stdout",
     "output_type": "stream",
     "text": [
      "Training until validation scores don't improve for 50 rounds\n",
      "[100]\tvalid_0's binary_logloss: 0.0013486\tvalid_1's binary_logloss: 0.00162715\n",
      "[200]\tvalid_0's binary_logloss: 0.000309688\tvalid_1's binary_logloss: 0.000881769\n",
      "[300]\tvalid_0's binary_logloss: 8.90191e-05\tvalid_1's binary_logloss: 0.000764351\n",
      "[400]\tvalid_0's binary_logloss: 2.98684e-05\tvalid_1's binary_logloss: 0.000771393\n"
     ]
    },
    {
     "name": "stderr",
     "output_type": "stream",
     "text": [
      "\n",
      "min_data_in_leaf, val_score: 0.000757:  60%|###########################                  | 3/5 [06:10<03:04, 92.39s/it]\u001b[A\n",
      "min_data_in_leaf, val_score: 0.000757:  80%|####################################         | 4/5 [06:10<01:32, 92.84s/it]\u001b[A\u001b[32m[I 2021-07-27 12:35:44,467]\u001b[0m Trial 66 finished with value: 0.0007565977694676177 and parameters: {'min_child_samples': 100}. Best is trial 63 with value: 0.0007565977694676177.\u001b[0m\n"
     ]
    },
    {
     "name": "stdout",
     "output_type": "stream",
     "text": [
      "Early stopping, best iteration is:\n",
      "[355]\tvalid_0's binary_logloss: 4.79118e-05\tvalid_1's binary_logloss: 0.000756598\n"
     ]
    },
    {
     "name": "stderr",
     "output_type": "stream",
     "text": [
      "\n",
      "min_data_in_leaf, val_score: 0.000757:  80%|####################################         | 4/5 [06:10<01:32, 92.84s/it]\u001b[A"
     ]
    },
    {
     "name": "stdout",
     "output_type": "stream",
     "text": [
      "Training until validation scores don't improve for 50 rounds\n",
      "[100]\tvalid_0's binary_logloss: 0.0013486\tvalid_1's binary_logloss: 0.00162715\n",
      "[200]\tvalid_0's binary_logloss: 0.000309688\tvalid_1's binary_logloss: 0.000881769\n",
      "[300]\tvalid_0's binary_logloss: 8.90191e-05\tvalid_1's binary_logloss: 0.000764351\n",
      "[400]\tvalid_0's binary_logloss: 2.98684e-05\tvalid_1's binary_logloss: 0.000771393\n"
     ]
    },
    {
     "name": "stderr",
     "output_type": "stream",
     "text": [
      "\n",
      "min_data_in_leaf, val_score: 0.000757:  80%|####################################         | 4/5 [07:41<01:32, 92.84s/it]\u001b[A\n",
      "min_data_in_leaf, val_score: 0.000757: 100%|#############################################| 5/5 [07:41<00:00, 92.18s/it]\u001b[A\u001b[32m[I 2021-07-27 12:37:15,116]\u001b[0m Trial 67 finished with value: 0.0007565977694676177 and parameters: {'min_child_samples': 5}. Best is trial 63 with value: 0.0007565977694676177.\u001b[0m\n"
     ]
    },
    {
     "name": "stdout",
     "output_type": "stream",
     "text": [
      "Early stopping, best iteration is:\n",
      "[355]\tvalid_0's binary_logloss: 4.79118e-05\tvalid_1's binary_logloss: 0.000756598\n"
     ]
    },
    {
     "name": "stderr",
     "output_type": "stream",
     "text": [
      "min_data_in_leaf, val_score: 0.000757: 100%|#############################################| 5/5 [07:41<00:00, 92.28s/it]\n"
     ]
    },
    {
     "name": "stdout",
     "output_type": "stream",
     "text": [
      "Best params for Asphault: {'objective': 'binary', 'metric': 'binary_logloss', 'verbosity': -1, 'boosting_type': 'gbdt', 'bagging_fraction': 0.9802729451630334, 'n_jobs': 8, 'feature_pre_filter': False, 'min_data_in_leaf': 5000, 'lambda_l1': 0.028664020826938516, 'lambda_l2': 1.3198683384921155e-08, 'num_leaves': 109, 'feature_fraction': 0.516, 'bagging_freq': 3, 'min_child_samples': 20, 'num_iterations': 1000, 'early_stopping_round': 50}\n",
      "  Asphault Accuracy = 0.9997786666666667\n",
      "  Params: \n",
      "    objective: binary\n",
      "    metric: binary_logloss\n",
      "    verbosity: -1\n",
      "    boosting_type: gbdt\n",
      "    bagging_fraction: 0.9802729451630334\n",
      "    n_jobs: 8\n",
      "    feature_pre_filter: False\n",
      "    min_data_in_leaf: 5000\n",
      "    lambda_l1: 0.028664020826938516\n",
      "    lambda_l2: 1.3198683384921155e-08\n",
      "    num_leaves: 109\n",
      "    feature_fraction: 0.516\n",
      "    bagging_freq: 3\n",
      "    min_child_samples: 20\n",
      "    num_iterations: 1000\n",
      "    early_stopping_round: 50\n",
      "Wrote out trained model for Asphault to \n",
      "\tM:\\PAG2019\\notebooks\\Models\\lightGBMBinaryAsphault_20210727.sav and paramameters to \n",
      "\t../notebooks/Models/lightBinaryAsphaultParams_20210727.txt\n",
      "Training took 1:40:19.802491\n",
      "\n"
     ]
    }
   ],
   "source": [
    "import mlflow\n",
    "import optuna\n",
    "import optuna.integration.lightgbm as olgb\n",
    "\n",
    "\n",
    "def mlflow_callback(study, trial):\n",
    "    trial_value = trial.value if trial.value is not None else float(\"nan\")\n",
    "\n",
    "    trial_runtime = float(\"nan\")\n",
    "    if trial.datetime_start and trial.datetime_complete:\n",
    "        trial_runtime = (trial.datetime_complete - trial.datetime_start).total_seconds()\n",
    "    \n",
    "    with mlflow.start_run(run_name=study.study_name):\n",
    "        mlflow.log_params(trial.params)\n",
    "        #mlflow.log_params({\"step_name\": trial.user_attrs[\"lightgbm_tuner:step_number\"]})\n",
    "        \n",
    "        mlflow.log_metrics({\n",
    "            \"trial_number\": trial.number,\n",
    "            \"elapsed_time\": trial_runtime,\n",
    "            \"mean_squared_error\": trial_value,\n",
    "        })\n",
    "                          \n",
    "sampleSize = 500000\n",
    "trainingFeaturesToUse = trainingSamples.columns.tolist()\n",
    "trainingFeaturesToUse.remove(\"LCClass\")\n",
    "trainingFeaturesToUse.remove(\"LCClassInt\")\n",
    "# Segment area was shown to be high-leverage and inaccurate for binary classification of asphault (2021-06-16)\n",
    "\n",
    "\n",
    "values_2019_lookup = {\"PondLake\": 1,\n",
    "                      \"Pool\": 2,\n",
    "                      \"Barren\": 3,\n",
    "                      \"SparseVeg\": 4,\n",
    "                      \"DenseVeg\": 5,\n",
    "                      \"IrrigatedLand\": 6,\n",
    "                      \"Asphault\": 7,\n",
    "                      \"Impervious\": 8,\n",
    "                      \"Structure\": 9,\n",
    "                      \"ParkingLot\": 7,\n",
    "                      \"Sidewalk\": 8}\n",
    "\n",
    "trainingSamples_sub = getSubSample(data=trainingSamples, maxSampSize=sampleSize, features_cols=trainingFeaturesToUse[:], class_column=class_col)\n",
    "trainingSamples_sub[\"RGBNmean\"] = np.nanmean([trainingSamples_sub[\"RED\"], trainingSamples_sub[\"GREEN\"], trainingSamples_sub[\"BLUE\"], trainingSamples_sub[\"NIR\"]], axis=0)\n",
    "trainingFeaturesToUse.append(\"RGBNmean\")\n",
    "\n",
    "print(\"Training Features:\\n\",trainingFeaturesToUse)\n",
    "\n",
    "studies = {}\n",
    "\n",
    "for k,v in values_2019_lookup.items():\n",
    "    classTrainingFeaturesToUse = trainingFeaturesToUse[:]\n",
    "    if k != \"Asphault\":\n",
    "        continue\n",
    "    if k == \"Asphault\":\n",
    "        classTrainingFeaturesToUse.remove(\"Segment_area\") \n",
    "    elif k == \"Structure\":\n",
    "        classTrainingFeaturesToUse = [feat for feat in classTrainingFeaturesToUse if \"GaussianSigma5_\" not in feat]\n",
    "    elif k != \"DenseVeg\":\n",
    "        continue\n",
    "\n",
    "    start = datetime.now()\n",
    "\n",
    "    print(f\"Starting training of binary model for {k}\")\n",
    "    dataset = trainingSamples_sub.copy()\n",
    "    # separate all training into binary structure and not\n",
    "    dataset[class_col] = dataset[class_col].apply(lambda cc: 1 if cc == v else 0)\n",
    "\n",
    "    X = dataset[classTrainingFeaturesToUse]\n",
    "    y = dataset[class_col]\n",
    "    X_train, X_valid, Y_train, Y_valid = train_test_split(X, y, test_size=0.25, random_state=7)\n",
    "\n",
    "    dtrain = lgb.Dataset(X_train, label=Y_train)\n",
    "    dval = lgb.Dataset(X_valid, label=Y_valid)\n",
    "\n",
    "    params = {\n",
    "        \"objective\": \"binary\",\n",
    "        \"metric\": \"binary_logloss\",\n",
    "        \"verbosity\": -1,\n",
    "        \"boosting_type\": \"gbdt\",\n",
    "        \"bagging_fraction\": 0.8,\n",
    "        \"min_child_samples\": int(0.01*sampleSize),\n",
    "        \"early_stopping_round\": 50,\n",
    "        \"n_jobs\": 8,\n",
    "    }\n",
    "    \n",
    "    study = optuna.create_study(study_name=f\"lightgbm_tuner_{k}\", direction=\"minimize\")\n",
    "    \n",
    "    model = olgb.train(\n",
    "        params, train_set=dtrain, valid_sets=[dtrain, dval], verbose_eval=100,\n",
    "        optuna_callbacks=[mlflow_callback], study=study\n",
    "    )\n",
    "\n",
    "    studies[k]=study\n",
    "    \n",
    "    prediction = np.rint(model.predict(X_valid, num_iteration=model.best_iteration))\n",
    "    accuracy = accuracy_score(Y_valid, prediction)\n",
    "\n",
    "    best_params = model.params\n",
    "    print(f\"Best params for {k}:\", best_params)\n",
    "    print(f\"  {k} Accuracy = {accuracy}\")\n",
    "    print(\"  Params: \")\n",
    "    for key, value in best_params.items():\n",
    "        print(f\"    {key}: {value}\")\n",
    "        \n",
    "        \n",
    "    day = datetime.strftime(datetime.now(), \"%Y%m%d\")\n",
    "    model_name = f\"lightGBMBinary{k}_{day}.sav\"\n",
    "    model_path = os.path.join(os.path.abspath(\"../notebooks/Models\"), model_name)\n",
    "    pickle.dump(model, open(model_path, \"wb\"))\n",
    "    params_path = f\"../notebooks/Models/lightBinary{k}Params_{day}.txt\"\n",
    "    with open(params_path, \"w+\") as txt:\n",
    "        txt.write(json.dumps(params))\n",
    "        print(f\"Wrote out trained model for {k} to \\n\\t{model_path} and paramameters to \\n\\t{params_path}\")\n",
    "    end = datetime.now()\n",
    "    print(f\"Training took {end-start}\\n\")\n",
    "    break"
   ]
  },
  {
   "cell_type": "code",
   "execution_count": 126,
   "metadata": {},
   "outputs": [
    {
     "name": "stderr",
     "output_type": "stream",
     "text": [
      "C:\\Users\\BenJames\\anaconda3\\envs\\geospatial\\lib\\site-packages\\ipykernel\\ipkernel.py:283: DeprecationWarning: `should_run_async` will not call `transform_cell` automatically in the future. Please pass the result to `transformed_cell` argument and any exception that happen during thetransform in `preprocessing_exc_tuple` in IPython 7.17 and above.\n",
      "  and should_run_async(code)\n",
      "\u001b[32m[I 2021-07-28 13:55:19,997]\u001b[0m A new study created in memory with name: lightgbm_tuner_Asphault\u001b[0m\n"
     ]
    }
   ],
   "source": [
    "tunerStudy = optuna.create_study(study_name=f\"lightgbm_tuner_Asphault\", direction=\"minimize\")"
   ]
  },
  {
   "cell_type": "code",
   "execution_count": 143,
   "metadata": {},
   "outputs": [],
   "source": [
    "def getOptimumParam(lgbm_study):\n",
    "    history = lgbm_study.trials_dataframe()\n",
    "    history[\"DurationSeconds\"] = history.duration.apply(lambda d: d/np.timedelta64(1, 's'))\n",
    "    # limit trials to those within 1.2x of the best score (assuming lower scores are better)\n",
    "    best_performers = history[(history.value<(best_score*1.2))]# & (history.DurationSeconds < seconds_limit)]\n",
    "    optimum_trial = best_performers[best_performers.DurationSeconds == best_performers.DurationSeconds.min()] \n",
    "    optimum_trial_number = optimum_trial.number.values[0]\n",
    "    optimum_params = lgbm_study.get_trials()[optimum_trial_number].params\n",
    "    print(f\"optimum_params: {optimum_params}\")\n",
    "    \n",
    "    return optimum_params"
   ]
  },
  {
   "cell_type": "code",
   "execution_count": 169,
   "metadata": {
    "scrolled": true
   },
   "outputs": [],
   "source": [
    "tuner = olgb.LightGBMTuner(\n",
    "        params, train_set=dtrain, valid_sets=[dtrain, dval], verbose_eval=100,\n",
    "        optuna_callbacks=[mlflow_callback], study=tunerStudy\n",
    "    )"
   ]
  },
  {
   "cell_type": "code",
   "execution_count": 146,
   "metadata": {
    "scrolled": true
   },
   "outputs": [
    {
     "name": "stderr",
     "output_type": "stream",
     "text": [
      "\n",
      "\n",
      "  0%|                                                                                           | 0/20 [00:00<?, ?it/s]\u001b[A\u001b[A\n",
      "\n",
      "num_leaves, val_score: 0.000788:   0%|                                                          | 0/20 [00:00<?, ?it/s]\u001b[A\u001b[A"
     ]
    },
    {
     "name": "stdout",
     "output_type": "stream",
     "text": [
      "optimum_params: {'feature_fraction': 0.4}\n"
     ]
    },
    {
     "name": "stderr",
     "output_type": "stream",
     "text": [
      "C:\\Users\\BenJames\\anaconda3\\envs\\geospatial\\lib\\site-packages\\lightgbm\\engine.py:156: UserWarning: Found `early_stopping_round` in params. Will use it instead of argument\n",
      "  warnings.warn(\"Found `{}` in params. Will use it instead of argument\".format(alias))\n"
     ]
    },
    {
     "name": "stdout",
     "output_type": "stream",
     "text": [
      "Training until validation scores don't improve for 50 rounds\n",
      "[100]\tvalid_0's binary_logloss: 0.00127529\tvalid_1's binary_logloss: 0.00158176\n",
      "[200]\tvalid_0's binary_logloss: 0.000205056\tvalid_1's binary_logloss: 0.000843321\n",
      "[300]\tvalid_0's binary_logloss: 3.78084e-05\tvalid_1's binary_logloss: 0.000787196\n"
     ]
    },
    {
     "name": "stderr",
     "output_type": "stream",
     "text": [
      "\n",
      "\n",
      "num_leaves, val_score: 0.000785:   0%|                                                          | 0/20 [01:03<?, ?it/s]\u001b[A\u001b[A\n",
      "\n",
      "num_leaves, val_score: 0.000785:   5%|##5                                               | 1/20 [01:03<20:10, 63.73s/it]\u001b[A\u001b[A\u001b[32m[I 2021-07-28 14:23:58,035]\u001b[0m Trial 7 finished with value: 0.0007846268801326341 and parameters: {'num_leaves': 177}. Best is trial 7 with value: 0.0007846268801326341.\u001b[0m\n"
     ]
    },
    {
     "name": "stdout",
     "output_type": "stream",
     "text": [
      "Early stopping, best iteration is:\n",
      "[276]\tvalid_0's binary_logloss: 5.60638e-05\tvalid_1's binary_logloss: 0.000784627\n"
     ]
    },
    {
     "name": "stderr",
     "output_type": "stream",
     "text": [
      "\n",
      "\n",
      "num_leaves, val_score: 0.000785:   5%|##5                                               | 1/20 [01:03<20:10, 63.73s/it]\u001b[A\u001b[A"
     ]
    },
    {
     "name": "stdout",
     "output_type": "stream",
     "text": [
      "Training until validation scores don't improve for 50 rounds\n",
      "[100]\tvalid_0's binary_logloss: 0.00251948\tvalid_1's binary_logloss: 0.00258063\n",
      "[200]\tvalid_0's binary_logloss: 0.00159224\tvalid_1's binary_logloss: 0.00177734\n",
      "[300]\tvalid_0's binary_logloss: 0.00138688\tvalid_1's binary_logloss: 0.00165472\n",
      "[400]\tvalid_0's binary_logloss: 0.00229275\tvalid_1's binary_logloss: 0.00306261\n"
     ]
    },
    {
     "name": "stderr",
     "output_type": "stream",
     "text": [
      "\n",
      "\n",
      "num_leaves, val_score: 0.000785:   5%|##5                                               | 1/20 [01:48<20:10, 63.73s/it]\u001b[A\u001b[A\n",
      "\n",
      "num_leaves, val_score: 0.000785:  10%|#####                                             | 2/20 [01:48<17:22, 57.94s/it]\u001b[A\u001b[A\u001b[32m[I 2021-07-28 14:24:42,460]\u001b[0m Trial 8 finished with value: 0.0013854500686080978 and parameters: {'num_leaves': 15}. Best is trial 7 with value: 0.0007846268801326341.\u001b[0m\n",
      "\n",
      "\n",
      "num_leaves, val_score: 0.000785:  10%|#####                                             | 2/20 [01:48<17:22, 57.94s/it]\u001b[A\u001b[A"
     ]
    },
    {
     "name": "stdout",
     "output_type": "stream",
     "text": [
      "Early stopping, best iteration is:\n",
      "[379]\tvalid_0's binary_logloss: 0.00104824\tvalid_1's binary_logloss: 0.00138545\n",
      "Training until validation scores don't improve for 50 rounds\n",
      "[100]\tvalid_0's binary_logloss: 0.00218953\tvalid_1's binary_logloss: 0.00227989\n",
      "[200]\tvalid_0's binary_logloss: 0.00131841\tvalid_1's binary_logloss: 0.00159666\n",
      "[300]\tvalid_0's binary_logloss: 0.000946827\tvalid_1's binary_logloss: 0.00133904\n"
     ]
    },
    {
     "name": "stderr",
     "output_type": "stream",
     "text": [
      "\n",
      "\n",
      "num_leaves, val_score: 0.000785:  10%|#####                                             | 2/20 [02:29<17:22, 57.94s/it]\u001b[A\u001b[A\n",
      "\n",
      "num_leaves, val_score: 0.000785:  15%|#######5                                          | 3/20 [02:29<15:00, 52.96s/it]\u001b[A\u001b[A\u001b[32m[I 2021-07-28 14:25:23,804]\u001b[0m Trial 9 finished with value: 0.0013211361878834775 and parameters: {'num_leaves': 21}. Best is trial 7 with value: 0.0007846268801326341.\u001b[0m\n",
      "\n",
      "\n",
      "num_leaves, val_score: 0.000785:  15%|#######5                                          | 3/20 [02:29<15:00, 52.96s/it]\u001b[A\u001b[A"
     ]
    },
    {
     "name": "stdout",
     "output_type": "stream",
     "text": [
      "Early stopping, best iteration is:\n",
      "[310]\tvalid_0's binary_logloss: 0.000919201\tvalid_1's binary_logloss: 0.00132114\n",
      "Training until validation scores don't improve for 50 rounds\n",
      "[100]\tvalid_0's binary_logloss: 0.00134564\tvalid_1's binary_logloss: 0.00162094\n",
      "[200]\tvalid_0's binary_logloss: 0.000323956\tvalid_1's binary_logloss: 0.000908481\n",
      "[300]\tvalid_0's binary_logloss: 0.000101311\tvalid_1's binary_logloss: 0.000784116\n",
      "[400]\tvalid_0's binary_logloss: 3.38107e-05\tvalid_1's binary_logloss: 0.000773944\n"
     ]
    },
    {
     "name": "stderr",
     "output_type": "stream",
     "text": [
      "\n",
      "\n",
      "num_leaves, val_score: 0.000770:  15%|#######5                                          | 3/20 [03:45<15:00, 52.96s/it]\u001b[A\u001b[A\n",
      "\n",
      "num_leaves, val_score: 0.000770:  20%|##########                                        | 4/20 [03:45<15:55, 59.74s/it]\u001b[A\u001b[A\u001b[32m[I 2021-07-28 14:26:39,364]\u001b[0m Trial 10 finished with value: 0.0007699639134244352 and parameters: {'num_leaves': 102}. Best is trial 10 with value: 0.0007699639134244352.\u001b[0m\n"
     ]
    },
    {
     "name": "stdout",
     "output_type": "stream",
     "text": [
      "Early stopping, best iteration is:\n",
      "[361]\tvalid_0's binary_logloss: 5.17614e-05\tvalid_1's binary_logloss: 0.000769964\n"
     ]
    },
    {
     "name": "stderr",
     "output_type": "stream",
     "text": [
      "\n",
      "\n",
      "num_leaves, val_score: 0.000770:  20%|##########                                        | 4/20 [03:45<15:55, 59.74s/it]\u001b[A\u001b[A"
     ]
    },
    {
     "name": "stdout",
     "output_type": "stream",
     "text": [
      "Training until validation scores don't improve for 50 rounds\n",
      "[100]\tvalid_0's binary_logloss: 0.00128974\tvalid_1's binary_logloss: 0.00159109\n",
      "[200]\tvalid_0's binary_logloss: 0.000233747\tvalid_1's binary_logloss: 0.000868191\n",
      "[300]\tvalid_0's binary_logloss: 5.16323e-05\tvalid_1's binary_logloss: 0.000782558\n"
     ]
    },
    {
     "name": "stderr",
     "output_type": "stream",
     "text": [
      "\n",
      "\n",
      "num_leaves, val_score: 0.000770:  20%|##########                                        | 4/20 [04:57<15:55, 59.74s/it]\u001b[A\u001b[A\n",
      "\n",
      "num_leaves, val_score: 0.000770:  25%|############5                                     | 5/20 [04:57<15:54, 63.64s/it]\u001b[A\u001b[A\u001b[32m[I 2021-07-28 14:27:52,113]\u001b[0m Trial 11 finished with value: 0.0007782719270697507 and parameters: {'num_leaves': 142}. Best is trial 10 with value: 0.0007699639134244352.\u001b[0m\n"
     ]
    },
    {
     "name": "stdout",
     "output_type": "stream",
     "text": [
      "Early stopping, best iteration is:\n",
      "[309]\tvalid_0's binary_logloss: 4.55074e-05\tvalid_1's binary_logloss: 0.000778272\n"
     ]
    },
    {
     "name": "stderr",
     "output_type": "stream",
     "text": [
      "\n",
      "\n",
      "num_leaves, val_score: 0.000770:  25%|############5                                     | 5/20 [04:57<15:54, 63.64s/it]\u001b[A\u001b[A"
     ]
    },
    {
     "name": "stdout",
     "output_type": "stream",
     "text": [
      "Training until validation scores don't improve for 50 rounds\n",
      "[100]\tvalid_0's binary_logloss: 0.00125555\tvalid_1's binary_logloss: 0.0015764\n",
      "[200]\tvalid_0's binary_logloss: 0.000179822\tvalid_1's binary_logloss: 0.00084105\n",
      "[300]\tvalid_0's binary_logloss: 2.83152e-05\tvalid_1's binary_logloss: 0.0008048\n"
     ]
    },
    {
     "name": "stderr",
     "output_type": "stream",
     "text": [
      "\n",
      "\n",
      "num_leaves, val_score: 0.000770:  25%|############5                                     | 5/20 [06:18<15:54, 63.64s/it]\u001b[A\u001b[A\n",
      "\n",
      "num_leaves, val_score: 0.000770:  30%|###############                                   | 6/20 [06:18<16:00, 68.62s/it]\u001b[A\u001b[A"
     ]
    },
    {
     "name": "stdout",
     "output_type": "stream",
     "text": [
      "Early stopping, best iteration is:\n",
      "[264]\tvalid_0's binary_logloss: 5.58281e-05\tvalid_1's binary_logloss: 0.000797265\n"
     ]
    },
    {
     "name": "stderr",
     "output_type": "stream",
     "text": [
      "\u001b[32m[I 2021-07-28 14:29:12,346]\u001b[0m Trial 12 finished with value: 0.0007972648184446066 and parameters: {'num_leaves': 251}. Best is trial 10 with value: 0.0007699639134244352.\u001b[0m\n",
      "\n",
      "\n",
      "num_leaves, val_score: 0.000770:  30%|###############                                   | 6/20 [06:18<16:00, 68.62s/it]\u001b[A\u001b[A"
     ]
    },
    {
     "name": "stdout",
     "output_type": "stream",
     "text": [
      "Training until validation scores don't improve for 50 rounds\n",
      "[100]\tvalid_0's binary_logloss: 0.0017844\tvalid_1's binary_logloss: 0.00195645\n",
      "[200]\tvalid_0's binary_logloss: 0.000905558\tvalid_1's binary_logloss: 0.0012906\n",
      "[300]\tvalid_0's binary_logloss: 0.000565073\tvalid_1's binary_logloss: 0.0010637\n",
      "[400]\tvalid_0's binary_logloss: 0.00035546\tvalid_1's binary_logloss: 0.000936816\n",
      "[500]\tvalid_0's binary_logloss: 0.000232746\tvalid_1's binary_logloss: 0.000876426\n",
      "[600]\tvalid_0's binary_logloss: 0.000154459\tvalid_1's binary_logloss: 0.000833348\n",
      "[700]\tvalid_0's binary_logloss: 0.000102012\tvalid_1's binary_logloss: 0.000809928\n",
      "[800]\tvalid_0's binary_logloss: 6.7181e-05\tvalid_1's binary_logloss: 0.000803329\n"
     ]
    },
    {
     "name": "stderr",
     "output_type": "stream",
     "text": [
      "\n",
      "\n",
      "num_leaves, val_score: 0.000770:  30%|###############                                   | 6/20 [07:56<16:00, 68.62s/it]\u001b[A\u001b[A\n",
      "\n",
      "num_leaves, val_score: 0.000770:  35%|#################5                                | 7/20 [07:56<16:47, 77.49s/it]\u001b[A\u001b[A\u001b[32m[I 2021-07-28 14:30:50,527]\u001b[0m Trial 13 finished with value: 0.0008023657034966137 and parameters: {'num_leaves': 37}. Best is trial 10 with value: 0.0007699639134244352.\u001b[0m\n",
      "\n",
      "\n"
     ]
    },
    {
     "name": "stdout",
     "output_type": "stream",
     "text": [
      "Early stopping, best iteration is:\n",
      "[764]\tvalid_0's binary_logloss: 7.84991e-05\tvalid_1's binary_logloss: 0.000802366\n"
     ]
    },
    {
     "name": "stderr",
     "output_type": "stream",
     "text": [
      "num_leaves, val_score: 0.000770:  35%|#################5                                | 7/20 [07:56<16:47, 77.49s/it]\u001b[A\u001b[A"
     ]
    },
    {
     "name": "stdout",
     "output_type": "stream",
     "text": [
      "Training until validation scores don't improve for 50 rounds\n",
      "[100]\tvalid_0's binary_logloss: 0.0012575\tvalid_1's binary_logloss: 0.00156375\n",
      "[200]\tvalid_0's binary_logloss: 0.000180701\tvalid_1's binary_logloss: 0.000834919\n",
      "[300]\tvalid_0's binary_logloss: 2.88249e-05\tvalid_1's binary_logloss: 0.000795143\n"
     ]
    },
    {
     "name": "stderr",
     "output_type": "stream",
     "text": [
      "\n",
      "\n",
      "num_leaves, val_score: 0.000770:  35%|#################5                                | 7/20 [09:03<16:47, 77.49s/it]\u001b[A\u001b[A\n",
      "\n",
      "num_leaves, val_score: 0.000770:  40%|####################                              | 8/20 [09:03<14:54, 74.51s/it]\u001b[A\u001b[A\u001b[32m[I 2021-07-28 14:31:58,108]\u001b[0m Trial 14 finished with value: 0.0007889540226043897 and parameters: {'num_leaves': 235}. Best is trial 10 with value: 0.0007699639134244352.\u001b[0m\n"
     ]
    },
    {
     "name": "stdout",
     "output_type": "stream",
     "text": [
      "Early stopping, best iteration is:\n",
      "[263]\tvalid_0's binary_logloss: 5.63083e-05\tvalid_1's binary_logloss: 0.000788954\n"
     ]
    },
    {
     "name": "stderr",
     "output_type": "stream",
     "text": [
      "\n",
      "\n",
      "num_leaves, val_score: 0.000770:  40%|####################                              | 8/20 [09:03<14:54, 74.51s/it]\u001b[A\u001b[A"
     ]
    },
    {
     "name": "stdout",
     "output_type": "stream",
     "text": [
      "Training until validation scores don't improve for 50 rounds\n",
      "[100]\tvalid_0's binary_logloss: 0.00133004\tvalid_1's binary_logloss: 0.00160431\n",
      "[200]\tvalid_0's binary_logloss: 0.000300496\tvalid_1's binary_logloss: 0.00089584\n",
      "[300]\tvalid_0's binary_logloss: 8.55513e-05\tvalid_1's binary_logloss: 0.000779654\n"
     ]
    },
    {
     "name": "stderr",
     "output_type": "stream",
     "text": [
      "\n",
      "\n",
      "num_leaves, val_score: 0.000770:  40%|####################                              | 8/20 [10:09<14:54, 74.51s/it]\u001b[A\u001b[A\n",
      "\n",
      "num_leaves, val_score: 0.000770:  45%|######################5                           | 9/20 [10:09<13:09, 71.80s/it]\u001b[A\u001b[A\u001b[32m[I 2021-07-28 14:33:03,579]\u001b[0m Trial 15 finished with value: 0.0007778487433240235 and parameters: {'num_leaves': 111}. Best is trial 10 with value: 0.0007699639134244352.\u001b[0m\n"
     ]
    },
    {
     "name": "stdout",
     "output_type": "stream",
     "text": [
      "Early stopping, best iteration is:\n",
      "[302]\tvalid_0's binary_logloss: 8.3601e-05\tvalid_1's binary_logloss: 0.000777849\n"
     ]
    },
    {
     "name": "stderr",
     "output_type": "stream",
     "text": [
      "\n",
      "\n",
      "num_leaves, val_score: 0.000770:  45%|######################5                           | 9/20 [10:09<13:09, 71.80s/it]\u001b[A\u001b[A"
     ]
    },
    {
     "name": "stdout",
     "output_type": "stream",
     "text": [
      "Training until validation scores don't improve for 50 rounds\n",
      "[100]\tvalid_0's binary_logloss: 0.00141287\tvalid_1's binary_logloss: 0.00166396\n",
      "[200]\tvalid_0's binary_logloss: 0.000424674\tvalid_1's binary_logloss: 0.00095723\n",
      "[300]\tvalid_0's binary_logloss: 0.000158813\tvalid_1's binary_logloss: 0.000812528\n",
      "[400]\tvalid_0's binary_logloss: 6.29554e-05\tvalid_1's binary_logloss: 0.00077772\n"
     ]
    },
    {
     "name": "stderr",
     "output_type": "stream",
     "text": [
      "\n",
      "\n",
      "num_leaves, val_score: 0.000770:  45%|######################5                           | 9/20 [11:31<13:09, 71.80s/it]\u001b[A\u001b[A\n",
      "\n",
      "num_leaves, val_score: 0.000770:  50%|########################5                        | 10/20 [11:31<12:28, 74.82s/it]\u001b[A\u001b[A\u001b[32m[I 2021-07-28 14:34:25,455]\u001b[0m Trial 16 finished with value: 0.0007712837165919581 and parameters: {'num_leaves': 83}. Best is trial 10 with value: 0.0007699639134244352.\u001b[0m\n"
     ]
    },
    {
     "name": "stdout",
     "output_type": "stream",
     "text": [
      "Early stopping, best iteration is:\n",
      "[439]\tvalid_0's binary_logloss: 4.43518e-05\tvalid_1's binary_logloss: 0.000771284\n"
     ]
    },
    {
     "name": "stderr",
     "output_type": "stream",
     "text": [
      "\n",
      "\n",
      "num_leaves, val_score: 0.000770:  50%|########################5                        | 10/20 [11:31<12:28, 74.82s/it]\u001b[A\u001b[A"
     ]
    },
    {
     "name": "stdout",
     "output_type": "stream",
     "text": [
      "Training until validation scores don't improve for 50 rounds\n",
      "[100]\tvalid_0's binary_logloss: 0.00126322\tvalid_1's binary_logloss: 0.00157056\n",
      "[200]\tvalid_0's binary_logloss: 0.000202587\tvalid_1's binary_logloss: 0.000845902\n",
      "[300]\tvalid_0's binary_logloss: 3.61123e-05\tvalid_1's binary_logloss: 0.000784507\n"
     ]
    },
    {
     "name": "stderr",
     "output_type": "stream",
     "text": [
      "\n",
      "\n",
      "num_leaves, val_score: 0.000770:  50%|########################5                        | 10/20 [12:33<12:28, 74.82s/it]\u001b[A\u001b[A\n",
      "\n",
      "num_leaves, val_score: 0.000770:  55%|##########################9                      | 11/20 [12:33<10:39, 71.11s/it]\u001b[A\u001b[A\u001b[32m[I 2021-07-28 14:35:27,877]\u001b[0m Trial 17 finished with value: 0.0007769303790264175 and parameters: {'num_leaves': 184}. Best is trial 10 with value: 0.0007699639134244352.\u001b[0m\n"
     ]
    },
    {
     "name": "stdout",
     "output_type": "stream",
     "text": [
      "Early stopping, best iteration is:\n",
      "[257]\tvalid_0's binary_logloss: 7.55288e-05\tvalid_1's binary_logloss: 0.00077693\n"
     ]
    },
    {
     "name": "stderr",
     "output_type": "stream",
     "text": [
      "\n",
      "\n",
      "num_leaves, val_score: 0.000770:  55%|##########################9                      | 11/20 [12:33<10:39, 71.11s/it]\u001b[A\u001b[A"
     ]
    },
    {
     "name": "stdout",
     "output_type": "stream",
     "text": [
      "Training until validation scores don't improve for 50 rounds\n",
      "[100]\tvalid_0's binary_logloss: 0.00142304\tvalid_1's binary_logloss: 0.00166968\n",
      "[200]\tvalid_0's binary_logloss: 0.000441844\tvalid_1's binary_logloss: 0.000970729\n",
      "[300]\tvalid_0's binary_logloss: 0.000170815\tvalid_1's binary_logloss: 0.000817724\n",
      "[400]\tvalid_0's binary_logloss: 7.04501e-05\tvalid_1's binary_logloss: 0.000778706\n"
     ]
    },
    {
     "name": "stderr",
     "output_type": "stream",
     "text": [
      "\n",
      "\n",
      "num_leaves, val_score: 0.000770:  55%|##########################9                      | 11/20 [13:54<10:39, 71.11s/it]\u001b[A\u001b[A\n",
      "\n",
      "num_leaves, val_score: 0.000770:  60%|#############################4                   | 12/20 [13:54<09:52, 74.09s/it]\u001b[A\u001b[A\u001b[32m[I 2021-07-28 14:36:48,935]\u001b[0m Trial 18 finished with value: 0.0007775996492026439 and parameters: {'num_leaves': 79}. Best is trial 10 with value: 0.0007699639134244352.\u001b[0m\n"
     ]
    },
    {
     "name": "stdout",
     "output_type": "stream",
     "text": [
      "Early stopping, best iteration is:\n",
      "[445]\tvalid_0's binary_logloss: 4.75484e-05\tvalid_1's binary_logloss: 0.0007776\n"
     ]
    },
    {
     "name": "stderr",
     "output_type": "stream",
     "text": [
      "\n",
      "\n",
      "num_leaves, val_score: 0.000770:  60%|#############################4                   | 12/20 [13:54<09:52, 74.09s/it]\u001b[A\u001b[A"
     ]
    },
    {
     "name": "stdout",
     "output_type": "stream",
     "text": [
      "Training until validation scores don't improve for 50 rounds\n",
      "[100]\tvalid_0's binary_logloss: 0.00145729\tvalid_1's binary_logloss: 0.00170023\n",
      "[200]\tvalid_0's binary_logloss: 0.00049282\tvalid_1's binary_logloss: 0.00102371\n",
      "[300]\tvalid_0's binary_logloss: 0.000212618\tvalid_1's binary_logloss: 0.000846255\n",
      "[400]\tvalid_0's binary_logloss: 9.37228e-05\tvalid_1's binary_logloss: 0.000800497\n",
      "[500]\tvalid_0's binary_logloss: 4.24377e-05\tvalid_1's binary_logloss: 0.000789854\n"
     ]
    },
    {
     "name": "stderr",
     "output_type": "stream",
     "text": [
      "\n",
      "\n",
      "num_leaves, val_score: 0.000770:  60%|#############################4                   | 12/20 [15:16<09:52, 74.09s/it]\u001b[A\u001b[A\n",
      "\n",
      "num_leaves, val_score: 0.000770:  65%|###############################8                 | 13/20 [15:16<08:54, 76.42s/it]\u001b[A\u001b[A\u001b[32m[I 2021-07-28 14:38:10,770]\u001b[0m Trial 19 finished with value: 0.0007881632962321223 and parameters: {'num_leaves': 72}. Best is trial 10 with value: 0.0007699639134244352.\u001b[0m\n"
     ]
    },
    {
     "name": "stdout",
     "output_type": "stream",
     "text": [
      "Early stopping, best iteration is:\n",
      "[472]\tvalid_0's binary_logloss: 5.27456e-05\tvalid_1's binary_logloss: 0.000788163\n"
     ]
    },
    {
     "name": "stderr",
     "output_type": "stream",
     "text": [
      "\n",
      "\n",
      "num_leaves, val_score: 0.000770:  65%|###############################8                 | 13/20 [15:16<08:54, 76.42s/it]\u001b[A\u001b[A"
     ]
    },
    {
     "name": "stdout",
     "output_type": "stream",
     "text": [
      "Training until validation scores don't improve for 50 rounds\n",
      "[100]\tvalid_0's binary_logloss: 0.00137498\tvalid_1's binary_logloss: 0.00163404\n",
      "[200]\tvalid_0's binary_logloss: 0.000370252\tvalid_1's binary_logloss: 0.000933459\n",
      "[300]\tvalid_0's binary_logloss: 0.000126907\tvalid_1's binary_logloss: 0.000803624\n",
      "[400]\tvalid_0's binary_logloss: 4.63305e-05\tvalid_1's binary_logloss: 0.000781803\n"
     ]
    },
    {
     "name": "stderr",
     "output_type": "stream",
     "text": [
      "\n",
      "\n",
      "num_leaves, val_score: 0.000770:  65%|###############################8                 | 13/20 [16:27<08:54, 76.42s/it]\u001b[A\u001b[A\n",
      "\n",
      "num_leaves, val_score: 0.000770:  70%|##################################3              | 14/20 [16:27<07:28, 74.70s/it]\u001b[A\u001b[A\u001b[32m[I 2021-07-28 14:39:21,480]\u001b[0m Trial 20 finished with value: 0.0007778644649703279 and parameters: {'num_leaves': 92}. Best is trial 10 with value: 0.0007699639134244352.\u001b[0m\n"
     ]
    },
    {
     "name": "stdout",
     "output_type": "stream",
     "text": [
      "Early stopping, best iteration is:\n",
      "[389]\tvalid_0's binary_logloss: 5.13727e-05\tvalid_1's binary_logloss: 0.000777864\n"
     ]
    },
    {
     "name": "stderr",
     "output_type": "stream",
     "text": [
      "\n",
      "\n",
      "num_leaves, val_score: 0.000770:  70%|##################################3              | 14/20 [16:27<07:28, 74.70s/it]\u001b[A\u001b[A"
     ]
    },
    {
     "name": "stdout",
     "output_type": "stream",
     "text": [
      "Training until validation scores don't improve for 50 rounds\n",
      "[100]\tvalid_0's binary_logloss: 0.00127901\tvalid_1's binary_logloss: 0.00157721\n",
      "[200]\tvalid_0's binary_logloss: 0.000232756\tvalid_1's binary_logloss: 0.000857561\n",
      "[300]\tvalid_0's binary_logloss: 4.96566e-05\tvalid_1's binary_logloss: 0.000782671\n"
     ]
    },
    {
     "name": "stderr",
     "output_type": "stream",
     "text": [
      "\n",
      "\n",
      "num_leaves, val_score: 0.000770:  70%|##################################3              | 14/20 [17:34<07:28, 74.70s/it]\u001b[A\u001b[A\n",
      "\n",
      "num_leaves, val_score: 0.000770:  75%|####################################7            | 15/20 [17:34<06:02, 72.42s/it]\u001b[A\u001b[A\u001b[32m[I 2021-07-28 14:40:28,576]\u001b[0m Trial 21 finished with value: 0.0007806957566494443 and parameters: {'num_leaves': 147}. Best is trial 10 with value: 0.0007699639134244352.\u001b[0m\n"
     ]
    },
    {
     "name": "stdout",
     "output_type": "stream",
     "text": [
      "Early stopping, best iteration is:\n",
      "[277]\tvalid_0's binary_logloss: 6.99737e-05\tvalid_1's binary_logloss: 0.000780696\n"
     ]
    },
    {
     "name": "stderr",
     "output_type": "stream",
     "text": [
      "\n",
      "\n",
      "num_leaves, val_score: 0.000770:  75%|####################################7            | 15/20 [17:34<06:02, 72.42s/it]\u001b[A\u001b[A"
     ]
    },
    {
     "name": "stdout",
     "output_type": "stream",
     "text": [
      "Training until validation scores don't improve for 50 rounds\n",
      "[100]\tvalid_0's binary_logloss: 0.00150888\tvalid_1's binary_logloss: 0.00172645\n",
      "[200]\tvalid_0's binary_logloss: 0.000583302\tvalid_1's binary_logloss: 0.00107059\n",
      "[300]\tvalid_0's binary_logloss: 0.000272122\tvalid_1's binary_logloss: 0.000876926\n",
      "[400]\tvalid_0's binary_logloss: 0.000131696\tvalid_1's binary_logloss: 0.000798991\n",
      "[500]\tvalid_0's binary_logloss: 6.4735e-05\tvalid_1's binary_logloss: 0.000778633\n"
     ]
    },
    {
     "name": "stderr",
     "output_type": "stream",
     "text": [
      "\n",
      "\n",
      "num_leaves, val_score: 0.000770:  75%|####################################7            | 15/20 [18:59<06:02, 72.42s/it]\u001b[A\u001b[A\n",
      "\n",
      "num_leaves, val_score: 0.000770:  80%|#######################################2         | 16/20 [18:59<05:05, 76.34s/it]\u001b[A\u001b[A\u001b[32m[I 2021-07-28 14:41:54,061]\u001b[0m Trial 22 finished with value: 0.0007761048374266455 and parameters: {'num_leaves': 63}. Best is trial 10 with value: 0.0007699639134244352.\u001b[0m\n"
     ]
    },
    {
     "name": "stdout",
     "output_type": "stream",
     "text": [
      "Early stopping, best iteration is:\n",
      "[519]\tvalid_0's binary_logloss: 5.67046e-05\tvalid_1's binary_logloss: 0.000776105\n"
     ]
    },
    {
     "name": "stderr",
     "output_type": "stream",
     "text": [
      "\n",
      "\n",
      "num_leaves, val_score: 0.000770:  80%|#######################################2         | 16/20 [18:59<05:05, 76.34s/it]\u001b[A\u001b[A"
     ]
    },
    {
     "name": "stdout",
     "output_type": "stream",
     "text": [
      "Training until validation scores don't improve for 50 rounds\n",
      "[100]\tvalid_0's binary_logloss: 0.00133004\tvalid_1's binary_logloss: 0.00160431\n",
      "[200]\tvalid_0's binary_logloss: 0.000300496\tvalid_1's binary_logloss: 0.00089584\n",
      "[300]\tvalid_0's binary_logloss: 8.55513e-05\tvalid_1's binary_logloss: 0.000779654\n"
     ]
    },
    {
     "name": "stderr",
     "output_type": "stream",
     "text": [
      "\n",
      "\n",
      "num_leaves, val_score: 0.000770:  80%|#######################################2         | 16/20 [20:05<05:05, 76.34s/it]\u001b[A\u001b[A\n",
      "\n",
      "num_leaves, val_score: 0.000770:  85%|#########################################6       | 17/20 [20:05<03:39, 73.25s/it]\u001b[A\u001b[A\u001b[32m[I 2021-07-28 14:43:00,091]\u001b[0m Trial 23 finished with value: 0.0007778487433240235 and parameters: {'num_leaves': 111}. Best is trial 10 with value: 0.0007699639134244352.\u001b[0m\n"
     ]
    },
    {
     "name": "stdout",
     "output_type": "stream",
     "text": [
      "Early stopping, best iteration is:\n",
      "[302]\tvalid_0's binary_logloss: 8.3601e-05\tvalid_1's binary_logloss: 0.000777849\n"
     ]
    },
    {
     "name": "stderr",
     "output_type": "stream",
     "text": [
      "\n",
      "\n",
      "num_leaves, val_score: 0.000770:  85%|#########################################6       | 17/20 [20:05<03:39, 73.25s/it]\u001b[A\u001b[A"
     ]
    },
    {
     "name": "stdout",
     "output_type": "stream",
     "text": [
      "Training until validation scores don't improve for 50 rounds\n",
      "[100]\tvalid_0's binary_logloss: 0.00161455\tvalid_1's binary_logloss: 0.00180581\n",
      "[200]\tvalid_0's binary_logloss: 0.000694913\tvalid_1's binary_logloss: 0.00113421\n",
      "[300]\tvalid_0's binary_logloss: 0.000375682\tvalid_1's binary_logloss: 0.00094537\n",
      "[400]\tvalid_0's binary_logloss: 0.000209925\tvalid_1's binary_logloss: 0.000851496\n",
      "[500]\tvalid_0's binary_logloss: 0.000117511\tvalid_1's binary_logloss: 0.000806378\n",
      "[600]\tvalid_0's binary_logloss: 6.70645e-05\tvalid_1's binary_logloss: 0.00078975\n",
      "[700]\tvalid_0's binary_logloss: 3.95036e-05\tvalid_1's binary_logloss: 0.000787375\n"
     ]
    },
    {
     "name": "stderr",
     "output_type": "stream",
     "text": [
      "\n",
      "\n",
      "num_leaves, val_score: 0.000770:  85%|#########################################6       | 17/20 [21:38<03:39, 73.25s/it]\u001b[A\u001b[A\n",
      "\n",
      "num_leaves, val_score: 0.000770:  90%|############################################1    | 18/20 [21:38<02:37, 79.00s/it]\u001b[A\u001b[A\u001b[32m[I 2021-07-28 14:44:32,524]\u001b[0m Trial 24 finished with value: 0.000784833273682282 and parameters: {'num_leaves': 50}. Best is trial 10 with value: 0.0007699639134244352.\u001b[0m\n"
     ]
    },
    {
     "name": "stdout",
     "output_type": "stream",
     "text": [
      "Early stopping, best iteration is:\n",
      "[660]\tvalid_0's binary_logloss: 4.84783e-05\tvalid_1's binary_logloss: 0.000784833\n"
     ]
    },
    {
     "name": "stderr",
     "output_type": "stream",
     "text": [
      "\n",
      "\n",
      "num_leaves, val_score: 0.000770:  90%|############################################1    | 18/20 [21:38<02:37, 79.00s/it]\u001b[A\u001b[A"
     ]
    },
    {
     "name": "stdout",
     "output_type": "stream",
     "text": [
      "Training until validation scores don't improve for 50 rounds\n",
      "[100]\tvalid_0's binary_logloss: 0.00127653\tvalid_1's binary_logloss: 0.00158012\n",
      "[200]\tvalid_0's binary_logloss: 0.000210262\tvalid_1's binary_logloss: 0.000843276\n",
      "[300]\tvalid_0's binary_logloss: 4.07185e-05\tvalid_1's binary_logloss: 0.000771222\n"
     ]
    },
    {
     "name": "stderr",
     "output_type": "stream",
     "text": [
      "\n",
      "\n",
      "num_leaves, val_score: 0.000770:  90%|############################################1    | 18/20 [22:49<02:37, 79.00s/it]\u001b[A\u001b[A\n",
      "\n",
      "num_leaves, val_score: 0.000770:  95%|##############################################5  | 19/20 [22:49<01:16, 76.73s/it]\u001b[A\u001b[A\u001b[32m[I 2021-07-28 14:45:43,932]\u001b[0m Trial 25 finished with value: 0.0007699720571471985 and parameters: {'num_leaves': 167}. Best is trial 10 with value: 0.0007699639134244352.\u001b[0m\n"
     ]
    },
    {
     "name": "stdout",
     "output_type": "stream",
     "text": [
      "Early stopping, best iteration is:\n",
      "[283]\tvalid_0's binary_logloss: 5.37936e-05\tvalid_1's binary_logloss: 0.000769972\n"
     ]
    },
    {
     "name": "stderr",
     "output_type": "stream",
     "text": [
      "\n",
      "\n",
      "num_leaves, val_score: 0.000770:  95%|##############################################5  | 19/20 [22:49<01:16, 76.73s/it]\u001b[A\u001b[A"
     ]
    },
    {
     "name": "stdout",
     "output_type": "stream",
     "text": [
      "Training until validation scores don't improve for 50 rounds\n",
      "[100]\tvalid_0's binary_logloss: 0.00124446\tvalid_1's binary_logloss: 0.00154991\n",
      "[200]\tvalid_0's binary_logloss: 0.000183924\tvalid_1's binary_logloss: 0.000840429\n",
      "[300]\tvalid_0's binary_logloss: 3.05146e-05\tvalid_1's binary_logloss: 0.0007925\n"
     ]
    },
    {
     "name": "stderr",
     "output_type": "stream",
     "text": [
      "\n",
      "\n",
      "num_leaves, val_score: 0.000770:  95%|##############################################5  | 19/20 [24:06<01:16, 76.73s/it]\u001b[A\u001b[A\n",
      "\n",
      "num_leaves, val_score: 0.000770: 100%|#################################################| 20/20 [24:06<00:00, 76.66s/it]\u001b[A\u001b[A\u001b[32m[I 2021-07-28 14:47:00,434]\u001b[0m Trial 26 finished with value: 0.0007865114658444183 and parameters: {'num_leaves': 212}. Best is trial 10 with value: 0.0007699639134244352.\u001b[0m\n"
     ]
    },
    {
     "name": "stdout",
     "output_type": "stream",
     "text": [
      "Early stopping, best iteration is:\n",
      "[276]\tvalid_0's binary_logloss: 4.68104e-05\tvalid_1's binary_logloss: 0.000786511\n"
     ]
    },
    {
     "name": "stderr",
     "output_type": "stream",
     "text": [
      "num_leaves, val_score: 0.000770: 100%|#################################################| 20/20 [24:06<00:00, 72.31s/it]\n",
      "\n",
      "\n",
      "  0%|                                                                                           | 0/10 [00:00<?, ?it/s]\u001b[A\u001b[A\n",
      "\n",
      "bagging, val_score: 0.000770:   0%|                                                             | 0/10 [00:00<?, ?it/s]\u001b[A\u001b[AC:\\Users\\BenJames\\anaconda3\\envs\\geospatial\\lib\\site-packages\\lightgbm\\engine.py:156: UserWarning: Found `early_stopping_round` in params. Will use it instead of argument\n",
      "  warnings.warn(\"Found `{}` in params. Will use it instead of argument\".format(alias))\n"
     ]
    },
    {
     "name": "stdout",
     "output_type": "stream",
     "text": [
      "optimum_params: {'num_leaves': 184}\n",
      "Training until validation scores don't improve for 50 rounds\n",
      "[100]\tvalid_0's binary_logloss: 0.0016504\tvalid_1's binary_logloss: 0.00184833\n",
      "[200]\tvalid_0's binary_logloss: 0.000459917\tvalid_1's binary_logloss: 0.00101466\n",
      "[300]\tvalid_0's binary_logloss: 0.000160689\tvalid_1's binary_logloss: 0.000834115\n",
      "[400]\tvalid_0's binary_logloss: 5.88827e-05\tvalid_1's binary_logloss: 0.000795607\n"
     ]
    },
    {
     "name": "stderr",
     "output_type": "stream",
     "text": [
      "\n",
      "\n",
      "bagging, val_score: 0.000770:   0%|                                                             | 0/10 [01:25<?, ?it/s]\u001b[A\u001b[A\n",
      "\n",
      "bagging, val_score: 0.000770:  10%|#####3                                               | 1/10 [01:25<12:51, 85.74s/it]\u001b[A\u001b[A\u001b[32m[I 2021-07-28 14:48:26,325]\u001b[0m Trial 27 finished with value: 0.0007938318150479686 and parameters: {'bagging_fraction': 0.5268352187964174, 'bagging_freq': 7}. Best is trial 27 with value: 0.0007938318150479686.\u001b[0m\n"
     ]
    },
    {
     "name": "stdout",
     "output_type": "stream",
     "text": [
      "Early stopping, best iteration is:\n",
      "[441]\tvalid_0's binary_logloss: 3.97225e-05\tvalid_1's binary_logloss: 0.000793832\n"
     ]
    },
    {
     "name": "stderr",
     "output_type": "stream",
     "text": [
      "\n",
      "\n",
      "bagging, val_score: 0.000770:  10%|#####3                                               | 1/10 [01:25<12:51, 85.74s/it]\u001b[A\u001b[A"
     ]
    },
    {
     "name": "stdout",
     "output_type": "stream",
     "text": [
      "Training until validation scores don't improve for 50 rounds\n",
      "[100]\tvalid_0's binary_logloss: 0.00140398\tvalid_1's binary_logloss: 0.00166669\n",
      "[200]\tvalid_0's binary_logloss: 0.000338792\tvalid_1's binary_logloss: 0.000910133\n",
      "[300]\tvalid_0's binary_logloss: 0.00010395\tvalid_1's binary_logloss: 0.000773357\n",
      "[400]\tvalid_0's binary_logloss: 3.43892e-05\tvalid_1's binary_logloss: 0.000765228\n"
     ]
    },
    {
     "name": "stderr",
     "output_type": "stream",
     "text": [
      "\n",
      "\n",
      "bagging, val_score: 0.000757:  10%|#####3                                               | 1/10 [02:36<12:51, 85.74s/it]\u001b[A\u001b[A\n",
      "\n",
      "bagging, val_score: 0.000757:  20%|##########6                                          | 2/10 [02:36<10:48, 81.12s/it]\u001b[A\u001b[A\u001b[32m[I 2021-07-28 14:49:36,663]\u001b[0m Trial 28 finished with value: 0.0007569221111741952 and parameters: {'bagging_fraction': 0.8758096854000372, 'bagging_freq': 1}. Best is trial 28 with value: 0.0007569221111741952.\u001b[0m\n"
     ]
    },
    {
     "name": "stdout",
     "output_type": "stream",
     "text": [
      "Early stopping, best iteration is:\n",
      "[356]\tvalid_0's binary_logloss: 5.56514e-05\tvalid_1's binary_logloss: 0.000756922\n"
     ]
    },
    {
     "name": "stderr",
     "output_type": "stream",
     "text": [
      "\n",
      "\n",
      "bagging, val_score: 0.000757:  20%|##########6                                          | 2/10 [02:36<10:48, 81.12s/it]\u001b[A\u001b[A"
     ]
    },
    {
     "name": "stdout",
     "output_type": "stream",
     "text": [
      "Training until validation scores don't improve for 50 rounds\n",
      "[100]\tvalid_0's binary_logloss: 0.00158894\tvalid_1's binary_logloss: 0.0018109\n",
      "[200]\tvalid_0's binary_logloss: 0.000431123\tvalid_1's binary_logloss: 0.000984859\n",
      "[300]\tvalid_0's binary_logloss: 0.000143484\tvalid_1's binary_logloss: 0.000816129\n",
      "[400]\tvalid_0's binary_logloss: 5.21867e-05\tvalid_1's binary_logloss: 0.000786018\n"
     ]
    },
    {
     "name": "stderr",
     "output_type": "stream",
     "text": [
      "\n",
      "\n",
      "bagging, val_score: 0.000757:  20%|##########6                                          | 2/10 [04:00<10:48, 81.12s/it]\u001b[A\u001b[A\n",
      "\n",
      "bagging, val_score: 0.000757:  30%|###############9                                     | 3/10 [04:00<09:35, 82.18s/it]\u001b[A\u001b[A\u001b[32m[I 2021-07-28 14:51:01,310]\u001b[0m Trial 29 finished with value: 0.0007847680252870811 and parameters: {'bagging_fraction': 0.5753061437474956, 'bagging_freq': 4}. Best is trial 28 with value: 0.0007569221111741952.\u001b[0m\n"
     ]
    },
    {
     "name": "stdout",
     "output_type": "stream",
     "text": [
      "Early stopping, best iteration is:\n",
      "[404]\tvalid_0's binary_logloss: 5.03548e-05\tvalid_1's binary_logloss: 0.000784768\n"
     ]
    },
    {
     "name": "stderr",
     "output_type": "stream",
     "text": [
      "\n",
      "\n",
      "bagging, val_score: 0.000757:  30%|###############9                                     | 3/10 [04:00<09:35, 82.18s/it]\u001b[A\u001b[A"
     ]
    },
    {
     "name": "stdout",
     "output_type": "stream",
     "text": [
      "Training until validation scores don't improve for 50 rounds\n",
      "[100]\tvalid_0's binary_logloss: 0.00158909\tvalid_1's binary_logloss: 0.00180729\n",
      "[200]\tvalid_0's binary_logloss: 0.000415343\tvalid_1's binary_logloss: 0.000973326\n",
      "[300]\tvalid_0's binary_logloss: 0.000136043\tvalid_1's binary_logloss: 0.000803556\n",
      "[400]\tvalid_0's binary_logloss: 4.89143e-05\tvalid_1's binary_logloss: 0.000778998\n"
     ]
    },
    {
     "name": "stderr",
     "output_type": "stream",
     "text": [
      "\n",
      "\n",
      "bagging, val_score: 0.000757:  30%|###############9                                     | 3/10 [05:17<09:35, 82.18s/it]\u001b[A\u001b[A\n",
      "\n",
      "bagging, val_score: 0.000757:  40%|#####################2                               | 4/10 [05:17<08:03, 80.56s/it]\u001b[A\u001b[A\u001b[32m[I 2021-07-28 14:52:18,095]\u001b[0m Trial 30 finished with value: 0.0007763700938266465 and parameters: {'bagging_fraction': 0.5990354141545398, 'bagging_freq': 1}. Best is trial 28 with value: 0.0007569221111741952.\u001b[0m\n"
     ]
    },
    {
     "name": "stdout",
     "output_type": "stream",
     "text": [
      "Early stopping, best iteration is:\n",
      "[395]\tvalid_0's binary_logloss: 5.14526e-05\tvalid_1's binary_logloss: 0.00077637\n"
     ]
    },
    {
     "name": "stderr",
     "output_type": "stream",
     "text": [
      "\n",
      "\n",
      "bagging, val_score: 0.000757:  40%|#####################2                               | 4/10 [05:17<08:03, 80.56s/it]\u001b[A\u001b[A"
     ]
    },
    {
     "name": "stdout",
     "output_type": "stream",
     "text": [
      "Training until validation scores don't improve for 50 rounds\n",
      "[100]\tvalid_0's binary_logloss: 0.00147169\tvalid_1's binary_logloss: 0.00170586\n",
      "[200]\tvalid_0's binary_logloss: 0.000376594\tvalid_1's binary_logloss: 0.000944276\n",
      "[300]\tvalid_0's binary_logloss: 0.000116755\tvalid_1's binary_logloss: 0.000787705\n",
      "[400]\tvalid_0's binary_logloss: 3.99156e-05\tvalid_1's binary_logloss: 0.00077212\n"
     ]
    },
    {
     "name": "stderr",
     "output_type": "stream",
     "text": [
      "\n",
      "\n",
      "bagging, val_score: 0.000757:  40%|#####################2                               | 4/10 [06:42<08:03, 80.56s/it]\u001b[A\u001b[A\n",
      "\n",
      "bagging, val_score: 0.000757:  50%|##########################5                          | 5/10 [06:42<06:48, 81.78s/it]\u001b[A\u001b[A\u001b[32m[I 2021-07-28 14:53:42,730]\u001b[0m Trial 31 finished with value: 0.0007721200625846189 and parameters: {'bagging_fraction': 0.7334940767271412, 'bagging_freq': 2}. Best is trial 28 with value: 0.0007569221111741952.\u001b[0m\n"
     ]
    },
    {
     "name": "stdout",
     "output_type": "stream",
     "text": [
      "Early stopping, best iteration is:\n",
      "[400]\tvalid_0's binary_logloss: 3.99156e-05\tvalid_1's binary_logloss: 0.00077212\n"
     ]
    },
    {
     "name": "stderr",
     "output_type": "stream",
     "text": [
      "\n",
      "\n",
      "bagging, val_score: 0.000757:  50%|##########################5                          | 5/10 [06:42<06:48, 81.78s/it]\u001b[A\u001b[A"
     ]
    },
    {
     "name": "stdout",
     "output_type": "stream",
     "text": [
      "Training until validation scores don't improve for 50 rounds\n",
      "[100]\tvalid_0's binary_logloss: 0.00162178\tvalid_1's binary_logloss: 0.00183069\n",
      "[200]\tvalid_0's binary_logloss: 0.0004404\tvalid_1's binary_logloss: 0.00100398\n",
      "[300]\tvalid_0's binary_logloss: 0.000149405\tvalid_1's binary_logloss: 0.000824888\n",
      "[400]\tvalid_0's binary_logloss: 5.45308e-05\tvalid_1's binary_logloss: 0.000791616\n"
     ]
    },
    {
     "name": "stderr",
     "output_type": "stream",
     "text": [
      "\n",
      "\n",
      "bagging, val_score: 0.000757:  50%|##########################5                          | 5/10 [08:03<06:48, 81.78s/it]\u001b[A\u001b[A\n",
      "\n",
      "bagging, val_score: 0.000757:  60%|###############################8                     | 6/10 [08:03<05:26, 81.54s/it]\u001b[A\u001b[A\u001b[32m[I 2021-07-28 14:55:03,692]\u001b[0m Trial 32 finished with value: 0.0007916155913446138 and parameters: {'bagging_fraction': 0.5526974794063729, 'bagging_freq': 3}. Best is trial 28 with value: 0.0007569221111741952.\u001b[0m\n"
     ]
    },
    {
     "name": "stdout",
     "output_type": "stream",
     "text": [
      "Early stopping, best iteration is:\n",
      "[400]\tvalid_0's binary_logloss: 5.45308e-05\tvalid_1's binary_logloss: 0.000791616\n"
     ]
    },
    {
     "name": "stderr",
     "output_type": "stream",
     "text": [
      "\n",
      "\n",
      "bagging, val_score: 0.000757:  60%|###############################8                     | 6/10 [08:03<05:26, 81.54s/it]\u001b[A\u001b[A"
     ]
    },
    {
     "name": "stdout",
     "output_type": "stream",
     "text": [
      "Training until validation scores don't improve for 50 rounds\n",
      "[100]\tvalid_0's binary_logloss: 0.00167487\tvalid_1's binary_logloss: 0.00187928\n",
      "[200]\tvalid_0's binary_logloss: 0.000469504\tvalid_1's binary_logloss: 0.00102028\n",
      "[300]\tvalid_0's binary_logloss: 0.000165833\tvalid_1's binary_logloss: 0.000841759\n",
      "[400]\tvalid_0's binary_logloss: 6.39022e-05\tvalid_1's binary_logloss: 0.000808385\n"
     ]
    },
    {
     "name": "stderr",
     "output_type": "stream",
     "text": [
      "\n",
      "\n",
      "bagging, val_score: 0.000757:  60%|###############################8                     | 6/10 [09:24<05:26, 81.54s/it]\u001b[A\u001b[A\n",
      "\n",
      "bagging, val_score: 0.000757:  70%|#####################################                | 7/10 [09:24<04:04, 81.62s/it]\u001b[A\u001b[A\u001b[32m[I 2021-07-28 14:56:25,510]\u001b[0m Trial 33 finished with value: 0.0008000902772733772 and parameters: {'bagging_fraction': 0.4959444935134596, 'bagging_freq': 4}. Best is trial 28 with value: 0.0007569221111741952.\u001b[0m\n"
     ]
    },
    {
     "name": "stdout",
     "output_type": "stream",
     "text": [
      "Early stopping, best iteration is:\n",
      "[430]\tvalid_0's binary_logloss: 4.83427e-05\tvalid_1's binary_logloss: 0.00080009\n"
     ]
    },
    {
     "name": "stderr",
     "output_type": "stream",
     "text": [
      "\n",
      "\n",
      "bagging, val_score: 0.000757:  70%|#####################################                | 7/10 [09:25<04:04, 81.62s/it]\u001b[A\u001b[A"
     ]
    },
    {
     "name": "stdout",
     "output_type": "stream",
     "text": [
      "Training until validation scores don't improve for 50 rounds\n",
      "[100]\tvalid_0's binary_logloss: 0.00143772\tvalid_1's binary_logloss: 0.00167884\n",
      "[200]\tvalid_0's binary_logloss: 0.000362164\tvalid_1's binary_logloss: 0.000932025\n",
      "[300]\tvalid_0's binary_logloss: 0.000111064\tvalid_1's binary_logloss: 0.000789736\n",
      "[400]\tvalid_0's binary_logloss: 3.70198e-05\tvalid_1's binary_logloss: 0.000785046\n"
     ]
    },
    {
     "name": "stderr",
     "output_type": "stream",
     "text": [
      "\n",
      "\n",
      "bagging, val_score: 0.000757:  70%|#####################################                | 7/10 [10:45<04:04, 81.62s/it]\u001b[A\u001b[A\n",
      "\n",
      "bagging, val_score: 0.000757:  80%|##########################################4          | 8/10 [10:45<02:42, 81.19s/it]\u001b[A\u001b[A\u001b[32m[I 2021-07-28 14:57:45,691]\u001b[0m Trial 34 finished with value: 0.0007698310227684396 and parameters: {'bagging_fraction': 0.7978110707140194, 'bagging_freq': 6}. Best is trial 28 with value: 0.0007569221111741952.\u001b[0m\n"
     ]
    },
    {
     "name": "stdout",
     "output_type": "stream",
     "text": [
      "Early stopping, best iteration is:\n",
      "[352]\tvalid_0's binary_logloss: 6.20108e-05\tvalid_1's binary_logloss: 0.000769831\n"
     ]
    },
    {
     "name": "stderr",
     "output_type": "stream",
     "text": [
      "\n",
      "\n",
      "bagging, val_score: 0.000757:  80%|##########################################4          | 8/10 [10:45<02:42, 81.19s/it]\u001b[A\u001b[A"
     ]
    },
    {
     "name": "stdout",
     "output_type": "stream",
     "text": [
      "Training until validation scores don't improve for 50 rounds\n",
      "[100]\tvalid_0's binary_logloss: 0.00143546\tvalid_1's binary_logloss: 0.00168199\n",
      "[200]\tvalid_0's binary_logloss: 0.000365384\tvalid_1's binary_logloss: 0.000946863\n",
      "[300]\tvalid_0's binary_logloss: 0.000112391\tvalid_1's binary_logloss: 0.000796313\n",
      "[400]\tvalid_0's binary_logloss: 3.69982e-05\tvalid_1's binary_logloss: 0.000780364\n"
     ]
    },
    {
     "name": "stderr",
     "output_type": "stream",
     "text": [
      "\n",
      "\n",
      "bagging, val_score: 0.000757:  80%|##########################################4          | 8/10 [12:08<02:42, 81.19s/it]\u001b[A\u001b[A\n",
      "\n",
      "bagging, val_score: 0.000757:  90%|###############################################7     | 9/10 [12:08<01:21, 81.93s/it]\u001b[A\u001b[A\u001b[32m[I 2021-07-28 14:59:09,352]\u001b[0m Trial 35 finished with value: 0.0007711401169968827 and parameters: {'bagging_fraction': 0.825761952047465, 'bagging_freq': 4}. Best is trial 28 with value: 0.0007569221111741952.\u001b[0m\n"
     ]
    },
    {
     "name": "stdout",
     "output_type": "stream",
     "text": [
      "Early stopping, best iteration is:\n",
      "[360]\tvalid_0's binary_logloss: 5.75796e-05\tvalid_1's binary_logloss: 0.00077114\n"
     ]
    },
    {
     "name": "stderr",
     "output_type": "stream",
     "text": [
      "\n",
      "\n",
      "bagging, val_score: 0.000757:  90%|###############################################7     | 9/10 [12:08<01:21, 81.93s/it]\u001b[A\u001b[A"
     ]
    },
    {
     "name": "stdout",
     "output_type": "stream",
     "text": [
      "Training until validation scores don't improve for 50 rounds\n",
      "[100]\tvalid_0's binary_logloss: 0.00135682\tvalid_1's binary_logloss: 0.00162306\n",
      "[200]\tvalid_0's binary_logloss: 0.000335467\tvalid_1's binary_logloss: 0.000904886\n",
      "[300]\tvalid_0's binary_logloss: 0.000104125\tvalid_1's binary_logloss: 0.000782109\n"
     ]
    },
    {
     "name": "stderr",
     "output_type": "stream",
     "text": [
      "\n",
      "\n",
      "bagging, val_score: 0.000757:  90%|###############################################7     | 9/10 [13:28<01:21, 81.93s/it]\u001b[A\u001b[A\n",
      "\n",
      "bagging, val_score: 0.000757: 100%|####################################################| 10/10 [13:28<00:00, 81.34s/it]\u001b[A\u001b[A\u001b[32m[I 2021-07-28 15:00:29,313]\u001b[0m Trial 36 finished with value: 0.0007766571573392298 and parameters: {'bagging_fraction': 0.9978147288309993, 'bagging_freq': 2}. Best is trial 28 with value: 0.0007569221111741952.\u001b[0m\n"
     ]
    },
    {
     "name": "stdout",
     "output_type": "stream",
     "text": [
      "Early stopping, best iteration is:\n",
      "[309]\tvalid_0's binary_logloss: 9.44555e-05\tvalid_1's binary_logloss: 0.000776657\n"
     ]
    },
    {
     "name": "stderr",
     "output_type": "stream",
     "text": [
      "bagging, val_score: 0.000757: 100%|####################################################| 10/10 [13:28<00:00, 80.89s/it]\n",
      "\n",
      "\n",
      "  0%|                                                                                            | 0/6 [00:00<?, ?it/s]\u001b[A\u001b[A\n",
      "\n",
      "feature_fraction_stage2, val_score: 0.000757:   0%|                                              | 0/6 [00:00<?, ?it/s]\u001b[A\u001b[AC:\\Users\\BenJames\\anaconda3\\envs\\geospatial\\lib\\site-packages\\lightgbm\\engine.py:156: UserWarning: Found `early_stopping_round` in params. Will use it instead of argument\n",
      "  warnings.warn(\"Found `{}` in params. Will use it instead of argument\".format(alias))\n"
     ]
    },
    {
     "name": "stdout",
     "output_type": "stream",
     "text": [
      "optimum_params: {'num_leaves': 184}\n",
      "Training until validation scores don't improve for 50 rounds\n",
      "[100]\tvalid_0's binary_logloss: 0.00138273\tvalid_1's binary_logloss: 0.00164203\n",
      "[200]\tvalid_0's binary_logloss: 0.000327012\tvalid_1's binary_logloss: 0.000912572\n",
      "[300]\tvalid_0's binary_logloss: 9.84505e-05\tvalid_1's binary_logloss: 0.000776553\n"
     ]
    },
    {
     "name": "stderr",
     "output_type": "stream",
     "text": [
      "\n",
      "\n",
      "feature_fraction_stage2, val_score: 0.000757:   0%|                                              | 0/6 [01:07<?, ?it/s]\u001b[A\u001b[A\n",
      "\n",
      "feature_fraction_stage2, val_score: 0.000757:  17%|######3                               | 1/6 [01:07<05:36, 67.30s/it]\u001b[A\u001b[A\u001b[32m[I 2021-07-28 15:01:36,752]\u001b[0m Trial 37 finished with value: 0.0007703317804169656 and parameters: {'feature_fraction': 0.58}. Best is trial 37 with value: 0.0007703317804169656.\u001b[0m\n"
     ]
    },
    {
     "name": "stdout",
     "output_type": "stream",
     "text": [
      "Early stopping, best iteration is:\n",
      "[334]\tvalid_0's binary_logloss: 6.71406e-05\tvalid_1's binary_logloss: 0.000770332\n"
     ]
    },
    {
     "name": "stderr",
     "output_type": "stream",
     "text": [
      "\n",
      "\n",
      "feature_fraction_stage2, val_score: 0.000757:  17%|######3                               | 1/6 [01:07<05:36, 67.30s/it]\u001b[A\u001b[A"
     ]
    },
    {
     "name": "stdout",
     "output_type": "stream",
     "text": [
      "Training until validation scores don't improve for 50 rounds\n",
      "[100]\tvalid_0's binary_logloss: 0.00149233\tvalid_1's binary_logloss: 0.00175269\n",
      "[200]\tvalid_0's binary_logloss: 0.000393955\tvalid_1's binary_logloss: 0.000961623\n",
      "[300]\tvalid_0's binary_logloss: 0.000124477\tvalid_1's binary_logloss: 0.000793587\n",
      "[400]\tvalid_0's binary_logloss: 4.35378e-05\tvalid_1's binary_logloss: 0.000768203\n"
     ]
    },
    {
     "name": "stderr",
     "output_type": "stream",
     "text": [
      "\n",
      "\n",
      "feature_fraction_stage2, val_score: 0.000757:  17%|######3                               | 1/6 [02:29<05:36, 67.30s/it]\u001b[A\u001b[A\n",
      "\n",
      "feature_fraction_stage2, val_score: 0.000757:  33%|############6                         | 2/6 [02:29<04:47, 71.83s/it]\u001b[A\u001b[A\u001b[32m[I 2021-07-28 15:02:59,154]\u001b[0m Trial 38 finished with value: 0.0007651601947397088 and parameters: {'feature_fraction': 0.42}. Best is trial 38 with value: 0.0007651601947397088.\u001b[0m\n"
     ]
    },
    {
     "name": "stdout",
     "output_type": "stream",
     "text": [
      "Early stopping, best iteration is:\n",
      "[382]\tvalid_0's binary_logloss: 5.23629e-05\tvalid_1's binary_logloss: 0.00076516\n"
     ]
    },
    {
     "name": "stderr",
     "output_type": "stream",
     "text": [
      "\n",
      "\n",
      "feature_fraction_stage2, val_score: 0.000757:  33%|############6                         | 2/6 [02:29<04:47, 71.83s/it]\u001b[A\u001b[A"
     ]
    },
    {
     "name": "stdout",
     "output_type": "stream",
     "text": [
      "Training until validation scores don't improve for 50 rounds\n",
      "[100]\tvalid_0's binary_logloss: 0.00140398\tvalid_1's binary_logloss: 0.00166669\n",
      "[200]\tvalid_0's binary_logloss: 0.000338792\tvalid_1's binary_logloss: 0.000910133\n",
      "[300]\tvalid_0's binary_logloss: 0.00010395\tvalid_1's binary_logloss: 0.000773353\n",
      "[400]\tvalid_0's binary_logloss: 3.43892e-05\tvalid_1's binary_logloss: 0.000765226\n"
     ]
    },
    {
     "name": "stderr",
     "output_type": "stream",
     "text": [
      "\n",
      "\n",
      "feature_fraction_stage2, val_score: 0.000757:  33%|############6                         | 2/6 [03:49<04:47, 71.83s/it]\u001b[A\u001b[A\n",
      "\n",
      "feature_fraction_stage2, val_score: 0.000757:  50%|###################                   | 3/6 [03:49<03:42, 74.26s/it]\u001b[A\u001b[A\u001b[32m[I 2021-07-28 15:04:19,087]\u001b[0m Trial 39 finished with value: 0.0007569194854805929 and parameters: {'feature_fraction': 0.516}. Best is trial 39 with value: 0.0007569194854805929.\u001b[0m\n"
     ]
    },
    {
     "name": "stdout",
     "output_type": "stream",
     "text": [
      "Early stopping, best iteration is:\n",
      "[356]\tvalid_0's binary_logloss: 5.56514e-05\tvalid_1's binary_logloss: 0.000756919\n"
     ]
    },
    {
     "name": "stderr",
     "output_type": "stream",
     "text": [
      "\n",
      "\n",
      "feature_fraction_stage2, val_score: 0.000757:  50%|###################                   | 3/6 [03:49<03:42, 74.26s/it]\u001b[A\u001b[A"
     ]
    },
    {
     "name": "stdout",
     "output_type": "stream",
     "text": [
      "Training until validation scores don't improve for 50 rounds\n",
      "[100]\tvalid_0's binary_logloss: 0.00138273\tvalid_1's binary_logloss: 0.00164203\n",
      "[200]\tvalid_0's binary_logloss: 0.000327012\tvalid_1's binary_logloss: 0.000912572\n",
      "[300]\tvalid_0's binary_logloss: 9.84505e-05\tvalid_1's binary_logloss: 0.000776553\n"
     ]
    },
    {
     "name": "stderr",
     "output_type": "stream",
     "text": [
      "\n",
      "\n",
      "feature_fraction_stage2, val_score: 0.000757:  50%|###################                   | 3/6 [05:04<03:42, 74.26s/it]\u001b[A\u001b[A\n",
      "\n",
      "feature_fraction_stage2, val_score: 0.000757:  67%|#########################3            | 4/6 [05:04<02:29, 74.55s/it]\u001b[A\u001b[A\u001b[32m[I 2021-07-28 15:05:34,324]\u001b[0m Trial 40 finished with value: 0.0007703317176610862 and parameters: {'feature_fraction': 0.5479999999999999}. Best is trial 39 with value: 0.0007569194854805929.\u001b[0m\n"
     ]
    },
    {
     "name": "stdout",
     "output_type": "stream",
     "text": [
      "Early stopping, best iteration is:\n",
      "[334]\tvalid_0's binary_logloss: 6.71405e-05\tvalid_1's binary_logloss: 0.000770332\n"
     ]
    },
    {
     "name": "stderr",
     "output_type": "stream",
     "text": [
      "\n",
      "\n",
      "feature_fraction_stage2, val_score: 0.000757:  67%|#########################3            | 4/6 [05:05<02:29, 74.55s/it]\u001b[A\u001b[A"
     ]
    },
    {
     "name": "stdout",
     "output_type": "stream",
     "text": [
      "Training until validation scores don't improve for 50 rounds\n",
      "[100]\tvalid_0's binary_logloss: 0.00149233\tvalid_1's binary_logloss: 0.00175269\n",
      "[200]\tvalid_0's binary_logloss: 0.000393955\tvalid_1's binary_logloss: 0.000961623\n",
      "[300]\tvalid_0's binary_logloss: 0.000124477\tvalid_1's binary_logloss: 0.000793587\n",
      "[400]\tvalid_0's binary_logloss: 4.35378e-05\tvalid_1's binary_logloss: 0.000768203\n"
     ]
    },
    {
     "name": "stderr",
     "output_type": "stream",
     "text": [
      "\n",
      "\n",
      "feature_fraction_stage2, val_score: 0.000757:  67%|#########################3            | 4/6 [06:27<02:29, 74.55s/it]\u001b[A\u001b[A\n",
      "\n",
      "feature_fraction_stage2, val_score: 0.000757:  83%|###############################6      | 5/6 [06:27<01:17, 77.02s/it]\u001b[A\u001b[A\u001b[32m[I 2021-07-28 15:06:57,085]\u001b[0m Trial 41 finished with value: 0.0007651601947397088 and parameters: {'feature_fraction': 0.45199999999999996}. Best is trial 39 with value: 0.0007569194854805929.\u001b[0m\n"
     ]
    },
    {
     "name": "stdout",
     "output_type": "stream",
     "text": [
      "Early stopping, best iteration is:\n",
      "[382]\tvalid_0's binary_logloss: 5.23629e-05\tvalid_1's binary_logloss: 0.00076516\n"
     ]
    },
    {
     "name": "stderr",
     "output_type": "stream",
     "text": [
      "\n",
      "\n",
      "feature_fraction_stage2, val_score: 0.000757:  83%|###############################6      | 5/6 [06:27<01:17, 77.02s/it]\u001b[A\u001b[A"
     ]
    },
    {
     "name": "stdout",
     "output_type": "stream",
     "text": [
      "Training until validation scores don't improve for 50 rounds\n",
      "[100]\tvalid_0's binary_logloss: 0.00143562\tvalid_1's binary_logloss: 0.00170229\n",
      "[200]\tvalid_0's binary_logloss: 0.000364626\tvalid_1's binary_logloss: 0.000943141\n",
      "[300]\tvalid_0's binary_logloss: 0.000112607\tvalid_1's binary_logloss: 0.000784207\n",
      "[400]\tvalid_0's binary_logloss: 3.82044e-05\tvalid_1's binary_logloss: 0.000772253\n"
     ]
    },
    {
     "name": "stderr",
     "output_type": "stream",
     "text": [
      "\n",
      "\n",
      "feature_fraction_stage2, val_score: 0.000757:  83%|###############################6      | 5/6 [07:39<01:17, 77.02s/it]\u001b[A\u001b[A\n",
      "\n",
      "feature_fraction_stage2, val_score: 0.000757: 100%|######################################| 6/6 [07:39<00:00, 75.53s/it]\u001b[A\u001b[A\u001b[32m[I 2021-07-28 15:08:09,159]\u001b[0m Trial 42 finished with value: 0.0007671941620007856 and parameters: {'feature_fraction': 0.484}. Best is trial 39 with value: 0.0007569194854805929.\u001b[0m\n"
     ]
    },
    {
     "name": "stdout",
     "output_type": "stream",
     "text": [
      "Early stopping, best iteration is:\n",
      "[364]\tvalid_0's binary_logloss: 5.62205e-05\tvalid_1's binary_logloss: 0.000767194\n"
     ]
    },
    {
     "name": "stderr",
     "output_type": "stream",
     "text": [
      "feature_fraction_stage2, val_score: 0.000757: 100%|######################################| 6/6 [07:39<00:00, 76.64s/it]\n",
      "\n",
      "\n",
      "  0%|                                                                                           | 0/20 [00:00<?, ?it/s]\u001b[A\u001b[A\n",
      "\n",
      "regularization_factors, val_score: 0.000757:   0%|                                              | 0/20 [00:00<?, ?it/s]\u001b[A\u001b[AC:\\Users\\BenJames\\anaconda3\\envs\\geospatial\\lib\\site-packages\\lightgbm\\engine.py:156: UserWarning: Found `early_stopping_round` in params. Will use it instead of argument\n",
      "  warnings.warn(\"Found `{}` in params. Will use it instead of argument\".format(alias))\n"
     ]
    },
    {
     "name": "stdout",
     "output_type": "stream",
     "text": [
      "optimum_params: {'num_leaves': 184}\n",
      "Training until validation scores don't improve for 50 rounds\n",
      "[100]\tvalid_0's binary_logloss: 0.00139628\tvalid_1's binary_logloss: 0.00165692\n",
      "[200]\tvalid_0's binary_logloss: 0.000341144\tvalid_1's binary_logloss: 0.000926509\n",
      "[300]\tvalid_0's binary_logloss: 0.00010475\tvalid_1's binary_logloss: 0.000796081\n",
      "[400]\tvalid_0's binary_logloss: 3.60949e-05\tvalid_1's binary_logloss: 0.000790818\n"
     ]
    },
    {
     "name": "stderr",
     "output_type": "stream",
     "text": [
      "\n",
      "\n",
      "regularization_factors, val_score: 0.000757:   0%|                                              | 0/20 [01:11<?, ?it/s]\u001b[A\u001b[A\n",
      "\n",
      "regularization_factors, val_score: 0.000757:   5%|#9                                    | 1/20 [01:11<22:42, 71.69s/it]\u001b[A\u001b[A\u001b[32m[I 2021-07-28 15:09:20,996]\u001b[0m Trial 43 finished with value: 0.000782786777640051 and parameters: {'lambda_l1': 3.51668440765103e-07, 'lambda_l2': 0.02587533362944755}. Best is trial 43 with value: 0.000782786777640051.\u001b[0m\n"
     ]
    },
    {
     "name": "stdout",
     "output_type": "stream",
     "text": [
      "Early stopping, best iteration is:\n",
      "[360]\tvalid_0's binary_logloss: 5.48294e-05\tvalid_1's binary_logloss: 0.000782787\n"
     ]
    },
    {
     "name": "stderr",
     "output_type": "stream",
     "text": [
      "\n",
      "\n",
      "regularization_factors, val_score: 0.000757:   5%|#9                                    | 1/20 [01:11<22:42, 71.69s/it]\u001b[A\u001b[A"
     ]
    },
    {
     "name": "stdout",
     "output_type": "stream",
     "text": [
      "Training until validation scores don't improve for 50 rounds\n",
      "[100]\tvalid_0's binary_logloss: 0.00152501\tvalid_1's binary_logloss: 0.00175922\n",
      "[200]\tvalid_0's binary_logloss: 0.00049271\tvalid_1's binary_logloss: 0.0009996\n",
      "[300]\tvalid_0's binary_logloss: 0.000213094\tvalid_1's binary_logloss: 0.000827871\n",
      "[400]\tvalid_0's binary_logloss: 0.000115007\tvalid_1's binary_logloss: 0.000775583\n",
      "[500]\tvalid_0's binary_logloss: 7.15666e-05\tvalid_1's binary_logloss: 0.000760836\n"
     ]
    },
    {
     "name": "stderr",
     "output_type": "stream",
     "text": [
      "\n",
      "\n",
      "regularization_factors, val_score: 0.000757:   5%|#9                                    | 1/20 [03:04<22:42, 71.69s/it]\u001b[A\u001b[A\n",
      "\n",
      "regularization_factors, val_score: 0.000757:  10%|###8                                  | 2/20 [03:04<25:10, 83.89s/it]\u001b[A\u001b[A"
     ]
    },
    {
     "name": "stdout",
     "output_type": "stream",
     "text": [
      "Early stopping, best iteration is:\n",
      "[535]\tvalid_0's binary_logloss: 6.21949e-05\tvalid_1's binary_logloss: 0.000758969\n"
     ]
    },
    {
     "name": "stderr",
     "output_type": "stream",
     "text": [
      "\u001b[32m[I 2021-07-28 15:11:13,364]\u001b[0m Trial 44 finished with value: 0.0007589691995811365 and parameters: {'lambda_l1': 4.162632964854932e-07, 'lambda_l2': 2.5609036976972757}. Best is trial 44 with value: 0.0007589691995811365.\u001b[0m\n",
      "\n",
      "\n",
      "regularization_factors, val_score: 0.000757:  10%|###8                                  | 2/20 [03:04<25:10, 83.89s/it]\u001b[A\u001b[A"
     ]
    },
    {
     "name": "stdout",
     "output_type": "stream",
     "text": [
      "Training until validation scores don't improve for 50 rounds\n",
      "[100]\tvalid_0's binary_logloss: 0.00140227\tvalid_1's binary_logloss: 0.00166756\n",
      "[200]\tvalid_0's binary_logloss: 0.000348591\tvalid_1's binary_logloss: 0.000932616\n",
      "[300]\tvalid_0's binary_logloss: 0.000106043\tvalid_1's binary_logloss: 0.000798721\n",
      "[400]\tvalid_0's binary_logloss: 3.52976e-05\tvalid_1's binary_logloss: 0.000794223\n"
     ]
    },
    {
     "name": "stderr",
     "output_type": "stream",
     "text": [
      "\n",
      "\n",
      "regularization_factors, val_score: 0.000757:  10%|###8                                  | 2/20 [04:23<25:10, 83.89s/it]\u001b[A\u001b[A\n",
      "\n",
      "regularization_factors, val_score: 0.000757:  15%|#####7                                | 3/20 [04:23<23:23, 82.57s/it]\u001b[A\u001b[A\u001b[32m[I 2021-07-28 15:12:32,830]\u001b[0m Trial 45 finished with value: 0.000785786608622623 and parameters: {'lambda_l1': 0.000362887431223156, 'lambda_l2': 1.0501133709110439e-05}. Best is trial 44 with value: 0.0007589691995811365.\u001b[0m\n"
     ]
    },
    {
     "name": "stdout",
     "output_type": "stream",
     "text": [
      "Early stopping, best iteration is:\n",
      "[355]\tvalid_0's binary_logloss: 5.80041e-05\tvalid_1's binary_logloss: 0.000785787\n"
     ]
    },
    {
     "name": "stderr",
     "output_type": "stream",
     "text": [
      "\n",
      "\n",
      "regularization_factors, val_score: 0.000757:  15%|#####7                                | 3/20 [04:23<23:23, 82.57s/it]\u001b[A\u001b[A"
     ]
    },
    {
     "name": "stdout",
     "output_type": "stream",
     "text": [
      "Training until validation scores don't improve for 50 rounds\n",
      "[100]\tvalid_0's binary_logloss: 0.00140398\tvalid_1's binary_logloss: 0.00166669\n",
      "[200]\tvalid_0's binary_logloss: 0.000338794\tvalid_1's binary_logloss: 0.000910133\n",
      "[300]\tvalid_0's binary_logloss: 0.000103951\tvalid_1's binary_logloss: 0.000773353\n",
      "[400]\tvalid_0's binary_logloss: 3.42332e-05\tvalid_1's binary_logloss: 0.000762052\n"
     ]
    },
    {
     "name": "stderr",
     "output_type": "stream",
     "text": [
      "\n",
      "\n",
      "regularization_factors, val_score: 0.000757:  15%|#####7                                | 3/20 [05:43<23:23, 82.57s/it]\u001b[A\u001b[A\n",
      "\n",
      "regularization_factors, val_score: 0.000757:  20%|#######6                              | 4/20 [05:43<21:49, 81.86s/it]\u001b[A\u001b[A\u001b[32m[I 2021-07-28 15:13:53,040]\u001b[0m Trial 46 finished with value: 0.0007569189828498333 and parameters: {'lambda_l1': 1.0896980471614486e-06, 'lambda_l2': 1.0594474167420183e-05}. Best is trial 46 with value: 0.0007569189828498333.\u001b[0m\n"
     ]
    },
    {
     "name": "stdout",
     "output_type": "stream",
     "text": [
      "Early stopping, best iteration is:\n",
      "[356]\tvalid_0's binary_logloss: 5.56525e-05\tvalid_1's binary_logloss: 0.000756919\n"
     ]
    },
    {
     "name": "stderr",
     "output_type": "stream",
     "text": [
      "\n",
      "\n",
      "regularization_factors, val_score: 0.000757:  20%|#######6                              | 4/20 [05:43<21:49, 81.86s/it]\u001b[A\u001b[A"
     ]
    },
    {
     "name": "stdout",
     "output_type": "stream",
     "text": [
      "Training until validation scores don't improve for 50 rounds\n",
      "[100]\tvalid_0's binary_logloss: 0.00140047\tvalid_1's binary_logloss: 0.00165781\n",
      "[200]\tvalid_0's binary_logloss: 0.000334773\tvalid_1's binary_logloss: 0.000911811\n",
      "[300]\tvalid_0's binary_logloss: 0.000103271\tvalid_1's binary_logloss: 0.00078173\n"
     ]
    },
    {
     "name": "stderr",
     "output_type": "stream",
     "text": [
      "\n",
      "\n",
      "regularization_factors, val_score: 0.000757:  20%|#######6                              | 4/20 [06:58<21:49, 81.86s/it]\u001b[A\u001b[A\n",
      "\n",
      "regularization_factors, val_score: 0.000757:  25%|#########5                            | 5/20 [06:58<19:54, 79.66s/it]\u001b[A\u001b[A\u001b[32m[I 2021-07-28 15:15:07,557]\u001b[0m Trial 47 finished with value: 0.0007706931130662689 and parameters: {'lambda_l1': 0.00018880551288929219, 'lambda_l2': 6.23813558910081e-08}. Best is trial 46 with value: 0.0007569189828498333.\u001b[0m\n"
     ]
    },
    {
     "name": "stdout",
     "output_type": "stream",
     "text": [
      "Early stopping, best iteration is:\n",
      "[329]\tvalid_0's binary_logloss: 7.49892e-05\tvalid_1's binary_logloss: 0.000770693\n"
     ]
    },
    {
     "name": "stderr",
     "output_type": "stream",
     "text": [
      "\n",
      "\n",
      "regularization_factors, val_score: 0.000757:  25%|#########5                            | 5/20 [06:58<19:54, 79.66s/it]\u001b[A\u001b[A"
     ]
    },
    {
     "name": "stdout",
     "output_type": "stream",
     "text": [
      "Training until validation scores don't improve for 50 rounds\n",
      "[100]\tvalid_0's binary_logloss: 0.00140398\tvalid_1's binary_logloss: 0.00166669\n",
      "[200]\tvalid_0's binary_logloss: 0.000338796\tvalid_1's binary_logloss: 0.000910135\n",
      "[300]\tvalid_0's binary_logloss: 0.000103954\tvalid_1's binary_logloss: 0.000769284\n",
      "[400]\tvalid_0's binary_logloss: 3.48322e-05\tvalid_1's binary_logloss: 0.000761134\n"
     ]
    },
    {
     "name": "stderr",
     "output_type": "stream",
     "text": [
      "\n",
      "\n",
      "regularization_factors, val_score: 0.000756:  25%|#########5                            | 5/20 [08:20<19:54, 79.66s/it]\u001b[A\u001b[A\n",
      "\n",
      "regularization_factors, val_score: 0.000756:  30%|###########4                          | 6/20 [08:20<18:47, 80.52s/it]\u001b[A\u001b[A\u001b[32m[I 2021-07-28 15:16:30,088]\u001b[0m Trial 48 finished with value: 0.0007562520602627266 and parameters: {'lambda_l1': 3.877153099915766e-05, 'lambda_l2': 9.477992495644035e-07}. Best is trial 48 with value: 0.0007562520602627266.\u001b[0m\n"
     ]
    },
    {
     "name": "stdout",
     "output_type": "stream",
     "text": [
      "Early stopping, best iteration is:\n",
      "[356]\tvalid_0's binary_logloss: 5.64747e-05\tvalid_1's binary_logloss: 0.000756252\n"
     ]
    },
    {
     "name": "stderr",
     "output_type": "stream",
     "text": [
      "\n",
      "\n",
      "regularization_factors, val_score: 0.000756:  30%|###########4                          | 6/20 [08:20<18:47, 80.52s/it]\u001b[A\u001b[A"
     ]
    },
    {
     "name": "stdout",
     "output_type": "stream",
     "text": [
      "Training until validation scores don't improve for 50 rounds\n",
      "[100]\tvalid_0's binary_logloss: 0.00140888\tvalid_1's binary_logloss: 0.00166119\n",
      "[200]\tvalid_0's binary_logloss: 0.000345397\tvalid_1's binary_logloss: 0.00092238\n",
      "[300]\tvalid_0's binary_logloss: 0.000109173\tvalid_1's binary_logloss: 0.000789673\n",
      "[400]\tvalid_0's binary_logloss: 3.97435e-05\tvalid_1's binary_logloss: 0.000773715\n"
     ]
    },
    {
     "name": "stderr",
     "output_type": "stream",
     "text": [
      "\n",
      "\n",
      "regularization_factors, val_score: 0.000756:  30%|###########4                          | 6/20 [09:43<18:47, 80.52s/it]\u001b[A\u001b[A\n",
      "\n",
      "regularization_factors, val_score: 0.000756:  35%|#############3                        | 7/20 [09:43<17:34, 81.09s/it]\u001b[A\u001b[A\u001b[32m[I 2021-07-28 15:17:52,503]\u001b[0m Trial 49 finished with value: 0.0007690179402578316 and parameters: {'lambda_l1': 0.0559425535805288, 'lambda_l2': 0.0020098856263118707}. Best is trial 48 with value: 0.0007562520602627266.\u001b[0m\n"
     ]
    },
    {
     "name": "stdout",
     "output_type": "stream",
     "text": [
      "Early stopping, best iteration is:\n",
      "[368]\tvalid_0's binary_logloss: 5.3689e-05\tvalid_1's binary_logloss: 0.000769018\n"
     ]
    },
    {
     "name": "stderr",
     "output_type": "stream",
     "text": [
      "\n",
      "\n",
      "regularization_factors, val_score: 0.000756:  35%|#############3                        | 7/20 [09:43<17:34, 81.09s/it]\u001b[A\u001b[A"
     ]
    },
    {
     "name": "stdout",
     "output_type": "stream",
     "text": [
      "Training until validation scores don't improve for 50 rounds\n",
      "[100]\tvalid_0's binary_logloss: 0.00140468\tvalid_1's binary_logloss: 0.00165562\n",
      "[200]\tvalid_0's binary_logloss: 0.000337715\tvalid_1's binary_logloss: 0.0009157\n",
      "[300]\tvalid_0's binary_logloss: 0.000103791\tvalid_1's binary_logloss: 0.000789695\n",
      "[400]\tvalid_0's binary_logloss: 3.47955e-05\tvalid_1's binary_logloss: 0.000781983\n"
     ]
    },
    {
     "name": "stderr",
     "output_type": "stream",
     "text": [
      "\n",
      "\n",
      "regularization_factors, val_score: 0.000756:  35%|#############3                        | 7/20 [11:04<17:34, 81.09s/it]\u001b[A\u001b[A\n",
      "\n",
      "regularization_factors, val_score: 0.000756:  40%|###############2                      | 8/20 [11:04<16:12, 81.08s/it]\u001b[A\u001b[A\u001b[32m[I 2021-07-28 15:19:13,558]\u001b[0m Trial 50 finished with value: 0.0007699443239097734 and parameters: {'lambda_l1': 6.494336163191154e-08, 'lambda_l2': 0.0007588451561259539}. Best is trial 48 with value: 0.0007562520602627266.\u001b[0m\n"
     ]
    },
    {
     "name": "stdout",
     "output_type": "stream",
     "text": [
      "Early stopping, best iteration is:\n",
      "[355]\tvalid_0's binary_logloss: 5.6809e-05\tvalid_1's binary_logloss: 0.000769944\n"
     ]
    },
    {
     "name": "stderr",
     "output_type": "stream",
     "text": [
      "\n",
      "\n",
      "regularization_factors, val_score: 0.000756:  40%|###############2                      | 8/20 [11:04<16:12, 81.08s/it]\u001b[A\u001b[A"
     ]
    },
    {
     "name": "stdout",
     "output_type": "stream",
     "text": [
      "Training until validation scores don't improve for 50 rounds\n",
      "[100]\tvalid_0's binary_logloss: 0.00145061\tvalid_1's binary_logloss: 0.00168523\n",
      "[200]\tvalid_0's binary_logloss: 0.000385673\tvalid_1's binary_logloss: 0.000921107\n",
      "[300]\tvalid_0's binary_logloss: 0.000148029\tvalid_1's binary_logloss: 0.000783415\n",
      "[400]\tvalid_0's binary_logloss: 7.88225e-05\tvalid_1's binary_logloss: 0.000756201\n"
     ]
    },
    {
     "name": "stderr",
     "output_type": "stream",
     "text": [
      "\n",
      "\n",
      "regularization_factors, val_score: 0.000750:  40%|###############2                      | 8/20 [12:29<16:12, 81.08s/it]\u001b[A\u001b[A\n",
      "\n",
      "regularization_factors, val_score: 0.000750:  45%|#################1                    | 9/20 [12:29<15:06, 82.43s/it]\u001b[A\u001b[A\u001b[32m[I 2021-07-28 15:20:39,140]\u001b[0m Trial 51 finished with value: 0.0007504932665797961 and parameters: {'lambda_l1': 0.4329599177882214, 'lambda_l2': 0.0003568002039250692}. Best is trial 51 with value: 0.0007504932665797961.\u001b[0m\n"
     ]
    },
    {
     "name": "stdout",
     "output_type": "stream",
     "text": [
      "Early stopping, best iteration is:\n",
      "[446]\tvalid_0's binary_logloss: 6.35777e-05\tvalid_1's binary_logloss: 0.000750493\n"
     ]
    },
    {
     "name": "stderr",
     "output_type": "stream",
     "text": [
      "\n",
      "\n",
      "regularization_factors, val_score: 0.000750:  45%|#################1                    | 9/20 [12:29<15:06, 82.43s/it]\u001b[A\u001b[A"
     ]
    },
    {
     "name": "stdout",
     "output_type": "stream",
     "text": [
      "Training until validation scores don't improve for 50 rounds\n",
      "[100]\tvalid_0's binary_logloss: 0.00139324\tvalid_1's binary_logloss: 0.00165571\n",
      "[200]\tvalid_0's binary_logloss: 0.000340016\tvalid_1's binary_logloss: 0.000908835\n",
      "[300]\tvalid_0's binary_logloss: 0.000103523\tvalid_1's binary_logloss: 0.00077655\n"
     ]
    },
    {
     "name": "stderr",
     "output_type": "stream",
     "text": [
      "\n",
      "\n",
      "regularization_factors, val_score: 0.000750:  45%|#################1                    | 9/20 [13:47<15:06, 82.43s/it]\u001b[A\u001b[A\n",
      "\n",
      "regularization_factors, val_score: 0.000750:  50%|##################5                  | 10/20 [13:47<13:29, 80.96s/it]\u001b[A\u001b[A\u001b[32m[I 2021-07-28 15:21:56,668]\u001b[0m Trial 52 finished with value: 0.0007611285252034458 and parameters: {'lambda_l1': 0.0002731790261809885, 'lambda_l2': 2.231275209878737e-05}. Best is trial 51 with value: 0.0007504932665797961.\u001b[0m\n"
     ]
    },
    {
     "name": "stdout",
     "output_type": "stream",
     "text": [
      "Early stopping, best iteration is:\n",
      "[345]\tvalid_0's binary_logloss: 6.2733e-05\tvalid_1's binary_logloss: 0.000761129\n"
     ]
    },
    {
     "name": "stderr",
     "output_type": "stream",
     "text": [
      "\n",
      "\n",
      "regularization_factors, val_score: 0.000750:  50%|##################5                  | 10/20 [13:47<13:29, 80.96s/it]\u001b[A\u001b[A"
     ]
    },
    {
     "name": "stdout",
     "output_type": "stream",
     "text": [
      "Training until validation scores don't improve for 50 rounds\n",
      "[100]\tvalid_0's binary_logloss: 0.00166086\tvalid_1's binary_logloss: 0.00185376\n",
      "[200]\tvalid_0's binary_logloss: 0.000716275\tvalid_1's binary_logloss: 0.00114224\n",
      "[300]\tvalid_0's binary_logloss: 0.000465167\tvalid_1's binary_logloss: 0.00098043\n",
      "[400]\tvalid_0's binary_logloss: 0.000359593\tvalid_1's binary_logloss: 0.000913759\n",
      "[500]\tvalid_0's binary_logloss: 0.000300091\tvalid_1's binary_logloss: 0.000879429\n",
      "[600]\tvalid_0's binary_logloss: 0.000264891\tvalid_1's binary_logloss: 0.000861668\n",
      "[700]\tvalid_0's binary_logloss: 0.000242483\tvalid_1's binary_logloss: 0.000851164\n",
      "[800]\tvalid_0's binary_logloss: 0.000225885\tvalid_1's binary_logloss: 0.000844376\n",
      "[900]\tvalid_0's binary_logloss: 0.000214122\tvalid_1's binary_logloss: 0.00083977\n",
      "[1000]\tvalid_0's binary_logloss: 0.000204336\tvalid_1's binary_logloss: 0.000836976\n",
      "Did not meet early stopping. Best iteration is:\n",
      "[1000]\tvalid_0's binary_logloss: 0.000204336\tvalid_1's binary_logloss: 0.000836976\n"
     ]
    },
    {
     "name": "stderr",
     "output_type": "stream",
     "text": [
      "\n",
      "\n",
      "regularization_factors, val_score: 0.000750:  50%|##################5                  | 10/20 [16:12<13:29, 80.96s/it]\u001b[A\u001b[A\n",
      "\n",
      "regularization_factors, val_score: 0.000750:  55%|###################8                | 11/20 [16:12<15:02, 100.27s/it]\u001b[A\u001b[A\u001b[32m[I 2021-07-28 15:24:21,992]\u001b[0m Trial 53 finished with value: 0.0008369758947376373 and parameters: {'lambda_l1': 3.601118151233363, 'lambda_l2': 0.5225401073414263}. Best is trial 51 with value: 0.0007504932665797961.\u001b[0m\n",
      "\n",
      "\n",
      "regularization_factors, val_score: 0.000750:  55%|###################8                | 11/20 [16:12<15:02, 100.27s/it]\u001b[A\u001b[A"
     ]
    },
    {
     "name": "stdout",
     "output_type": "stream",
     "text": [
      "Training until validation scores don't improve for 50 rounds\n",
      "[100]\tvalid_0's binary_logloss: 0.00166498\tvalid_1's binary_logloss: 0.00185578\n",
      "[200]\tvalid_0's binary_logloss: 0.000734396\tvalid_1's binary_logloss: 0.00115474\n",
      "[300]\tvalid_0's binary_logloss: 0.000490576\tvalid_1's binary_logloss: 0.00099475\n",
      "[400]\tvalid_0's binary_logloss: 0.000384712\tvalid_1's binary_logloss: 0.000931507\n",
      "[500]\tvalid_0's binary_logloss: 0.000325898\tvalid_1's binary_logloss: 0.000899929\n",
      "[600]\tvalid_0's binary_logloss: 0.000290859\tvalid_1's binary_logloss: 0.000881787\n",
      "[700]\tvalid_0's binary_logloss: 0.000267359\tvalid_1's binary_logloss: 0.000869834\n",
      "[800]\tvalid_0's binary_logloss: 0.000249808\tvalid_1's binary_logloss: 0.000860468\n",
      "[900]\tvalid_0's binary_logloss: 0.000237335\tvalid_1's binary_logloss: 0.000855246\n",
      "[1000]\tvalid_0's binary_logloss: 0.000227821\tvalid_1's binary_logloss: 0.000852069\n",
      "Did not meet early stopping. Best iteration is:\n",
      "[1000]\tvalid_0's binary_logloss: 0.000227821\tvalid_1's binary_logloss: 0.000852069\n"
     ]
    },
    {
     "name": "stderr",
     "output_type": "stream",
     "text": [
      "\n",
      "\n",
      "regularization_factors, val_score: 0.000750:  55%|###################8                | 11/20 [18:41<15:02, 100.27s/it]\u001b[A\u001b[A\n",
      "\n",
      "regularization_factors, val_score: 0.000750:  60%|#####################5              | 12/20 [18:41<15:19, 114.98s/it]\u001b[A\u001b[A\u001b[32m[I 2021-07-28 15:26:51,288]\u001b[0m Trial 54 finished with value: 0.000852068520828565 and parameters: {'lambda_l1': 4.029536778246393, 'lambda_l2': 1.781076399923791e-08}. Best is trial 51 with value: 0.0007504932665797961.\u001b[0m\n",
      "\n",
      "\n",
      "regularization_factors, val_score: 0.000750:  60%|#####################5              | 12/20 [18:42<15:19, 114.98s/it]\u001b[A\u001b[A"
     ]
    },
    {
     "name": "stdout",
     "output_type": "stream",
     "text": [
      "Training until validation scores don't improve for 50 rounds\n",
      "[100]\tvalid_0's binary_logloss: 0.00140842\tvalid_1's binary_logloss: 0.00166395\n",
      "[200]\tvalid_0's binary_logloss: 0.000343164\tvalid_1's binary_logloss: 0.000923266\n",
      "[300]\tvalid_0's binary_logloss: 0.000105963\tvalid_1's binary_logloss: 0.000792165\n",
      "[400]\tvalid_0's binary_logloss: 3.69088e-05\tvalid_1's binary_logloss: 0.000780627\n"
     ]
    },
    {
     "name": "stderr",
     "output_type": "stream",
     "text": [
      "\n",
      "\n",
      "regularization_factors, val_score: 0.000750:  60%|#####################5              | 12/20 [19:53<15:19, 114.98s/it]\u001b[A\u001b[A\n",
      "\n",
      "regularization_factors, val_score: 0.000750:  65%|#######################4            | 13/20 [19:53<11:52, 101.85s/it]\u001b[A\u001b[A\u001b[32m[I 2021-07-28 15:28:02,497]\u001b[0m Trial 55 finished with value: 0.0007720654254375742 and parameters: {'lambda_l1': 0.022576392130583704, 'lambda_l2': 4.264877237419491e-07}. Best is trial 51 with value: 0.0007504932665797961.\u001b[0m\n"
     ]
    },
    {
     "name": "stdout",
     "output_type": "stream",
     "text": [
      "Early stopping, best iteration is:\n",
      "[356]\tvalid_0's binary_logloss: 5.79444e-05\tvalid_1's binary_logloss: 0.000772065\n"
     ]
    },
    {
     "name": "stderr",
     "output_type": "stream",
     "text": [
      "\n",
      "\n",
      "regularization_factors, val_score: 0.000750:  65%|#######################4            | 13/20 [19:53<11:52, 101.85s/it]\u001b[A\u001b[A"
     ]
    },
    {
     "name": "stdout",
     "output_type": "stream",
     "text": [
      "Training until validation scores don't improve for 50 rounds\n",
      "[100]\tvalid_0's binary_logloss: 0.00140398\tvalid_1's binary_logloss: 0.00166669\n",
      "[200]\tvalid_0's binary_logloss: 0.000338795\tvalid_1's binary_logloss: 0.000910134\n",
      "[300]\tvalid_0's binary_logloss: 0.000103952\tvalid_1's binary_logloss: 0.000769278\n",
      "[400]\tvalid_0's binary_logloss: 3.46685e-05\tvalid_1's binary_logloss: 0.000764663\n"
     ]
    },
    {
     "name": "stderr",
     "output_type": "stream",
     "text": [
      "\n",
      "\n",
      "regularization_factors, val_score: 0.000750:  65%|#######################4            | 13/20 [21:06<11:52, 101.85s/it]\u001b[A\u001b[A\n",
      "\n",
      "regularization_factors, val_score: 0.000750:  70%|#########################9           | 14/20 [21:06<09:18, 93.15s/it]\u001b[A\u001b[A\u001b[32m[I 2021-07-28 15:29:15,367]\u001b[0m Trial 56 finished with value: 0.0007563708718616178 and parameters: {'lambda_l1': 2.3062057197781542e-05, 'lambda_l2': 4.996318640611591e-07}. Best is trial 51 with value: 0.0007504932665797961.\u001b[0m\n"
     ]
    },
    {
     "name": "stdout",
     "output_type": "stream",
     "text": [
      "Early stopping, best iteration is:\n",
      "[359]\tvalid_0's binary_logloss: 5.46095e-05\tvalid_1's binary_logloss: 0.000756371\n"
     ]
    },
    {
     "name": "stderr",
     "output_type": "stream",
     "text": [
      "\n",
      "\n",
      "regularization_factors, val_score: 0.000750:  70%|#########################9           | 14/20 [21:06<09:18, 93.15s/it]\u001b[A\u001b[A"
     ]
    },
    {
     "name": "stdout",
     "output_type": "stream",
     "text": [
      "Training until validation scores don't improve for 50 rounds\n",
      "[100]\tvalid_0's binary_logloss: 0.00141109\tvalid_1's binary_logloss: 0.00166635\n",
      "[200]\tvalid_0's binary_logloss: 0.000344346\tvalid_1's binary_logloss: 0.000918459\n",
      "[300]\tvalid_0's binary_logloss: 0.000107166\tvalid_1's binary_logloss: 0.000782088\n",
      "[400]\tvalid_0's binary_logloss: 3.806e-05\tvalid_1's binary_logloss: 0.000773937\n"
     ]
    },
    {
     "name": "stderr",
     "output_type": "stream",
     "text": [
      "\n",
      "\n",
      "regularization_factors, val_score: 0.000750:  70%|#########################9           | 14/20 [22:18<09:18, 93.15s/it]\u001b[A\u001b[A\n",
      "\n",
      "regularization_factors, val_score: 0.000750:  75%|###########################7         | 15/20 [22:18<07:14, 86.82s/it]\u001b[A\u001b[A\u001b[32m[I 2021-07-28 15:30:27,420]\u001b[0m Trial 57 finished with value: 0.000765856655601329 and parameters: {'lambda_l1': 0.028789933757506006, 'lambda_l2': 0.016334431161215485}. Best is trial 51 with value: 0.0007504932665797961.\u001b[0m\n"
     ]
    },
    {
     "name": "stdout",
     "output_type": "stream",
     "text": [
      "Early stopping, best iteration is:\n",
      "[355]\tvalid_0's binary_logloss: 5.94825e-05\tvalid_1's binary_logloss: 0.000765857\n"
     ]
    },
    {
     "name": "stderr",
     "output_type": "stream",
     "text": [
      "\n",
      "\n",
      "regularization_factors, val_score: 0.000750:  75%|###########################7         | 15/20 [22:18<07:14, 86.82s/it]\u001b[A\u001b[A"
     ]
    },
    {
     "name": "stdout",
     "output_type": "stream",
     "text": [
      "Training until validation scores don't improve for 50 rounds\n",
      "[100]\tvalid_0's binary_logloss: 0.00140171\tvalid_1's binary_logloss: 0.00165953\n",
      "[200]\tvalid_0's binary_logloss: 0.000340618\tvalid_1's binary_logloss: 0.000915479\n",
      "[300]\tvalid_0's binary_logloss: 0.000104508\tvalid_1's binary_logloss: 0.000798987\n",
      "[400]\tvalid_0's binary_logloss: 3.44705e-05\tvalid_1's binary_logloss: 0.000800187\n"
     ]
    },
    {
     "name": "stderr",
     "output_type": "stream",
     "text": [
      "\n",
      "\n",
      "regularization_factors, val_score: 0.000750:  75%|###########################7         | 15/20 [23:42<07:14, 86.82s/it]\u001b[A\u001b[A\n",
      "\n",
      "regularization_factors, val_score: 0.000750:  80%|#############################6       | 16/20 [23:42<05:44, 86.00s/it]\u001b[A\u001b[A\u001b[32m[I 2021-07-28 15:31:51,504]\u001b[0m Trial 58 finished with value: 0.000788517362321407 and parameters: {'lambda_l1': 1.4373842042205586e-05, 'lambda_l2': 8.337317417681238e-05}. Best is trial 51 with value: 0.0007504932665797961.\u001b[0m\n"
     ]
    },
    {
     "name": "stdout",
     "output_type": "stream",
     "text": [
      "Early stopping, best iteration is:\n",
      "[356]\tvalid_0's binary_logloss: 5.62505e-05\tvalid_1's binary_logloss: 0.000788517\n"
     ]
    },
    {
     "name": "stderr",
     "output_type": "stream",
     "text": [
      "\n",
      "\n",
      "regularization_factors, val_score: 0.000750:  80%|#############################6       | 16/20 [23:42<05:44, 86.00s/it]\u001b[A\u001b[A"
     ]
    },
    {
     "name": "stdout",
     "output_type": "stream",
     "text": [
      "Training until validation scores don't improve for 50 rounds\n",
      "[100]\tvalid_0's binary_logloss: 0.00142808\tvalid_1's binary_logloss: 0.00167758\n",
      "[200]\tvalid_0's binary_logloss: 0.000372252\tvalid_1's binary_logloss: 0.000930154\n",
      "[300]\tvalid_0's binary_logloss: 0.000137206\tvalid_1's binary_logloss: 0.000795071\n",
      "[400]\tvalid_0's binary_logloss: 6.98467e-05\tvalid_1's binary_logloss: 0.000772529\n"
     ]
    },
    {
     "name": "stderr",
     "output_type": "stream",
     "text": [
      "\n",
      "\n",
      "regularization_factors, val_score: 0.000750:  80%|#############################6       | 16/20 [25:06<05:44, 86.00s/it]\u001b[A\u001b[A\n",
      "\n",
      "regularization_factors, val_score: 0.000750:  85%|###############################4     | 17/20 [25:06<04:16, 85.54s/it]\u001b[A\u001b[A\u001b[32m[I 2021-07-28 15:33:15,988]\u001b[0m Trial 59 finished with value: 0.0007712279990631011 and parameters: {'lambda_l1': 0.3564944907828399, 'lambda_l2': 5.386104660051865e-07}. Best is trial 51 with value: 0.0007504932665797961.\u001b[0m\n"
     ]
    },
    {
     "name": "stdout",
     "output_type": "stream",
     "text": [
      "Early stopping, best iteration is:\n",
      "[425]\tvalid_0's binary_logloss: 6.18615e-05\tvalid_1's binary_logloss: 0.000771228\n"
     ]
    },
    {
     "name": "stderr",
     "output_type": "stream",
     "text": [
      "\n",
      "\n",
      "regularization_factors, val_score: 0.000750:  85%|###############################4     | 17/20 [25:06<04:16, 85.54s/it]\u001b[A\u001b[A"
     ]
    },
    {
     "name": "stdout",
     "output_type": "stream",
     "text": [
      "Training until validation scores don't improve for 50 rounds\n",
      "[100]\tvalid_0's binary_logloss: 0.00140411\tvalid_1's binary_logloss: 0.00166046\n",
      "[200]\tvalid_0's binary_logloss: 0.000343723\tvalid_1's binary_logloss: 0.000920768\n",
      "[300]\tvalid_0's binary_logloss: 0.000105342\tvalid_1's binary_logloss: 0.00078984\n",
      "[400]\tvalid_0's binary_logloss: 3.52272e-05\tvalid_1's binary_logloss: 0.000786478\n"
     ]
    },
    {
     "name": "stderr",
     "output_type": "stream",
     "text": [
      "\n",
      "\n",
      "regularization_factors, val_score: 0.000750:  85%|###############################4     | 17/20 [26:28<04:16, 85.54s/it]\u001b[A\u001b[A\n",
      "\n",
      "regularization_factors, val_score: 0.000750:  90%|#################################3   | 18/20 [26:28<02:48, 84.33s/it]\u001b[A\u001b[A\u001b[32m[I 2021-07-28 15:34:37,487]\u001b[0m Trial 60 finished with value: 0.0007755189413856226 and parameters: {'lambda_l1': 0.0015091838293317843, 'lambda_l2': 0.009834764664304593}. Best is trial 51 with value: 0.0007504932665797961.\u001b[0m\n"
     ]
    },
    {
     "name": "stdout",
     "output_type": "stream",
     "text": [
      "Early stopping, best iteration is:\n",
      "[356]\tvalid_0's binary_logloss: 5.67477e-05\tvalid_1's binary_logloss: 0.000775519\n"
     ]
    },
    {
     "name": "stderr",
     "output_type": "stream",
     "text": [
      "\n",
      "\n",
      "regularization_factors, val_score: 0.000750:  90%|#################################3   | 18/20 [26:28<02:48, 84.33s/it]\u001b[A\u001b[A"
     ]
    },
    {
     "name": "stdout",
     "output_type": "stream",
     "text": [
      "Training until validation scores don't improve for 50 rounds\n",
      "[100]\tvalid_0's binary_logloss: 0.00140044\tvalid_1's binary_logloss: 0.00165118\n",
      "[200]\tvalid_0's binary_logloss: 0.00033762\tvalid_1's binary_logloss: 0.000912097\n",
      "[300]\tvalid_0's binary_logloss: 0.000102797\tvalid_1's binary_logloss: 0.000779054\n",
      "[400]\tvalid_0's binary_logloss: 3.44409e-05\tvalid_1's binary_logloss: 0.000771774\n"
     ]
    },
    {
     "name": "stderr",
     "output_type": "stream",
     "text": [
      "\n",
      "\n",
      "regularization_factors, val_score: 0.000750:  90%|#################################3   | 18/20 [27:50<02:48, 84.33s/it]\u001b[A\u001b[A\n",
      "\n",
      "regularization_factors, val_score: 0.000750:  95%|###################################1 | 19/20 [27:50<01:23, 83.85s/it]\u001b[A\u001b[A\u001b[32m[I 2021-07-28 15:36:00,208]\u001b[0m Trial 61 finished with value: 0.0007635135965854253 and parameters: {'lambda_l1': 1.0753337879376738e-05, 'lambda_l2': 0.0001468306482844639}. Best is trial 51 with value: 0.0007504932665797961.\u001b[0m\n"
     ]
    },
    {
     "name": "stdout",
     "output_type": "stream",
     "text": [
      "Early stopping, best iteration is:\n",
      "[360]\tvalid_0's binary_logloss: 5.29979e-05\tvalid_1's binary_logloss: 0.000763514\n"
     ]
    },
    {
     "name": "stderr",
     "output_type": "stream",
     "text": [
      "\n",
      "\n",
      "regularization_factors, val_score: 0.000750:  95%|###################################1 | 19/20 [27:51<01:23, 83.85s/it]\u001b[A\u001b[A"
     ]
    },
    {
     "name": "stdout",
     "output_type": "stream",
     "text": [
      "Training until validation scores don't improve for 50 rounds\n",
      "[100]\tvalid_0's binary_logloss: 0.00140359\tvalid_1's binary_logloss: 0.00166677\n",
      "[200]\tvalid_0's binary_logloss: 0.000343245\tvalid_1's binary_logloss: 0.000925481\n",
      "[300]\tvalid_0's binary_logloss: 0.000104781\tvalid_1's binary_logloss: 0.000798001\n",
      "[400]\tvalid_0's binary_logloss: 3.51879e-05\tvalid_1's binary_logloss: 0.000791227\n"
     ]
    },
    {
     "name": "stderr",
     "output_type": "stream",
     "text": [
      "\n",
      "\n",
      "regularization_factors, val_score: 0.000750:  95%|###################################1 | 19/20 [29:09<01:23, 83.85s/it]\u001b[A\u001b[A\n",
      "\n",
      "regularization_factors, val_score: 0.000750: 100%|#####################################| 20/20 [29:09<00:00, 82.39s/it]\u001b[A\u001b[A\u001b[32m[I 2021-07-28 15:37:19,205]\u001b[0m Trial 62 finished with value: 0.0007840492630879492 and parameters: {'lambda_l1': 0.004447137268490509, 'lambda_l2': 3.213440465970376e-06}. Best is trial 51 with value: 0.0007504932665797961.\u001b[0m\n"
     ]
    },
    {
     "name": "stdout",
     "output_type": "stream",
     "text": [
      "Early stopping, best iteration is:\n",
      "[355]\tvalid_0's binary_logloss: 5.7204e-05\tvalid_1's binary_logloss: 0.000784049\n"
     ]
    },
    {
     "name": "stderr",
     "output_type": "stream",
     "text": [
      "regularization_factors, val_score: 0.000750: 100%|#####################################| 20/20 [29:10<00:00, 87.50s/it]\n",
      "\n",
      "\n",
      "  0%|                                                                                            | 0/5 [00:00<?, ?it/s]\u001b[A\u001b[A\n",
      "\n",
      "min_data_in_leaf, val_score: 0.000750:   0%|                                                     | 0/5 [00:00<?, ?it/s]\u001b[A\u001b[AC:\\Users\\BenJames\\anaconda3\\envs\\geospatial\\lib\\site-packages\\lightgbm\\engine.py:156: UserWarning: Found `early_stopping_round` in params. Will use it instead of argument\n",
      "  warnings.warn(\"Found `{}` in params. Will use it instead of argument\".format(alias))\n"
     ]
    },
    {
     "name": "stdout",
     "output_type": "stream",
     "text": [
      "optimum_params: {'num_leaves': 184}\n",
      "Training until validation scores don't improve for 50 rounds\n",
      "[100]\tvalid_0's binary_logloss: 0.000748187\tvalid_1's binary_logloss: 0.00122222\n",
      "[200]\tvalid_0's binary_logloss: 0.000191642\tvalid_1's binary_logloss: 0.00084798\n",
      "[300]\tvalid_0's binary_logloss: 8.15151e-05\tvalid_1's binary_logloss: 0.000795405\n",
      "[400]\tvalid_0's binary_logloss: 4.8483e-05\tvalid_1's binary_logloss: 0.000790527\n"
     ]
    },
    {
     "name": "stderr",
     "output_type": "stream",
     "text": [
      "\n",
      "\n",
      "min_data_in_leaf, val_score: 0.000750:   0%|                                                     | 0/5 [01:14<?, ?it/s]\u001b[A\u001b[A\n",
      "\n",
      "min_data_in_leaf, val_score: 0.000750:  20%|#########                                    | 1/5 [01:14<04:57, 74.41s/it]\u001b[A\u001b[A\u001b[32m[I 2021-07-28 15:38:33,769]\u001b[0m Trial 63 finished with value: 0.0007884689989426271 and parameters: {'min_child_samples': 50}. Best is trial 63 with value: 0.0007884689989426271.\u001b[0m\n"
     ]
    },
    {
     "name": "stdout",
     "output_type": "stream",
     "text": [
      "Early stopping, best iteration is:\n",
      "[383]\tvalid_0's binary_logloss: 5.18854e-05\tvalid_1's binary_logloss: 0.000788469\n"
     ]
    },
    {
     "name": "stderr",
     "output_type": "stream",
     "text": [
      "\n",
      "\n",
      "min_data_in_leaf, val_score: 0.000750:  20%|#########                                    | 1/5 [01:14<04:57, 74.41s/it]\u001b[A\u001b[A"
     ]
    },
    {
     "name": "stdout",
     "output_type": "stream",
     "text": [
      "Training until validation scores don't improve for 50 rounds\n",
      "[100]\tvalid_0's binary_logloss: 0.000765097\tvalid_1's binary_logloss: 0.00121426\n",
      "[200]\tvalid_0's binary_logloss: 0.000193065\tvalid_1's binary_logloss: 0.000828727\n",
      "[300]\tvalid_0's binary_logloss: 8.20566e-05\tvalid_1's binary_logloss: 0.000770335\n",
      "[400]\tvalid_0's binary_logloss: 4.87149e-05\tvalid_1's binary_logloss: 0.000769512\n"
     ]
    },
    {
     "name": "stderr",
     "output_type": "stream",
     "text": [
      "\n",
      "\n",
      "min_data_in_leaf, val_score: 0.000750:  20%|#########                                    | 1/5 [02:23<04:57, 74.41s/it]\u001b[A\u001b[A\n",
      "\n",
      "min_data_in_leaf, val_score: 0.000750:  40%|##################                           | 2/5 [02:23<03:38, 72.76s/it]\u001b[A\u001b[A\u001b[32m[I 2021-07-28 15:39:42,686]\u001b[0m Trial 64 finished with value: 0.0007655980145102049 and parameters: {'min_child_samples': 100}. Best is trial 64 with value: 0.0007655980145102049.\u001b[0m\n"
     ]
    },
    {
     "name": "stdout",
     "output_type": "stream",
     "text": [
      "Early stopping, best iteration is:\n",
      "[356]\tvalid_0's binary_logloss: 5.92406e-05\tvalid_1's binary_logloss: 0.000765598\n"
     ]
    },
    {
     "name": "stderr",
     "output_type": "stream",
     "text": [
      "\n",
      "\n",
      "min_data_in_leaf, val_score: 0.000750:  40%|##################                           | 2/5 [02:23<03:38, 72.76s/it]\u001b[A\u001b[A"
     ]
    },
    {
     "name": "stdout",
     "output_type": "stream",
     "text": [
      "Training until validation scores don't improve for 50 rounds\n",
      "[100]\tvalid_0's binary_logloss: 0.000703752\tvalid_1's binary_logloss: 0.00124876\n",
      "[200]\tvalid_0's binary_logloss: 0.000177915\tvalid_1's binary_logloss: 0.000855103\n",
      "[300]\tvalid_0's binary_logloss: 7.69862e-05\tvalid_1's binary_logloss: 0.000797152\n",
      "[400]\tvalid_0's binary_logloss: 4.6655e-05\tvalid_1's binary_logloss: 0.000796073\n"
     ]
    },
    {
     "name": "stderr",
     "output_type": "stream",
     "text": [
      "\n",
      "\n",
      "min_data_in_leaf, val_score: 0.000750:  40%|##################                           | 2/5 [03:26<03:38, 72.76s/it]\u001b[A\u001b[A\n",
      "\n",
      "min_data_in_leaf, val_score: 0.000750:  60%|###########################                  | 3/5 [03:26<02:19, 69.84s/it]\u001b[A\u001b[A\u001b[32m[I 2021-07-28 15:40:45,732]\u001b[0m Trial 65 finished with value: 0.0007917906385501577 and parameters: {'min_child_samples': 5}. Best is trial 64 with value: 0.0007655980145102049.\u001b[0m\n"
     ]
    },
    {
     "name": "stdout",
     "output_type": "stream",
     "text": [
      "Early stopping, best iteration is:\n",
      "[354]\tvalid_0's binary_logloss: 5.6869e-05\tvalid_1's binary_logloss: 0.000791791\n"
     ]
    },
    {
     "name": "stderr",
     "output_type": "stream",
     "text": [
      "\n",
      "\n",
      "min_data_in_leaf, val_score: 0.000750:  60%|###########################                  | 3/5 [03:26<02:19, 69.84s/it]\u001b[A\u001b[A"
     ]
    },
    {
     "name": "stdout",
     "output_type": "stream",
     "text": [
      "Training until validation scores don't improve for 50 rounds\n",
      "[100]\tvalid_0's binary_logloss: 0.000707312\tvalid_1's binary_logloss: 0.00129935\n",
      "[200]\tvalid_0's binary_logloss: 0.000180581\tvalid_1's binary_logloss: 0.000909884\n",
      "[300]\tvalid_0's binary_logloss: 7.76418e-05\tvalid_1's binary_logloss: 0.000847167\n",
      "[400]\tvalid_0's binary_logloss: 4.68746e-05\tvalid_1's binary_logloss: 0.000845266\n"
     ]
    },
    {
     "name": "stderr",
     "output_type": "stream",
     "text": [
      "\n",
      "\n",
      "min_data_in_leaf, val_score: 0.000750:  60%|###########################                  | 3/5 [04:34<02:19, 69.84s/it]\u001b[A\u001b[A\n",
      "\n",
      "min_data_in_leaf, val_score: 0.000750:  80%|####################################         | 4/5 [04:34<01:09, 69.36s/it]\u001b[A\u001b[A\u001b[32m[I 2021-07-28 15:41:53,968]\u001b[0m Trial 66 finished with value: 0.0008432521486952804 and parameters: {'min_child_samples': 10}. Best is trial 64 with value: 0.0007655980145102049.\u001b[0m\n"
     ]
    },
    {
     "name": "stdout",
     "output_type": "stream",
     "text": [
      "Early stopping, best iteration is:\n",
      "[356]\tvalid_0's binary_logloss: 5.66374e-05\tvalid_1's binary_logloss: 0.000843252\n"
     ]
    },
    {
     "name": "stderr",
     "output_type": "stream",
     "text": [
      "\n",
      "\n",
      "min_data_in_leaf, val_score: 0.000750:  80%|####################################         | 4/5 [04:34<01:09, 69.36s/it]\u001b[A\u001b[A"
     ]
    },
    {
     "name": "stdout",
     "output_type": "stream",
     "text": [
      "Training until validation scores don't improve for 50 rounds\n",
      "[100]\tvalid_0's binary_logloss: 0.000728093\tvalid_1's binary_logloss: 0.00120561\n",
      "[200]\tvalid_0's binary_logloss: 0.000184492\tvalid_1's binary_logloss: 0.000837455\n",
      "[300]\tvalid_0's binary_logloss: 7.89999e-05\tvalid_1's binary_logloss: 0.000781706\n",
      "[400]\tvalid_0's binary_logloss: 4.73842e-05\tvalid_1's binary_logloss: 0.000777887\n"
     ]
    },
    {
     "name": "stderr",
     "output_type": "stream",
     "text": [
      "\n",
      "\n",
      "min_data_in_leaf, val_score: 0.000750:  80%|####################################         | 4/5 [05:44<01:09, 69.36s/it]\u001b[A\u001b[A\n",
      "\n",
      "min_data_in_leaf, val_score: 0.000750: 100%|#############################################| 5/5 [05:44<00:00, 69.63s/it]\u001b[A\u001b[A\u001b[32m[I 2021-07-28 15:43:04,221]\u001b[0m Trial 67 finished with value: 0.0007745226653238365 and parameters: {'min_child_samples': 25}. Best is trial 64 with value: 0.0007655980145102049.\u001b[0m\n"
     ]
    },
    {
     "name": "stdout",
     "output_type": "stream",
     "text": [
      "Early stopping, best iteration is:\n",
      "[359]\tvalid_0's binary_logloss: 5.6564e-05\tvalid_1's binary_logloss: 0.000774523\n"
     ]
    },
    {
     "name": "stderr",
     "output_type": "stream",
     "text": [
      "min_data_in_leaf, val_score: 0.000750: 100%|#############################################| 5/5 [05:45<00:00, 69.00s/it]"
     ]
    },
    {
     "name": "stdout",
     "output_type": "stream",
     "text": [
      "optimum_params: {'num_leaves': 184}\n"
     ]
    },
    {
     "name": "stderr",
     "output_type": "stream",
     "text": [
      "\n"
     ]
    }
   ],
   "source": [
    "def setOptimumParams(lgbmTuner):\n",
    "    for k,v in getOptimumParam(tuner.study).items():\n",
    "        lgbmTuner.lgbm_params[k] = v\n",
    "    return lgbmTuner\n",
    "\n",
    "tuner.tune_feature_fraction()\n",
    "tuner = setOptimumParams(tuner)\n",
    "tuner.tune_num_leaves()\n",
    "tuner = setOptimumParams(tuner)\n",
    "tuner.tune_bagging()\n",
    "tuner = setOptimumParams(tuner)\n",
    "tuner.tune_feature_fraction_stage2()\n",
    "tuner = setOptimumParams(tuner)\n",
    "tuner.tune_regularization_factors()\n",
    "tuner = setOptimumParams(tuner)\n",
    "tuner.tune_min_data_in_leaf()\n",
    "tuner = setOptimumParams(tuner)"
   ]
  },
  {
   "cell_type": "code",
   "execution_count": 183,
   "metadata": {
    "scrolled": true
   },
   "outputs": [
    {
     "name": "stdout",
     "output_type": "stream",
     "text": [
      "M:\\PAG2019\\notebooks\\Models\\lightGBMBinaryAsphault_20210727.sav\n"
     ]
    }
   ],
   "source": [
    "#newModel = lgb.train(params, train_set=dtrain, valid_sets=[dtrain, dval], verbose_eval=1)\n",
    "tunerPrediction = np.rint(newModel.predict(X_valid, num_iteration=newModel.best_iteration))\n",
    "accuracy = accuracy_score(Y_valid, tunerPrediction)\n",
    "\n",
    "model_name = f\"lightGBMBinaryAsphault_{day}.sav\"\n",
    "model_path = os.path.join(os.path.abspath(\"../notebooks/Models\"), model_name)\n",
    "pickle.dump(newModel, open(model_path, \"wb\"))\n",
    "print(model_path)"
   ]
  },
  {
   "cell_type": "code",
   "execution_count": 179,
   "metadata": {},
   "outputs": [
    {
     "name": "stdout",
     "output_type": "stream",
     "text": [
      "Wall time: 1.28 s\n"
     ]
    }
   ],
   "source": [
    "%%time\n",
    "tunerPrediction = np.rint(newModel.predict(X_valid, num_iteration=newModel.best_iteration))"
   ]
  },
  {
   "cell_type": "code",
   "execution_count": 107,
   "metadata": {},
   "outputs": [
    {
     "name": "stdout",
     "output_type": "stream",
     "text": [
      "Best trial:\n",
      "\tscore 0.0007881885783316124\n",
      "\ttook 1 minutes 52 seconds\n",
      "\tparams {\n",
      "          \"feature_fraction\": 0.5\n",
      "}\n",
      "Optimum trial (#6): \n",
      "\tscore 0.0008830168419893462 \n",
      "\ttook 1 minutes 47.5 seconds \n",
      "\tparams: {\n",
      "          \"feature_fraction\": 0.4\n",
      "}\n"
     ]
    },
    {
     "data": {
      "image/png": "[encoded data removed]",
      "text/plain": [
       "<Figure size 360x360 with 1 Axes>"
      ]
     },
     "metadata": {
      "needs_background": "light"
     },
     "output_type": "display_data"
    }
   ],
   "source": [
    "seconds_limit = 70\n",
    "history = tunerStudy.trials_dataframe()\n",
    "history[\"DurationSeconds\"] = history.duration.apply(lambda d: d/np.timedelta64(1, 's'))\n",
    "#history.to_csv(f\"./Models/lightGBMBinaryAsphaultStudy_{day}.csv\", index=False)\n",
    "best_params = tunerStudy.best_trial.params\n",
    "best_score = tunerStudy.best_trial.value\n",
    "print(f\"Best trial:\\n\\tscore {best_score}\\n\\ttook {int(tunerStudy.best_trial.duration.seconds/60)} minutes {tunerStudy.best_trial.duration.seconds%60} seconds\\n\\tparams {json.dumps(best_params, indent=10)}\")\n",
    "\n",
    "best_performers = history[(history.value<(best_score*1.2))]# & (history.DurationSeconds < seconds_limit)]\n",
    "highestAccuracy = history[history.value == history.value.min()]\n",
    "highAccuracyLowRun = history[(history.DurationSeconds < highestAccuracy.DurationSeconds.max()*1.5) & (history.value < best_score / 0.95)]\n",
    "optimum_trial = best_performers[best_performers.DurationSeconds == best_performers.DurationSeconds.min()] \n",
    "optimum_trial_number = optimum_trial.number.values[0]\n",
    "optimum_score = optimum_trial.value.values[0]\n",
    "optimum_time = optimum_trial.DurationSeconds.values[0]\n",
    "optimum_params = tunerStudy.get_trials()[optimum_trial_number].params\n",
    "print(f\"Optimum trial (#{optimum_trial_number}): \\n\\tscore {optimum_score} \\n\\ttook {int(optimum_time/60)} minutes {round(optimum_time%60,1)} seconds \\n\\tparams: {json.dumps(optimum_params, indent=10)}\")\n",
    "\n",
    "ax1 = highAccuracyLowRun.plot(kind='scatter', x='DurationSeconds', y='value', color='green', s=20, figsize=(5,5))    \n",
    "ax2 = highestAccuracy.plot(kind='scatter', x='DurationSeconds', y='value', color='red', s=100, ax=ax1)\n",
    "ax3 = optimum_trial.plot(kind='scatter', x='DurationSeconds', y='value', color='blue', s=100, ax=ax1)"
   ]
  },
  {
   "cell_type": "code",
   "execution_count": 49,
   "metadata": {},
   "outputs": [
    {
     "name": "stdout",
     "output_type": "stream",
     "text": [
      "Best trial:\n",
      "\tscore 0.0007565977694676177\n",
      "\ttook 1 minutes 31 seconds\n",
      "\tparams {\n",
      "          \"lambda_l1\": 0.028664020826938516,\n",
      "          \"lambda_l2\": 1.3198683384921155e-08\n",
      "}\n",
      "Optimum trial (#20): \n",
      "\tscore 0.000775853596216345 \n",
      "\ttook 1 minutes 4.0 seconds \n",
      "\tparams: {\n",
      "          \"num_leaves\": 124\n",
      "}\n"
     ]
    },
    {
     "name": "stderr",
     "output_type": "stream",
     "text": [
      "C:\\Users\\BenJames\\anaconda3\\envs\\geospatial\\lib\\site-packages\\ipykernel\\ipkernel.py:283: DeprecationWarning: `should_run_async` will not call `transform_cell` automatically in the future. Please pass the result to `transformed_cell` argument and any exception that happen during thetransform in `preprocessing_exc_tuple` in IPython 7.17 and above.\n",
      "  and should_run_async(code)\n"
     ]
    },
    {
     "data": {
      "image/png": "[encoded data removed]",
      "text/plain": [
       "<Figure size 360x360 with 1 Axes>"
      ]
     },
     "metadata": {
      "needs_background": "light"
     },
     "output_type": "display_data"
    }
   ],
   "source": [
    "seconds_limit = 70\n",
    "history = study.trials_dataframe()\n",
    "history[\"DurationSeconds\"] = history.duration.apply(lambda d: d/np.timedelta64(1, 's'))\n",
    "history.to_csv(f\"./Models/lightGBMBinaryAsphaultStudy_{day}.csv\", index=False)\n",
    "best_params = study.best_trial.params\n",
    "best_score = study.best_trial.value\n",
    "print(f\"Best trial:\\n\\tscore {best_score}\\n\\ttook {int(study.best_trial.duration.seconds/60)} minutes {study.best_trial.duration.seconds%60} seconds\\n\\tparams {json.dumps(best_params, indent=10)}\")\n",
    "\n",
    "best_performers = history[(history.value<(best_score*1.2))]# & (history.DurationSeconds < seconds_limit)]\n",
    "highestAccuracy = history[history.value == history.value.min()]\n",
    "highAccuracyLowRun = history[(history.DurationSeconds < highestAccuracy.DurationSeconds.max()*1.5) & (history.value < best_score / 0.95)]\n",
    "optimum_trial = best_performers[best_performers.DurationSeconds == best_performers.DurationSeconds.min()] \n",
    "optimum_trial_number = optimum_trial.number.values[0]\n",
    "optimum_score = optimum_trial.value.values[0]\n",
    "optimum_time = optimum_trial.DurationSeconds.values[0]\n",
    "optimum_params = study.get_trials()[optimum_trial_number].params\n",
    "print(f\"Optimum trial (#{optimum_trial_number}): \\n\\tscore {optimum_score} \\n\\ttook {int(optimum_time/60)} minutes {round(optimum_time%60,1)} seconds \\n\\tparams: {json.dumps(optimum_params, indent=10)}\")\n",
    "\n",
    "ax1 = highAccuracyLowRun.plot(kind='scatter', x='DurationSeconds', y='value', color='green', s=20, figsize=(5,5))    \n",
    "ax2 = highestAccuracy.plot(kind='scatter', x='DurationSeconds', y='value', color='red', s=100, ax=ax1)\n",
    "ax3 = optimum_trial.plot(kind='scatter', x='DurationSeconds', y='value', color='blue', s=100, ax=ax1)"
   ]
  },
  {
   "cell_type": "code",
   "execution_count": 186,
   "metadata": {},
   "outputs": [
    {
     "data": {
      "text/plain": [
       "<matplotlib.axes._subplots.AxesSubplot at 0x16c281f33d0>"
      ]
     },
     "execution_count": 186,
     "metadata": {},
     "output_type": "execute_result"
    },
    {
     "data": {
      "image/png": "[encoded data removed]",
      "text/plain": [
       "<Figure size 360x360 with 1 Axes>"
      ]
     },
     "metadata": {
      "needs_background": "light"
     },
     "output_type": "display_data"
    }
   ],
   "source": [
    "olgb.plot_importance(model, height=0.5, figsize=(5,5))"
   ]
  },
  {
   "cell_type": "code",
   "execution_count": 30,
   "metadata": {},
   "outputs": [],
   "source": [
    "finished()"
   ]
  },
  {
   "cell_type": "code",
   "execution_count": 46,
   "metadata": {},
   "outputs": [],
   "source": [
    "from skimage.morphology import binary_closing, binary_opening, square, remove_small_holes, disk, square, remove_small_objects\n",
    "\n",
    "def fillHolesInClass(array, class_num, size_max):\n",
    "    class_bool = array == class_num\n",
    "    array[class_bool] = 255\n",
    "    filled = remove_small_holes(class_bool, area_threshold=size_max, connectivity=1)\n",
    "    array[filled] = class_num\n",
    "    return array\n",
    "    \n",
    "\n",
    "def removeClassSmaller(array, class_num, min_size):\n",
    "    non = np.where(array==class_num, 255, array)\n",
    "    removed = remove_small_objects(array==class_num, min_size=min_size, connectivity=1)\n",
    "    array_rem = np.where(removed==0, non, array)\n",
    "    return array_rem\n",
    "\n",
    "\n",
    "def cleanupAsphault(a):\n",
    "    # remove smaller than \n",
    "    a = remove_small_objects(a==1, min_size=1000, connectivity=1)\n",
    "    \n",
    "    a = fillHolesInClass(a, 9, 90)\n",
    "    # open and dilate and \n",
    "    for i in range(5):\n",
    "        a = binary_opening(a, square(3))\n",
    "        a = binary_closing(a, square(5))\n",
    "        \n",
    "    return a "
   ]
  },
  {
   "cell_type": "code",
   "execution_count": 47,
   "metadata": {},
   "outputs": [],
   "source": [
    "with rio.open(\"../EPCExtent_30cm\\Orthos_Segmented_Classifiedv3\\W989789_W439850_TrainingStackV3_AsphaultBinaryLGBNewishGBLM.tif\") as src:\n",
    "    asphault = src.read(1)\n",
    "    kwargs = src.profile\n",
    "\n",
    "with rio.open(\"C:/Users/BenJames/Downloads/testAsphault.tif\", \"w\", **kwargs) as dst:\n",
    "    dst.write(cleanupAsphault(asphault).astype(np.uint8), 1)\n",
    "\n"
   ]
  },
  {
   "cell_type": "code",
   "execution_count": null,
   "metadata": {},
   "outputs": [],
   "source": []
  }
 ],
 "metadata": {
  "kernelspec": {
   "display_name": "Python 3",
   "language": "python",
   "name": "python3"
  },
  "language_info": {
   "codemirror_mode": {
    "name": "ipython",
    "version": 3
   },
   "file_extension": ".py",
   "mimetype": "text/x-python",
   "name": "python",
   "nbconvert_exporter": "python",
   "pygments_lexer": "ipython3",
   "version": "3.8.10"
  }
 },
 "nbformat": 4,
 "nbformat_minor": 4
}
