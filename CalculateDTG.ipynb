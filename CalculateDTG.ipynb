{
 "cells": [
  {
   "cell_type": "code",
   "execution_count": 5,
   "metadata": {},
   "outputs": [],
   "source": [
    "import os, shutil\n",
    "import pdal, gdal\n",
    "import geopandas as gpd\n",
    "import numpy as np\n",
    "import rasterio as rio\n",
    "from rasterio.windows import from_bounds\n",
    "from rasterio.enums import Resampling\n",
    "from datetime import datetime\n",
    "from pathlib import Path\n",
    "from joblib import Parallel, delayed\n",
    "from scipy import ndimage as ndi"
   ]
  },
  {
   "cell_type": "markdown",
   "metadata": {},
   "source": [
    "## Functions"
   ]
  },
  {
   "cell_type": "code",
   "execution_count": 213,
   "metadata": {},
   "outputs": [],
   "source": [
    "def developOverviews(file):\n",
    "    os.system(f\"gdalinfo -mm {file}\")\n",
    "    os.system(f\"gdaladdo -clean {file}\")\n",
    "    os.system(f\"gdaladdo -r average -ro --config COMPRESS_OVERVIEW LZW -minsize 8 {file}\")\n",
    "\n",
    "    \n",
    "def calculateHAG(dsm, out_dir, overwrite=False):\n",
    "    ofile = os.path.join(out_dir, os.path.basename(dsm).replace(\".tif\",\"_HAG.tif\"))\n",
    "        \n",
    "    if os.path.exists(ofile) and overwrite==False:\n",
    "        return ofile\n",
    "    \n",
    "    with rio.open(dsm) as src:\n",
    "        bnds = src.bounds\n",
    "        swidth = src.width\n",
    "        sheight = src.height\n",
    "        kwargs= src.profile\n",
    "        sres  = src.res[0]\n",
    "        trans = src.transform\n",
    "        \n",
    "    #xoff = int((tx - bnds.left)/sres)\n",
    "    #yoff = int((bnds.top - ty)/sres) \n",
    "    #print(\"xoff, yoff\", xoff, yoff)\n",
    "    \n",
    "    with rio.open(loc_dsmVRT) as src:\n",
    "        dsm_ft = src.read(1, window=from_bounds(bnds.left, bnds.bottom, bnds.right, bnds.top, transform=src.transform, height=sheight, width=swidth).round_offsets(),\n",
    "                          out_shape=(swidth,sheight))\n",
    "        #print(\"DSM Sample Point:\", [i[0] for i in src.sample([(tx,ty)])])\n",
    "\n",
    "    with rio.open(loc_demVRT) as src:\n",
    "        demBnds = src.bounds\n",
    "        demRes = src.res[0]\n",
    "        \n",
    "        offsetL = demRes - (demBnds.left - bnds.left) % demRes\n",
    "        offsetR = (demBnds.right - bnds.right) % demRes\n",
    "        offsetT = (demBnds.top - bnds.top) % demRes\n",
    "        offsetB = demRes - (demBnds.bottom - bnds.bottom) % demRes\n",
    "                \n",
    "        read_window = from_bounds(bnds.left-offsetL, bnds.bottom-offsetB, bnds.right+offsetR, bnds.top+offsetT, transform=src.transform)\n",
    "        \n",
    "        otransform = src.window_transform(read_window)\n",
    "        buffW = swidth + round(offsetL/sres) + round(offsetR/sres)\n",
    "        buffH = sheight + round(offsetB/sres) + round(offsetT/sres)\n",
    "        \n",
    "        dem_m = src.read(1, window=read_window,\n",
    "                         out_shape=(buffW,buffH))\n",
    "        \n",
    "        #trim out buffer now that data has been resampled at read in \n",
    "        dem_m = dem_m[round(offsetL/sres):-round(offsetR/sres),\n",
    "                      round(offsetT/sres):-round(offsetB/sres)]\n",
    "        \n",
    "        \n",
    "        nd = src.nodata\n",
    "        dem_m[dem_m==nd] = np.NaN\n",
    "        dem_ft = dem_m/0.3048\n",
    "        #print(\"DEM Sample Point:\", [i[0]/0.3048 for i in src.sample([(tx,ty)])])\n",
    "        \n",
    "    #xoff = -3\n",
    "    #yoff = 3\n",
    "    #print(\"DSM ARRAY\", dsm_ft[yoff,xoff])\n",
    "    #print(\"DEM ARRAY\", dem_ft[yoff,xoff])\n",
    "    \n",
    "    hag_a = dsm_ft - dem_ft\n",
    "    #print(\"HAG VALUE: \", hag_a[yoff, xoff])\n",
    "    # convert to absolute distance\n",
    "    hag_a = np.abs(hag_a).astype(np.uint16)\n",
    "    # force to zero (no negatives)\n",
    "    #hag_a = hag_a.clip(min=0).astype(np.uint16)\n",
    "\n",
    "    kwargs.update(dtype=hag_a.dtype, nodata=np.iinfo(np.uint16).max)\n",
    "    #kwargs.update(dtype=hag_a.dtype, nodata=-9999)\n",
    "\n",
    "    hag_a[np.isnan(dem_m)] = kwargs['nodata']\n",
    "    with rio.open(ofile,\"w\", **kwargs) as dst:\n",
    "        dst.write(hag_a,1)\n",
    "\n",
    "    developOverviews(ofile)\n",
    "\n",
    "    print(f\"Created HAG file: {ofile}\")\n",
    "    #with rio.open(ofile) as src:\n",
    "    #    print(\"HAG Sample Point:\", [i[0] for i in src.sample([(tx,ty)])])\n",
    "    \n",
    "    return ofile\n",
    "\n",
    "    #except:\n",
    "    #    return f\"Failed for dsm {dsm}\"\n",
    "\n",
    "\n",
    "def calculateDTG(dsm, hag_dir, dtg_dir, threshold=4, overwrite=False):\n",
    "    hag_file = calculateHAG(dsm, hag_dir, overwrite=overwrite)\n",
    "    \n",
    "    ofile = os.path.join(dtg_dir, os.path.basename(hag_file).replace(\".tif\",\"_distance.tif\"))\n",
    "    \n",
    "    if os.path.exists(ofile) and overwrite==False:\n",
    "        return ofile\n",
    "    \n",
    "    with rio.open(hag_file) as src:\n",
    "        kwargs = src.profile\n",
    "        hag_a = src.read(1)\n",
    "        res = src.res[0]\n",
    "    hag_a = np.where(hag_a>=threshold,1,0)\n",
    "    \n",
    "    #calculate euclidean distance to ground\n",
    "    distance = ndi.distance_transform_edt(hag_a)\n",
    "    #convert to feet\n",
    "    distance = distance * res\n",
    "    #take ceiling of float\n",
    "    distance = np.ceil(distance)\n",
    "    \n",
    "    kwargs.update(dtype=np.int32)\n",
    "    with rio.open(ofile, 'w', **kwargs) as dst:\n",
    "        dst.write(distance.astype(np.int32),1)\n",
    "        \n",
    "    developOverviews(ofile)\n",
    "    \n",
    "    return ofile"
   ]
  },
  {
   "cell_type": "code",
   "execution_count": 35,
   "metadata": {},
   "outputs": [
    {
     "name": "stdout",
     "output_type": "stream",
     "text": [
      "BoundingBox(left=1059739.62, bottom=429700.22000000003, right=1080261.91473, top=450222.51473000005)\n",
      "2.62467\n",
      "xoff, yoff 7219 6075\n",
      "Slope Sample Point: [4.2218804]\n",
      "DSM ARRAY CLIPPED 4.2218804\n",
      "DSM ARRAY UNCLIPPED 4.643389\n",
      "(7822, 7834)\n",
      "DSM ARRAY 4.643389\n"
     ]
    }
   ],
   "source": [
    "def testSlope(dsm):\n",
    "    \n",
    "    with rio.open(dsm) as src:\n",
    "        bnds = src.bounds\n",
    "        print(bnds)\n",
    "        swidth = src.width\n",
    "        sheight = src.height\n",
    "        kwargs= src.profile\n",
    "        sres  = src.res[0]\n",
    "        print(sres)\n",
    "        trans = src.transform\n",
    "    \n",
    "    xoff = int((tx - bnds.left)/sres)\n",
    "    yoff = int((bnds.top - ty)/sres) \n",
    "    print(\"xoff, yoff\", xoff, yoff)\n",
    "    \n",
    "    with rio.open(loc_slope) as src:\n",
    "        slopeBnds = src.bounds\n",
    "        slopeRes = src.res[0]\n",
    "        \n",
    "        offsetL = slopeRes - (slopeBnds.left - bnds.left) % slopeRes\n",
    "        offsetR = (slopeBnds.right - bnds.right) % slopeRes\n",
    "        offsetT = (slopeBnds.top - bnds.top) % slopeRes\n",
    "        offsetB = slopeRes - (slopeBnds.bottom - bnds.bottom) % slopeRes\n",
    "                \n",
    "        read_window = from_bounds(bnds.left-offsetL, bnds.bottom-offsetB, bnds.right+offsetR, bnds.top+offsetT, transform=src.transform)\n",
    "        \n",
    "        buffW = swidth + round(offsetL/sres) + round(offsetR/sres)\n",
    "        buffH = sheight + round(offsetB/sres) + round(offsetT/sres)\n",
    "        \n",
    "        slope = src.read(1, window=read_window,\n",
    "                         out_shape=(buffW,buffH))\n",
    "        \n",
    "        #trim out buffer now that data has been resampled at read in \n",
    "        slope = slope[round(offsetL/sres):-round(offsetR/sres),\n",
    "                      round(offsetT/sres):-round(offsetB/sres)]\n",
    "        \n",
    "        print(\"Slope Sample Point:\", [i[0] for i in src.sample([(tx,ty)])])\n",
    "        print(\"DSM ARRAY CLIPPED\", slope[yoff,xoff])\n",
    "        \n",
    "        read_window = from_bounds(bnds.left, bnds.bottom, bnds.right, bnds.top, transform=src.transform)\n",
    "        \n",
    "        slope = src.read(1, window=read_window,\n",
    "                         out_shape=(buffW,buffH))\n",
    "        print(\"DSM ARRAY UNCLIPPED\", slope[yoff,xoff])\n",
    "        \n",
    "    print(slope.shape)\n",
    "    #xoff = -3\n",
    "    #yoff = 3\n",
    "    print(\"DSM ARRAY\", slope[yoff,xoff])\n",
    "    \n",
    "    \n",
    "    \n",
    "    return\n",
    "\n",
    "loc_dsm = '../EPCExtent_30cm/Elevation_80cmNPS/DSM80cm/'\n",
    "loc_dsmVRT = os.path.abspath(\"../EPCExtent_30cm/Elevation_80cmNPS/DSM80cm/EPC_DSM80cm_2019.vrt\")\n",
    "dsms = [os.path.join(loc_dsm,f) for f in os.listdir(loc_dsm) if f.endswith(\".tif\")]\n",
    "loc_slope = \"../OtherData/10mDEMs/DEM10mNED_slope.tif\"\n",
    "\n",
    "tx, ty = 1078688.16,434277.53\n",
    "for file in dsms:\n",
    "    if \"E1080_N430\" not in file:\n",
    "        continue\n",
    "    else:\n",
    "        testSlope(file)"
   ]
  },
  {
   "cell_type": "code",
   "execution_count": 26,
   "metadata": {},
   "outputs": [
    {
     "data": {
      "text/plain": [
       "113126.22519083972"
      ]
     },
     "execution_count": 26,
     "metadata": {},
     "output_type": "execute_result"
    }
   ],
   "source": [
    "(tx-779739.61)/2.62"
   ]
  },
  {
   "cell_type": "code",
   "execution_count": 13,
   "metadata": {},
   "outputs": [
    {
     "name": "stderr",
     "output_type": "stream",
     "text": [
      "[Parallel(n_jobs=10)]: Using backend LokyBackend with 10 concurrent workers.\n"
     ]
    },
    {
     "ename": "NameError",
     "evalue": "name 'calculateDTG' is not defined",
     "output_type": "error",
     "traceback": [
      "\u001b[0;31m---------------------------------------------------------------------------\u001b[0m",
      "\u001b[0;31mEmpty\u001b[0m                                     Traceback (most recent call last)",
      "\u001b[0;32m~/anaconda3/envs/geospatial/lib/python3.8/site-packages/joblib/parallel.py\u001b[0m in \u001b[0;36mdispatch_one_batch\u001b[0;34m(self, iterator)\u001b[0m\n\u001b[1;32m    796\u001b[0m             \u001b[0;32mtry\u001b[0m\u001b[0;34m:\u001b[0m\u001b[0;34m\u001b[0m\u001b[0;34m\u001b[0m\u001b[0m\n\u001b[0;32m--> 797\u001b[0;31m                 \u001b[0mtasks\u001b[0m \u001b[0;34m=\u001b[0m \u001b[0mself\u001b[0m\u001b[0;34m.\u001b[0m\u001b[0m_ready_batches\u001b[0m\u001b[0;34m.\u001b[0m\u001b[0mget\u001b[0m\u001b[0;34m(\u001b[0m\u001b[0mblock\u001b[0m\u001b[0;34m=\u001b[0m\u001b[0;32mFalse\u001b[0m\u001b[0;34m)\u001b[0m\u001b[0;34m\u001b[0m\u001b[0;34m\u001b[0m\u001b[0m\n\u001b[0m\u001b[1;32m    798\u001b[0m             \u001b[0;32mexcept\u001b[0m \u001b[0mqueue\u001b[0m\u001b[0;34m.\u001b[0m\u001b[0mEmpty\u001b[0m\u001b[0;34m:\u001b[0m\u001b[0;34m\u001b[0m\u001b[0;34m\u001b[0m\u001b[0m\n",
      "\u001b[0;32m~/anaconda3/envs/geospatial/lib/python3.8/queue.py\u001b[0m in \u001b[0;36mget\u001b[0;34m(self, block, timeout)\u001b[0m\n\u001b[1;32m    166\u001b[0m                 \u001b[0;32mif\u001b[0m \u001b[0;32mnot\u001b[0m \u001b[0mself\u001b[0m\u001b[0;34m.\u001b[0m\u001b[0m_qsize\u001b[0m\u001b[0;34m(\u001b[0m\u001b[0;34m)\u001b[0m\u001b[0;34m:\u001b[0m\u001b[0;34m\u001b[0m\u001b[0;34m\u001b[0m\u001b[0m\n\u001b[0;32m--> 167\u001b[0;31m                     \u001b[0;32mraise\u001b[0m \u001b[0mEmpty\u001b[0m\u001b[0;34m\u001b[0m\u001b[0;34m\u001b[0m\u001b[0m\n\u001b[0m\u001b[1;32m    168\u001b[0m             \u001b[0;32melif\u001b[0m \u001b[0mtimeout\u001b[0m \u001b[0;32mis\u001b[0m \u001b[0;32mNone\u001b[0m\u001b[0;34m:\u001b[0m\u001b[0;34m\u001b[0m\u001b[0;34m\u001b[0m\u001b[0m\n",
      "\u001b[0;31mEmpty\u001b[0m: ",
      "\nDuring handling of the above exception, another exception occurred:\n",
      "\u001b[0;31mNameError\u001b[0m                                 Traceback (most recent call last)",
      "\u001b[0;32m<ipython-input-13-49a6fc9a8cf0>\u001b[0m in \u001b[0;36m<module>\u001b[0;34m\u001b[0m\n\u001b[1;32m     13\u001b[0m \u001b[0;31m#hags = Parallel(n_jobs=10, verbose=5)(delayed(calculateHAG)(file, loc_hag, overwrite=False) for file in dsms)\u001b[0m\u001b[0;34m\u001b[0m\u001b[0;34m\u001b[0m\u001b[0;34m\u001b[0m\u001b[0m\n\u001b[1;32m     14\u001b[0m \u001b[0;31m#print(\"Finished with HAGS\")\u001b[0m\u001b[0;34m\u001b[0m\u001b[0;34m\u001b[0m\u001b[0;34m\u001b[0m\u001b[0m\n\u001b[0;32m---> 15\u001b[0;31m \u001b[0mdistance_files\u001b[0m \u001b[0;34m=\u001b[0m \u001b[0mParallel\u001b[0m\u001b[0;34m(\u001b[0m\u001b[0mn_jobs\u001b[0m\u001b[0;34m=\u001b[0m\u001b[0;36m10\u001b[0m\u001b[0;34m,\u001b[0m \u001b[0mverbose\u001b[0m\u001b[0;34m=\u001b[0m\u001b[0;36m10\u001b[0m\u001b[0;34m)\u001b[0m\u001b[0;34m(\u001b[0m\u001b[0mdelayed\u001b[0m\u001b[0;34m(\u001b[0m\u001b[0mcalculateDTG\u001b[0m\u001b[0;34m)\u001b[0m\u001b[0;34m(\u001b[0m\u001b[0mfile\u001b[0m\u001b[0;34m,\u001b[0m \u001b[0mloc_hag\u001b[0m\u001b[0;34m,\u001b[0m \u001b[0mloc_dtg\u001b[0m\u001b[0;34m,\u001b[0m \u001b[0mthreshold\u001b[0m\u001b[0;34m=\u001b[0m\u001b[0;36m4\u001b[0m\u001b[0;34m,\u001b[0m \u001b[0moverwrite\u001b[0m\u001b[0;34m=\u001b[0m\u001b[0;32mTrue\u001b[0m\u001b[0;34m)\u001b[0m \u001b[0;32mfor\u001b[0m \u001b[0mfile\u001b[0m \u001b[0;32min\u001b[0m \u001b[0mdsms\u001b[0m\u001b[0;34m)\u001b[0m\u001b[0;34m\u001b[0m\u001b[0;34m\u001b[0m\u001b[0m\n\u001b[0m",
      "\u001b[0;32m~/anaconda3/envs/geospatial/lib/python3.8/site-packages/joblib/parallel.py\u001b[0m in \u001b[0;36m__call__\u001b[0;34m(self, iterable)\u001b[0m\n\u001b[1;32m   1002\u001b[0m             \u001b[0;31m# remaining jobs.\u001b[0m\u001b[0;34m\u001b[0m\u001b[0;34m\u001b[0m\u001b[0;34m\u001b[0m\u001b[0m\n\u001b[1;32m   1003\u001b[0m             \u001b[0mself\u001b[0m\u001b[0;34m.\u001b[0m\u001b[0m_iterating\u001b[0m \u001b[0;34m=\u001b[0m \u001b[0;32mFalse\u001b[0m\u001b[0;34m\u001b[0m\u001b[0;34m\u001b[0m\u001b[0m\n\u001b[0;32m-> 1004\u001b[0;31m             \u001b[0;32mif\u001b[0m \u001b[0mself\u001b[0m\u001b[0;34m.\u001b[0m\u001b[0mdispatch_one_batch\u001b[0m\u001b[0;34m(\u001b[0m\u001b[0miterator\u001b[0m\u001b[0;34m)\u001b[0m\u001b[0;34m:\u001b[0m\u001b[0;34m\u001b[0m\u001b[0;34m\u001b[0m\u001b[0m\n\u001b[0m\u001b[1;32m   1005\u001b[0m                 \u001b[0mself\u001b[0m\u001b[0;34m.\u001b[0m\u001b[0m_iterating\u001b[0m \u001b[0;34m=\u001b[0m \u001b[0mself\u001b[0m\u001b[0;34m.\u001b[0m\u001b[0m_original_iterator\u001b[0m \u001b[0;32mis\u001b[0m \u001b[0;32mnot\u001b[0m \u001b[0;32mNone\u001b[0m\u001b[0;34m\u001b[0m\u001b[0;34m\u001b[0m\u001b[0m\n\u001b[1;32m   1006\u001b[0m \u001b[0;34m\u001b[0m\u001b[0m\n",
      "\u001b[0;32m~/anaconda3/envs/geospatial/lib/python3.8/site-packages/joblib/parallel.py\u001b[0m in \u001b[0;36mdispatch_one_batch\u001b[0;34m(self, iterator)\u001b[0m\n\u001b[1;32m    806\u001b[0m                 \u001b[0mbig_batch_size\u001b[0m \u001b[0;34m=\u001b[0m \u001b[0mbatch_size\u001b[0m \u001b[0;34m*\u001b[0m \u001b[0mn_jobs\u001b[0m\u001b[0;34m\u001b[0m\u001b[0;34m\u001b[0m\u001b[0m\n\u001b[1;32m    807\u001b[0m \u001b[0;34m\u001b[0m\u001b[0m\n\u001b[0;32m--> 808\u001b[0;31m                 \u001b[0mislice\u001b[0m \u001b[0;34m=\u001b[0m \u001b[0mlist\u001b[0m\u001b[0;34m(\u001b[0m\u001b[0mitertools\u001b[0m\u001b[0;34m.\u001b[0m\u001b[0mislice\u001b[0m\u001b[0;34m(\u001b[0m\u001b[0miterator\u001b[0m\u001b[0;34m,\u001b[0m \u001b[0mbig_batch_size\u001b[0m\u001b[0;34m)\u001b[0m\u001b[0;34m)\u001b[0m\u001b[0;34m\u001b[0m\u001b[0;34m\u001b[0m\u001b[0m\n\u001b[0m\u001b[1;32m    809\u001b[0m                 \u001b[0;32mif\u001b[0m \u001b[0mlen\u001b[0m\u001b[0;34m(\u001b[0m\u001b[0mislice\u001b[0m\u001b[0;34m)\u001b[0m \u001b[0;34m==\u001b[0m \u001b[0;36m0\u001b[0m\u001b[0;34m:\u001b[0m\u001b[0;34m\u001b[0m\u001b[0;34m\u001b[0m\u001b[0m\n\u001b[1;32m    810\u001b[0m                     \u001b[0;32mreturn\u001b[0m \u001b[0;32mFalse\u001b[0m\u001b[0;34m\u001b[0m\u001b[0;34m\u001b[0m\u001b[0m\n",
      "\u001b[0;32m<ipython-input-13-49a6fc9a8cf0>\u001b[0m in \u001b[0;36m<genexpr>\u001b[0;34m(.0)\u001b[0m\n\u001b[1;32m     13\u001b[0m \u001b[0;31m#hags = Parallel(n_jobs=10, verbose=5)(delayed(calculateHAG)(file, loc_hag, overwrite=False) for file in dsms)\u001b[0m\u001b[0;34m\u001b[0m\u001b[0;34m\u001b[0m\u001b[0;34m\u001b[0m\u001b[0m\n\u001b[1;32m     14\u001b[0m \u001b[0;31m#print(\"Finished with HAGS\")\u001b[0m\u001b[0;34m\u001b[0m\u001b[0;34m\u001b[0m\u001b[0;34m\u001b[0m\u001b[0m\n\u001b[0;32m---> 15\u001b[0;31m \u001b[0mdistance_files\u001b[0m \u001b[0;34m=\u001b[0m \u001b[0mParallel\u001b[0m\u001b[0;34m(\u001b[0m\u001b[0mn_jobs\u001b[0m\u001b[0;34m=\u001b[0m\u001b[0;36m10\u001b[0m\u001b[0;34m,\u001b[0m \u001b[0mverbose\u001b[0m\u001b[0;34m=\u001b[0m\u001b[0;36m10\u001b[0m\u001b[0;34m)\u001b[0m\u001b[0;34m(\u001b[0m\u001b[0mdelayed\u001b[0m\u001b[0;34m(\u001b[0m\u001b[0mcalculateDTG\u001b[0m\u001b[0;34m)\u001b[0m\u001b[0;34m(\u001b[0m\u001b[0mfile\u001b[0m\u001b[0;34m,\u001b[0m \u001b[0mloc_hag\u001b[0m\u001b[0;34m,\u001b[0m \u001b[0mloc_dtg\u001b[0m\u001b[0;34m,\u001b[0m \u001b[0mthreshold\u001b[0m\u001b[0;34m=\u001b[0m\u001b[0;36m4\u001b[0m\u001b[0;34m,\u001b[0m \u001b[0moverwrite\u001b[0m\u001b[0;34m=\u001b[0m\u001b[0;32mTrue\u001b[0m\u001b[0;34m)\u001b[0m \u001b[0;32mfor\u001b[0m \u001b[0mfile\u001b[0m \u001b[0;32min\u001b[0m \u001b[0mdsms\u001b[0m\u001b[0;34m)\u001b[0m\u001b[0;34m\u001b[0m\u001b[0;34m\u001b[0m\u001b[0m\n\u001b[0m",
      "\u001b[0;31mNameError\u001b[0m: name 'calculateDTG' is not defined"
     ]
    }
   ],
   "source": [
    "loc_dsm = '../EPCExtent_30cm/Elevation_80cmNPS/DSM80cm/'\n",
    "dsms = [os.path.join(loc_dsm,f) for f in os.listdir(loc_dsm) if f.endswith(\".tif\")]\n",
    "\n",
    "loc_demVRT = os.path.abspath(\"../OtherData/10mDEMs/DEM10mNED.vrt\")\n",
    "loc_dsmVRT = os.path.abspath(\"../EPCExtent_30cm/Elevation_80cmNPS/DSM80cm/EPC_DSM80cm_2019.vrt\")\n",
    "loc_hag = os.path.abspath(\"../EPCExtent_30cm/Elevation_80cmNPS/HAG_NED_80cm\")\n",
    "loc_dtg = os.path.abspath(\"../EPCExtent_30cm/Elevation_80cmNPS/HAG_NED_80cm_DTG\")\n",
    "\n",
    "os.makedirs(loc_hag, exist_ok=True)\n",
    "os.makedirs(loc_dtg, exist_ok=True)\n",
    "\n",
    "\n",
    "#hags = Parallel(n_jobs=10, verbose=5)(delayed(calculateHAG)(file, loc_hag, overwrite=False) for file in dsms)\n",
    "#print(\"Finished with HAGS\")\n",
    "distance_files = Parallel(n_jobs=10, verbose=10)(delayed(calculateDTG)(file, loc_hag, loc_dtg, threshold=4, overwrite=True) for file in dsms)"
   ]
  },
  {
   "cell_type": "code",
   "execution_count": 216,
   "metadata": {},
   "outputs": [
    {
     "name": "stdout",
     "output_type": "stream",
     "text": [
      "FINISHED\n"
     ]
    }
   ],
   "source": [
    "vrt = gdal.BuildVRT(f\"{loc_dtg}/EPC_HAGNEDDTG80cm_2019.vrt\", distance_files)\n",
    "vrt = None\n",
    "print(\"FINISHED\")"
   ]
  },
  {
   "cell_type": "markdown",
   "metadata": {},
   "source": [
    "-------------------------"
   ]
  }
 ],
 "metadata": {
  "kernelspec": {
   "display_name": "Python 3",
   "language": "python",
   "name": "python3"
  },
  "language_info": {
   "codemirror_mode": {
    "name": "ipython",
    "version": 3
   },
   "file_extension": ".py",
   "mimetype": "text/x-python",
   "name": "python",
   "nbconvert_exporter": "python",
   "pygments_lexer": "ipython3",
   "version": "3.8.2"
  }
 },
 "nbformat": 4,
 "nbformat_minor": 4
}
