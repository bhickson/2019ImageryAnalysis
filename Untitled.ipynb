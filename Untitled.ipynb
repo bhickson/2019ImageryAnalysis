{
 "cells": [
  {
   "cell_type": "code",
   "execution_count": 2,
   "metadata": {},
   "outputs": [],
   "source": [
    "import os, shutil\n",
    "import geopandas as gpd\n",
    "import pdal\n",
    "from datetime import datetime"
   ]
  },
  {
   "cell_type": "code",
   "execution_count": 3,
   "metadata": {},
   "outputs": [],
   "source": [
    "classifiedLaz_loc = \"../EPCExtent_30cm/Elevation_80cmNPS/RGB/ground\"\n",
    "outGround_loc = \"../EPCExtent_30cm/Elevation_80cmNPS/DTM80cm\"\n",
    "os.makedirs(outGround_loc, exist_ok=True)\n",
    "tindex = gpd.read_file(\"../EPCExtent_30cm/Elevation_80cmNPS/EPCtindex.gpkg\")"
   ]
  },
  {
   "cell_type": "code",
   "execution_count": 5,
   "metadata": {},
   "outputs": [],
   "source": [
    "json_pipe_base = \"\"\" { \"pipeline\": [ %s, %s ] } \"\"\"\n",
    "\n",
    "writeTIFF = \"\"\"\n",
    "    {\n",
    "        \"type\":\"writers.gdal\",\n",
    "        \"filename\": \"%s\",\n",
    "        \"resolution\": %s,\n",
    "        \"window_size\": %s,\n",
    "        \"nodata\": 0,\n",
    "        \"output_type\": \"idw\",\n",
    "        \"gdalopts\":\"TILED=YES, COMPRESS=LZW\"\n",
    "    }\"\"\"\n"
   ]
  },
  {
   "cell_type": "code",
   "execution_count": 1,
   "metadata": {},
   "outputs": [
    {
     "data": {
      "text/plain": [
       "3270"
      ]
     },
     "execution_count": 1,
     "metadata": {},
     "output_type": "execute_result"
    }
   ],
   "source": [
    "327*10"
   ]
  },
  {
   "cell_type": "code",
   "execution_count": 37,
   "metadata": {},
   "outputs": [],
   "source": [
    "resolution = 0.8/0.3048\n",
    "win_size = 30\n",
    "\n",
    "for i, row in tindex.iterrows():\n",
    "    tile_name = os.path.basename(row.location).replace(\".laz\",\"\")\n",
    "    subtiles = [os.path.join(classifiedLaz_loc,f) for f in os.listdir(classifiedLaz_loc) if tile_name in f]\n",
    "    if len(subtiles) == 8:\n",
    "        out_tiff = os.path.join(outGround_loc, tile_name + \"_DTM80cm.tif\")\n",
    "        \n",
    "        if not os.path.exists(out_tiff):\n",
    "            t1 = datetime.now()\n",
    "            print(f\"Creating {out_tiff}\")\n",
    "            tiff_pipeline = writeTIFF % (out_tiff, resolution, win_size)\n",
    "            pipeline_json = json_pipe_base % ('\"'+ '\", \"'.join(subtiles)+'\"', tiff_pipeline)\n",
    "\n",
    "            pipeline = pdal.Pipeline(pipeline_json)\n",
    "            pipeline.loglevel = 8\n",
    "\n",
    "            start = datetime.now()\n",
    "            try:\n",
    "                pipeline.execute()\n",
    "                t2 = datetime.now()\n",
    "                print(f\"Finished {out_tiff} in {t2-t1}\")\n",
    "            except RuntimeError:\n",
    "                print(f\"Failed for {out_tiff}\\n{RuntimeError}\")\n"
   ]
  },
  {
   "cell_type": "code",
   "execution_count": 35,
   "metadata": {},
   "outputs": [
    {
     "data": {
      "text/html": [
       "<div>\n",
       "<style scoped>\n",
       "    .dataframe tbody tr th:only-of-type {\n",
       "        vertical-align: middle;\n",
       "    }\n",
       "\n",
       "    .dataframe tbody tr th {\n",
       "        vertical-align: top;\n",
       "    }\n",
       "\n",
       "    .dataframe thead th {\n",
       "        text-align: right;\n",
       "    }\n",
       "</style>\n",
       "<table border=\"1\" class=\"dataframe\">\n",
       "  <thead>\n",
       "    <tr style=\"text-align: right;\">\n",
       "      <th></th>\n",
       "      <th>originFile</th>\n",
       "      <th>subIndex</th>\n",
       "      <th>geometry</th>\n",
       "    </tr>\n",
       "  </thead>\n",
       "  <tbody>\n",
       "    <tr>\n",
       "      <th>0</th>\n",
       "      <td>/media/ben/Bertha/PAG2019/EPCExtent_30cm/Eleva...</td>\n",
       "      <td>1</td>\n",
       "      <td>POLYGON ((779739.610 196540.167, 786579.567 19...</td>\n",
       "    </tr>\n",
       "    <tr>\n",
       "      <th>1</th>\n",
       "      <td>/media/ben/Bertha/PAG2019/EPCExtent_30cm/Eleva...</td>\n",
       "      <td>2</td>\n",
       "      <td>POLYGON ((786579.567 196540.167, 793419.523 19...</td>\n",
       "    </tr>\n",
       "    <tr>\n",
       "      <th>2</th>\n",
       "      <td>/media/ben/Bertha/PAG2019/EPCExtent_30cm/Eleva...</td>\n",
       "      <td>3</td>\n",
       "      <td>POLYGON ((793419.523 196540.167, 800259.480 19...</td>\n",
       "    </tr>\n",
       "    <tr>\n",
       "      <th>3</th>\n",
       "      <td>/media/ben/Bertha/PAG2019/EPCExtent_30cm/Eleva...</td>\n",
       "      <td>4</td>\n",
       "      <td>POLYGON ((779739.610 203380.123, 786579.567 20...</td>\n",
       "    </tr>\n",
       "    <tr>\n",
       "      <th>4</th>\n",
       "      <td>/media/ben/Bertha/PAG2019/EPCExtent_30cm/Eleva...</td>\n",
       "      <td>5</td>\n",
       "      <td>POLYGON ((786579.567 203380.123, 793419.523 20...</td>\n",
       "    </tr>\n",
       "    <tr>\n",
       "      <th>5</th>\n",
       "      <td>/media/ben/Bertha/PAG2019/EPCExtent_30cm/Eleva...</td>\n",
       "      <td>6</td>\n",
       "      <td>POLYGON ((793419.523 203380.123, 800259.480 20...</td>\n",
       "    </tr>\n",
       "    <tr>\n",
       "      <th>6</th>\n",
       "      <td>/media/ben/Bertha/PAG2019/EPCExtent_30cm/Eleva...</td>\n",
       "      <td>7</td>\n",
       "      <td>POLYGON ((779739.610 210220.080, 786579.567 21...</td>\n",
       "    </tr>\n",
       "    <tr>\n",
       "      <th>7</th>\n",
       "      <td>/media/ben/Bertha/PAG2019/EPCExtent_30cm/Eleva...</td>\n",
       "      <td>8</td>\n",
       "      <td>POLYGON ((786579.567 210220.080, 793419.523 21...</td>\n",
       "    </tr>\n",
       "    <tr>\n",
       "      <th>8</th>\n",
       "      <td>/media/ben/Bertha/PAG2019/EPCExtent_30cm/Eleva...</td>\n",
       "      <td>9</td>\n",
       "      <td>POLYGON ((793419.523 210220.080, 800259.480 21...</td>\n",
       "    </tr>\n",
       "    <tr>\n",
       "      <th>9</th>\n",
       "      <td>/media/ben/Bertha/PAG2019/EPCExtent_30cm/Eleva...</td>\n",
       "      <td>1</td>\n",
       "      <td>POLYGON ((779739.610 216540.167, 786579.567 21...</td>\n",
       "    </tr>\n",
       "  </tbody>\n",
       "</table>\n",
       "</div>"
      ],
      "text/plain": [
       "                                          originFile  subIndex  \\\n",
       "0  /media/ben/Bertha/PAG2019/EPCExtent_30cm/Eleva...         1   \n",
       "1  /media/ben/Bertha/PAG2019/EPCExtent_30cm/Eleva...         2   \n",
       "2  /media/ben/Bertha/PAG2019/EPCExtent_30cm/Eleva...         3   \n",
       "3  /media/ben/Bertha/PAG2019/EPCExtent_30cm/Eleva...         4   \n",
       "4  /media/ben/Bertha/PAG2019/EPCExtent_30cm/Eleva...         5   \n",
       "5  /media/ben/Bertha/PAG2019/EPCExtent_30cm/Eleva...         6   \n",
       "6  /media/ben/Bertha/PAG2019/EPCExtent_30cm/Eleva...         7   \n",
       "7  /media/ben/Bertha/PAG2019/EPCExtent_30cm/Eleva...         8   \n",
       "8  /media/ben/Bertha/PAG2019/EPCExtent_30cm/Eleva...         9   \n",
       "9  /media/ben/Bertha/PAG2019/EPCExtent_30cm/Eleva...         1   \n",
       "\n",
       "                                            geometry  \n",
       "0  POLYGON ((779739.610 196540.167, 786579.567 19...  \n",
       "1  POLYGON ((786579.567 196540.167, 793419.523 19...  \n",
       "2  POLYGON ((793419.523 196540.167, 800259.480 19...  \n",
       "3  POLYGON ((779739.610 203380.123, 786579.567 20...  \n",
       "4  POLYGON ((786579.567 203380.123, 793419.523 20...  \n",
       "5  POLYGON ((793419.523 203380.123, 800259.480 20...  \n",
       "6  POLYGON ((779739.610 210220.080, 786579.567 21...  \n",
       "7  POLYGON ((786579.567 210220.080, 793419.523 21...  \n",
       "8  POLYGON ((793419.523 210220.080, 800259.480 21...  \n",
       "9  POLYGON ((779739.610 216540.167, 786579.567 21...  "
      ]
     },
     "execution_count": 35,
     "metadata": {},
     "output_type": "execute_result"
    }
   ],
   "source": [
    "import geopandas as gpd\n",
    "import os\n",
    "from shapely.geometry import Polygon\n",
    "import numpy as np\n"
   ]
  }
 ],
 "metadata": {
  "kernelspec": {
   "display_name": "Python 3",
   "language": "python",
   "name": "python3"
  },
  "language_info": {
   "codemirror_mode": {
    "name": "ipython",
    "version": 3
   },
   "file_extension": ".py",
   "mimetype": "text/x-python",
   "name": "python",
   "nbconvert_exporter": "python",
   "pygments_lexer": "ipython3",
   "version": "3.8.2"
  }
 },
 "nbformat": 4,
 "nbformat_minor": 4
}
