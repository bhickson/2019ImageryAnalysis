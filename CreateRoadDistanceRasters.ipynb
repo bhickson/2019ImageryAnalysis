{
 "cells": [
  {
   "cell_type": "code",
   "execution_count": 1,
   "metadata": {},
   "outputs": [],
   "source": [
    "# create Road distance rasters"
   ]
  },
  {
   "cell_type": "code",
   "execution_count": 36,
   "metadata": {},
   "outputs": [
    {
     "name": "stderr",
     "output_type": "stream",
     "text": [
      "C:\\Users\\BenJames\\anaconda3\\envs\\geospatial\\lib\\site-packages\\geopandas\\geodataframe.py:294: RuntimeWarning: Sequential read of iterator was interrupted. Resetting iterator. This can negatively impact the performance.\n",
      "  for f in features_lst:\n"
     ]
    },
    {
     "name": "stdout",
     "output_type": "stream",
     "text": [
      "The chime extension is already loaded. To reload it, use:\n",
      "  %reload_ext chime\n",
      "Reading in ../OtherData/TrainingData/asphaultPoly.gpkg...\n"
     ]
    },
    {
     "name": "stderr",
     "output_type": "stream",
     "text": [
      "C:\\Users\\BenJames\\anaconda3\\envs\\geospatial\\lib\\site-packages\\geopandas\\geodataframe.py:294: RuntimeWarning: Sequential read of iterator was interrupted. Resetting iterator. This can negatively impact the performance.\n",
      "  for f in features_lst:\n"
     ]
    }
   ],
   "source": [
    "%load_ext chime\n",
    "import rasterio as rio\n",
    "from rasterio.mask import mask\n",
    "import geopandas as gpd\n",
    "from shapely.ops import substring\n",
    "from time import sleep\n",
    "import numpy as np\n",
    "from scipy.ndimage import distance_transform_edt\n",
    "import os\n",
    "from glob import glob\n",
    "from datetime import datetime\n",
    "from shapely.geometry import box\n",
    "import chime\n",
    "from joblib import Parallel, delayed\n",
    "from rasterio.mask import raster_geometry_mask\n",
    "from math import ceil, floor\n",
    "import nbimporter\n",
    "from KeyFunctions import *\n",
    "import gdal\n",
    "\n",
    "roadDistance_dir = \"../EPCExtent_30cm/RoadDistances\"\n",
    "os.makedirs(roadDistance_dir, exist_ok=True)\n",
    "orthoseg_loc = os.path.abspath(\"../EPCExtent_30cm/Orthos_Segmented\")\n",
    "orthos = [os.path.abspath(f) for f in glob(\"../EPCExtent_30cm/Orthos/*.tif\")]\n",
    "ortho15cmvrt_loc = r\"D:/20191212_AZ_PIMA/2019_UrbanExtent_15cm/UGT_15cmOrtho_2019.vrt\"\n",
    "ortho30cmvrt_loc = os.path.abspath(\"../EPCExtent_30cm/Orthos/EPC_30cmOrtho_2019.vrt\")\n",
    "hagvrt_loc = os.path.abspath(\"../EPCExtent_30cm/Elevation_80cmNPS/HAG_2015/HAG_2015.vrt\")\n",
    "\n",
    "tileindex = gpd.read_file(\"../EPCExtent_30cm/Orthos/2019_LULC_EPCExtent_30cm_index.shp\")\n",
    "tifsfootprint = tileindex.geometry.unary_union\n",
    "\n",
    "asphaultPoly_loc = \"../OtherData/TrainingData/asphaultPoly.gpkg\"\n",
    "osm_paved = \"../OtherData/OSMRoadsPimaPaved_20201124.gpkg\"\n",
    "print(f\"Reading in {asphaultPoly_loc}...\")\n",
    "road_targets = gpd.read_file(osm_paved)\n",
    "bad_roads = [\"path\", \"residential\", \"cycleway\", \"service\",\"footway\",\"pedestrian\",\"living_street\",\"steps\",\"unknown\",\"bridleway\", \"unclassified\"]\n",
    "\n",
    "\n",
    "boxesdf_loc = \"../EPCExtent_30cm/Ortho_5kSubIndex.gpkg\"\n",
    "ruralRegions_loc = r\"../OtherData/TrainingData/DesertBarrenVegetation_2015.gpkg\"\n",
    "hag_tindex_loc = \"../EPCExtent_30cm/Elevation_80cmNPS/HAG_2015/HAG_tindex.gpkg\"\n",
    "\n",
    "boxesdf = gpd.read_file(boxesdf_loc)\n",
    "boxesdf.filepath = boxesdf.filepath.apply(lambda fp: fp.replace(\"/mnt/Bertha/PAG2019/EPCExtent_30cm/Orthos_Segmented\", \"../EPCExtent_30cm/Orthos_Segmentedv2\"))\n",
    "boxesdf[\"geometry\"] = boxesdf[\"geometry\"].apply(lambda g: box(*g.buffer(-50).bounds))\n",
    "\n",
    "hag_tindex = gpd.read_file(hag_tindex_loc)\n",
    "rural_regions = gpd.read_file(ruralRegions_loc)"
   ]
  },
  {
   "cell_type": "code",
   "execution_count": 48,
   "metadata": {},
   "outputs": [],
   "source": [
    "def done():\n",
    "    chime.theme(\"zelda\")\n",
    "    %chime\n",
    "    chime.theme(\"material\")\n",
    "\n",
    "\n",
    "def getCommonLandcover(street, writeRasters=False):\n",
    "    index = street.name\n",
    "    \n",
    "    if index % 5000 == 0:\n",
    "        print(f\"On {index} @ {datetime.now()}\")\n",
    "    \n",
    "    length = street.geometry.length\n",
    "    substrings = []\n",
    "    if length > splitlength:\n",
    "        for i in range(0, ceil(length), splitlength):\n",
    "            start = i\n",
    "            end = i + splitlength if i+splitlength < length else length\n",
    "            substrings.append(substring(street.geometry, start, end))\n",
    "    else:\n",
    "        substrings.append(street.geometry)\n",
    "        \n",
    "    try:\n",
    "        commonCovers = []\n",
    "\n",
    "        for i, string in enumerate(substrings):\n",
    "            stringPoly = string.buffer(5)\n",
    "\n",
    "            with rio.open(landcover) as src:\n",
    "                kwargs = src.profile\n",
    "                segMask, segTransform, segWindow = raster_geometry_mask(src, [stringPoly], all_touched=True, crop=True, pad=True)\n",
    "                landcoverData = src.read(1, window=segWindow)\n",
    "                landcoverData[segMask] = src.nodata\n",
    "                maskedData = landcoverData[~segMask]\n",
    "                validValues = maskedData[maskedData!=src.nodata] # for segments that run outside of extent of landcover there may be nodata value on the segement\n",
    "                unique, frequency = np.unique(validValues, return_counts = True)\n",
    "                mostCommon = unique[np.argwhere(frequency.max() == frequency)][0][0]\n",
    "                \n",
    "                commonCovers.append(coverLookup[mostCommon])\n",
    "            if writeRasters:\n",
    "                os.makedirs(\"./temp\", exist_ok=True)\n",
    "                oras = os.path.join(\"./temp\", str(street.PC_UID) + f\"_{i}.tif\")\n",
    "                kwargs.update(transform=segTransform, driver=\"GTIFF\", width=landcoverData.shape[1], height=landcoverData.shape[0])\n",
    "                with rio.open(oras, 'w', **kwargs) as dst:\n",
    "                    dst.write(landcoverData, 1)\n",
    "\n",
    "        return \",\".join(set(commonCovers))\n",
    "    except ValueError:\n",
    "        #print(f\"Index {index} out of coverage\")\n",
    "        return None     \n",
    "\n",
    "\n",
    "def createDistanceRaster(geom, rasterpath, odir, overwrite=False, buffer_size=10):\n",
    "    try:\n",
    "        ofile = os.path.join(odir, os.path.basename(rasterpath).replace(\".tif\",\"_dist.tif\"))\n",
    "        if os.path.exists(ofile) and not overwrite:\n",
    "            return ofile\n",
    "        \n",
    "        geom = geom.buffer(buffer_size)\n",
    "        \n",
    "        if \"Multi\" not in geom.type:\n",
    "            geom = [geom]\n",
    "        with rio.open(rasterpath) as src:\n",
    "            kwargs = src.profile\n",
    "            reso = src.res[0]\n",
    "            ds, ds_trans = mask(src, geom, all_touched=False, crop=False, filled=False)\n",
    "        \n",
    "        distance = distance_transform_edt(ds.mask[0]) * reso\n",
    "\n",
    "        kwargs.update(count=1,dtype=np.uint16, compress=\"LZW\")\n",
    "\n",
    "\n",
    "        with rio.open(ofile, \"w\", **kwargs) as dst:\n",
    "            dst.write(distance.astype(np.uint16), 1)\n",
    "\n",
    "        print(f\"Finished {ofile} - {datetime.now()}\")\n",
    "        return ofile\n",
    "    except:\n",
    "        print(f\"FAILED FOR {os.path.basename(ofile)}\")\n",
    "        return None"
   ]
  },
  {
   "cell_type": "code",
   "execution_count": 57,
   "metadata": {},
   "outputs": [
    {
     "name": "stderr",
     "output_type": "stream",
     "text": [
      "[Parallel(n_jobs=6)]: Using backend LokyBackend with 6 concurrent workers.\n",
      "[Parallel(n_jobs=6)]: Done   6 tasks      | elapsed:   15.1s\n",
      "[Parallel(n_jobs=6)]: Done  60 tasks      | elapsed:  2.5min\n",
      "[Parallel(n_jobs=6)]: Done 150 tasks      | elapsed:  6.1min\n",
      "[Parallel(n_jobs=6)]: Done 276 tasks      | elapsed: 11.1min\n",
      "[Parallel(n_jobs=6)]: Done 438 tasks      | elapsed: 17.8min\n",
      "[Parallel(n_jobs=6)]: Done 636 tasks      | elapsed: 24.3min\n",
      "[Parallel(n_jobs=6)]: Done 870 tasks      | elapsed: 32.0min\n",
      "[Parallel(n_jobs=6)]: Done 1140 tasks      | elapsed: 41.0min\n",
      "[Parallel(n_jobs=6)]: Done 1446 tasks      | elapsed: 49.2min\n",
      "[Parallel(n_jobs=6)]: Done 1788 tasks      | elapsed: 59.5min\n",
      "[Parallel(n_jobs=6)]: Done 2166 tasks      | elapsed: 73.7min\n",
      "[Parallel(n_jobs=6)]: Done 2580 tasks      | elapsed: 89.9min\n",
      "[Parallel(n_jobs=6)]: Done 3030 tasks      | elapsed: 109.1min\n"
     ]
    },
    {
     "name": "stdout",
     "output_type": "stream",
     "text": [
      "Wall time: 1h 56min 27s\n"
     ]
    },
    {
     "name": "stderr",
     "output_type": "stream",
     "text": [
      "[Parallel(n_jobs=6)]: Done 3189 out of 3189 | elapsed: 115.9min finished\n"
     ]
    }
   ],
   "source": [
    "%%time\n",
    "road_targets_over = gpd.overlay(road_targets, boxesdf, how=\"union\")\n",
    "\n",
    "road_targets_diss = road_targets_over.dissolve(by=\"filepath\", as_index=False)\n",
    "\n",
    "#buffer by 10 so that anything 10 and under is 0 distance\n",
    "roadFiles = Parallel(n_jobs=6, verbose=5)(delayed(createDistanceRaster)(row.geometry, row.filepath, roadDistance_dir, overwrite=True, buffer_size=10) for i, row in road_targets_diss.iterrows())\n",
    "roadFiles = [f for f in roadFiles if f is not None]\n",
    "finished()"
   ]
  },
  {
   "cell_type": "code",
   "execution_count": 56,
   "metadata": {},
   "outputs": [
    {
     "name": "stdout",
     "output_type": "stream",
     "text": [
      "Found\n",
      "Finished ../EPCExtent_30cm/RoadDistances\\W974789_W464850_Segmented_dist.tif - 2021-05-05 10:55:18.750291\n"
     ]
    }
   ],
   "source": [
    "for i, row in road_targets_diss.iterrows():\n",
    "    if row.path == \"W974789\" and row.row == \"W464850\":\n",
    "        print(\"Found\")\n",
    "        createDistanceRaster(row.geometry, row.filepath, roadDistance_dir, overwrite=True, buffer_size=10)"
   ]
  },
  {
   "cell_type": "code",
   "execution_count": 39,
   "metadata": {},
   "outputs": [
    {
     "name": "stdout",
     "output_type": "stream",
     "text": [
      "Created ../EPCExtent_30cm/RoadDistances\\EPCRoadDistance_2019.vrt\n"
     ]
    }
   ],
   "source": [
    "vrt_file = os.path.join(roadDistance_dir, \"EPCRoadDistance_2019.vrt\")\n",
    "vrt = gdal.BuildVRT(vrt_file, roadFiles)\n",
    "del vrt\n",
    "print(f\"Created {vrt_file}\")\n",
    "done()"
   ]
  },
  {
   "cell_type": "code",
   "execution_count": null,
   "metadata": {},
   "outputs": [],
   "source": []
  },
  {
   "cell_type": "code",
   "execution_count": null,
   "metadata": {},
   "outputs": [],
   "source": []
  },
  {
   "cell_type": "code",
   "execution_count": null,
   "metadata": {},
   "outputs": [],
   "source": []
  },
  {
   "cell_type": "code",
   "execution_count": 40,
   "metadata": {},
   "outputs": [
    {
     "name": "stdout",
     "output_type": "stream",
     "text": [
      "['motorway' 'secondary' 'residential' 'track' 'service' 'motorway_link'\n",
      " 'unclassified' 'road' 'tertiary' 'trunk_link' 'secondary_link' 'trunk'\n",
      " 'primary' 'primary_link' 'tertiary_link']\n",
      "(59444, 36)\n"
     ]
    }
   ],
   "source": [
    "road_targets = gpd.read_file(osm_paved)\n",
    "print(road_targets.highway.unique())\n",
    "#bad_roads = [\"path\", \"cycleway\", \"service\",\"footway\",\"pedestrian\",\"living_street\",\"steps\",\"unknown\",\"bridleway\", \"unclassified\"]\n",
    "#print(road_targets.shape)\n",
    "#road_targets = road_targets[~road_targets.highway.isin(bad_roads)]\n",
    "print(road_targets.shape)"
   ]
  },
  {
   "cell_type": "code",
   "execution_count": 44,
   "metadata": {},
   "outputs": [
    {
     "name": "stdout",
     "output_type": "stream",
     "text": [
      "On 0 @ 2021-05-05 09:45:58.340098\n",
      "On 5000 @ 2021-05-05 09:51:10.865128\n",
      "On 10000 @ 2021-05-05 09:55:29.977270\n",
      "On 15000 @ 2021-05-05 09:59:57.522480\n",
      "On 20000 @ 2021-05-05 10:04:32.235727\n",
      "On 25000 @ 2021-05-05 10:08:46.671008\n",
      "On 30000 @ 2021-05-05 10:13:08.154674\n",
      "On 35000 @ 2021-05-05 10:17:19.132225\n",
      "On 40000 @ 2021-05-05 10:21:32.479429\n",
      "On 45000 @ 2021-05-05 10:25:46.396720\n",
      "On 50000 @ 2021-05-05 10:30:01.242720\n",
      "On 55000 @ 2021-05-05 10:34:19.352623\n",
      "['impervious' 'trees/shrubs' 'desert']\n",
      "['impervious' 'road,impervious' 'barren' 'desert' 'desert,impervious'\n",
      " 'road' 'barren,impervious' 'structure' 'desert,barren' 'irrigated land'\n",
      " 'trees/shrubs']\n",
      "['barren' 'impervious' 'desert' 'desert,barren' 'road'\n",
      " 'desert,trees/shrubs' None 'trees/shrubs' 'road,desert'\n",
      " 'barren,impervious' 'irrigated land' 'trees/shrubs,barren'\n",
      " 'desert,impervious' 'desert,irrigated land,barren'\n",
      " 'irrigated land,barren' 'desert,barren,impervious' 'road,barren'\n",
      " 'structure' 'water,barren' 'road,desert,barren' 'road,impervious']\n",
      "['trees/shrubs' 'desert' 'barren' 'desert,trees/shrubs' 'desert,barren'\n",
      " None 'road' 'desert,impervious' 'road,barren'\n",
      " 'desert,trees/shrubs,barren' 'impervious' 'trees/shrubs,barren'\n",
      " 'irrigated land']\n",
      "['desert,barren' 'impervious' 'barren' 'desert' 'desert,impervious' 'road'\n",
      " 'trees/shrubs' None 'barren,impervious' 'structure' 'desert,trees/shrubs'\n",
      " 'irrigated land' 'irrigated land,barren' 'irrigated land,impervious'\n",
      " 'water' 'trees/shrubs,barren']\n",
      "['impervious' 'barren' 'trees/shrubs' 'desert']\n",
      "['barren' 'trees/shrubs' None 'desert,barren' 'impervious' 'road,desert'\n",
      " 'barren,impervious' 'desert' 'road' 'road,desert,barren' 'road,barren'\n",
      " 'road,impervious' 'desert,impervious']\n",
      "['desert,impervious' 'impervious' 'desert' None 'barren'\n",
      " 'barren,impervious']\n",
      "['impervious' 'desert,impervious' 'barren' 'barren,impervious'\n",
      " 'road,barren' 'road' 'desert' 'road,impervious' None\n",
      " 'road,desert,impervious' 'irrigated land,impervious' 'trees/shrubs']\n",
      "['impervious' 'barren']\n",
      "['impervious' 'barren' 'trees/shrubs' 'irrigated land' 'desert']\n",
      "['impervious' 'barren']\n",
      "['impervious' 'road' 'desert,impervious' 'trees/shrubs' 'barren' None\n",
      " 'desert' 'road,impervious' 'desert,trees/shrubs']\n",
      "['impervious' 'road' 'trees/shrubs' 'barren' 'desert']\n",
      "['impervious' 'desert' 'barren,impervious']\n",
      "FINISHED\n"
     ]
    }
   ],
   "source": [
    "splitlength = 5000\n",
    "coverLookup = {1:\"water\", 2:\"trees/shrubs\", 3:\"irrigated land\", 4: \"desert\", 5:\"barren\", 6:\"impervious\", 7:\"structure\", 8:\"road\"}\n",
    "landcover = r\"C:\\Users\\BenJames\\Documents\\PAG-Data\\DirtRoads\\pima_landcover_noroads\\pima_landcover_noroads.img\"\n",
    "\n",
    "\n",
    "road_targets[\"Landcover\"] = road_targets.apply(lambda r: getCommonLandcover(r), axis=1)\n",
    "for h in road_targets.highway.unique():\n",
    "    print(road_targets[road_targets.highway == h].Landcover.unique())\n",
    "\n",
    "road_targets.to_file(\"road_targets_Landcover.gpkg\", driver=\"GPKG\")\n",
    "print(\"FINISHED\")\n",
    "done()"
   ]
  },
  {
   "cell_type": "code",
   "execution_count": null,
   "metadata": {},
   "outputs": [],
   "source": [
    "#possibly_not_impervious = [\"residential\", \"service\", \"track\", \"unclassified\"]\n",
    "#road_targets[\"Landcover\"] = \"impervious\"\n",
    "#road_targets[\"Landcover\"] = road_targets.apply(lambda r: getCommonLandcover(r) if r.highway in possibly_not_impervious else \"impervious\", axis=1)"
   ]
  },
  {
   "cell_type": "code",
   "execution_count": 27,
   "metadata": {},
   "outputs": [
    {
     "name": "stdout",
     "output_type": "stream",
     "text": [
      "The chime extension is already loaded. To reload it, use:\n",
      "  %reload_ext chime\n"
     ]
    }
   ],
   "source": [
    "%load_ext chime\n",
    "import rasterio as rio\n",
    "from rasterio.windows import from_bounds, transform\n",
    "import geopandas as gpd\n",
    "import pandas as pd\n",
    "import numpy as np\n",
    "\n",
    "lulc_2015_loc =\"/media/ben/56A08937A0891E9D/Users/BenJames/Documents/PAG-Data/DirtRoads/pima_landcover_noroads/pima_landcover_noroads.img\"\n",
    "\n",
    "boxesdf_loc = \"../EPCExtent_30cm/Ortho_5kSubIndex.gpkg\"\n",
    "boxesdf = gpd.read_file(boxesdf_loc)\n",
    "\n",
    "#tarWin = boxesdf[(boxesdf.path == \"W999789\") & (boxesdf.row==\"W454850\")].geometry.values[0]\n",
    "#bnds = tarWin.bounds\n",
    "#print(bnds)\n",
    "\n",
    "values_2015 = {1: \"Water\", 2:\"Trees/Shrubs\", 3:\"Irrigated\" , 4:\"Desert\", 5:\"Barren\", 6:\"Impervious\", 7:\"Structure\", 8:\"Road\"}\n",
    "\n",
    "def getLocal2015Values(row):\n",
    "    \n",
    "    bnds = row.geometry.bounds\n",
    "\n",
    "    with rio.open(lulc_2015_loc) as src:\n",
    "        twin = from_bounds(bnds[0], bnds[1], bnds[2], bnds[3], transform=src.transform)\n",
    "        wtrans = transform(twin, src.transform)\n",
    "        nd = src.nodata\n",
    "        window_array = src.read(1, window=twin)\n",
    "\n",
    "        values, counts = np.unique(window_array, return_counts=True)\n",
    "        total = counts.sum()\n",
    "        vcs = dict(zip(values, counts))\n",
    "        \n",
    "        local_ratios_2015 = {}\n",
    "        for v in value_cols:\n",
    "            local_ratios_2015[v] = 0\n",
    "            \n",
    "        for k,v in vcs.items():\n",
    "            if k == 255:\n",
    "                continue\n",
    "            local_ratios_2015[values_2015[k]] = v/total\n",
    "                \n",
    "        values = [local_ratios_2015[v] for v in value_cols]\n",
    "        \n",
    "        return pd.Series(values)"
   ]
  },
  {
   "cell_type": "code",
   "execution_count": 28,
   "metadata": {},
   "outputs": [],
   "source": [
    "value_cols = [v for k, v in values_2015.items()]\n",
    "boxesdf[value_cols] = boxesdf.apply(lambda r: getLocal2015Values(r), axis=1)\n",
    "#t = boxesdf[(boxesdf.path == \"W999789\") & (boxesdf.row==\"W454850\")].copy()\n",
    "#t[value_cols] = t.apply(lambda r: getLocal2015Values(r), axis=1)\n",
    "#t.head()\n",
    "%chime"
   ]
  },
  {
   "cell_type": "code",
   "execution_count": 114,
   "metadata": {},
   "outputs": [],
   "source": [
    "values_2019 = {1: \"PondLake\", 2: \"Pool\", 3:\"Barren\", 4:\"SparseVeg\", 5:\"DenseVeg\", 6:\"Irrigated\", 7:\"Asphault\", 8:\"Impervious\", 9:\"Structure\"}\n"
   ]
  },
  {
   "cell_type": "code",
   "execution_count": 29,
   "metadata": {},
   "outputs": [
    {
     "data": {
      "text/html": [
       "<div>\n",
       "<style scoped>\n",
       "    .dataframe tbody tr th:only-of-type {\n",
       "        vertical-align: middle;\n",
       "    }\n",
       "\n",
       "    .dataframe tbody tr th {\n",
       "        vertical-align: top;\n",
       "    }\n",
       "\n",
       "    .dataframe thead th {\n",
       "        text-align: right;\n",
       "    }\n",
       "</style>\n",
       "<table border=\"1\" class=\"dataframe\">\n",
       "  <thead>\n",
       "    <tr style=\"text-align: right;\">\n",
       "      <th></th>\n",
       "      <th>path</th>\n",
       "      <th>row</th>\n",
       "      <th>filepath</th>\n",
       "      <th>geometry</th>\n",
       "      <th>Water</th>\n",
       "      <th>Trees/Shrubs</th>\n",
       "      <th>Irrigated</th>\n",
       "      <th>Desert</th>\n",
       "      <th>Barren</th>\n",
       "      <th>Impervious</th>\n",
       "      <th>Structure</th>\n",
       "      <th>Road</th>\n",
       "    </tr>\n",
       "  </thead>\n",
       "  <tbody>\n",
       "    <tr>\n",
       "      <th>0</th>\n",
       "      <td>W779839</td>\n",
       "      <td>W284850</td>\n",
       "      <td>/mnt/Bertha/PAG2019/EPCExtent_30cm/Orthos_Segm...</td>\n",
       "      <td>POLYGON ((784889.592 279750.201, 784889.592 28...</td>\n",
       "      <td>0.0</td>\n",
       "      <td>0.001607</td>\n",
       "      <td>0.0</td>\n",
       "      <td>0.002759</td>\n",
       "      <td>0.000795</td>\n",
       "      <td>0.0</td>\n",
       "      <td>0.0</td>\n",
       "      <td>0.000023</td>\n",
       "    </tr>\n",
       "    <tr>\n",
       "      <th>1</th>\n",
       "      <td>W779839</td>\n",
       "      <td>W289850</td>\n",
       "      <td>/mnt/Bertha/PAG2019/EPCExtent_30cm/Orthos_Segm...</td>\n",
       "      <td>POLYGON ((784889.592 284750.201, 784889.592 28...</td>\n",
       "      <td>0.0</td>\n",
       "      <td>0.001548</td>\n",
       "      <td>0.0</td>\n",
       "      <td>0.008040</td>\n",
       "      <td>0.001018</td>\n",
       "      <td>0.0</td>\n",
       "      <td>0.0</td>\n",
       "      <td>0.000000</td>\n",
       "    </tr>\n",
       "    <tr>\n",
       "      <th>2</th>\n",
       "      <td>W779839</td>\n",
       "      <td>W294850</td>\n",
       "      <td>/mnt/Bertha/PAG2019/EPCExtent_30cm/Orthos_Segm...</td>\n",
       "      <td>POLYGON ((784889.592 289750.201, 784889.592 29...</td>\n",
       "      <td>0.0</td>\n",
       "      <td>0.000739</td>\n",
       "      <td>0.0</td>\n",
       "      <td>0.013970</td>\n",
       "      <td>0.001354</td>\n",
       "      <td>0.0</td>\n",
       "      <td>0.0</td>\n",
       "      <td>0.000000</td>\n",
       "    </tr>\n",
       "    <tr>\n",
       "      <th>3</th>\n",
       "      <td>W779839</td>\n",
       "      <td>W299850</td>\n",
       "      <td>/mnt/Bertha/PAG2019/EPCExtent_30cm/Orthos_Segm...</td>\n",
       "      <td>POLYGON ((784889.592 294750.201, 784889.592 29...</td>\n",
       "      <td>0.0</td>\n",
       "      <td>0.000384</td>\n",
       "      <td>0.0</td>\n",
       "      <td>0.019929</td>\n",
       "      <td>0.001036</td>\n",
       "      <td>0.0</td>\n",
       "      <td>0.0</td>\n",
       "      <td>0.000134</td>\n",
       "    </tr>\n",
       "    <tr>\n",
       "      <th>4</th>\n",
       "      <td>W779839</td>\n",
       "      <td>W304850</td>\n",
       "      <td>/mnt/Bertha/PAG2019/EPCExtent_30cm/Orthos_Segm...</td>\n",
       "      <td>POLYGON ((784889.592 299750.201, 784889.592 30...</td>\n",
       "      <td>0.0</td>\n",
       "      <td>0.001062</td>\n",
       "      <td>0.0</td>\n",
       "      <td>0.023715</td>\n",
       "      <td>0.002123</td>\n",
       "      <td>0.0</td>\n",
       "      <td>0.0</td>\n",
       "      <td>0.000000</td>\n",
       "    </tr>\n",
       "  </tbody>\n",
       "</table>\n",
       "</div>"
      ],
      "text/plain": [
       "      path      row                                           filepath  \\\n",
       "0  W779839  W284850  /mnt/Bertha/PAG2019/EPCExtent_30cm/Orthos_Segm...   \n",
       "1  W779839  W289850  /mnt/Bertha/PAG2019/EPCExtent_30cm/Orthos_Segm...   \n",
       "2  W779839  W294850  /mnt/Bertha/PAG2019/EPCExtent_30cm/Orthos_Segm...   \n",
       "3  W779839  W299850  /mnt/Bertha/PAG2019/EPCExtent_30cm/Orthos_Segm...   \n",
       "4  W779839  W304850  /mnt/Bertha/PAG2019/EPCExtent_30cm/Orthos_Segm...   \n",
       "\n",
       "                                            geometry  Water  Trees/Shrubs  \\\n",
       "0  POLYGON ((784889.592 279750.201, 784889.592 28...    0.0      0.001607   \n",
       "1  POLYGON ((784889.592 284750.201, 784889.592 28...    0.0      0.001548   \n",
       "2  POLYGON ((784889.592 289750.201, 784889.592 29...    0.0      0.000739   \n",
       "3  POLYGON ((784889.592 294750.201, 784889.592 29...    0.0      0.000384   \n",
       "4  POLYGON ((784889.592 299750.201, 784889.592 30...    0.0      0.001062   \n",
       "\n",
       "   Irrigated    Desert    Barren  Impervious  Structure      Road  \n",
       "0        0.0  0.002759  0.000795         0.0        0.0  0.000023  \n",
       "1        0.0  0.008040  0.001018         0.0        0.0  0.000000  \n",
       "2        0.0  0.013970  0.001354         0.0        0.0  0.000000  \n",
       "3        0.0  0.019929  0.001036         0.0        0.0  0.000134  \n",
       "4        0.0  0.023715  0.002123         0.0        0.0  0.000000  "
      ]
     },
     "execution_count": 29,
     "metadata": {},
     "output_type": "execute_result"
    }
   ],
   "source": [
    "boxesdf.head()"
   ]
  },
  {
   "cell_type": "code",
   "execution_count": 44,
   "metadata": {},
   "outputs": [
    {
     "data": {
      "text/plain": [
       "<BarContainer object of 5 artists>"
      ]
     },
     "execution_count": 44,
     "metadata": {},
     "output_type": "execute_result"
    },
    {
     "data": {
      "image/png": "[encoded data removed]",
      "text/plain": [
       "<Figure size 432x288 with 1 Axes>"
      ]
     },
     "metadata": {
      "needs_background": "light"
     },
     "output_type": "display_data"
    }
   ],
   "source": [
    "%matplotlib inline\n",
    "import matplotlib.pyplot as plt\n",
    "\n",
    "fig, ax = plt.subplots()\n",
    "struc_heights, struc_bins = np.histogram(boxesdf[\"Structure\"], bins=5)\n",
    "imp_heights, imp_bins = np.histogram(boxesdf[\"Impervious\"], bins=struc_bins)\n",
    "barren_heights, barren_bins = np.histogram(boxesdf[\"Barren\"], bins=struc_bins)\n",
    "ts_heights, ts_bins = np.histogram(boxesdf[\"Trees/Shrubs\"], bins=struc_bins)\n",
    "\n",
    "width = (struc_bins[1] - struc_bins[0])/5\n",
    "ax.bar(struc_bins[:-1], struc_heights, width=width, facecolor =\"red\")\n",
    "ax.bar(imp_bins[:-1]+width, imp_heights, width=width, facecolor=\"grey\")\n",
    "ax.bar(barren_bins[:-1]+width*2, barren_heights, width=width, facecolor=\"orange\")\n",
    "ax.bar(ts_bins[:-1]+width*3, ts_heights, width=width, facecolor=\"green\")"
   ]
  },
  {
   "cell_type": "code",
   "execution_count": 80,
   "metadata": {},
   "outputs": [
    {
     "data": {
      "text/html": [
       "<div>\n",
       "<style scoped>\n",
       "    .dataframe tbody tr th:only-of-type {\n",
       "        vertical-align: middle;\n",
       "    }\n",
       "\n",
       "    .dataframe tbody tr th {\n",
       "        vertical-align: top;\n",
       "    }\n",
       "\n",
       "    .dataframe thead th {\n",
       "        text-align: right;\n",
       "    }\n",
       "</style>\n",
       "<table border=\"1\" class=\"dataframe\">\n",
       "  <thead>\n",
       "    <tr style=\"text-align: right;\">\n",
       "      <th></th>\n",
       "      <th>path</th>\n",
       "      <th>row</th>\n",
       "      <th>filepath</th>\n",
       "      <th>geometry</th>\n",
       "      <th>Water</th>\n",
       "      <th>Trees/Shrubs</th>\n",
       "      <th>Irrigated</th>\n",
       "      <th>Desert</th>\n",
       "      <th>Barren</th>\n",
       "      <th>Impervious</th>\n",
       "      <th>Structure</th>\n",
       "      <th>Road</th>\n",
       "    </tr>\n",
       "  </thead>\n",
       "  <tbody>\n",
       "    <tr>\n",
       "      <th>1887</th>\n",
       "      <td>W939789</td>\n",
       "      <td>W314850</td>\n",
       "      <td>/mnt/Bertha/PAG2019/EPCExtent_30cm/Orthos_Segm...</td>\n",
       "      <td>POLYGON ((944889.592 309750.201, 944889.592 31...</td>\n",
       "      <td>0.0</td>\n",
       "      <td>0.000571</td>\n",
       "      <td>0.0</td>\n",
       "      <td>0.004692</td>\n",
       "      <td>0.994054</td>\n",
       "      <td>0.0</td>\n",
       "      <td>0.000683</td>\n",
       "      <td>0.0</td>\n",
       "    </tr>\n",
       "  </tbody>\n",
       "</table>\n",
       "</div>"
      ],
      "text/plain": [
       "         path      row                                           filepath  \\\n",
       "1887  W939789  W314850  /mnt/Bertha/PAG2019/EPCExtent_30cm/Orthos_Segm...   \n",
       "\n",
       "                                               geometry  Water  Trees/Shrubs  \\\n",
       "1887  POLYGON ((944889.592 309750.201, 944889.592 31...    0.0      0.000571   \n",
       "\n",
       "      Irrigated    Desert    Barren  Impervious  Structure  Road  \n",
       "1887        0.0  0.004692  0.994054         0.0   0.000683   0.0  "
      ]
     },
     "execution_count": 80,
     "metadata": {},
     "output_type": "execute_result"
    }
   ],
   "source": [
    "boxesdf[boxesdf[\"Barren\"] == boxesdf[\"Barren\"].max()]"
   ]
  },
  {
   "cell_type": "code",
   "execution_count": 78,
   "metadata": {},
   "outputs": [
    {
     "name": "stdout",
     "output_type": "stream",
     "text": [
      "[ True]\n"
     ]
    },
    {
     "data": {
      "image/png": "[encoded data removed]",
      "text/plain": [
       "<Figure size 720x720 with 1 Axes>"
      ]
     },
     "metadata": {
      "needs_background": "light"
     },
     "output_type": "display_data"
    }
   ],
   "source": [
    "#boxesdf[value_cols].plot(x=\"Structure\", y=\"Impervious\", kind=\"scatter\")\n",
    "figsize= (10,10)\n",
    "ax1 = boxesdf[value_cols].plot(x=\"Structure\", y=\"Trees/Shrubs\", kind=\"scatter\", subplots=True, color=\"green\", figsize=figsize)\n",
    "ax2 = boxesdf[value_cols].plot(x=\"Structure\", y=\"Barren\", kind=\"scatter\", subplots=True, ax=ax1, color=\"orange\", figsize=figsize)\n",
    "ax3 = boxesdf[value_cols].plot(x=\"Structure\", y=\"Impervious\", kind=\"scatter\", subplots=True, ax=ax1, color=\"grey\", figsize=figsize)\n",
    "#ax4 = boxesdf.plot(x=\"Structure\", y=\"Trees/Shrub\", kind=\"scatter\", subplots=True)\n",
    "print(ax1==ax2==ax3)"
   ]
  },
  {
   "cell_type": "code",
   "execution_count": 121,
   "metadata": {},
   "outputs": [
    {
     "name": "stdout",
     "output_type": "stream",
     "text": [
      "6502500\n",
      "{1: 15253, 2: 1826400, 3: 150806, 4: 380108, 5: 643333, 6: 2265917, 7: 1220683}\n",
      "{'Water': 0.0023457131872356785, 'Trees/Shrubs': 0.280876585928489, 'Irrigated': 0.0231920030757401, 'Desert': 0.0584556708958093, 'Barren': 0.0989362552864283, 'Impervious': 0.34846858900422917, 'Structure': 0.18772518262206844, 'Road': 0}\n"
     ]
    }
   ],
   "source": [
    "\n",
    "print(vcs)\n",
    "print(local_ratios_2015)\n"
   ]
  },
  {
   "cell_type": "code",
   "execution_count": 127,
   "metadata": {},
   "outputs": [
    {
     "name": "stdout",
     "output_type": "stream",
     "text": [
      "{1: 0.00023457131872356787, 2: 0.0021111418685121107, 3: 0.13400965782391389, 4: 0.1579749942329873, 5: 0.14628386005382543, 6: 0.0231920030757401, 7: 0.27877487120338335, 8: 0.06969371780084584, 9: 0.18772518262206844}\n",
      "PondLake = 0.00023457131872356787\n",
      "Pool = 0.0021111418685121107\n",
      "Barren = 0.13400965782391389\n",
      "SparseVeg = 0.1579749942329873\n",
      "DenseVeg = 0.14628386005382543\n",
      "Irrigated = 0.0231920030757401\n",
      "Asphault = 0.27877487120338335\n",
      "Impervious = 0.06969371780084584\n",
      "Structure = 0.18772518262206844\n"
     ]
    }
   ],
   "source": [
    "weights_2019 = {1: local_ratios_2015[\"Water\"]*0.1,\n",
    "                2: local_ratios_2015[\"Water\"]*0.9,\n",
    "                3: (local_ratios_2015[\"Barren\"]) + (local_ratios_2015[\"Desert\"]*0.6),\n",
    "                4: (local_ratios_2015[\"Trees/Shrubs\"] * 0.5) + (local_ratios_2015[\"Desert\"]*0.3),\n",
    "                5: (local_ratios_2015[\"Trees/Shrubs\"] * 0.5) + (local_ratios_2015[\"Desert\"]*0.1),\n",
    "                6: local_ratios_2015[\"Irrigated\"],\n",
    "                7: local_ratios_2015[\"Road\"] + (local_ratios_2015[\"Impervious\"]*.8),\n",
    "                8: local_ratios_2015[\"Impervious\"] * 0.2,\n",
    "                9: local_ratios_2015[\"Structure\"]}\n",
    "print(weights_2019)\n",
    "for k, v in old_weights_2019.items():\n",
    "    print(f\"{values_2019[k]} = {v}\")\n",
    "    "
   ]
  },
  {
   "cell_type": "code",
   "execution_count": 128,
   "metadata": {},
   "outputs": [],
   "source": [
    "t = {1: 0.0001301748,\n",
    " 2: 0.00030374119999999996,\n",
    " 3: 0.1929180129375,\n",
    " 4: 0.27926048605,\n",
    " 5: 0.14124780635,\n",
    " 6: 0.0478055011,\n",
    " 7: 0.011059134684,\n",
    " 8: 0.002646091136,\n",
    " 9: 0.0093926619}"
   ]
  },
  {
   "cell_type": "code",
   "execution_count": 130,
   "metadata": {},
   "outputs": [
    {
     "name": "stdout",
     "output_type": "stream",
     "text": [
      "1 0.0001044\n",
      "2 0.0018074\n",
      "3 -0.0589084\n",
      "4 -0.1212855\n",
      "5 0.0050361\n",
      "6 -0.0246135\n",
      "7 0.2677157\n",
      "8 0.0670476\n",
      "9 0.1783325\n"
     ]
    }
   ],
   "source": [
    "for k,v in weights_2019.items():\n",
    "    diff = v - t[k]\n",
    "    print(k, round(diff,7))"
   ]
  },
  {
   "cell_type": "code",
   "execution_count": null,
   "metadata": {},
   "outputs": [],
   "source": [
    "trainingSamples.loc[trainingSamples['LCClass'] == 'PondsLake', \"Weight\"] = ratios_2015[\"Water\"] * 0.3\n",
    "trainingSamples.loc[trainingSamples['LCClass'] == 'Pool', \"Weight\"] = ratios_2015[\"Water\"] * 0.7\n",
    "trainingSamples.loc[trainingSamples['LCClass'] == 'Barren', \"Weight\"] = ratios_2015[\"Barren\"] + (ratios_2015[\"Desert\"]*0.6)\n",
    "trainingSamples.loc[trainingSamples['LCClass'] == 'SparseVeg', \"Weight\"] = (ratios_2015[\"Trees/Shrubs\"] * 0.5) + (ratios_2015[\"Desert\"]*0.3)\n",
    "trainingSamples.loc[trainingSamples['LCClass'] == 'DenseVeg', \"Weight\"] = (ratios_2015[\"Trees/Shrubs\"] * 0.5) + (ratios_2015[\"Desert\"]*0.1)\n",
    "trainingSamples.loc[trainingSamples['LCClass'] == 'IrrigatedLand', \"Weight\"] = ratios_2015[\"Irrigated\"]\n",
    "trainingSamples.loc[trainingSamples['LCClass'] == 'Asphault', \"Weight\"] = ratios_2015[\"Road\"] + (ratios_2015[\"Impervious\"]*.8)\n",
    "trainingSamples.loc[trainingSamples['LCClass'] == 'Impervious', \"Weight\"] = ratios_2015[\"Impervious\"] * 0.2\n",
    "trainingSamples.loc[trainingSamples['LCClass'] == 'Structures', \"Weight\"] = ratios_2015[\"Structure\"]"
   ]
  }
 ],
 "metadata": {
  "kernelspec": {
   "display_name": "Python 3",
   "language": "python",
   "name": "python3"
  },
  "language_info": {
   "codemirror_mode": {
    "name": "ipython",
    "version": 3
   },
   "file_extension": ".py",
   "mimetype": "text/x-python",
   "name": "python",
   "nbconvert_exporter": "python",
   "pygments_lexer": "ipython3",
   "version": "3.8.8"
  }
 },
 "nbformat": 4,
 "nbformat_minor": 4
}
